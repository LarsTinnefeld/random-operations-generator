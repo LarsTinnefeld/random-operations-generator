{
 "cells": [
  {
   "cell_type": "markdown",
   "metadata": {},
   "source": [
    "# Random Order- and SKU generators"
   ]
  },
  {
   "cell_type": "markdown",
   "metadata": {},
   "source": [
    "## Importing libraries"
   ]
  },
  {
   "cell_type": "code",
   "execution_count": 1,
   "metadata": {},
   "outputs": [],
   "source": [
    "import pandas as pd\n",
    "import numpy as np\n",
    "import matplotlib.pyplot as plt\n",
    "import seaborn as sns\n",
    "from scipy.stats import skewnorm\n",
    "from datetime import datetime\n",
    "from scipy.stats import pareto\n",
    "\n",
    "%matplotlib inline"
   ]
  },
  {
   "cell_type": "markdown",
   "metadata": {},
   "source": [
    "---"
   ]
  },
  {
   "cell_type": "markdown",
   "metadata": {},
   "source": [
    "## Random SKU table generation\n",
    "\n",
    "### Objectives\n",
    "Generate a table with unique SKUs that have randomly generated values. The number of records can be chosen by the user.\n",
    "\n",
    "The initial table must contain at minimum the following columns:\n",
    "\n",
    "| SKU ID | Category | Length | Width | Height | Weight |\n",
    "| ---- | ---- | ---- | ---- | ---- | ---- |\n",
    "| categorical | categorical | numerical | numerical | numerical | numerical |\n",
    "\n",
    "Goals in detail:\n",
    "- Develop basic method to generate a table of randomly created SKUs with the above features"
   ]
  },
  {
   "cell_type": "markdown",
   "metadata": {},
   "source": []
  },
  {
   "cell_type": "code",
   "execution_count": 2,
   "metadata": {},
   "outputs": [
    {
     "data": {
      "text/html": [
       "<div>\n",
       "<style scoped>\n",
       "    .dataframe tbody tr th:only-of-type {\n",
       "        vertical-align: middle;\n",
       "    }\n",
       "\n",
       "    .dataframe tbody tr th {\n",
       "        vertical-align: top;\n",
       "    }\n",
       "\n",
       "    .dataframe thead th {\n",
       "        text-align: right;\n",
       "    }\n",
       "</style>\n",
       "<table border=\"1\" class=\"dataframe\">\n",
       "  <thead>\n",
       "    <tr style=\"text-align: right;\">\n",
       "      <th></th>\n",
       "      <th>Category</th>\n",
       "      <th>Length_S</th>\n",
       "      <th>Length_M</th>\n",
       "      <th>Length_L</th>\n",
       "      <th>Width_S</th>\n",
       "      <th>Width_M</th>\n",
       "      <th>Width_L</th>\n",
       "      <th>Height_S</th>\n",
       "      <th>Height_M</th>\n",
       "      <th>Height_L</th>\n",
       "    </tr>\n",
       "  </thead>\n",
       "  <tbody>\n",
       "    <tr>\n",
       "      <th>0</th>\n",
       "      <td>Shirt</td>\n",
       "      <td>350</td>\n",
       "      <td>375</td>\n",
       "      <td>400</td>\n",
       "      <td>200</td>\n",
       "      <td>220</td>\n",
       "      <td>250</td>\n",
       "      <td>10</td>\n",
       "      <td>12</td>\n",
       "      <td>15</td>\n",
       "    </tr>\n",
       "    <tr>\n",
       "      <th>1</th>\n",
       "      <td>Pants</td>\n",
       "      <td>400</td>\n",
       "      <td>450</td>\n",
       "      <td>500</td>\n",
       "      <td>250</td>\n",
       "      <td>275</td>\n",
       "      <td>300</td>\n",
       "      <td>15</td>\n",
       "      <td>18</td>\n",
       "      <td>21</td>\n",
       "    </tr>\n",
       "    <tr>\n",
       "      <th>2</th>\n",
       "      <td>Socks</td>\n",
       "      <td>100</td>\n",
       "      <td>110</td>\n",
       "      <td>120</td>\n",
       "      <td>75</td>\n",
       "      <td>77</td>\n",
       "      <td>80</td>\n",
       "      <td>5</td>\n",
       "      <td>5</td>\n",
       "      <td>5</td>\n",
       "    </tr>\n",
       "    <tr>\n",
       "      <th>3</th>\n",
       "      <td>Box of cereals</td>\n",
       "      <td>250</td>\n",
       "      <td>250</td>\n",
       "      <td>250</td>\n",
       "      <td>150</td>\n",
       "      <td>150</td>\n",
       "      <td>150</td>\n",
       "      <td>10</td>\n",
       "      <td>10</td>\n",
       "      <td>10</td>\n",
       "    </tr>\n",
       "    <tr>\n",
       "      <th>4</th>\n",
       "      <td>Can of tuna</td>\n",
       "      <td>110</td>\n",
       "      <td>110</td>\n",
       "      <td>110</td>\n",
       "      <td>110</td>\n",
       "      <td>110</td>\n",
       "      <td>110</td>\n",
       "      <td>7</td>\n",
       "      <td>7</td>\n",
       "      <td>7</td>\n",
       "    </tr>\n",
       "    <tr>\n",
       "      <th>5</th>\n",
       "      <td>Bag of rice</td>\n",
       "      <td>540</td>\n",
       "      <td>540</td>\n",
       "      <td>540</td>\n",
       "      <td>350</td>\n",
       "      <td>350</td>\n",
       "      <td>350</td>\n",
       "      <td>250</td>\n",
       "      <td>250</td>\n",
       "      <td>250</td>\n",
       "    </tr>\n",
       "    <tr>\n",
       "      <th>6</th>\n",
       "      <td>Toolbox</td>\n",
       "      <td>600</td>\n",
       "      <td>600</td>\n",
       "      <td>600</td>\n",
       "      <td>380</td>\n",
       "      <td>380</td>\n",
       "      <td>380</td>\n",
       "      <td>350</td>\n",
       "      <td>350</td>\n",
       "      <td>350</td>\n",
       "    </tr>\n",
       "    <tr>\n",
       "      <th>7</th>\n",
       "      <td>Box of nails</td>\n",
       "      <td>150</td>\n",
       "      <td>150</td>\n",
       "      <td>150</td>\n",
       "      <td>120</td>\n",
       "      <td>120</td>\n",
       "      <td>120</td>\n",
       "      <td>80</td>\n",
       "      <td>80</td>\n",
       "      <td>80</td>\n",
       "    </tr>\n",
       "    <tr>\n",
       "      <th>8</th>\n",
       "      <td>Glue gun</td>\n",
       "      <td>380</td>\n",
       "      <td>380</td>\n",
       "      <td>380</td>\n",
       "      <td>80</td>\n",
       "      <td>80</td>\n",
       "      <td>80</td>\n",
       "      <td>80</td>\n",
       "      <td>80</td>\n",
       "      <td>80</td>\n",
       "    </tr>\n",
       "  </tbody>\n",
       "</table>\n",
       "</div>"
      ],
      "text/plain": [
       "         Category  Length_S  Length_M  Length_L  Width_S  Width_M  Width_L  \\\n",
       "0           Shirt       350       375       400      200      220      250   \n",
       "1           Pants       400       450       500      250      275      300   \n",
       "2           Socks       100       110       120       75       77       80   \n",
       "3  Box of cereals       250       250       250      150      150      150   \n",
       "4     Can of tuna       110       110       110      110      110      110   \n",
       "5     Bag of rice       540       540       540      350      350      350   \n",
       "6         Toolbox       600       600       600      380      380      380   \n",
       "7    Box of nails       150       150       150      120      120      120   \n",
       "8        Glue gun       380       380       380       80       80       80   \n",
       "\n",
       "   Height_S  Height_M  Height_L  \n",
       "0        10        12        15  \n",
       "1        15        18        21  \n",
       "2         5         5         5  \n",
       "3        10        10        10  \n",
       "4         7         7         7  \n",
       "5       250       250       250  \n",
       "6       350       350       350  \n",
       "7        80        80        80  \n",
       "8        80        80        80  "
      ]
     },
     "execution_count": 2,
     "metadata": {},
     "output_type": "execute_result"
    }
   ],
   "source": [
    "df_products = pd.read_excel('Product_list.xls')\n",
    "df_products"
   ]
  },
  {
   "cell_type": "code",
   "execution_count": 3,
   "metadata": {},
   "outputs": [
    {
     "data": {
      "text/html": [
       "<div>\n",
       "<style scoped>\n",
       "    .dataframe tbody tr th:only-of-type {\n",
       "        vertical-align: middle;\n",
       "    }\n",
       "\n",
       "    .dataframe tbody tr th {\n",
       "        vertical-align: top;\n",
       "    }\n",
       "\n",
       "    .dataframe thead th {\n",
       "        text-align: right;\n",
       "    }\n",
       "</style>\n",
       "<table border=\"1\" class=\"dataframe\">\n",
       "  <thead>\n",
       "    <tr style=\"text-align: right;\">\n",
       "      <th></th>\n",
       "      <th>Length_S</th>\n",
       "      <th>Length_M</th>\n",
       "      <th>Length_L</th>\n",
       "      <th>Width_S</th>\n",
       "      <th>Width_M</th>\n",
       "      <th>Width_L</th>\n",
       "      <th>Height_S</th>\n",
       "      <th>Height_M</th>\n",
       "      <th>Height_L</th>\n",
       "    </tr>\n",
       "    <tr>\n",
       "      <th>Category</th>\n",
       "      <th></th>\n",
       "      <th></th>\n",
       "      <th></th>\n",
       "      <th></th>\n",
       "      <th></th>\n",
       "      <th></th>\n",
       "      <th></th>\n",
       "      <th></th>\n",
       "      <th></th>\n",
       "    </tr>\n",
       "  </thead>\n",
       "  <tbody>\n",
       "    <tr>\n",
       "      <th>Shirt</th>\n",
       "      <td>350</td>\n",
       "      <td>375</td>\n",
       "      <td>400</td>\n",
       "      <td>200</td>\n",
       "      <td>220</td>\n",
       "      <td>250</td>\n",
       "      <td>10</td>\n",
       "      <td>12</td>\n",
       "      <td>15</td>\n",
       "    </tr>\n",
       "    <tr>\n",
       "      <th>Pants</th>\n",
       "      <td>400</td>\n",
       "      <td>450</td>\n",
       "      <td>500</td>\n",
       "      <td>250</td>\n",
       "      <td>275</td>\n",
       "      <td>300</td>\n",
       "      <td>15</td>\n",
       "      <td>18</td>\n",
       "      <td>21</td>\n",
       "    </tr>\n",
       "    <tr>\n",
       "      <th>Socks</th>\n",
       "      <td>100</td>\n",
       "      <td>110</td>\n",
       "      <td>120</td>\n",
       "      <td>75</td>\n",
       "      <td>77</td>\n",
       "      <td>80</td>\n",
       "      <td>5</td>\n",
       "      <td>5</td>\n",
       "      <td>5</td>\n",
       "    </tr>\n",
       "    <tr>\n",
       "      <th>Box of cereals</th>\n",
       "      <td>250</td>\n",
       "      <td>250</td>\n",
       "      <td>250</td>\n",
       "      <td>150</td>\n",
       "      <td>150</td>\n",
       "      <td>150</td>\n",
       "      <td>10</td>\n",
       "      <td>10</td>\n",
       "      <td>10</td>\n",
       "    </tr>\n",
       "    <tr>\n",
       "      <th>Can of tuna</th>\n",
       "      <td>110</td>\n",
       "      <td>110</td>\n",
       "      <td>110</td>\n",
       "      <td>110</td>\n",
       "      <td>110</td>\n",
       "      <td>110</td>\n",
       "      <td>7</td>\n",
       "      <td>7</td>\n",
       "      <td>7</td>\n",
       "    </tr>\n",
       "    <tr>\n",
       "      <th>Bag of rice</th>\n",
       "      <td>540</td>\n",
       "      <td>540</td>\n",
       "      <td>540</td>\n",
       "      <td>350</td>\n",
       "      <td>350</td>\n",
       "      <td>350</td>\n",
       "      <td>250</td>\n",
       "      <td>250</td>\n",
       "      <td>250</td>\n",
       "    </tr>\n",
       "    <tr>\n",
       "      <th>Toolbox</th>\n",
       "      <td>600</td>\n",
       "      <td>600</td>\n",
       "      <td>600</td>\n",
       "      <td>380</td>\n",
       "      <td>380</td>\n",
       "      <td>380</td>\n",
       "      <td>350</td>\n",
       "      <td>350</td>\n",
       "      <td>350</td>\n",
       "    </tr>\n",
       "    <tr>\n",
       "      <th>Box of nails</th>\n",
       "      <td>150</td>\n",
       "      <td>150</td>\n",
       "      <td>150</td>\n",
       "      <td>120</td>\n",
       "      <td>120</td>\n",
       "      <td>120</td>\n",
       "      <td>80</td>\n",
       "      <td>80</td>\n",
       "      <td>80</td>\n",
       "    </tr>\n",
       "    <tr>\n",
       "      <th>Glue gun</th>\n",
       "      <td>380</td>\n",
       "      <td>380</td>\n",
       "      <td>380</td>\n",
       "      <td>80</td>\n",
       "      <td>80</td>\n",
       "      <td>80</td>\n",
       "      <td>80</td>\n",
       "      <td>80</td>\n",
       "      <td>80</td>\n",
       "    </tr>\n",
       "  </tbody>\n",
       "</table>\n",
       "</div>"
      ],
      "text/plain": [
       "                Length_S  Length_M  Length_L  Width_S  Width_M  Width_L  \\\n",
       "Category                                                                  \n",
       "Shirt                350       375       400      200      220      250   \n",
       "Pants                400       450       500      250      275      300   \n",
       "Socks                100       110       120       75       77       80   \n",
       "Box of cereals       250       250       250      150      150      150   \n",
       "Can of tuna          110       110       110      110      110      110   \n",
       "Bag of rice          540       540       540      350      350      350   \n",
       "Toolbox              600       600       600      380      380      380   \n",
       "Box of nails         150       150       150      120      120      120   \n",
       "Glue gun             380       380       380       80       80       80   \n",
       "\n",
       "                Height_S  Height_M  Height_L  \n",
       "Category                                      \n",
       "Shirt                 10        12        15  \n",
       "Pants                 15        18        21  \n",
       "Socks                  5         5         5  \n",
       "Box of cereals        10        10        10  \n",
       "Can of tuna            7         7         7  \n",
       "Bag of rice          250       250       250  \n",
       "Toolbox              350       350       350  \n",
       "Box of nails          80        80        80  \n",
       "Glue gun              80        80        80  "
      ]
     },
     "execution_count": 3,
     "metadata": {},
     "output_type": "execute_result"
    }
   ],
   "source": [
    "df_products.set_index('Category', inplace=True)\n",
    "df_products"
   ]
  },
  {
   "cell_type": "code",
   "execution_count": 4,
   "metadata": {},
   "outputs": [
    {
     "data": {
      "text/plain": [
       "110"
      ]
     },
     "execution_count": 4,
     "metadata": {},
     "output_type": "execute_result"
    }
   ],
   "source": [
    "df_products.loc['Can of tuna']['Length_S']"
   ]
  },
  {
   "cell_type": "code",
   "execution_count": 5,
   "metadata": {},
   "outputs": [],
   "source": [
    "def random_skus(articles, vertical):\n",
    "    '''Function to generate a SKU table\n",
    "    Inputs:\n",
    "    - Number of desired SKUs\n",
    "    - Market sector (vertical)\n",
    "    Outputs:\n",
    "    - SKU table'''\n",
    "    \n",
    "    random_dict = {}\n",
    "    for i in range(1, articles + 1, 1):\n",
    "        if vertical == 'Fashion':\n",
    "            category = np.random.choice(['Shirt', 'Pants', 'Socks'])\n",
    "            size = np.random.choice(['S', 'M', 'L'])\n",
    "            length = abs(round(np.random.normal(df_products.loc[category]['Length_' + size], 10, 1)[0],0))\n",
    "            width = abs(round(np.random.normal(df_products.loc[category]['Width_' + size], 7, 1)[0],0))\n",
    "            height = abs(round(np.random.normal(df_products.loc[category]['Height_' + size], 5, 1)[0],0))\n",
    "        elif vertical == 'Food':\n",
    "            category = np.random.choice(['Box of cereals', 'Can of tuna', 'Bag of rice'])\n",
    "            length = df_products.loc[category]['Length_S']\n",
    "            width = df_products.loc[category]['Width_S']\n",
    "            height = df_products.loc[category]['Height_S']\n",
    "        else:\n",
    "            category = np.random.choice(['Toolbox', 'Box of nails', 'Glue gun'])\n",
    "            length = df_products.loc[category]['Length_S']\n",
    "            width = df_products.loc[category]['Width_S']\n",
    "            height = df_products.loc[category]['Height_S']\n",
    "\n",
    "        size = np.random.choice(['S', 'M', 'L'])\n",
    "        random_dict[i] = ['SKU_'+str(i), category, size, length, width, height]\n",
    "\n",
    "    random_list = pd.DataFrame.from_dict(\n",
    "        random_dict,\n",
    "        orient='index',\n",
    "        columns=['SKU', 'Category', 'Size', 'Length', 'Width', 'Height'])\n",
    "\n",
    "    return random_list"
   ]
  },
  {
   "cell_type": "code",
   "execution_count": 6,
   "metadata": {},
   "outputs": [],
   "source": [
    "df_skus_fashion = random_skus(1000, 'Fashion')"
   ]
  },
  {
   "cell_type": "code",
   "execution_count": 7,
   "metadata": {},
   "outputs": [
    {
     "data": {
      "text/html": [
       "<div>\n",
       "<style scoped>\n",
       "    .dataframe tbody tr th:only-of-type {\n",
       "        vertical-align: middle;\n",
       "    }\n",
       "\n",
       "    .dataframe tbody tr th {\n",
       "        vertical-align: top;\n",
       "    }\n",
       "\n",
       "    .dataframe thead th {\n",
       "        text-align: right;\n",
       "    }\n",
       "</style>\n",
       "<table border=\"1\" class=\"dataframe\">\n",
       "  <thead>\n",
       "    <tr style=\"text-align: right;\">\n",
       "      <th></th>\n",
       "      <th>SKU</th>\n",
       "      <th>Category</th>\n",
       "      <th>Size</th>\n",
       "      <th>Length</th>\n",
       "      <th>Width</th>\n",
       "      <th>Height</th>\n",
       "    </tr>\n",
       "  </thead>\n",
       "  <tbody>\n",
       "    <tr>\n",
       "      <th>1</th>\n",
       "      <td>SKU_1</td>\n",
       "      <td>Socks</td>\n",
       "      <td>M</td>\n",
       "      <td>109.0</td>\n",
       "      <td>77.0</td>\n",
       "      <td>5.0</td>\n",
       "    </tr>\n",
       "    <tr>\n",
       "      <th>2</th>\n",
       "      <td>SKU_2</td>\n",
       "      <td>Socks</td>\n",
       "      <td>L</td>\n",
       "      <td>122.0</td>\n",
       "      <td>79.0</td>\n",
       "      <td>5.0</td>\n",
       "    </tr>\n",
       "    <tr>\n",
       "      <th>3</th>\n",
       "      <td>SKU_3</td>\n",
       "      <td>Socks</td>\n",
       "      <td>M</td>\n",
       "      <td>95.0</td>\n",
       "      <td>77.0</td>\n",
       "      <td>11.0</td>\n",
       "    </tr>\n",
       "    <tr>\n",
       "      <th>4</th>\n",
       "      <td>SKU_4</td>\n",
       "      <td>Pants</td>\n",
       "      <td>S</td>\n",
       "      <td>400.0</td>\n",
       "      <td>244.0</td>\n",
       "      <td>16.0</td>\n",
       "    </tr>\n",
       "    <tr>\n",
       "      <th>5</th>\n",
       "      <td>SKU_5</td>\n",
       "      <td>Pants</td>\n",
       "      <td>S</td>\n",
       "      <td>401.0</td>\n",
       "      <td>247.0</td>\n",
       "      <td>18.0</td>\n",
       "    </tr>\n",
       "    <tr>\n",
       "      <th>...</th>\n",
       "      <td>...</td>\n",
       "      <td>...</td>\n",
       "      <td>...</td>\n",
       "      <td>...</td>\n",
       "      <td>...</td>\n",
       "      <td>...</td>\n",
       "    </tr>\n",
       "    <tr>\n",
       "      <th>996</th>\n",
       "      <td>SKU_996</td>\n",
       "      <td>Socks</td>\n",
       "      <td>L</td>\n",
       "      <td>113.0</td>\n",
       "      <td>69.0</td>\n",
       "      <td>4.0</td>\n",
       "    </tr>\n",
       "    <tr>\n",
       "      <th>997</th>\n",
       "      <td>SKU_997</td>\n",
       "      <td>Socks</td>\n",
       "      <td>S</td>\n",
       "      <td>115.0</td>\n",
       "      <td>86.0</td>\n",
       "      <td>1.0</td>\n",
       "    </tr>\n",
       "    <tr>\n",
       "      <th>998</th>\n",
       "      <td>SKU_998</td>\n",
       "      <td>Pants</td>\n",
       "      <td>M</td>\n",
       "      <td>438.0</td>\n",
       "      <td>276.0</td>\n",
       "      <td>16.0</td>\n",
       "    </tr>\n",
       "    <tr>\n",
       "      <th>999</th>\n",
       "      <td>SKU_999</td>\n",
       "      <td>Pants</td>\n",
       "      <td>L</td>\n",
       "      <td>446.0</td>\n",
       "      <td>294.0</td>\n",
       "      <td>13.0</td>\n",
       "    </tr>\n",
       "    <tr>\n",
       "      <th>1000</th>\n",
       "      <td>SKU_1000</td>\n",
       "      <td>Pants</td>\n",
       "      <td>S</td>\n",
       "      <td>391.0</td>\n",
       "      <td>259.0</td>\n",
       "      <td>15.0</td>\n",
       "    </tr>\n",
       "  </tbody>\n",
       "</table>\n",
       "<p>1000 rows × 6 columns</p>\n",
       "</div>"
      ],
      "text/plain": [
       "           SKU Category Size  Length  Width  Height\n",
       "1        SKU_1    Socks    M   109.0   77.0     5.0\n",
       "2        SKU_2    Socks    L   122.0   79.0     5.0\n",
       "3        SKU_3    Socks    M    95.0   77.0    11.0\n",
       "4        SKU_4    Pants    S   400.0  244.0    16.0\n",
       "5        SKU_5    Pants    S   401.0  247.0    18.0\n",
       "...        ...      ...  ...     ...    ...     ...\n",
       "996    SKU_996    Socks    L   113.0   69.0     4.0\n",
       "997    SKU_997    Socks    S   115.0   86.0     1.0\n",
       "998    SKU_998    Pants    M   438.0  276.0    16.0\n",
       "999    SKU_999    Pants    L   446.0  294.0    13.0\n",
       "1000  SKU_1000    Pants    S   391.0  259.0    15.0\n",
       "\n",
       "[1000 rows x 6 columns]"
      ]
     },
     "execution_count": 7,
     "metadata": {},
     "output_type": "execute_result"
    }
   ],
   "source": [
    "df_skus_fashion"
   ]
  },
  {
   "cell_type": "code",
   "execution_count": 8,
   "metadata": {},
   "outputs": [
    {
     "data": {
      "image/png": "[encoded data removed]",
      "text/plain": [
       "<Figure size 1440x360 with 1 Axes>"
      ]
     },
     "metadata": {
      "needs_background": "light"
     },
     "output_type": "display_data"
    }
   ],
   "source": [
    "plt.figure(figsize=(20, 5))\n",
    "sns.histplot(df_skus_fashion[['Length', 'Width', 'Height']], bins=100);"
   ]
  },
  {
   "cell_type": "code",
   "execution_count": 9,
   "metadata": {},
   "outputs": [
    {
     "data": {
      "image/png": "[encoded data removed]",
      "text/plain": [
       "<Figure size 432x288 with 1 Axes>"
      ]
     },
     "metadata": {
      "needs_background": "light"
     },
     "output_type": "display_data"
    }
   ],
   "source": [
    "# Visual check if distribution appears uniform random\n",
    "sns.countplot(x=df_skus_fashion['Category']);"
   ]
  },
  {
   "cell_type": "code",
   "execution_count": 10,
   "metadata": {},
   "outputs": [
    {
     "name": "stdout",
     "output_type": "stream",
     "text": [
      "<class 'pandas.core.frame.DataFrame'>\n",
      "Int64Index: 1000 entries, 1 to 1000\n",
      "Data columns (total 6 columns):\n",
      " #   Column    Non-Null Count  Dtype  \n",
      "---  ------    --------------  -----  \n",
      " 0   SKU       1000 non-null   object \n",
      " 1   Category  1000 non-null   object \n",
      " 2   Size      1000 non-null   object \n",
      " 3   Length    1000 non-null   float64\n",
      " 4   Width     1000 non-null   float64\n",
      " 5   Height    1000 non-null   float64\n",
      "dtypes: float64(3), object(3)\n",
      "memory usage: 87.0+ KB\n"
     ]
    }
   ],
   "source": [
    "df_skus_fashion.info()"
   ]
  },
  {
   "cell_type": "code",
   "execution_count": 11,
   "metadata": {},
   "outputs": [
    {
     "data": {
      "text/html": [
       "<div>\n",
       "<style scoped>\n",
       "    .dataframe tbody tr th:only-of-type {\n",
       "        vertical-align: middle;\n",
       "    }\n",
       "\n",
       "    .dataframe tbody tr th {\n",
       "        vertical-align: top;\n",
       "    }\n",
       "\n",
       "    .dataframe thead th {\n",
       "        text-align: right;\n",
       "    }\n",
       "</style>\n",
       "<table border=\"1\" class=\"dataframe\">\n",
       "  <thead>\n",
       "    <tr style=\"text-align: right;\">\n",
       "      <th></th>\n",
       "      <th>Length</th>\n",
       "      <th>Width</th>\n",
       "      <th>Height</th>\n",
       "    </tr>\n",
       "  </thead>\n",
       "  <tbody>\n",
       "    <tr>\n",
       "      <th>count</th>\n",
       "      <td>1000.000000</td>\n",
       "      <td>1000.00000</td>\n",
       "      <td>1000.000000</td>\n",
       "    </tr>\n",
       "    <tr>\n",
       "      <th>mean</th>\n",
       "      <td>312.022000</td>\n",
       "      <td>192.16100</td>\n",
       "      <td>12.199000</td>\n",
       "    </tr>\n",
       "    <tr>\n",
       "      <th>std</th>\n",
       "      <td>151.716233</td>\n",
       "      <td>87.71808</td>\n",
       "      <td>7.356325</td>\n",
       "    </tr>\n",
       "    <tr>\n",
       "      <th>min</th>\n",
       "      <td>78.000000</td>\n",
       "      <td>54.00000</td>\n",
       "      <td>0.000000</td>\n",
       "    </tr>\n",
       "    <tr>\n",
       "      <th>25%</th>\n",
       "      <td>119.000000</td>\n",
       "      <td>81.00000</td>\n",
       "      <td>6.000000</td>\n",
       "    </tr>\n",
       "    <tr>\n",
       "      <th>50%</th>\n",
       "      <td>379.500000</td>\n",
       "      <td>221.00000</td>\n",
       "      <td>12.000000</td>\n",
       "    </tr>\n",
       "    <tr>\n",
       "      <th>75%</th>\n",
       "      <td>418.000000</td>\n",
       "      <td>261.00000</td>\n",
       "      <td>18.000000</td>\n",
       "    </tr>\n",
       "    <tr>\n",
       "      <th>max</th>\n",
       "      <td>529.000000</td>\n",
       "      <td>319.00000</td>\n",
       "      <td>34.000000</td>\n",
       "    </tr>\n",
       "  </tbody>\n",
       "</table>\n",
       "</div>"
      ],
      "text/plain": [
       "            Length       Width       Height\n",
       "count  1000.000000  1000.00000  1000.000000\n",
       "mean    312.022000   192.16100    12.199000\n",
       "std     151.716233    87.71808     7.356325\n",
       "min      78.000000    54.00000     0.000000\n",
       "25%     119.000000    81.00000     6.000000\n",
       "50%     379.500000   221.00000    12.000000\n",
       "75%     418.000000   261.00000    18.000000\n",
       "max     529.000000   319.00000    34.000000"
      ]
     },
     "execution_count": 11,
     "metadata": {},
     "output_type": "execute_result"
    }
   ],
   "source": [
    "df_skus_fashion.describe()"
   ]
  },
  {
   "cell_type": "code",
   "execution_count": 12,
   "metadata": {},
   "outputs": [
    {
     "data": {
      "text/html": [
       "<div>\n",
       "<style scoped>\n",
       "    .dataframe tbody tr th:only-of-type {\n",
       "        vertical-align: middle;\n",
       "    }\n",
       "\n",
       "    .dataframe tbody tr th {\n",
       "        vertical-align: top;\n",
       "    }\n",
       "\n",
       "    .dataframe thead th {\n",
       "        text-align: right;\n",
       "    }\n",
       "</style>\n",
       "<table border=\"1\" class=\"dataframe\">\n",
       "  <thead>\n",
       "    <tr style=\"text-align: right;\">\n",
       "      <th></th>\n",
       "      <th>SKU</th>\n",
       "      <th>Category</th>\n",
       "      <th>Size</th>\n",
       "      <th>Length</th>\n",
       "      <th>Width</th>\n",
       "      <th>Height</th>\n",
       "    </tr>\n",
       "  </thead>\n",
       "  <tbody>\n",
       "    <tr>\n",
       "      <th>1</th>\n",
       "      <td>SKU_1</td>\n",
       "      <td>Bag of rice</td>\n",
       "      <td>M</td>\n",
       "      <td>540</td>\n",
       "      <td>350</td>\n",
       "      <td>250</td>\n",
       "    </tr>\n",
       "    <tr>\n",
       "      <th>2</th>\n",
       "      <td>SKU_2</td>\n",
       "      <td>Bag of rice</td>\n",
       "      <td>M</td>\n",
       "      <td>540</td>\n",
       "      <td>350</td>\n",
       "      <td>250</td>\n",
       "    </tr>\n",
       "    <tr>\n",
       "      <th>3</th>\n",
       "      <td>SKU_3</td>\n",
       "      <td>Can of tuna</td>\n",
       "      <td>M</td>\n",
       "      <td>110</td>\n",
       "      <td>110</td>\n",
       "      <td>7</td>\n",
       "    </tr>\n",
       "    <tr>\n",
       "      <th>4</th>\n",
       "      <td>SKU_4</td>\n",
       "      <td>Box of cereals</td>\n",
       "      <td>L</td>\n",
       "      <td>250</td>\n",
       "      <td>150</td>\n",
       "      <td>10</td>\n",
       "    </tr>\n",
       "    <tr>\n",
       "      <th>5</th>\n",
       "      <td>SKU_5</td>\n",
       "      <td>Box of cereals</td>\n",
       "      <td>M</td>\n",
       "      <td>250</td>\n",
       "      <td>150</td>\n",
       "      <td>10</td>\n",
       "    </tr>\n",
       "    <tr>\n",
       "      <th>...</th>\n",
       "      <td>...</td>\n",
       "      <td>...</td>\n",
       "      <td>...</td>\n",
       "      <td>...</td>\n",
       "      <td>...</td>\n",
       "      <td>...</td>\n",
       "    </tr>\n",
       "    <tr>\n",
       "      <th>996</th>\n",
       "      <td>SKU_996</td>\n",
       "      <td>Box of cereals</td>\n",
       "      <td>L</td>\n",
       "      <td>250</td>\n",
       "      <td>150</td>\n",
       "      <td>10</td>\n",
       "    </tr>\n",
       "    <tr>\n",
       "      <th>997</th>\n",
       "      <td>SKU_997</td>\n",
       "      <td>Bag of rice</td>\n",
       "      <td>S</td>\n",
       "      <td>540</td>\n",
       "      <td>350</td>\n",
       "      <td>250</td>\n",
       "    </tr>\n",
       "    <tr>\n",
       "      <th>998</th>\n",
       "      <td>SKU_998</td>\n",
       "      <td>Can of tuna</td>\n",
       "      <td>S</td>\n",
       "      <td>110</td>\n",
       "      <td>110</td>\n",
       "      <td>7</td>\n",
       "    </tr>\n",
       "    <tr>\n",
       "      <th>999</th>\n",
       "      <td>SKU_999</td>\n",
       "      <td>Box of cereals</td>\n",
       "      <td>S</td>\n",
       "      <td>250</td>\n",
       "      <td>150</td>\n",
       "      <td>10</td>\n",
       "    </tr>\n",
       "    <tr>\n",
       "      <th>1000</th>\n",
       "      <td>SKU_1000</td>\n",
       "      <td>Bag of rice</td>\n",
       "      <td>S</td>\n",
       "      <td>540</td>\n",
       "      <td>350</td>\n",
       "      <td>250</td>\n",
       "    </tr>\n",
       "  </tbody>\n",
       "</table>\n",
       "<p>1000 rows × 6 columns</p>\n",
       "</div>"
      ],
      "text/plain": [
       "           SKU        Category Size  Length  Width  Height\n",
       "1        SKU_1     Bag of rice    M     540    350     250\n",
       "2        SKU_2     Bag of rice    M     540    350     250\n",
       "3        SKU_3     Can of tuna    M     110    110       7\n",
       "4        SKU_4  Box of cereals    L     250    150      10\n",
       "5        SKU_5  Box of cereals    M     250    150      10\n",
       "...        ...             ...  ...     ...    ...     ...\n",
       "996    SKU_996  Box of cereals    L     250    150      10\n",
       "997    SKU_997     Bag of rice    S     540    350     250\n",
       "998    SKU_998     Can of tuna    S     110    110       7\n",
       "999    SKU_999  Box of cereals    S     250    150      10\n",
       "1000  SKU_1000     Bag of rice    S     540    350     250\n",
       "\n",
       "[1000 rows x 6 columns]"
      ]
     },
     "execution_count": 12,
     "metadata": {},
     "output_type": "execute_result"
    }
   ],
   "source": [
    "df_skus_food = random_skus(1000, 'Food')\n",
    "df_skus_food"
   ]
  },
  {
   "cell_type": "code",
   "execution_count": 13,
   "metadata": {},
   "outputs": [
    {
     "data": {
      "image/png": "[encoded data removed]",
      "text/plain": [
       "<Figure size 1440x360 with 1 Axes>"
      ]
     },
     "metadata": {
      "needs_background": "light"
     },
     "output_type": "display_data"
    }
   ],
   "source": [
    "plt.figure(figsize=(20, 5))\n",
    "sns.histplot(df_skus_food[['Length', 'Width', 'Height']], bins=100);"
   ]
  },
  {
   "cell_type": "code",
   "execution_count": 14,
   "metadata": {},
   "outputs": [
    {
     "data": {
      "image/png": "[encoded data removed]",
      "text/plain": [
       "<Figure size 432x288 with 1 Axes>"
      ]
     },
     "metadata": {
      "needs_background": "light"
     },
     "output_type": "display_data"
    }
   ],
   "source": [
    "sns.countplot(x=df_skus_food['Category']);"
   ]
  },
  {
   "cell_type": "markdown",
   "metadata": {},
   "source": [
    "### Notes\n",
    "At this stage, the produced values are only to showcase the functionality and are not representative of real world data.\n",
    "At a later time, more realistic data needs to be produced.\n",
    "\n",
    "---"
   ]
  },
  {
   "cell_type": "markdown",
   "metadata": {},
   "source": [
    "## Random order table generator\n",
    "\n",
    "### Considerations\n",
    "Like in most other ares in business, the SKU-velocity distribution in a typical order profil corresponds to an 80/20, or in some cases 70/30, ratio (20% of the SKUs representing 80% of the order volume.). Based on this, SKUs will belong to velocity classes (A, B, C), depending how fast they are moving. Therefore, the available SKUs need to be assigned orders in a way that follows this rule.\n",
    "\n",
    "<img src=\"https://interlakemecalux.cdnwm.com/blog/img/80-20-pareto-principle.1.2.jpg\" width=\"650\"/>\n",
    "\n",
    "There is a specific, somewhat business-specific, order profile (units per-order line and order lines per order).\n",
    "\n",
    "Ultimately, there must be a seclection of order profiles that go in line with different market segments and business types.\n",
    "\n",
    "### Objectives\n",
    "The goal is to create a function that generates a table of random orders. The order profile (units per order line, order lines per order) as well as the volume distribution of the SKUs (Pareto principle) must represent a real live scenario and must be selectable by the user.\n",
    "\n",
    "The initial table must contain at minimum the following columns:\n",
    "\n",
    "| Date | Order ID | SKU ID | Quantity | Order category |\n",
    "| ---- | ---- | ---- | ---- | ---- |\n",
    "| numerical | categorical | categorical | numerical | categorical |\n",
    "\n",
    "#### Steps in detail\n",
    "1) Define range of days based on user input\n",
    "2) Assign random number of orders to each day while assigning a number of order lines (SKUs) - for the beginning random, normal, right skewed\n",
    "3) Develop method to randomly distribute SKUs across all orders - for the beginning randomly, based on 80/20 rule\n",
    "4) Add quantities for each order line - for now random, normal\n",
    "5) Putting all together"
   ]
  },
  {
   "cell_type": "markdown",
   "metadata": {},
   "source": [
    "---\n",
    "#### 1. Define range of days"
   ]
  },
  {
   "cell_type": "code",
   "execution_count": 15,
   "metadata": {},
   "outputs": [],
   "source": [
    "def day_definer(num):\n",
    "    '''\n",
    "    Function to create a list of days. First day of range is current day\n",
    "    Input:\n",
    "    - Number of days\n",
    "    Outbout:\n",
    "    - List of days in the range of first day to last day\n",
    "    '''\n",
    "\n",
    "    return pd.date_range(datetime.today(), periods=num).date.tolist()"
   ]
  },
  {
   "cell_type": "code",
   "execution_count": 16,
   "metadata": {},
   "outputs": [
    {
     "data": {
      "text/plain": [
       "[datetime.date(2022, 2, 3),\n",
       " datetime.date(2022, 2, 4),\n",
       " datetime.date(2022, 2, 5),\n",
       " datetime.date(2022, 2, 6),\n",
       " datetime.date(2022, 2, 7),\n",
       " datetime.date(2022, 2, 8),\n",
       " datetime.date(2022, 2, 9),\n",
       " datetime.date(2022, 2, 10),\n",
       " datetime.date(2022, 2, 11),\n",
       " datetime.date(2022, 2, 12),\n",
       " datetime.date(2022, 2, 13),\n",
       " datetime.date(2022, 2, 14),\n",
       " datetime.date(2022, 2, 15),\n",
       " datetime.date(2022, 2, 16),\n",
       " datetime.date(2022, 2, 17),\n",
       " datetime.date(2022, 2, 18),\n",
       " datetime.date(2022, 2, 19),\n",
       " datetime.date(2022, 2, 20),\n",
       " datetime.date(2022, 2, 21),\n",
       " datetime.date(2022, 2, 22),\n",
       " datetime.date(2022, 2, 23),\n",
       " datetime.date(2022, 2, 24),\n",
       " datetime.date(2022, 2, 25),\n",
       " datetime.date(2022, 2, 26),\n",
       " datetime.date(2022, 2, 27),\n",
       " datetime.date(2022, 2, 28),\n",
       " datetime.date(2022, 3, 1),\n",
       " datetime.date(2022, 3, 2),\n",
       " datetime.date(2022, 3, 3),\n",
       " datetime.date(2022, 3, 4),\n",
       " datetime.date(2022, 3, 5),\n",
       " datetime.date(2022, 3, 6),\n",
       " datetime.date(2022, 3, 7),\n",
       " datetime.date(2022, 3, 8),\n",
       " datetime.date(2022, 3, 9),\n",
       " datetime.date(2022, 3, 10),\n",
       " datetime.date(2022, 3, 11),\n",
       " datetime.date(2022, 3, 12),\n",
       " datetime.date(2022, 3, 13),\n",
       " datetime.date(2022, 3, 14),\n",
       " datetime.date(2022, 3, 15),\n",
       " datetime.date(2022, 3, 16),\n",
       " datetime.date(2022, 3, 17),\n",
       " datetime.date(2022, 3, 18),\n",
       " datetime.date(2022, 3, 19),\n",
       " datetime.date(2022, 3, 20),\n",
       " datetime.date(2022, 3, 21),\n",
       " datetime.date(2022, 3, 22),\n",
       " datetime.date(2022, 3, 23),\n",
       " datetime.date(2022, 3, 24),\n",
       " datetime.date(2022, 3, 25),\n",
       " datetime.date(2022, 3, 26),\n",
       " datetime.date(2022, 3, 27),\n",
       " datetime.date(2022, 3, 28),\n",
       " datetime.date(2022, 3, 29),\n",
       " datetime.date(2022, 3, 30),\n",
       " datetime.date(2022, 3, 31),\n",
       " datetime.date(2022, 4, 1),\n",
       " datetime.date(2022, 4, 2),\n",
       " datetime.date(2022, 4, 3),\n",
       " datetime.date(2022, 4, 4),\n",
       " datetime.date(2022, 4, 5),\n",
       " datetime.date(2022, 4, 6),\n",
       " datetime.date(2022, 4, 7),\n",
       " datetime.date(2022, 4, 8),\n",
       " datetime.date(2022, 4, 9),\n",
       " datetime.date(2022, 4, 10),\n",
       " datetime.date(2022, 4, 11),\n",
       " datetime.date(2022, 4, 12),\n",
       " datetime.date(2022, 4, 13),\n",
       " datetime.date(2022, 4, 14),\n",
       " datetime.date(2022, 4, 15),\n",
       " datetime.date(2022, 4, 16),\n",
       " datetime.date(2022, 4, 17),\n",
       " datetime.date(2022, 4, 18),\n",
       " datetime.date(2022, 4, 19),\n",
       " datetime.date(2022, 4, 20),\n",
       " datetime.date(2022, 4, 21),\n",
       " datetime.date(2022, 4, 22),\n",
       " datetime.date(2022, 4, 23),\n",
       " datetime.date(2022, 4, 24),\n",
       " datetime.date(2022, 4, 25),\n",
       " datetime.date(2022, 4, 26),\n",
       " datetime.date(2022, 4, 27),\n",
       " datetime.date(2022, 4, 28),\n",
       " datetime.date(2022, 4, 29),\n",
       " datetime.date(2022, 4, 30),\n",
       " datetime.date(2022, 5, 1),\n",
       " datetime.date(2022, 5, 2),\n",
       " datetime.date(2022, 5, 3)]"
      ]
     },
     "execution_count": 16,
     "metadata": {},
     "output_type": "execute_result"
    }
   ],
   "source": [
    "lst_days = day_definer(90)\n",
    "lst_days"
   ]
  },
  {
   "cell_type": "markdown",
   "metadata": {},
   "source": [
    "#### 2. Assign random number of orders per day\n",
    "Each day needs to get a number of orders assigned."
   ]
  },
  {
   "cell_type": "code",
   "execution_count": 17,
   "metadata": {},
   "outputs": [],
   "source": [
    "# Function to generate random oders for a given day\n",
    "\n",
    "def order_generator(orders_per_day, avg_lines_order, order_std, min_order_size):\n",
    "\n",
    "    return np.round(abs(np.random.normal(loc=avg_lines_order, scale=order_std, size=orders_per_day))) + min_order_size"
   ]
  },
  {
   "cell_type": "code",
   "execution_count": 18,
   "metadata": {},
   "outputs": [],
   "source": [
    "test_orders = order_generator(1000, 30, 10, 3)"
   ]
  },
  {
   "cell_type": "code",
   "execution_count": 19,
   "metadata": {},
   "outputs": [
    {
     "data": {
      "text/plain": [
       "array([45., 24., 42., 36., 33., 43., 38., 55., 36., 37., 38., 30., 14.,\n",
       "       34., 26., 21., 27., 34., 19., 34., 25., 46., 19., 38., 38., 38.,\n",
       "       32., 39., 32., 36., 22., 25., 18., 38., 28., 53., 38., 24., 21.,\n",
       "       29., 38., 37., 42., 45., 26., 29., 36., 35., 26., 23., 21., 26.,\n",
       "       38., 40., 40., 20., 22., 37., 38., 22., 31., 42., 41., 26.,  8.,\n",
       "       25., 15., 30., 38., 41., 34., 27., 20., 33., 35., 15., 37., 33.,\n",
       "       35., 36., 42., 39., 30., 34., 38., 20., 37., 17., 28., 31., 43.,\n",
       "       19., 24., 27., 44., 42., 34., 13., 10., 20., 26., 26., 39., 42.,\n",
       "       35., 11., 45., 26., 27., 42., 53., 28., 39., 42., 35., 53., 18.,\n",
       "       46., 32., 48., 46., 39., 31., 43., 22., 30., 23., 31., 23., 36.,\n",
       "       44., 36., 39., 26., 39., 22., 18., 42., 33., 38., 39., 17., 34.,\n",
       "       36., 27., 15., 29., 28., 26., 29., 23., 22., 41., 30., 44., 38.,\n",
       "       46., 43., 30., 23., 34., 24., 29., 12., 36., 45., 31., 54., 28.,\n",
       "       40., 14., 14., 31., 32., 44., 25., 37., 19., 33., 30., 49., 22.,\n",
       "       26., 51., 35., 29., 36., 39., 42., 31., 38., 27., 32., 35., 26.,\n",
       "       37., 35., 18., 11., 29., 19., 25., 35., 31., 21., 43., 30., 43.,\n",
       "       24., 37., 30., 53., 26., 44., 22., 28., 43., 32., 27., 41., 30.,\n",
       "       47., 28., 41., 30., 33., 25., 32., 35., 21., 47., 38., 24., 53.,\n",
       "       43., 30., 29., 43., 22., 33., 58., 21., 37., 36., 26., 56., 33.,\n",
       "       15., 29., 18., 30., 43., 46., 17., 31., 11., 13., 18., 16., 35.,\n",
       "       29., 27., 40., 15., 18., 25., 25., 50., 24., 22., 24., 22., 34.,\n",
       "       52., 34., 29., 31., 22., 23., 23., 38., 43., 33., 25., 29., 29.,\n",
       "       41., 31., 38., 60., 37., 22., 19., 43., 19., 46., 31., 41., 17.,\n",
       "       35., 31., 24., 32., 33., 43., 38., 44., 28., 50., 20., 34., 44.,\n",
       "       44., 48., 29., 28., 33., 37., 41., 51., 26., 17., 44., 36., 32.,\n",
       "       31., 26., 26., 41., 20., 24., 36., 23., 13., 48., 37., 41., 25.,\n",
       "       31., 47., 35., 34., 30., 20., 43., 28., 21., 21., 40., 20., 23.,\n",
       "       21., 30., 46., 33., 26., 29., 23., 18., 21., 29., 27., 36., 31.,\n",
       "       23., 37., 47., 32., 34., 22., 25., 33., 31., 31., 41., 36., 20.,\n",
       "       28., 42., 47., 27., 38., 54., 38., 32., 30., 41., 26., 55., 30.,\n",
       "       29., 34., 27., 31., 34., 41., 35., 24., 39., 48., 25., 19., 22.,\n",
       "       33., 35., 27., 35., 37., 31., 46., 13., 37., 37., 33., 31., 34.,\n",
       "       31., 26., 32., 38., 52., 36., 36., 43., 25., 36., 47., 26., 25.,\n",
       "       33.,  4., 46., 22., 18., 17., 63., 29., 25., 47., 42., 56., 38.,\n",
       "       40., 41., 34., 32., 31., 59., 46., 33., 40., 10., 44., 29., 35.,\n",
       "       24., 38., 31., 18., 31., 40., 19., 30., 34., 44., 45., 39., 33.,\n",
       "       38., 37., 21., 32., 35., 35., 33., 44., 38., 46., 34., 24., 41.,\n",
       "       56., 26., 44., 45., 43., 33., 31., 40., 19., 39., 25., 26., 51.,\n",
       "       26., 34., 43., 23., 45., 31.,  7., 27., 31., 42., 37., 33., 36.,\n",
       "       47., 31., 32., 53., 22., 46., 26., 37., 35., 19., 17., 34., 44.,\n",
       "       37., 42., 37., 24., 40., 33., 45., 29., 39., 18., 37., 35., 36.,\n",
       "       43., 34., 25., 22., 29., 32., 37., 34., 26., 27., 29., 39., 38.,\n",
       "       25., 25., 33., 42., 33., 26., 44., 31., 42., 25., 25., 31., 39.,\n",
       "       47., 27., 43., 27., 46., 42., 42., 31., 36., 36., 20., 36., 39.,\n",
       "       40., 23., 30., 19., 49., 45., 33., 45., 30., 10., 33., 40., 42.,\n",
       "       41., 23., 35., 20., 47., 16., 33., 32., 45., 32., 40., 30., 23.,\n",
       "       26., 45., 28., 46., 32., 27., 39., 36., 37., 51., 46., 26., 28.,\n",
       "       41., 38., 20., 31., 40., 28., 43., 41., 51., 24., 26., 24., 41.,\n",
       "       35., 23., 36., 39., 43., 27., 37., 25., 37., 35., 45., 34., 39.,\n",
       "       33., 11., 35., 25., 42., 34., 34., 44., 54., 35., 30., 43., 10.,\n",
       "       27., 28., 12., 19., 24., 35., 41., 41., 36., 26., 33., 28., 23.,\n",
       "       24., 18., 39., 40., 20.,  3., 12., 19., 28., 32., 27., 39., 23.,\n",
       "       33., 42., 31., 35., 40., 35., 55., 27., 27., 43., 39., 38., 19.,\n",
       "       41., 21., 27., 42., 28., 18., 50., 41., 16., 42., 26., 29., 27.,\n",
       "       25., 31., 25.,  5., 40., 47., 41., 35., 45., 40., 27., 19., 19.,\n",
       "       41., 35., 26., 27., 35., 28., 18., 47., 48., 30., 42., 51., 39.,\n",
       "       39., 20., 33., 27., 47., 21., 43., 45., 32., 57., 30., 29., 33.,\n",
       "       32., 30., 20., 33., 24., 23., 49., 18., 23., 30., 34., 35., 15.,\n",
       "       21., 15., 46., 29., 39., 27., 44., 31., 46., 31., 56., 24., 33.,\n",
       "       29., 31., 21., 48., 23., 29., 32., 36., 39., 37., 30., 21., 30.,\n",
       "       21., 32., 17., 40., 26., 31., 44., 24., 19., 35., 49., 35., 28.,\n",
       "       34., 25., 50., 32., 18., 37., 46., 19., 33., 20., 42., 39., 25.,\n",
       "       25., 42., 31., 35., 37., 39., 31., 28., 36., 40., 42., 26., 36.,\n",
       "       32., 36., 35., 30., 45., 47., 15., 48., 20., 35., 26., 25., 47.,\n",
       "       17., 31., 32., 45., 29., 21., 25., 21., 19., 45., 36., 23., 55.,\n",
       "       36., 24., 10., 56., 41., 41., 34., 45., 29., 45., 38., 41., 50.,\n",
       "       39., 36., 27., 30., 34., 20., 18., 18., 45., 36., 26.,  9., 36.,\n",
       "       38., 37., 17., 31., 19., 23., 51., 35., 39., 32., 35., 15., 20.,\n",
       "       38., 42., 29.,  5., 19., 30., 16., 36., 29., 28., 34., 23., 22.,\n",
       "       28., 29., 34., 57., 36., 32., 30., 26., 27., 30., 37., 44., 47.,\n",
       "       29., 24., 27., 39., 35., 43., 24., 37., 36., 23., 20., 29., 42.,\n",
       "       20., 32., 40., 28., 23., 58., 36., 65., 24., 33., 33., 29., 22.,\n",
       "       33., 28., 48., 40., 29., 20., 14., 21., 33., 26., 34., 29., 21.,\n",
       "       33., 34., 49., 17., 32., 19., 47., 41., 48., 20., 25., 21., 27.,\n",
       "       41., 39., 40., 46., 27., 20., 23., 34., 45., 31., 18., 30., 28.,\n",
       "       25., 36., 42., 17., 22., 36., 30., 46., 45., 24., 29., 25., 33.,\n",
       "       48., 37., 38., 33., 25., 23., 25., 22., 34., 37., 44., 41.])"
      ]
     },
     "execution_count": 19,
     "metadata": {},
     "output_type": "execute_result"
    }
   ],
   "source": [
    "test_orders"
   ]
  },
  {
   "cell_type": "code",
   "execution_count": 20,
   "metadata": {},
   "outputs": [
    {
     "data": {
      "text/plain": [
       "(array([ 1.,  1.,  2.,  0.,  1.,  1.,  1.,  5.,  4.,  3.,  4.,  4.,  9.,\n",
       "         4., 12., 19., 23., 24., 22., 22., 28., 26., 35., 39., 33., 26.,\n",
       "        38., 35., 44., 31., 42., 36., 41., 41., 34., 33., 32., 23., 31.,\n",
       "        30., 25., 20., 23., 20., 17., 10.,  5.,  5.,  7.,  2.,  6.,  3.,\n",
       "         4.,  5.,  2.,  2.,  1.,  1.,  0.,  0.,  1.,  1.]),\n",
       " array([ 3.,  4.,  5.,  6.,  7.,  8.,  9., 10., 11., 12., 13., 14., 15.,\n",
       "        16., 17., 18., 19., 20., 21., 22., 23., 24., 25., 26., 27., 28.,\n",
       "        29., 30., 31., 32., 33., 34., 35., 36., 37., 38., 39., 40., 41.,\n",
       "        42., 43., 44., 45., 46., 47., 48., 49., 50., 51., 52., 53., 54.,\n",
       "        55., 56., 57., 58., 59., 60., 61., 62., 63., 64., 65.]),\n",
       " <BarContainer object of 62 artists>)"
      ]
     },
     "execution_count": 20,
     "metadata": {},
     "output_type": "execute_result"
    },
    {
     "data": {
      "image/png": "[encoded data removed]",
      "text/plain": [
       "<Figure size 432x288 with 1 Axes>"
      ]
     },
     "metadata": {
      "needs_background": "light"
     },
     "output_type": "display_data"
    }
   ],
   "source": [
    "# Plot:\n",
    "axis = np.arange(start=min(test_orders), stop = max(test_orders) + 1)\n",
    "plt.hist(test_orders, bins = axis)"
   ]
  },
  {
   "cell_type": "markdown",
   "metadata": {},
   "source": [
    "The number of orders per day is in this case 1000. This needs to be randomized as well when assigning orders for a range of days."
   ]
  },
  {
   "cell_type": "code",
   "execution_count": 21,
   "metadata": {},
   "outputs": [],
   "source": [
    "def order_generator(avg_orders_per_day, avg_lines_order, order_std, min_order_size):\n",
    "\n",
    "    orders_per_day = np.round(abs(np.random.normal(loc=avg_orders_per_day, scale=50, size=1))).astype(int) # For simplicity, the standard deviation was set to 10\n",
    "    return np.round(abs(np.random.normal(loc=avg_lines_order, scale=order_std, size=orders_per_day))) + min_order_size"
   ]
  },
  {
   "cell_type": "code",
   "execution_count": 22,
   "metadata": {},
   "outputs": [],
   "source": [
    "test_orders = order_generator(1000, 30, 10, 3)"
   ]
  },
  {
   "cell_type": "code",
   "execution_count": 23,
   "metadata": {},
   "outputs": [
    {
     "data": {
      "text/plain": [
       "(array([ 1.,  1.,  2.,  2.,  2.,  3.,  1.,  2.,  5.,  5.,  4.,  4.,  5.,\n",
       "        11.,  8.,  9., 15., 17., 14., 17., 22., 33., 25., 26., 30., 39.,\n",
       "        31., 36., 46., 38., 30., 26., 29., 48., 26., 22., 34., 34., 31.,\n",
       "        26., 23., 21., 18., 20.,  8., 14., 14.,  5.,  6.,  8.,  8.,  4.,\n",
       "         2.,  4.,  0.,  4.,  4.]),\n",
       " array([ 3.,  4.,  5.,  6.,  7.,  8.,  9., 10., 11., 12., 13., 14., 15.,\n",
       "        16., 17., 18., 19., 20., 21., 22., 23., 24., 25., 26., 27., 28.,\n",
       "        29., 30., 31., 32., 33., 34., 35., 36., 37., 38., 39., 40., 41.,\n",
       "        42., 43., 44., 45., 46., 47., 48., 49., 50., 51., 52., 53., 54.,\n",
       "        55., 56., 57., 58., 59., 60.]),\n",
       " <BarContainer object of 57 artists>)"
      ]
     },
     "execution_count": 23,
     "metadata": {},
     "output_type": "execute_result"
    },
    {
     "data": {
      "image/png": "[encoded data removed]",
      "text/plain": [
       "<Figure size 432x288 with 1 Axes>"
      ]
     },
     "metadata": {
      "needs_background": "light"
     },
     "output_type": "display_data"
    }
   ],
   "source": [
    "# Plot:\n",
    "axis = np.arange(start=min(test_orders), stop = max(test_orders) + 1)\n",
    "plt.hist(test_orders, bins = axis)"
   ]
  },
  {
   "cell_type": "code",
   "execution_count": 24,
   "metadata": {},
   "outputs": [
    {
     "data": {
      "text/plain": [
       "923"
      ]
     },
     "execution_count": 24,
     "metadata": {},
     "output_type": "execute_result"
    }
   ],
   "source": [
    "len(test_orders)"
   ]
  },
  {
   "cell_type": "markdown",
   "metadata": {},
   "source": [
    "#### 3. Assigning SKUs\n",
    "The assignment of SKUs may be random, but each SKU will need to have a different velocity, basically how often it is picked during the day. As stated, this distribution will follow the 80/20 rule of the pareto principle.\n",
    "\n",
    "First, a pareto distribution of n SKUs with distinct values need to be produced. N is the number of SKUs, and the dependend values represent the number of order lines each SKU is picked during the day.\n",
    "In the next step each SKU will then be translated to a unique identifier (SKU ID), multiplied by the number of order lines it produces during the day, and then be put into a SKU list. This SKU list represents a pool from which order lines can be randomly pulled when a procedure loops throuh all the orders. Because the appearance of SKUs in the list is varying (based on the pareto principle) probability will naturally reproduce the pareto distribution when the oder list is generated."
   ]
  },
  {
   "cell_type": "code",
   "execution_count": 25,
   "metadata": {},
   "outputs": [
    {
     "data": {
      "image/png": "[encoded data removed]",
      "text/plain": [
       "<Figure size 1080x576 with 1 Axes>"
      ]
     },
     "metadata": {
      "needs_background": "light"
     },
     "output_type": "display_data"
    }
   ],
   "source": [
    "# Let's review the cumulative density function of the pareto distribution. We will use scipy's pareto library.\n",
    "num_skus = 10000\n",
    "\n",
    "x = np.arange(1, num_skus)\n",
    "\n",
    "pareto_cdf = (pareto.cdf(x, b=0.1, loc=1, scale=1) * 50000).round()\n",
    "\n",
    "plt.figure(figsize=(15, 8))\n",
    "plt.plot(x, pareto_cdf)\n",
    "plt.grid()\n",
    "plt.show()"
   ]
  },
  {
   "cell_type": "code",
   "execution_count": 26,
   "metadata": {},
   "outputs": [
    {
     "data": {
      "text/plain": [
       "27881.72297229723"
      ]
     },
     "execution_count": 26,
     "metadata": {},
     "output_type": "execute_result"
    }
   ],
   "source": [
    "pareto_cdf.mean()"
   ]
  },
  {
   "cell_type": "markdown",
   "metadata": {},
   "source": [
    "This distribution could represent a day in a distribution center. It is very steep in this example and shows how 10,000 SKUs adding adding up to 30,000 order lines. The fastest SKUs are on the left side of the X-axis and generate the biggest part of the order volume. We need the derivation of this function (probability density function) in order to directly get the individual impacts of each SKU."
   ]
  },
  {
   "cell_type": "code",
   "execution_count": 27,
   "metadata": {},
   "outputs": [
    {
     "data": {
      "image/png": "[encoded data removed]",
      "text/plain": [
       "<Figure size 1080x576 with 1 Axes>"
      ]
     },
     "metadata": {
      "needs_background": "light"
     },
     "output_type": "display_data"
    }
   ],
   "source": [
    "# Let's try spipy's pdf funtion\n",
    "min_lines = 1\n",
    "lines_range_factor = 100\n",
    "\n",
    "x = np.linspace(1, 10, 1000)\n",
    "\n",
    "pareto_pdf = (pareto.pdf(x, b=1, loc=0, scale=1) * lines_range_factor + min_lines).round()\n",
    "\n",
    "plt.figure(figsize=(15, 8))\n",
    "plt.plot(x, pareto_pdf)\n",
    "plt.grid()\n",
    "plt.show()"
   ]
  },
  {
   "cell_type": "code",
   "execution_count": 28,
   "metadata": {},
   "outputs": [],
   "source": [
    "# Make a function that randomly creates a number of lines from that distribution:\n",
    "\n",
    "def random_line_assigner(min_lines, lines_range_factor):\n",
    "    return np.random.choice((pareto.pdf(x, b=1, loc=0, scale=1) * lines_range_factor + min_lines).round())"
   ]
  },
  {
   "cell_type": "code",
   "execution_count": 29,
   "metadata": {},
   "outputs": [],
   "source": [
    "# generate 1000 samples for testing if distribution will be reflected\n",
    "df_fashion_skus = df_skus_fashion = random_skus(1000, 'Fashion')\n",
    "\n",
    "lst_lines = []\n",
    "\n",
    "for i in range(len(df_fashion_skus)):\n",
    "    lst_lines.append(int(random_line_assigner(1, 100)))\n",
    "\n",
    "df_fashion_skus['Lines'] = lst_lines\n"
   ]
  },
  {
   "cell_type": "code",
   "execution_count": 30,
   "metadata": {},
   "outputs": [
    {
     "data": {
      "text/html": [
       "<div>\n",
       "<style scoped>\n",
       "    .dataframe tbody tr th:only-of-type {\n",
       "        vertical-align: middle;\n",
       "    }\n",
       "\n",
       "    .dataframe tbody tr th {\n",
       "        vertical-align: top;\n",
       "    }\n",
       "\n",
       "    .dataframe thead th {\n",
       "        text-align: right;\n",
       "    }\n",
       "</style>\n",
       "<table border=\"1\" class=\"dataframe\">\n",
       "  <thead>\n",
       "    <tr style=\"text-align: right;\">\n",
       "      <th></th>\n",
       "      <th>SKU</th>\n",
       "      <th>Category</th>\n",
       "      <th>Size</th>\n",
       "      <th>Length</th>\n",
       "      <th>Width</th>\n",
       "      <th>Height</th>\n",
       "      <th>Lines</th>\n",
       "    </tr>\n",
       "  </thead>\n",
       "  <tbody>\n",
       "    <tr>\n",
       "      <th>1</th>\n",
       "      <td>SKU_1</td>\n",
       "      <td>Pants</td>\n",
       "      <td>M</td>\n",
       "      <td>515.0</td>\n",
       "      <td>302.0</td>\n",
       "      <td>23.0</td>\n",
       "      <td>8</td>\n",
       "    </tr>\n",
       "    <tr>\n",
       "      <th>2</th>\n",
       "      <td>SKU_2</td>\n",
       "      <td>Shirt</td>\n",
       "      <td>L</td>\n",
       "      <td>388.0</td>\n",
       "      <td>253.0</td>\n",
       "      <td>16.0</td>\n",
       "      <td>5</td>\n",
       "    </tr>\n",
       "    <tr>\n",
       "      <th>3</th>\n",
       "      <td>SKU_3</td>\n",
       "      <td>Pants</td>\n",
       "      <td>S</td>\n",
       "      <td>501.0</td>\n",
       "      <td>296.0</td>\n",
       "      <td>20.0</td>\n",
       "      <td>3</td>\n",
       "    </tr>\n",
       "    <tr>\n",
       "      <th>4</th>\n",
       "      <td>SKU_4</td>\n",
       "      <td>Pants</td>\n",
       "      <td>S</td>\n",
       "      <td>408.0</td>\n",
       "      <td>259.0</td>\n",
       "      <td>10.0</td>\n",
       "      <td>7</td>\n",
       "    </tr>\n",
       "    <tr>\n",
       "      <th>5</th>\n",
       "      <td>SKU_5</td>\n",
       "      <td>Socks</td>\n",
       "      <td>S</td>\n",
       "      <td>122.0</td>\n",
       "      <td>70.0</td>\n",
       "      <td>6.0</td>\n",
       "      <td>4</td>\n",
       "    </tr>\n",
       "    <tr>\n",
       "      <th>...</th>\n",
       "      <td>...</td>\n",
       "      <td>...</td>\n",
       "      <td>...</td>\n",
       "      <td>...</td>\n",
       "      <td>...</td>\n",
       "      <td>...</td>\n",
       "      <td>...</td>\n",
       "    </tr>\n",
       "    <tr>\n",
       "      <th>996</th>\n",
       "      <td>SKU_996</td>\n",
       "      <td>Shirt</td>\n",
       "      <td>M</td>\n",
       "      <td>400.0</td>\n",
       "      <td>256.0</td>\n",
       "      <td>13.0</td>\n",
       "      <td>14</td>\n",
       "    </tr>\n",
       "    <tr>\n",
       "      <th>997</th>\n",
       "      <td>SKU_997</td>\n",
       "      <td>Socks</td>\n",
       "      <td>L</td>\n",
       "      <td>136.0</td>\n",
       "      <td>83.0</td>\n",
       "      <td>9.0</td>\n",
       "      <td>3</td>\n",
       "    </tr>\n",
       "    <tr>\n",
       "      <th>998</th>\n",
       "      <td>SKU_998</td>\n",
       "      <td>Socks</td>\n",
       "      <td>S</td>\n",
       "      <td>85.0</td>\n",
       "      <td>73.0</td>\n",
       "      <td>2.0</td>\n",
       "      <td>2</td>\n",
       "    </tr>\n",
       "    <tr>\n",
       "      <th>999</th>\n",
       "      <td>SKU_999</td>\n",
       "      <td>Pants</td>\n",
       "      <td>M</td>\n",
       "      <td>445.0</td>\n",
       "      <td>274.0</td>\n",
       "      <td>22.0</td>\n",
       "      <td>20</td>\n",
       "    </tr>\n",
       "    <tr>\n",
       "      <th>1000</th>\n",
       "      <td>SKU_1000</td>\n",
       "      <td>Pants</td>\n",
       "      <td>S</td>\n",
       "      <td>455.0</td>\n",
       "      <td>267.0</td>\n",
       "      <td>20.0</td>\n",
       "      <td>3</td>\n",
       "    </tr>\n",
       "  </tbody>\n",
       "</table>\n",
       "<p>1000 rows × 7 columns</p>\n",
       "</div>"
      ],
      "text/plain": [
       "           SKU Category Size  Length  Width  Height  Lines\n",
       "1        SKU_1    Pants    M   515.0  302.0    23.0      8\n",
       "2        SKU_2    Shirt    L   388.0  253.0    16.0      5\n",
       "3        SKU_3    Pants    S   501.0  296.0    20.0      3\n",
       "4        SKU_4    Pants    S   408.0  259.0    10.0      7\n",
       "5        SKU_5    Socks    S   122.0   70.0     6.0      4\n",
       "...        ...      ...  ...     ...    ...     ...    ...\n",
       "996    SKU_996    Shirt    M   400.0  256.0    13.0     14\n",
       "997    SKU_997    Socks    L   136.0   83.0     9.0      3\n",
       "998    SKU_998    Socks    S    85.0   73.0     2.0      2\n",
       "999    SKU_999    Pants    M   445.0  274.0    22.0     20\n",
       "1000  SKU_1000    Pants    S   455.0  267.0    20.0      3\n",
       "\n",
       "[1000 rows x 7 columns]"
      ]
     },
     "execution_count": 30,
     "metadata": {},
     "output_type": "execute_result"
    }
   ],
   "source": [
    "df_fashion_skus"
   ]
  },
  {
   "cell_type": "code",
   "execution_count": 31,
   "metadata": {},
   "outputs": [],
   "source": [
    "# For the pareto distrubution to appear the dataframe needs to be sorted by the order lines and then a cumulative lines column needs to be added\n",
    "# Sorting by velocity\n",
    "df_fashion_skus.sort_values('Lines', ascending=False, inplace=True)\n",
    "# Cumulate values\n",
    "df_fashion_skus['Cumulative Lines'] = np.cumsum(df_fashion_skus['Lines'])\n",
    "# Resetting index for the visualization\n",
    "df_fashion_skus.reset_index(drop=True, inplace= True)"
   ]
  },
  {
   "cell_type": "code",
   "execution_count": 32,
   "metadata": {},
   "outputs": [
    {
     "data": {
      "text/html": [
       "<div>\n",
       "<style scoped>\n",
       "    .dataframe tbody tr th:only-of-type {\n",
       "        vertical-align: middle;\n",
       "    }\n",
       "\n",
       "    .dataframe tbody tr th {\n",
       "        vertical-align: top;\n",
       "    }\n",
       "\n",
       "    .dataframe thead th {\n",
       "        text-align: right;\n",
       "    }\n",
       "</style>\n",
       "<table border=\"1\" class=\"dataframe\">\n",
       "  <thead>\n",
       "    <tr style=\"text-align: right;\">\n",
       "      <th></th>\n",
       "      <th>SKU</th>\n",
       "      <th>Category</th>\n",
       "      <th>Size</th>\n",
       "      <th>Length</th>\n",
       "      <th>Width</th>\n",
       "      <th>Height</th>\n",
       "      <th>Lines</th>\n",
       "      <th>Cumulative Lines</th>\n",
       "    </tr>\n",
       "  </thead>\n",
       "  <tbody>\n",
       "    <tr>\n",
       "      <th>0</th>\n",
       "      <td>SKU_152</td>\n",
       "      <td>Socks</td>\n",
       "      <td>M</td>\n",
       "      <td>139.0</td>\n",
       "      <td>83.0</td>\n",
       "      <td>11.0</td>\n",
       "      <td>101</td>\n",
       "      <td>101</td>\n",
       "    </tr>\n",
       "    <tr>\n",
       "      <th>1</th>\n",
       "      <td>SKU_652</td>\n",
       "      <td>Shirt</td>\n",
       "      <td>M</td>\n",
       "      <td>374.0</td>\n",
       "      <td>229.0</td>\n",
       "      <td>26.0</td>\n",
       "      <td>99</td>\n",
       "      <td>200</td>\n",
       "    </tr>\n",
       "    <tr>\n",
       "      <th>2</th>\n",
       "      <td>SKU_108</td>\n",
       "      <td>Pants</td>\n",
       "      <td>M</td>\n",
       "      <td>499.0</td>\n",
       "      <td>302.0</td>\n",
       "      <td>30.0</td>\n",
       "      <td>99</td>\n",
       "      <td>299</td>\n",
       "    </tr>\n",
       "    <tr>\n",
       "      <th>3</th>\n",
       "      <td>SKU_100</td>\n",
       "      <td>Shirt</td>\n",
       "      <td>M</td>\n",
       "      <td>375.0</td>\n",
       "      <td>219.0</td>\n",
       "      <td>12.0</td>\n",
       "      <td>99</td>\n",
       "      <td>398</td>\n",
       "    </tr>\n",
       "    <tr>\n",
       "      <th>4</th>\n",
       "      <td>SKU_499</td>\n",
       "      <td>Pants</td>\n",
       "      <td>S</td>\n",
       "      <td>449.0</td>\n",
       "      <td>282.0</td>\n",
       "      <td>17.0</td>\n",
       "      <td>93</td>\n",
       "      <td>491</td>\n",
       "    </tr>\n",
       "    <tr>\n",
       "      <th>...</th>\n",
       "      <td>...</td>\n",
       "      <td>...</td>\n",
       "      <td>...</td>\n",
       "      <td>...</td>\n",
       "      <td>...</td>\n",
       "      <td>...</td>\n",
       "      <td>...</td>\n",
       "      <td>...</td>\n",
       "    </tr>\n",
       "    <tr>\n",
       "      <th>995</th>\n",
       "      <td>SKU_362</td>\n",
       "      <td>Shirt</td>\n",
       "      <td>M</td>\n",
       "      <td>409.0</td>\n",
       "      <td>251.0</td>\n",
       "      <td>10.0</td>\n",
       "      <td>2</td>\n",
       "      <td>11402</td>\n",
       "    </tr>\n",
       "    <tr>\n",
       "      <th>996</th>\n",
       "      <td>SKU_355</td>\n",
       "      <td>Pants</td>\n",
       "      <td>M</td>\n",
       "      <td>497.0</td>\n",
       "      <td>299.0</td>\n",
       "      <td>20.0</td>\n",
       "      <td>2</td>\n",
       "      <td>11404</td>\n",
       "    </tr>\n",
       "    <tr>\n",
       "      <th>997</th>\n",
       "      <td>SKU_348</td>\n",
       "      <td>Pants</td>\n",
       "      <td>M</td>\n",
       "      <td>440.0</td>\n",
       "      <td>270.0</td>\n",
       "      <td>21.0</td>\n",
       "      <td>2</td>\n",
       "      <td>11406</td>\n",
       "    </tr>\n",
       "    <tr>\n",
       "      <th>998</th>\n",
       "      <td>SKU_347</td>\n",
       "      <td>Shirt</td>\n",
       "      <td>L</td>\n",
       "      <td>354.0</td>\n",
       "      <td>197.0</td>\n",
       "      <td>9.0</td>\n",
       "      <td>2</td>\n",
       "      <td>11408</td>\n",
       "    </tr>\n",
       "    <tr>\n",
       "      <th>999</th>\n",
       "      <td>SKU_501</td>\n",
       "      <td>Socks</td>\n",
       "      <td>S</td>\n",
       "      <td>99.0</td>\n",
       "      <td>76.0</td>\n",
       "      <td>7.0</td>\n",
       "      <td>2</td>\n",
       "      <td>11410</td>\n",
       "    </tr>\n",
       "  </tbody>\n",
       "</table>\n",
       "<p>1000 rows × 8 columns</p>\n",
       "</div>"
      ],
      "text/plain": [
       "         SKU Category Size  Length  Width  Height  Lines  Cumulative Lines\n",
       "0    SKU_152    Socks    M   139.0   83.0    11.0    101               101\n",
       "1    SKU_652    Shirt    M   374.0  229.0    26.0     99               200\n",
       "2    SKU_108    Pants    M   499.0  302.0    30.0     99               299\n",
       "3    SKU_100    Shirt    M   375.0  219.0    12.0     99               398\n",
       "4    SKU_499    Pants    S   449.0  282.0    17.0     93               491\n",
       "..       ...      ...  ...     ...    ...     ...    ...               ...\n",
       "995  SKU_362    Shirt    M   409.0  251.0    10.0      2             11402\n",
       "996  SKU_355    Pants    M   497.0  299.0    20.0      2             11404\n",
       "997  SKU_348    Pants    M   440.0  270.0    21.0      2             11406\n",
       "998  SKU_347    Shirt    L   354.0  197.0     9.0      2             11408\n",
       "999  SKU_501    Socks    S    99.0   76.0     7.0      2             11410\n",
       "\n",
       "[1000 rows x 8 columns]"
      ]
     },
     "execution_count": 32,
     "metadata": {},
     "output_type": "execute_result"
    }
   ],
   "source": [
    "df_fashion_skus"
   ]
  },
  {
   "cell_type": "code",
   "execution_count": 33,
   "metadata": {},
   "outputs": [
    {
     "data": {
      "image/png": "[encoded data removed]",
      "text/plain": [
       "<Figure size 1080x576 with 1 Axes>"
      ]
     },
     "metadata": {
      "needs_background": "light"
     },
     "output_type": "display_data"
    }
   ],
   "source": [
    "plt.figure(figsize=(15, 8))\n",
    "plt.plot(df_fashion_skus['Cumulative Lines']);"
   ]
  },
  {
   "cell_type": "markdown",
   "metadata": {},
   "source": [
    "That looks OK. This list of 1000 SKUs corresponds to a typical order profile. In a 3-shift operation that would lead to a capacity of 550 to 650 order lines/ h."
   ]
  },
  {
   "cell_type": "markdown",
   "metadata": {},
   "source": [
    "#### 4. Adding random order quantity for each order line\n",
    "\n"
   ]
  },
  {
   "cell_type": "code",
   "execution_count": 50,
   "metadata": {},
   "outputs": [],
   "source": [
    "active_sku_pool = []\n",
    "\n",
    "for i in range(len(df_fashion_skus)):\n",
    "    for num in range(df_fashion_skus.iloc[i]['Lines']):\n",
    "        active_sku_pool.append(df_fashion_skus.iloc[i]['SKU'])"
   ]
  },
  {
   "cell_type": "code",
   "execution_count": 51,
   "metadata": {},
   "outputs": [
    {
     "data": {
      "text/plain": [
       "(11410,)"
      ]
     },
     "execution_count": 51,
     "metadata": {},
     "output_type": "execute_result"
    }
   ],
   "source": [
    "np.shape(active_sku_pool)"
   ]
  },
  {
   "cell_type": "code",
   "execution_count": null,
   "metadata": {},
   "outputs": [],
   "source": []
  },
  {
   "cell_type": "code",
   "execution_count": null,
   "metadata": {},
   "outputs": [],
   "source": []
  },
  {
   "cell_type": "code",
   "execution_count": 34,
   "metadata": {},
   "outputs": [],
   "source": [
    "def order_generator(num_days, avg_orders_per_day, avg_lines_order, order_std, min_order_size):\n",
    "    \n",
    "    lst_dates = pd.date_range(datetime.today(), periods=num_days).date.tolist()\n",
    "    df_ord = pd.DataFrame(np.array([\n",
    "        [1, 2, 3, 4],\n",
    "        [4, 5, 6, 7],\n",
    "        [7, 8, 9, 10]\n",
    "        ]), columns=['Date', 'Order ID', 'SKU', 'QTY'])\n",
    "\n",
    "    for day in lst_dates:\n",
    "        order_count = np.round(abs(np.random.normal(\n",
    "            loc=avg_orders_per_day,\n",
    "            scale=50,\n",
    "            size=1))).astype(int)\n",
    "\n",
    "        #for ord in order_count:\n",
    "\n",
    "            \n",
    "\n",
    "\n",
    "    # Need to continue here\n",
    "\n",
    "    return pd.DataFrame.from_dict(dict_dates).transpose().rename(columns={0: 'Orders per day'})\n"
   ]
  },
  {
   "cell_type": "code",
   "execution_count": null,
   "metadata": {},
   "outputs": [],
   "source": []
  },
  {
   "cell_type": "code",
   "execution_count": null,
   "metadata": {},
   "outputs": [],
   "source": []
  },
  {
   "cell_type": "code",
   "execution_count": 35,
   "metadata": {},
   "outputs": [],
   "source": [
    "def order_generator(orders_per_day, avg_lines_order, order_std, min_order_size):\n",
    "    \n",
    "    return np.round(abs(np.random.normal(loc=avg_lines_order, scale=order_std, size=orders_per_day))) + min_order_size"
   ]
  },
  {
   "cell_type": "code",
   "execution_count": 36,
   "metadata": {},
   "outputs": [
    {
     "data": {
      "image/png": "[encoded data removed]",
      "text/plain": [
       "<Figure size 1800x576 with 1 Axes>"
      ]
     },
     "metadata": {
      "needs_background": "light"
     },
     "output_type": "display_data"
    }
   ],
   "source": [
    "# Approach to develop a skewed dataset with \"skewnorm\"\n",
    "n_orders = 10000\n",
    "max_order_size = 200\n",
    "skewness = 20   # Negative = left skewed, positive = right skewed\n",
    "\n",
    "random_orders = skewnorm.rvs(a = skewness, loc=max_order_size, size=n_orders)\n",
    "\n",
    "random_orders = random_orders - min(random_orders)     # Shift dataset to zero\n",
    "random_orders = random_orders / max(random_orders)\n",
    "random_orders = random_orders * max_order_size\n",
    "random_orders = np.ceil(random_orders) + 1\n",
    "\n",
    "# Check\n",
    "plt.figure(figsize=(25, 8))\n",
    "plt.hist(random_orders, 100, density=True, color='red', alpha=0.5)\n",
    "plt.grid()\n",
    "\n",
    "plt.show()"
   ]
  },
  {
   "cell_type": "markdown",
   "metadata": {},
   "source": [
    "Each record in orders represents one order with an assigned size."
   ]
  },
  {
   "cell_type": "code",
   "execution_count": 37,
   "metadata": {},
   "outputs": [
    {
     "data": {
      "text/plain": [
       "1.0"
      ]
     },
     "execution_count": 37,
     "metadata": {},
     "output_type": "execute_result"
    }
   ],
   "source": [
    "random_orders.min()"
   ]
  },
  {
   "cell_type": "code",
   "execution_count": null,
   "metadata": {},
   "outputs": [],
   "source": []
  }
 ],
 "metadata": {
  "interpreter": {
   "hash": "dcacb0086e9a4f4eabd41c33bf4faac5ea0a3337ed3f5eff0680afa930572c04"
  },
  "kernelspec": {
   "display_name": "Python 3.9.4 64-bit",
   "language": "python",
   "name": "python3"
  },
  "language_info": {
   "codemirror_mode": {
    "name": "ipython",
    "version": 3
   },
   "file_extension": ".py",
   "mimetype": "text/x-python",
   "name": "python",
   "nbconvert_exporter": "python",
   "pygments_lexer": "ipython3",
   "version": "3.9.4"
  },
  "orig_nbformat": 4
 },
 "nbformat": 4,
 "nbformat_minor": 2
}
