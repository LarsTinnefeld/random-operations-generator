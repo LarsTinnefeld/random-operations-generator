{
 "cells": [
  {
   "cell_type": "markdown",
   "metadata": {},
   "source": [
    "# Random Order- and SKU generators"
   ]
  },
  {
   "cell_type": "markdown",
   "metadata": {},
   "source": [
    "## Importing libraries"
   ]
  },
  {
   "cell_type": "code",
   "execution_count": 1,
   "metadata": {},
   "outputs": [],
   "source": [
    "import pandas as pd\n",
    "import numpy as np\n",
    "import matplotlib.pyplot as plt\n",
    "import seaborn as sns\n",
    "from scipy.stats import skewnorm\n",
    "from datetime import datetime\n",
    "from scipy.stats import pareto\n",
    "import uuid\n",
    "\n",
    "%matplotlib inline"
   ]
  },
  {
   "cell_type": "markdown",
   "metadata": {},
   "source": [
    "---"
   ]
  },
  {
   "cell_type": "markdown",
   "metadata": {},
   "source": [
    "## Random SKU table generation\n",
    "\n",
    "### Objectives\n",
    "Generate a table with unique SKUs that have randomly generated values. The number of records can be chosen by the user.\n",
    "\n",
    "The initial table must contain at minimum the following columns:\n",
    "\n",
    "| SKU ID | Category | Length | Width | Height | Weight |\n",
    "| ---- | ---- | ---- | ---- | ---- | ---- |\n",
    "| categorical | categorical | numerical | numerical | numerical | numerical |\n",
    "\n",
    "Goals in detail:\n",
    "- Develop basic method to generate a table of randomly created SKUs with the above features"
   ]
  },
  {
   "cell_type": "code",
   "execution_count": 2,
   "metadata": {},
   "outputs": [
    {
     "data": {
      "text/plain": [
       "{'Shirt': {'Length_S': 350,\n",
       "  'Length_M': 375,\n",
       "  'Length_L': 400,\n",
       "  'Width_S': 200,\n",
       "  'Width_M': 220,\n",
       "  'Width_L': 250,\n",
       "  'Height_S': 10,\n",
       "  'Height_M': 12,\n",
       "  'Height_L': 15},\n",
       " 'Pants': {'Length_S': 400,\n",
       "  'Length_M': 450,\n",
       "  'Length_L': 500,\n",
       "  'Width_S': 250,\n",
       "  'Width_M': 275,\n",
       "  'Width_L': 300,\n",
       "  'Height_S': 15,\n",
       "  'Height_M': 18,\n",
       "  'Height_L': 21},\n",
       " 'Socks': {'Length_S': 100,\n",
       "  'Length_M': 110,\n",
       "  'Length_L': 120,\n",
       "  'Width_S': 75,\n",
       "  'Width_M': 77,\n",
       "  'Width_L': 80,\n",
       "  'Height_S': 5,\n",
       "  'Height_M': 5,\n",
       "  'Height_L': 5},\n",
       " 'Box of cereals': {'Length_S': 250,\n",
       "  'Length_M': 250,\n",
       "  'Length_L': 250,\n",
       "  'Width_S': 150,\n",
       "  'Width_M': 150,\n",
       "  'Width_L': 150,\n",
       "  'Height_S': 10,\n",
       "  'Height_M': 10,\n",
       "  'Height_L': 10},\n",
       " 'Can of tuna': {'Length_S': 110,\n",
       "  'Length_M': 110,\n",
       "  'Length_L': 110,\n",
       "  'Width_S': 110,\n",
       "  'Width_M': 110,\n",
       "  'Width_L': 110,\n",
       "  'Height_S': 7,\n",
       "  'Height_M': 7,\n",
       "  'Height_L': 7},\n",
       " 'Bag of rice': {'Length_S': 540,\n",
       "  'Length_M': 540,\n",
       "  'Length_L': 540,\n",
       "  'Width_S': 350,\n",
       "  'Width_M': 350,\n",
       "  'Width_L': 350,\n",
       "  'Height_S': 250,\n",
       "  'Height_M': 250,\n",
       "  'Height_L': 250},\n",
       " 'Toolbox': {'Length_S': 600,\n",
       "  'Length_M': 600,\n",
       "  'Length_L': 600,\n",
       "  'Width_S': 380,\n",
       "  'Width_M': 380,\n",
       "  'Width_L': 380,\n",
       "  'Height_S': 350,\n",
       "  'Height_M': 350,\n",
       "  'Height_L': 350},\n",
       " 'Box of nails': {'Length_S': 150,\n",
       "  'Length_M': 150,\n",
       "  'Length_L': 150,\n",
       "  'Width_S': 120,\n",
       "  'Width_M': 120,\n",
       "  'Width_L': 120,\n",
       "  'Height_S': 80,\n",
       "  'Height_M': 80,\n",
       "  'Height_L': 80},\n",
       " 'Glue gun': {'Length_S': 380,\n",
       "  'Length_M': 380,\n",
       "  'Length_L': 380,\n",
       "  'Width_S': 80,\n",
       "  'Width_M': 80,\n",
       "  'Width_L': 80,\n",
       "  'Height_S': 80,\n",
       "  'Height_M': 80,\n",
       "  'Height_L': 80}}"
      ]
     },
     "execution_count": 2,
     "metadata": {},
     "output_type": "execute_result"
    }
   ],
   "source": [
    "dict_products = pd.read_excel('Product_list.xls').set_index('Category').to_dict(orient='index')\n",
    "dict_products"
   ]
  },
  {
   "cell_type": "code",
   "execution_count": 3,
   "metadata": {},
   "outputs": [],
   "source": [
    "def random_dim_generator(df, dim):\n",
    "    '''\n",
    "    Function to calculating a random value by looking up a start value and applying a normal distribution\n",
    "    Inputs:\n",
    "    - Dataframe\n",
    "    - Dimension type (L, W, H)\n",
    "    Output:\n",
    "    - Value, rounded to 0 digits\n",
    "    '''\n",
    "    SCALE = 0.1\n",
    "    mean = df.apply(lambda row: dict_products[row.Category][dim + '_' + row.Size], axis=1)\n",
    "    return np.round(abs(np.random.normal(loc=mean, scale=mean * SCALE)))"
   ]
  },
  {
   "cell_type": "code",
   "execution_count": 4,
   "metadata": {},
   "outputs": [],
   "source": [
    "def random_skus(articles, vertical):\n",
    "    '''Main function to generate a SKU table\n",
    "    Inputs:\n",
    "    - Number of desired SKUs\n",
    "    - Market sector (vertical)\n",
    "    Outputs:\n",
    "    - SKU table'''\n",
    "\n",
    "    random_dict = {}\n",
    "    \n",
    "    FEATURE_LIST = ['SKU ID', 'Category', 'Size', 'Length', 'Width', 'Height']\n",
    "    SIZE_LIST = ['S', 'M', 'L']\n",
    "    PRODUCT_DESC_LIST = {\n",
    "        'Fashion': ['Shirt', 'Pants', 'Socks'],\n",
    "        'Food': ['Box of cereals', 'Can of tuna', 'Bag of rice'],\n",
    "        'Durable':['Toolbox', 'Box of nails', 'Glue gun']\n",
    "        }\n",
    "\n",
    "    sku_table_df = pd.DataFrame(1, index=np.arange(articles), columns=FEATURE_LIST) \n",
    "\n",
    "    sku_table_df['SKU ID'] = sku_table_df['SKU ID'].map(lambda x: uuid.uuid4())\n",
    "    sku_table_df['Category'] = sku_table_df['Category'].map(lambda x: np.random.choice(PRODUCT_DESC_LIST[vertical]))\n",
    "    sku_table_df['Size'] = sku_table_df['Size'].map(lambda x: np.random.choice(SIZE_LIST))\n",
    "\n",
    "    for dim in ['Length', 'Width', 'Height']:\n",
    "        sku_table_df[dim] = random_dim_generator(sku_table_df, dim)\n",
    "\n",
    "    return sku_table_df"
   ]
  },
  {
   "cell_type": "code",
   "execution_count": 5,
   "metadata": {},
   "outputs": [],
   "source": [
    "df_skus_fashion = random_skus(10000, 'Fashion')"
   ]
  },
  {
   "cell_type": "code",
   "execution_count": 12,
   "metadata": {},
   "outputs": [
    {
     "data": {
      "text/html": [
       "<div>\n",
       "<style scoped>\n",
       "    .dataframe tbody tr th:only-of-type {\n",
       "        vertical-align: middle;\n",
       "    }\n",
       "\n",
       "    .dataframe tbody tr th {\n",
       "        vertical-align: top;\n",
       "    }\n",
       "\n",
       "    .dataframe thead th {\n",
       "        text-align: right;\n",
       "    }\n",
       "</style>\n",
       "<table border=\"1\" class=\"dataframe\">\n",
       "  <thead>\n",
       "    <tr style=\"text-align: right;\">\n",
       "      <th></th>\n",
       "      <th>SKU ID</th>\n",
       "      <th>Category</th>\n",
       "      <th>Size</th>\n",
       "      <th>Length</th>\n",
       "      <th>Width</th>\n",
       "      <th>Height</th>\n",
       "    </tr>\n",
       "  </thead>\n",
       "  <tbody>\n",
       "    <tr>\n",
       "      <th>0</th>\n",
       "      <td>2840434d-2d0b-4b01-8efa-511e913f69fc</td>\n",
       "      <td>Socks</td>\n",
       "      <td>M</td>\n",
       "      <td>107.0</td>\n",
       "      <td>66.0</td>\n",
       "      <td>5.0</td>\n",
       "    </tr>\n",
       "    <tr>\n",
       "      <th>1</th>\n",
       "      <td>67544b5c-ea45-49bb-9ca6-7513d3cbc0e5</td>\n",
       "      <td>Shirt</td>\n",
       "      <td>M</td>\n",
       "      <td>420.0</td>\n",
       "      <td>233.0</td>\n",
       "      <td>12.0</td>\n",
       "    </tr>\n",
       "    <tr>\n",
       "      <th>2</th>\n",
       "      <td>6180f54c-7086-44bb-bb17-4c4c93194c26</td>\n",
       "      <td>Socks</td>\n",
       "      <td>S</td>\n",
       "      <td>115.0</td>\n",
       "      <td>71.0</td>\n",
       "      <td>6.0</td>\n",
       "    </tr>\n",
       "    <tr>\n",
       "      <th>3</th>\n",
       "      <td>d06c464e-fbc9-4c20-81a5-d8583334fa71</td>\n",
       "      <td>Shirt</td>\n",
       "      <td>L</td>\n",
       "      <td>353.0</td>\n",
       "      <td>219.0</td>\n",
       "      <td>14.0</td>\n",
       "    </tr>\n",
       "    <tr>\n",
       "      <th>4</th>\n",
       "      <td>18ebf639-d4ad-4e9e-be53-d3b00ca9316f</td>\n",
       "      <td>Socks</td>\n",
       "      <td>M</td>\n",
       "      <td>112.0</td>\n",
       "      <td>85.0</td>\n",
       "      <td>5.0</td>\n",
       "    </tr>\n",
       "    <tr>\n",
       "      <th>...</th>\n",
       "      <td>...</td>\n",
       "      <td>...</td>\n",
       "      <td>...</td>\n",
       "      <td>...</td>\n",
       "      <td>...</td>\n",
       "      <td>...</td>\n",
       "    </tr>\n",
       "    <tr>\n",
       "      <th>9995</th>\n",
       "      <td>5b9bf2d4-b2b6-4491-9cfe-d7487ebc74e1</td>\n",
       "      <td>Pants</td>\n",
       "      <td>M</td>\n",
       "      <td>476.0</td>\n",
       "      <td>306.0</td>\n",
       "      <td>15.0</td>\n",
       "    </tr>\n",
       "    <tr>\n",
       "      <th>9996</th>\n",
       "      <td>a27f38f8-2245-4d2c-afd2-de56c7eeac44</td>\n",
       "      <td>Pants</td>\n",
       "      <td>S</td>\n",
       "      <td>370.0</td>\n",
       "      <td>244.0</td>\n",
       "      <td>17.0</td>\n",
       "    </tr>\n",
       "    <tr>\n",
       "      <th>9997</th>\n",
       "      <td>09e8ba43-8354-4085-ad89-10bbcf4d087a</td>\n",
       "      <td>Pants</td>\n",
       "      <td>L</td>\n",
       "      <td>462.0</td>\n",
       "      <td>327.0</td>\n",
       "      <td>19.0</td>\n",
       "    </tr>\n",
       "    <tr>\n",
       "      <th>9998</th>\n",
       "      <td>d9fecd30-a98f-4359-8629-a16924101417</td>\n",
       "      <td>Pants</td>\n",
       "      <td>S</td>\n",
       "      <td>414.0</td>\n",
       "      <td>263.0</td>\n",
       "      <td>17.0</td>\n",
       "    </tr>\n",
       "    <tr>\n",
       "      <th>9999</th>\n",
       "      <td>28e9eceb-48d1-4d8c-b3f4-ee1cbaef0f4a</td>\n",
       "      <td>Pants</td>\n",
       "      <td>S</td>\n",
       "      <td>418.0</td>\n",
       "      <td>265.0</td>\n",
       "      <td>16.0</td>\n",
       "    </tr>\n",
       "  </tbody>\n",
       "</table>\n",
       "<p>10000 rows × 6 columns</p>\n",
       "</div>"
      ],
      "text/plain": [
       "                                    SKU ID Category Size  Length  Width  \\\n",
       "0     2840434d-2d0b-4b01-8efa-511e913f69fc    Socks    M   107.0   66.0   \n",
       "1     67544b5c-ea45-49bb-9ca6-7513d3cbc0e5    Shirt    M   420.0  233.0   \n",
       "2     6180f54c-7086-44bb-bb17-4c4c93194c26    Socks    S   115.0   71.0   \n",
       "3     d06c464e-fbc9-4c20-81a5-d8583334fa71    Shirt    L   353.0  219.0   \n",
       "4     18ebf639-d4ad-4e9e-be53-d3b00ca9316f    Socks    M   112.0   85.0   \n",
       "...                                    ...      ...  ...     ...    ...   \n",
       "9995  5b9bf2d4-b2b6-4491-9cfe-d7487ebc74e1    Pants    M   476.0  306.0   \n",
       "9996  a27f38f8-2245-4d2c-afd2-de56c7eeac44    Pants    S   370.0  244.0   \n",
       "9997  09e8ba43-8354-4085-ad89-10bbcf4d087a    Pants    L   462.0  327.0   \n",
       "9998  d9fecd30-a98f-4359-8629-a16924101417    Pants    S   414.0  263.0   \n",
       "9999  28e9eceb-48d1-4d8c-b3f4-ee1cbaef0f4a    Pants    S   418.0  265.0   \n",
       "\n",
       "      Height  \n",
       "0        5.0  \n",
       "1       12.0  \n",
       "2        6.0  \n",
       "3       14.0  \n",
       "4        5.0  \n",
       "...      ...  \n",
       "9995    15.0  \n",
       "9996    17.0  \n",
       "9997    19.0  \n",
       "9998    17.0  \n",
       "9999    16.0  \n",
       "\n",
       "[10000 rows x 6 columns]"
      ]
     },
     "execution_count": 12,
     "metadata": {},
     "output_type": "execute_result"
    }
   ],
   "source": [
    "df_skus_fashion"
   ]
  },
  {
   "cell_type": "code",
   "execution_count": 13,
   "metadata": {},
   "outputs": [
    {
     "data": {
      "image/png": "[encoded data removed]",
      "text/plain": [
       "<Figure size 2000x500 with 1 Axes>"
      ]
     },
     "metadata": {},
     "output_type": "display_data"
    }
   ],
   "source": [
    "plt.figure(figsize=(20, 5))\n",
    "sns.histplot(df_skus_fashion[['Length', 'Width', 'Height']], bins=100);"
   ]
  },
  {
   "cell_type": "code",
   "execution_count": 14,
   "metadata": {},
   "outputs": [
    {
     "data": {
      "image/png": "[encoded data removed]",
      "text/plain": [
       "<Figure size 640x480 with 1 Axes>"
      ]
     },
     "metadata": {},
     "output_type": "display_data"
    }
   ],
   "source": [
    "# Visual check if distribution appears uniform random\n",
    "sns.countplot(x=df_skus_fashion['Category']);"
   ]
  },
  {
   "cell_type": "code",
   "execution_count": 15,
   "metadata": {},
   "outputs": [
    {
     "name": "stdout",
     "output_type": "stream",
     "text": [
      "<class 'pandas.core.frame.DataFrame'>\n",
      "Index: 10000 entries, 0 to 9999\n",
      "Data columns (total 6 columns):\n",
      " #   Column    Non-Null Count  Dtype  \n",
      "---  ------    --------------  -----  \n",
      " 0   SKU ID    10000 non-null  object \n",
      " 1   Category  10000 non-null  object \n",
      " 2   Size      10000 non-null  object \n",
      " 3   Length    10000 non-null  float64\n",
      " 4   Width     10000 non-null  float64\n",
      " 5   Height    10000 non-null  float64\n",
      "dtypes: float64(3), object(3)\n",
      "memory usage: 507.8+ KB\n"
     ]
    }
   ],
   "source": [
    "df_skus_fashion.info()"
   ]
  },
  {
   "cell_type": "code",
   "execution_count": 16,
   "metadata": {},
   "outputs": [
    {
     "data": {
      "text/html": [
       "<div>\n",
       "<style scoped>\n",
       "    .dataframe tbody tr th:only-of-type {\n",
       "        vertical-align: middle;\n",
       "    }\n",
       "\n",
       "    .dataframe tbody tr th {\n",
       "        vertical-align: top;\n",
       "    }\n",
       "\n",
       "    .dataframe thead th {\n",
       "        text-align: right;\n",
       "    }\n",
       "</style>\n",
       "<table border=\"1\" class=\"dataframe\">\n",
       "  <thead>\n",
       "    <tr style=\"text-align: right;\">\n",
       "      <th></th>\n",
       "      <th>Length</th>\n",
       "      <th>Width</th>\n",
       "      <th>Height</th>\n",
       "    </tr>\n",
       "  </thead>\n",
       "  <tbody>\n",
       "    <tr>\n",
       "      <th>count</th>\n",
       "      <td>10000.000000</td>\n",
       "      <td>10000.000000</td>\n",
       "      <td>10000.000000</td>\n",
       "    </tr>\n",
       "    <tr>\n",
       "      <th>mean</th>\n",
       "      <td>312.910700</td>\n",
       "      <td>192.484700</td>\n",
       "      <td>11.817500</td>\n",
       "    </tr>\n",
       "    <tr>\n",
       "      <th>std</th>\n",
       "      <td>152.293059</td>\n",
       "      <td>87.815801</td>\n",
       "      <td>5.775875</td>\n",
       "    </tr>\n",
       "    <tr>\n",
       "      <th>min</th>\n",
       "      <td>62.000000</td>\n",
       "      <td>47.000000</td>\n",
       "      <td>3.000000</td>\n",
       "    </tr>\n",
       "    <tr>\n",
       "      <th>25%</th>\n",
       "      <td>120.000000</td>\n",
       "      <td>83.000000</td>\n",
       "      <td>5.000000</td>\n",
       "    </tr>\n",
       "    <tr>\n",
       "      <th>50%</th>\n",
       "      <td>366.000000</td>\n",
       "      <td>218.000000</td>\n",
       "      <td>12.000000</td>\n",
       "    </tr>\n",
       "    <tr>\n",
       "      <th>75%</th>\n",
       "      <td>427.000000</td>\n",
       "      <td>262.000000</td>\n",
       "      <td>16.000000</td>\n",
       "    </tr>\n",
       "    <tr>\n",
       "      <th>max</th>\n",
       "      <td>654.000000</td>\n",
       "      <td>401.000000</td>\n",
       "      <td>28.000000</td>\n",
       "    </tr>\n",
       "  </tbody>\n",
       "</table>\n",
       "</div>"
      ],
      "text/plain": [
       "             Length         Width        Height\n",
       "count  10000.000000  10000.000000  10000.000000\n",
       "mean     312.910700    192.484700     11.817500\n",
       "std      152.293059     87.815801      5.775875\n",
       "min       62.000000     47.000000      3.000000\n",
       "25%      120.000000     83.000000      5.000000\n",
       "50%      366.000000    218.000000     12.000000\n",
       "75%      427.000000    262.000000     16.000000\n",
       "max      654.000000    401.000000     28.000000"
      ]
     },
     "execution_count": 16,
     "metadata": {},
     "output_type": "execute_result"
    }
   ],
   "source": [
    "df_skus_fashion.describe()"
   ]
  },
  {
   "cell_type": "code",
   "execution_count": 17,
   "metadata": {},
   "outputs": [
    {
     "data": {
      "text/html": [
       "<div>\n",
       "<style scoped>\n",
       "    .dataframe tbody tr th:only-of-type {\n",
       "        vertical-align: middle;\n",
       "    }\n",
       "\n",
       "    .dataframe tbody tr th {\n",
       "        vertical-align: top;\n",
       "    }\n",
       "\n",
       "    .dataframe thead th {\n",
       "        text-align: right;\n",
       "    }\n",
       "</style>\n",
       "<table border=\"1\" class=\"dataframe\">\n",
       "  <thead>\n",
       "    <tr style=\"text-align: right;\">\n",
       "      <th></th>\n",
       "      <th>SKU ID</th>\n",
       "      <th>Category</th>\n",
       "      <th>Size</th>\n",
       "      <th>Length</th>\n",
       "      <th>Width</th>\n",
       "      <th>Height</th>\n",
       "    </tr>\n",
       "  </thead>\n",
       "  <tbody>\n",
       "    <tr>\n",
       "      <th>0</th>\n",
       "      <td>31353df6-bb56-49ee-84e7-3c57425184a8</td>\n",
       "      <td>Bag of rice</td>\n",
       "      <td>M</td>\n",
       "      <td>597.0</td>\n",
       "      <td>301.0</td>\n",
       "      <td>237.0</td>\n",
       "    </tr>\n",
       "    <tr>\n",
       "      <th>1</th>\n",
       "      <td>cbccd6a0-38b5-4e6b-b078-2961e027b7ad</td>\n",
       "      <td>Bag of rice</td>\n",
       "      <td>S</td>\n",
       "      <td>535.0</td>\n",
       "      <td>349.0</td>\n",
       "      <td>230.0</td>\n",
       "    </tr>\n",
       "    <tr>\n",
       "      <th>2</th>\n",
       "      <td>35eb62c2-e47c-45e5-aaa6-1da5822de022</td>\n",
       "      <td>Can of tuna</td>\n",
       "      <td>M</td>\n",
       "      <td>127.0</td>\n",
       "      <td>108.0</td>\n",
       "      <td>8.0</td>\n",
       "    </tr>\n",
       "    <tr>\n",
       "      <th>3</th>\n",
       "      <td>f71ba91b-87c1-42d9-8657-fe7a8398fe6d</td>\n",
       "      <td>Box of cereals</td>\n",
       "      <td>M</td>\n",
       "      <td>247.0</td>\n",
       "      <td>158.0</td>\n",
       "      <td>11.0</td>\n",
       "    </tr>\n",
       "    <tr>\n",
       "      <th>4</th>\n",
       "      <td>1cf93076-ccea-4ebd-830f-6b8567be2a6f</td>\n",
       "      <td>Can of tuna</td>\n",
       "      <td>L</td>\n",
       "      <td>97.0</td>\n",
       "      <td>120.0</td>\n",
       "      <td>9.0</td>\n",
       "    </tr>\n",
       "    <tr>\n",
       "      <th>...</th>\n",
       "      <td>...</td>\n",
       "      <td>...</td>\n",
       "      <td>...</td>\n",
       "      <td>...</td>\n",
       "      <td>...</td>\n",
       "      <td>...</td>\n",
       "    </tr>\n",
       "    <tr>\n",
       "      <th>995</th>\n",
       "      <td>b6f0de0d-34a7-4f60-b2e8-f5465fe72812</td>\n",
       "      <td>Bag of rice</td>\n",
       "      <td>M</td>\n",
       "      <td>658.0</td>\n",
       "      <td>343.0</td>\n",
       "      <td>219.0</td>\n",
       "    </tr>\n",
       "    <tr>\n",
       "      <th>996</th>\n",
       "      <td>6952d064-f2f4-4d88-a7cf-027f04a5772e</td>\n",
       "      <td>Can of tuna</td>\n",
       "      <td>L</td>\n",
       "      <td>112.0</td>\n",
       "      <td>98.0</td>\n",
       "      <td>8.0</td>\n",
       "    </tr>\n",
       "    <tr>\n",
       "      <th>997</th>\n",
       "      <td>086563ff-4e35-4e32-a0be-d58cf8d77d37</td>\n",
       "      <td>Can of tuna</td>\n",
       "      <td>S</td>\n",
       "      <td>108.0</td>\n",
       "      <td>90.0</td>\n",
       "      <td>7.0</td>\n",
       "    </tr>\n",
       "    <tr>\n",
       "      <th>998</th>\n",
       "      <td>bd2e11e2-02a9-465c-97e4-aae7a2b06a57</td>\n",
       "      <td>Bag of rice</td>\n",
       "      <td>M</td>\n",
       "      <td>459.0</td>\n",
       "      <td>333.0</td>\n",
       "      <td>242.0</td>\n",
       "    </tr>\n",
       "    <tr>\n",
       "      <th>999</th>\n",
       "      <td>53233de6-71f1-4bd3-b59c-c5c03707ab02</td>\n",
       "      <td>Bag of rice</td>\n",
       "      <td>M</td>\n",
       "      <td>475.0</td>\n",
       "      <td>301.0</td>\n",
       "      <td>212.0</td>\n",
       "    </tr>\n",
       "  </tbody>\n",
       "</table>\n",
       "<p>1000 rows × 6 columns</p>\n",
       "</div>"
      ],
      "text/plain": [
       "                                   SKU ID        Category Size  Length  Width  \\\n",
       "0    31353df6-bb56-49ee-84e7-3c57425184a8     Bag of rice    M   597.0  301.0   \n",
       "1    cbccd6a0-38b5-4e6b-b078-2961e027b7ad     Bag of rice    S   535.0  349.0   \n",
       "2    35eb62c2-e47c-45e5-aaa6-1da5822de022     Can of tuna    M   127.0  108.0   \n",
       "3    f71ba91b-87c1-42d9-8657-fe7a8398fe6d  Box of cereals    M   247.0  158.0   \n",
       "4    1cf93076-ccea-4ebd-830f-6b8567be2a6f     Can of tuna    L    97.0  120.0   \n",
       "..                                    ...             ...  ...     ...    ...   \n",
       "995  b6f0de0d-34a7-4f60-b2e8-f5465fe72812     Bag of rice    M   658.0  343.0   \n",
       "996  6952d064-f2f4-4d88-a7cf-027f04a5772e     Can of tuna    L   112.0   98.0   \n",
       "997  086563ff-4e35-4e32-a0be-d58cf8d77d37     Can of tuna    S   108.0   90.0   \n",
       "998  bd2e11e2-02a9-465c-97e4-aae7a2b06a57     Bag of rice    M   459.0  333.0   \n",
       "999  53233de6-71f1-4bd3-b59c-c5c03707ab02     Bag of rice    M   475.0  301.0   \n",
       "\n",
       "     Height  \n",
       "0     237.0  \n",
       "1     230.0  \n",
       "2       8.0  \n",
       "3      11.0  \n",
       "4       9.0  \n",
       "..      ...  \n",
       "995   219.0  \n",
       "996     8.0  \n",
       "997     7.0  \n",
       "998   242.0  \n",
       "999   212.0  \n",
       "\n",
       "[1000 rows x 6 columns]"
      ]
     },
     "execution_count": 17,
     "metadata": {},
     "output_type": "execute_result"
    }
   ],
   "source": [
    "df_skus_food = random_skus(1000, 'Food')\n",
    "df_skus_food"
   ]
  },
  {
   "cell_type": "code",
   "execution_count": 18,
   "metadata": {},
   "outputs": [
    {
     "data": {
      "image/png": "[encoded data removed]",
      "text/plain": [
       "<Figure size 2000x500 with 1 Axes>"
      ]
     },
     "metadata": {},
     "output_type": "display_data"
    }
   ],
   "source": [
    "plt.figure(figsize=(20, 5))\n",
    "sns.histplot(df_skus_food[['Length', 'Width', 'Height']], bins=100);"
   ]
  },
  {
   "cell_type": "code",
   "execution_count": 19,
   "metadata": {},
   "outputs": [
    {
     "data": {
      "image/png": "[encoded data removed]",
      "text/plain": [
       "<Figure size 640x480 with 1 Axes>"
      ]
     },
     "metadata": {},
     "output_type": "display_data"
    }
   ],
   "source": [
    "sns.countplot(x=df_skus_food['Category']);"
   ]
  },
  {
   "cell_type": "markdown",
   "metadata": {},
   "source": [
    "### Notes\n",
    "At this stage, the produced values are only to showcase the functionality and are not representative of real world data.\n",
    "At a later time, more realistic data needs to be produced.\n",
    "\n",
    "---"
   ]
  },
  {
   "cell_type": "markdown",
   "metadata": {},
   "source": [
    "## Random order table generator\n",
    "\n",
    "### Considerations\n",
    "Like in most other ares in business, the SKU-velocity distribution in a typical order profil corresponds to an 80/20, or in some cases 70/30, ratio (20% of the SKUs representing 80% of the order volume.). Based on this, SKUs will belong to velocity classes (A, B, C), depending how fast they are moving. Therefore, the available SKUs need to be assigned orders in a way that follows this rule.\n",
    "\n",
    "<img src=\"https://interlakemecalux.cdnwm.com/blog/img/80-20-pareto-principle.1.2.jpg\" width=\"650\"/>\n",
    "\n",
    "There is a specific, somewhat business-specific, order profile (units per-order line and order lines per order).\n",
    "\n",
    "Ultimately, there must be a selection of order profiles that go in line with different market segments and business types.\n",
    "\n",
    "### Objectives\n",
    "The goal is to create a function that generates a table of random orders. The order profile (units per order line, order lines per order) as well as the volume distribution of the SKUs (Pareto principle) must represent a real live scenario and must be adjustable by the user.\n",
    "\n",
    "The initial table must contain at minimum the following columns:\n",
    "\n",
    "| Date | Order ID | SKU ID | Quantity |\n",
    "| ---- | ---- | ---- | ---- |\n",
    "| numerical | categorical | categorical | numerical |\n",
    "\n",
    "#### Steps in detail\n",
    "1) Define range of days based on user input\n",
    "2) Assign random number of orders to each day while assigning a number of order lines (SKUs) - for the beginning random, normal, right skewed\n",
    "3) Develop method to randomly distribute SKUs across all orders - for the beginning randomly, based on 80/20 rule\n",
    "4) Creating the order line pool\n",
    "5) Putting all together"
   ]
  },
  {
   "cell_type": "markdown",
   "metadata": {},
   "source": [
    "---\n",
    "#### 1. Define range of days"
   ]
  },
  {
   "cell_type": "code",
   "execution_count": 46,
   "metadata": {},
   "outputs": [],
   "source": [
    "def day_definer(num):\n",
    "    '''\n",
    "    Function to create a list of days. First day of range is current day\n",
    "    Input:\n",
    "    - Number of days\n",
    "    Outbout:\n",
    "    - List of days in the range of first day to last day\n",
    "    '''\n",
    "\n",
    "    return pd.date_range(datetime.today(), periods=num).date.tolist()"
   ]
  },
  {
   "cell_type": "code",
   "execution_count": 47,
   "metadata": {},
   "outputs": [
    {
     "data": {
      "text/plain": [
       "[datetime.date(2024, 1, 27),\n",
       " datetime.date(2024, 1, 28),\n",
       " datetime.date(2024, 1, 29),\n",
       " datetime.date(2024, 1, 30),\n",
       " datetime.date(2024, 1, 31),\n",
       " datetime.date(2024, 2, 1),\n",
       " datetime.date(2024, 2, 2),\n",
       " datetime.date(2024, 2, 3),\n",
       " datetime.date(2024, 2, 4),\n",
       " datetime.date(2024, 2, 5),\n",
       " datetime.date(2024, 2, 6),\n",
       " datetime.date(2024, 2, 7),\n",
       " datetime.date(2024, 2, 8),\n",
       " datetime.date(2024, 2, 9),\n",
       " datetime.date(2024, 2, 10),\n",
       " datetime.date(2024, 2, 11),\n",
       " datetime.date(2024, 2, 12),\n",
       " datetime.date(2024, 2, 13),\n",
       " datetime.date(2024, 2, 14),\n",
       " datetime.date(2024, 2, 15),\n",
       " datetime.date(2024, 2, 16),\n",
       " datetime.date(2024, 2, 17),\n",
       " datetime.date(2024, 2, 18),\n",
       " datetime.date(2024, 2, 19),\n",
       " datetime.date(2024, 2, 20),\n",
       " datetime.date(2024, 2, 21),\n",
       " datetime.date(2024, 2, 22),\n",
       " datetime.date(2024, 2, 23),\n",
       " datetime.date(2024, 2, 24),\n",
       " datetime.date(2024, 2, 25),\n",
       " datetime.date(2024, 2, 26),\n",
       " datetime.date(2024, 2, 27),\n",
       " datetime.date(2024, 2, 28),\n",
       " datetime.date(2024, 2, 29),\n",
       " datetime.date(2024, 3, 1),\n",
       " datetime.date(2024, 3, 2),\n",
       " datetime.date(2024, 3, 3),\n",
       " datetime.date(2024, 3, 4),\n",
       " datetime.date(2024, 3, 5),\n",
       " datetime.date(2024, 3, 6),\n",
       " datetime.date(2024, 3, 7),\n",
       " datetime.date(2024, 3, 8),\n",
       " datetime.date(2024, 3, 9),\n",
       " datetime.date(2024, 3, 10),\n",
       " datetime.date(2024, 3, 11),\n",
       " datetime.date(2024, 3, 12),\n",
       " datetime.date(2024, 3, 13),\n",
       " datetime.date(2024, 3, 14),\n",
       " datetime.date(2024, 3, 15),\n",
       " datetime.date(2024, 3, 16),\n",
       " datetime.date(2024, 3, 17),\n",
       " datetime.date(2024, 3, 18),\n",
       " datetime.date(2024, 3, 19),\n",
       " datetime.date(2024, 3, 20),\n",
       " datetime.date(2024, 3, 21),\n",
       " datetime.date(2024, 3, 22),\n",
       " datetime.date(2024, 3, 23),\n",
       " datetime.date(2024, 3, 24),\n",
       " datetime.date(2024, 3, 25),\n",
       " datetime.date(2024, 3, 26),\n",
       " datetime.date(2024, 3, 27),\n",
       " datetime.date(2024, 3, 28),\n",
       " datetime.date(2024, 3, 29),\n",
       " datetime.date(2024, 3, 30),\n",
       " datetime.date(2024, 3, 31),\n",
       " datetime.date(2024, 4, 1),\n",
       " datetime.date(2024, 4, 2),\n",
       " datetime.date(2024, 4, 3),\n",
       " datetime.date(2024, 4, 4),\n",
       " datetime.date(2024, 4, 5),\n",
       " datetime.date(2024, 4, 6),\n",
       " datetime.date(2024, 4, 7),\n",
       " datetime.date(2024, 4, 8),\n",
       " datetime.date(2024, 4, 9),\n",
       " datetime.date(2024, 4, 10),\n",
       " datetime.date(2024, 4, 11),\n",
       " datetime.date(2024, 4, 12),\n",
       " datetime.date(2024, 4, 13),\n",
       " datetime.date(2024, 4, 14),\n",
       " datetime.date(2024, 4, 15),\n",
       " datetime.date(2024, 4, 16),\n",
       " datetime.date(2024, 4, 17),\n",
       " datetime.date(2024, 4, 18),\n",
       " datetime.date(2024, 4, 19),\n",
       " datetime.date(2024, 4, 20),\n",
       " datetime.date(2024, 4, 21),\n",
       " datetime.date(2024, 4, 22),\n",
       " datetime.date(2024, 4, 23),\n",
       " datetime.date(2024, 4, 24),\n",
       " datetime.date(2024, 4, 25)]"
      ]
     },
     "execution_count": 47,
     "metadata": {},
     "output_type": "execute_result"
    }
   ],
   "source": [
    "lst_days = day_definer(90)\n",
    "lst_days"
   ]
  },
  {
   "cell_type": "markdown",
   "metadata": {},
   "source": [
    "#### 2. Assign random number of orders per day\n",
    "Each day needs to get a number of orders assigned."
   ]
  },
  {
   "cell_type": "markdown",
   "metadata": {},
   "source": [
    "The number of orders per day needs to be randomized as well when assigning orders for a range of days."
   ]
  },
  {
   "cell_type": "code",
   "execution_count": 48,
   "metadata": {},
   "outputs": [],
   "source": [
    "def order_generator(avg_orders_per_day, avg_lines_order, order_std, min_order_size):\n",
    "\n",
    "    orders_per_day = np.round(abs(np.random.normal(loc=avg_orders_per_day, scale=50, size=1))).astype(int)\n",
    "    return np.round(abs(np.random.normal(loc=avg_lines_order, scale=order_std, size=orders_per_day))) + min_order_size"
   ]
  },
  {
   "cell_type": "code",
   "execution_count": 49,
   "metadata": {},
   "outputs": [],
   "source": [
    "test_orders = order_generator(1000, 30, 10, 3)"
   ]
  },
  {
   "cell_type": "code",
   "execution_count": 54,
   "metadata": {},
   "outputs": [
    {
     "data": {
      "text/plain": [
       "array([36., 27., 43., ..., 37., 36., 36.])"
      ]
     },
     "execution_count": 54,
     "metadata": {},
     "output_type": "execute_result"
    }
   ],
   "source": [
    "test_orders"
   ]
  },
  {
   "cell_type": "code",
   "execution_count": 50,
   "metadata": {},
   "outputs": [
    {
     "data": {
      "text/plain": [
       "(array([ 2.,  2.,  2.,  1.,  1.,  2.,  6.,  3.,  2.,  7.,  3.,  2., 10.,\n",
       "        12., 15., 12., 20., 11., 13., 26., 38., 23., 34., 30., 34., 29.,\n",
       "        43., 37., 39., 43., 49., 39., 55., 34., 51., 33., 41., 31., 27.,\n",
       "        32., 25., 32., 26., 16., 17., 14., 16.,  5.,  4.,  5.,  6.,  2.,\n",
       "         1.,  3.,  3.,  5.,  0.,  0.,  1.,  0.,  1.]),\n",
       " array([ 4.,  5.,  6.,  7.,  8.,  9., 10., 11., 12., 13., 14., 15., 16.,\n",
       "        17., 18., 19., 20., 21., 22., 23., 24., 25., 26., 27., 28., 29.,\n",
       "        30., 31., 32., 33., 34., 35., 36., 37., 38., 39., 40., 41., 42.,\n",
       "        43., 44., 45., 46., 47., 48., 49., 50., 51., 52., 53., 54., 55.,\n",
       "        56., 57., 58., 59., 60., 61., 62., 63., 64., 65.]),\n",
       " <BarContainer object of 61 artists>)"
      ]
     },
     "execution_count": 50,
     "metadata": {},
     "output_type": "execute_result"
    },
    {
     "data": {
      "image/png": "[encoded data removed]",
      "text/plain": [
       "<Figure size 640x480 with 1 Axes>"
      ]
     },
     "metadata": {},
     "output_type": "display_data"
    }
   ],
   "source": [
    "# Plot:\n",
    "axis = np.arange(start=min(test_orders), stop = max(test_orders) + 1)\n",
    "plt.hist(test_orders, bins = axis)"
   ]
  },
  {
   "cell_type": "code",
   "execution_count": 29,
   "metadata": {},
   "outputs": [
    {
     "data": {
      "text/plain": [
       "993"
      ]
     },
     "execution_count": 29,
     "metadata": {},
     "output_type": "execute_result"
    }
   ],
   "source": [
    "len(test_orders)"
   ]
  },
  {
   "cell_type": "markdown",
   "metadata": {},
   "source": [
    "#### 3. Assigning SKUs\n",
    "The assignment of SKUs may be random, but each SKU will need to have a different velocity, basically how often it is picked during the day. As stated, this distribution will follow the 80/20 rule.\n",
    "\n",
    "First, a pareto distribution of n SKUs with distinct values need to be produced. N is the number of SKUs, and the dependend values represent the number of order lines each SKU is picked during the day.\n",
    "In the next step each SKU will then be translated to a unique identifier (SKU ID), multiplied by the number of order lines it produces during the day, and then be put into a SKU list. This SKU list represents a pool from which order lines can be randomly pulled when a procedure loops throuh all the orders. Because the appearance of SKUs in the list is varying (based on the pareto principle) probability will naturally reproduce the pareto distribution when the oder list is generated."
   ]
  },
  {
   "cell_type": "code",
   "execution_count": 30,
   "metadata": {},
   "outputs": [
    {
     "data": {
      "image/png": "[encoded data removed]",
      "text/plain": [
       "<Figure size 1500x800 with 1 Axes>"
      ]
     },
     "metadata": {},
     "output_type": "display_data"
    }
   ],
   "source": [
    "# Let's review the cumulative density function of the pareto distribution. We will use scipy's pareto library.\n",
    "num_skus = 10000\n",
    "\n",
    "x = np.arange(1, num_skus)\n",
    "\n",
    "pareto_cdf = (pareto.cdf(x, b=0.1, loc=1, scale=1) * 50000).round()\n",
    "\n",
    "plt.figure(figsize=(15, 8))\n",
    "plt.plot(x, pareto_cdf)\n",
    "plt.grid()\n",
    "plt.show()"
   ]
  },
  {
   "cell_type": "code",
   "execution_count": 31,
   "metadata": {},
   "outputs": [
    {
     "data": {
      "text/plain": [
       "27881.72297229723"
      ]
     },
     "execution_count": 31,
     "metadata": {},
     "output_type": "execute_result"
    }
   ],
   "source": [
    "pareto_cdf.mean()"
   ]
  },
  {
   "cell_type": "markdown",
   "metadata": {},
   "source": [
    "This distribution could represent a day in a distribution center. It is very steep in this example and shows how 10,000 SKUs adding adding up to 30,000 order lines. The fastest SKUs are on the left side of the X-axis and generate the biggest part of the order volume. We need the derivation of this function (probability density function) in order to directly get the individual impacts of each SKU."
   ]
  },
  {
   "cell_type": "code",
   "execution_count": 32,
   "metadata": {},
   "outputs": [
    {
     "data": {
      "image/png": "[encoded data removed]",
      "text/plain": [
       "<Figure size 1500x800 with 1 Axes>"
      ]
     },
     "metadata": {},
     "output_type": "display_data"
    }
   ],
   "source": [
    "# Let's try spipy's pdf funtion\n",
    "min_lines = 1\n",
    "lines_range_factor = 100\n",
    "\n",
    "x = np.linspace(1, 10, 1000)\n",
    "\n",
    "pareto_pdf = (pareto.pdf(x, b=1, loc=0, scale=1) * lines_range_factor + min_lines).round()\n",
    "\n",
    "plt.figure(figsize=(15, 8))\n",
    "plt.plot(x, pareto_pdf)\n",
    "plt.grid()\n",
    "plt.show()"
   ]
  },
  {
   "cell_type": "code",
   "execution_count": 33,
   "metadata": {},
   "outputs": [],
   "source": [
    "# Make a function that randomly creates a number of lines from that distribution:\n",
    "\n",
    "def random_line_assigner(min_lines, lines_range):\n",
    "    return np.random.choice((pareto.pdf(x, b=1, loc=0, scale=1) * lines_range + min_lines).round())"
   ]
  },
  {
   "cell_type": "code",
   "execution_count": 34,
   "metadata": {},
   "outputs": [],
   "source": [
    "# generate 1000 samples for testing if distribution will be reflected\n",
    "df_fashion_skus = random_skus(10000, 'Fashion')\n",
    "min_lines = 1\n",
    "lines_range = 100\n",
    "\n",
    "df_fashion_skus['Lines'] = np.random.choice((pareto.pdf(x, b=1, loc=0, scale=1) * lines_range + min_lines).round(), df_fashion_skus.shape[0])\n"
   ]
  },
  {
   "cell_type": "code",
   "execution_count": 35,
   "metadata": {},
   "outputs": [
    {
     "data": {
      "text/html": [
       "<div>\n",
       "<style scoped>\n",
       "    .dataframe tbody tr th:only-of-type {\n",
       "        vertical-align: middle;\n",
       "    }\n",
       "\n",
       "    .dataframe tbody tr th {\n",
       "        vertical-align: top;\n",
       "    }\n",
       "\n",
       "    .dataframe thead th {\n",
       "        text-align: right;\n",
       "    }\n",
       "</style>\n",
       "<table border=\"1\" class=\"dataframe\">\n",
       "  <thead>\n",
       "    <tr style=\"text-align: right;\">\n",
       "      <th></th>\n",
       "      <th>SKU ID</th>\n",
       "      <th>Category</th>\n",
       "      <th>Size</th>\n",
       "      <th>Length</th>\n",
       "      <th>Width</th>\n",
       "      <th>Height</th>\n",
       "      <th>Lines</th>\n",
       "    </tr>\n",
       "  </thead>\n",
       "  <tbody>\n",
       "    <tr>\n",
       "      <th>0</th>\n",
       "      <td>6ade18c2-adb2-48b9-8051-2c4475b0279d</td>\n",
       "      <td>Socks</td>\n",
       "      <td>S</td>\n",
       "      <td>101.0</td>\n",
       "      <td>75.0</td>\n",
       "      <td>5.0</td>\n",
       "      <td>3.0</td>\n",
       "    </tr>\n",
       "    <tr>\n",
       "      <th>1</th>\n",
       "      <td>bb4665be-06db-4fca-8e4e-e992966db2e2</td>\n",
       "      <td>Pants</td>\n",
       "      <td>S</td>\n",
       "      <td>390.0</td>\n",
       "      <td>254.0</td>\n",
       "      <td>18.0</td>\n",
       "      <td>15.0</td>\n",
       "    </tr>\n",
       "    <tr>\n",
       "      <th>2</th>\n",
       "      <td>cf642327-178d-44cd-869c-7600f0c7a4e8</td>\n",
       "      <td>Shirt</td>\n",
       "      <td>M</td>\n",
       "      <td>416.0</td>\n",
       "      <td>242.0</td>\n",
       "      <td>10.0</td>\n",
       "      <td>2.0</td>\n",
       "    </tr>\n",
       "    <tr>\n",
       "      <th>3</th>\n",
       "      <td>b3302af3-9365-4b22-84fa-93ff10a9eeae</td>\n",
       "      <td>Pants</td>\n",
       "      <td>L</td>\n",
       "      <td>479.0</td>\n",
       "      <td>270.0</td>\n",
       "      <td>21.0</td>\n",
       "      <td>46.0</td>\n",
       "    </tr>\n",
       "    <tr>\n",
       "      <th>4</th>\n",
       "      <td>1e21f499-0ea9-4bc4-897a-c2720406c215</td>\n",
       "      <td>Pants</td>\n",
       "      <td>M</td>\n",
       "      <td>474.0</td>\n",
       "      <td>283.0</td>\n",
       "      <td>20.0</td>\n",
       "      <td>2.0</td>\n",
       "    </tr>\n",
       "    <tr>\n",
       "      <th>...</th>\n",
       "      <td>...</td>\n",
       "      <td>...</td>\n",
       "      <td>...</td>\n",
       "      <td>...</td>\n",
       "      <td>...</td>\n",
       "      <td>...</td>\n",
       "      <td>...</td>\n",
       "    </tr>\n",
       "    <tr>\n",
       "      <th>9995</th>\n",
       "      <td>4eab30b2-27d6-4d94-8871-207f16e51a1b</td>\n",
       "      <td>Pants</td>\n",
       "      <td>M</td>\n",
       "      <td>445.0</td>\n",
       "      <td>307.0</td>\n",
       "      <td>17.0</td>\n",
       "      <td>5.0</td>\n",
       "    </tr>\n",
       "    <tr>\n",
       "      <th>9996</th>\n",
       "      <td>84fe99e4-cab7-4cd0-9720-7f3ddb718796</td>\n",
       "      <td>Socks</td>\n",
       "      <td>S</td>\n",
       "      <td>117.0</td>\n",
       "      <td>72.0</td>\n",
       "      <td>5.0</td>\n",
       "      <td>3.0</td>\n",
       "    </tr>\n",
       "    <tr>\n",
       "      <th>9997</th>\n",
       "      <td>8d84f107-5285-441e-a076-29bea24cc369</td>\n",
       "      <td>Socks</td>\n",
       "      <td>S</td>\n",
       "      <td>102.0</td>\n",
       "      <td>78.0</td>\n",
       "      <td>5.0</td>\n",
       "      <td>6.0</td>\n",
       "    </tr>\n",
       "    <tr>\n",
       "      <th>9998</th>\n",
       "      <td>13bb7e7c-42e1-454a-938f-c8e8aedb2d5b</td>\n",
       "      <td>Shirt</td>\n",
       "      <td>S</td>\n",
       "      <td>355.0</td>\n",
       "      <td>234.0</td>\n",
       "      <td>9.0</td>\n",
       "      <td>2.0</td>\n",
       "    </tr>\n",
       "    <tr>\n",
       "      <th>9999</th>\n",
       "      <td>4b2bb392-8b1d-4116-9488-fc40f35bc79f</td>\n",
       "      <td>Pants</td>\n",
       "      <td>L</td>\n",
       "      <td>461.0</td>\n",
       "      <td>288.0</td>\n",
       "      <td>22.0</td>\n",
       "      <td>4.0</td>\n",
       "    </tr>\n",
       "  </tbody>\n",
       "</table>\n",
       "<p>10000 rows × 7 columns</p>\n",
       "</div>"
      ],
      "text/plain": [
       "                                    SKU ID Category Size  Length  Width  \\\n",
       "0     6ade18c2-adb2-48b9-8051-2c4475b0279d    Socks    S   101.0   75.0   \n",
       "1     bb4665be-06db-4fca-8e4e-e992966db2e2    Pants    S   390.0  254.0   \n",
       "2     cf642327-178d-44cd-869c-7600f0c7a4e8    Shirt    M   416.0  242.0   \n",
       "3     b3302af3-9365-4b22-84fa-93ff10a9eeae    Pants    L   479.0  270.0   \n",
       "4     1e21f499-0ea9-4bc4-897a-c2720406c215    Pants    M   474.0  283.0   \n",
       "...                                    ...      ...  ...     ...    ...   \n",
       "9995  4eab30b2-27d6-4d94-8871-207f16e51a1b    Pants    M   445.0  307.0   \n",
       "9996  84fe99e4-cab7-4cd0-9720-7f3ddb718796    Socks    S   117.0   72.0   \n",
       "9997  8d84f107-5285-441e-a076-29bea24cc369    Socks    S   102.0   78.0   \n",
       "9998  13bb7e7c-42e1-454a-938f-c8e8aedb2d5b    Shirt    S   355.0  234.0   \n",
       "9999  4b2bb392-8b1d-4116-9488-fc40f35bc79f    Pants    L   461.0  288.0   \n",
       "\n",
       "      Height  Lines  \n",
       "0        5.0    3.0  \n",
       "1       18.0   15.0  \n",
       "2       10.0    2.0  \n",
       "3       21.0   46.0  \n",
       "4       20.0    2.0  \n",
       "...      ...    ...  \n",
       "9995    17.0    5.0  \n",
       "9996     5.0    3.0  \n",
       "9997     5.0    6.0  \n",
       "9998     9.0    2.0  \n",
       "9999    22.0    4.0  \n",
       "\n",
       "[10000 rows x 7 columns]"
      ]
     },
     "execution_count": 35,
     "metadata": {},
     "output_type": "execute_result"
    }
   ],
   "source": [
    "df_fashion_skus"
   ]
  },
  {
   "cell_type": "code",
   "execution_count": 36,
   "metadata": {},
   "outputs": [],
   "source": [
    "# For the pareto distrubution to appear the dataframe needs to be sorted by the order lines and then a cumulative lines column needs to be added\n",
    "# Sorting by velocity\n",
    "df_fashion_skus.sort_values('Lines', ascending=False, inplace=True)\n",
    "# Cumulate values\n",
    "df_fashion_skus['Cumulative Lines'] = np.cumsum(df_fashion_skus['Lines'])\n",
    "# Resetting index for the visualization\n",
    "df_fashion_skus.reset_index(drop=True, inplace= True)"
   ]
  },
  {
   "cell_type": "code",
   "execution_count": 37,
   "metadata": {},
   "outputs": [
    {
     "data": {
      "text/html": [
       "<div>\n",
       "<style scoped>\n",
       "    .dataframe tbody tr th:only-of-type {\n",
       "        vertical-align: middle;\n",
       "    }\n",
       "\n",
       "    .dataframe tbody tr th {\n",
       "        vertical-align: top;\n",
       "    }\n",
       "\n",
       "    .dataframe thead th {\n",
       "        text-align: right;\n",
       "    }\n",
       "</style>\n",
       "<table border=\"1\" class=\"dataframe\">\n",
       "  <thead>\n",
       "    <tr style=\"text-align: right;\">\n",
       "      <th></th>\n",
       "      <th>SKU ID</th>\n",
       "      <th>Category</th>\n",
       "      <th>Size</th>\n",
       "      <th>Length</th>\n",
       "      <th>Width</th>\n",
       "      <th>Height</th>\n",
       "      <th>Lines</th>\n",
       "      <th>Cumulative Lines</th>\n",
       "    </tr>\n",
       "  </thead>\n",
       "  <tbody>\n",
       "    <tr>\n",
       "      <th>0</th>\n",
       "      <td>8ffa3749-3585-4ab0-a8dd-634f4659ea5b</td>\n",
       "      <td>Pants</td>\n",
       "      <td>S</td>\n",
       "      <td>396.0</td>\n",
       "      <td>272.0</td>\n",
       "      <td>15.0</td>\n",
       "      <td>101.0</td>\n",
       "      <td>101.0</td>\n",
       "    </tr>\n",
       "    <tr>\n",
       "      <th>1</th>\n",
       "      <td>e32b66cd-b4de-48a0-8015-f90ff00520a8</td>\n",
       "      <td>Shirt</td>\n",
       "      <td>S</td>\n",
       "      <td>277.0</td>\n",
       "      <td>213.0</td>\n",
       "      <td>11.0</td>\n",
       "      <td>101.0</td>\n",
       "      <td>202.0</td>\n",
       "    </tr>\n",
       "    <tr>\n",
       "      <th>2</th>\n",
       "      <td>54ff93cb-308c-4d8f-beb4-0d0c02c183ac</td>\n",
       "      <td>Socks</td>\n",
       "      <td>S</td>\n",
       "      <td>87.0</td>\n",
       "      <td>79.0</td>\n",
       "      <td>5.0</td>\n",
       "      <td>101.0</td>\n",
       "      <td>303.0</td>\n",
       "    </tr>\n",
       "    <tr>\n",
       "      <th>3</th>\n",
       "      <td>a05e4249-0c5f-49f0-bbfc-8f40d4dc31ce</td>\n",
       "      <td>Shirt</td>\n",
       "      <td>L</td>\n",
       "      <td>439.0</td>\n",
       "      <td>258.0</td>\n",
       "      <td>13.0</td>\n",
       "      <td>101.0</td>\n",
       "      <td>404.0</td>\n",
       "    </tr>\n",
       "    <tr>\n",
       "      <th>4</th>\n",
       "      <td>34d82aba-125a-434c-b7ee-3ccfb8ad9da8</td>\n",
       "      <td>Pants</td>\n",
       "      <td>S</td>\n",
       "      <td>422.0</td>\n",
       "      <td>266.0</td>\n",
       "      <td>18.0</td>\n",
       "      <td>101.0</td>\n",
       "      <td>505.0</td>\n",
       "    </tr>\n",
       "    <tr>\n",
       "      <th>...</th>\n",
       "      <td>...</td>\n",
       "      <td>...</td>\n",
       "      <td>...</td>\n",
       "      <td>...</td>\n",
       "      <td>...</td>\n",
       "      <td>...</td>\n",
       "      <td>...</td>\n",
       "      <td>...</td>\n",
       "    </tr>\n",
       "    <tr>\n",
       "      <th>9995</th>\n",
       "      <td>500e85d2-521a-4b6c-a521-9d941c5b6f84</td>\n",
       "      <td>Pants</td>\n",
       "      <td>L</td>\n",
       "      <td>498.0</td>\n",
       "      <td>330.0</td>\n",
       "      <td>21.0</td>\n",
       "      <td>2.0</td>\n",
       "      <td>109423.0</td>\n",
       "    </tr>\n",
       "    <tr>\n",
       "      <th>9996</th>\n",
       "      <td>9581bfbf-8759-43ea-8082-81a1ab97ddbc</td>\n",
       "      <td>Socks</td>\n",
       "      <td>L</td>\n",
       "      <td>139.0</td>\n",
       "      <td>82.0</td>\n",
       "      <td>5.0</td>\n",
       "      <td>2.0</td>\n",
       "      <td>109425.0</td>\n",
       "    </tr>\n",
       "    <tr>\n",
       "      <th>9997</th>\n",
       "      <td>c43f890e-93ea-4b32-baf3-7fa4fd1e42fd</td>\n",
       "      <td>Socks</td>\n",
       "      <td>S</td>\n",
       "      <td>106.0</td>\n",
       "      <td>57.0</td>\n",
       "      <td>5.0</td>\n",
       "      <td>2.0</td>\n",
       "      <td>109427.0</td>\n",
       "    </tr>\n",
       "    <tr>\n",
       "      <th>9998</th>\n",
       "      <td>9f8783f2-bbfc-4595-bd8f-08d7639fd582</td>\n",
       "      <td>Socks</td>\n",
       "      <td>S</td>\n",
       "      <td>107.0</td>\n",
       "      <td>74.0</td>\n",
       "      <td>5.0</td>\n",
       "      <td>2.0</td>\n",
       "      <td>109429.0</td>\n",
       "    </tr>\n",
       "    <tr>\n",
       "      <th>9999</th>\n",
       "      <td>f24fb304-13fd-4443-9de7-93f35f82771e</td>\n",
       "      <td>Shirt</td>\n",
       "      <td>M</td>\n",
       "      <td>416.0</td>\n",
       "      <td>216.0</td>\n",
       "      <td>12.0</td>\n",
       "      <td>2.0</td>\n",
       "      <td>109431.0</td>\n",
       "    </tr>\n",
       "  </tbody>\n",
       "</table>\n",
       "<p>10000 rows × 8 columns</p>\n",
       "</div>"
      ],
      "text/plain": [
       "                                    SKU ID Category Size  Length  Width  \\\n",
       "0     8ffa3749-3585-4ab0-a8dd-634f4659ea5b    Pants    S   396.0  272.0   \n",
       "1     e32b66cd-b4de-48a0-8015-f90ff00520a8    Shirt    S   277.0  213.0   \n",
       "2     54ff93cb-308c-4d8f-beb4-0d0c02c183ac    Socks    S    87.0   79.0   \n",
       "3     a05e4249-0c5f-49f0-bbfc-8f40d4dc31ce    Shirt    L   439.0  258.0   \n",
       "4     34d82aba-125a-434c-b7ee-3ccfb8ad9da8    Pants    S   422.0  266.0   \n",
       "...                                    ...      ...  ...     ...    ...   \n",
       "9995  500e85d2-521a-4b6c-a521-9d941c5b6f84    Pants    L   498.0  330.0   \n",
       "9996  9581bfbf-8759-43ea-8082-81a1ab97ddbc    Socks    L   139.0   82.0   \n",
       "9997  c43f890e-93ea-4b32-baf3-7fa4fd1e42fd    Socks    S   106.0   57.0   \n",
       "9998  9f8783f2-bbfc-4595-bd8f-08d7639fd582    Socks    S   107.0   74.0   \n",
       "9999  f24fb304-13fd-4443-9de7-93f35f82771e    Shirt    M   416.0  216.0   \n",
       "\n",
       "      Height  Lines  Cumulative Lines  \n",
       "0       15.0  101.0             101.0  \n",
       "1       11.0  101.0             202.0  \n",
       "2        5.0  101.0             303.0  \n",
       "3       13.0  101.0             404.0  \n",
       "4       18.0  101.0             505.0  \n",
       "...      ...    ...               ...  \n",
       "9995    21.0    2.0          109423.0  \n",
       "9996     5.0    2.0          109425.0  \n",
       "9997     5.0    2.0          109427.0  \n",
       "9998     5.0    2.0          109429.0  \n",
       "9999    12.0    2.0          109431.0  \n",
       "\n",
       "[10000 rows x 8 columns]"
      ]
     },
     "execution_count": 37,
     "metadata": {},
     "output_type": "execute_result"
    }
   ],
   "source": [
    "df_fashion_skus"
   ]
  },
  {
   "cell_type": "code",
   "execution_count": 38,
   "metadata": {},
   "outputs": [
    {
     "data": {
      "image/png": "[encoded data removed]",
      "text/plain": [
       "<Figure size 1500x800 with 1 Axes>"
      ]
     },
     "metadata": {},
     "output_type": "display_data"
    }
   ],
   "source": [
    "plt.figure(figsize=(15, 8))\n",
    "plt.plot(df_fashion_skus['Cumulative Lines']);"
   ]
  },
  {
   "cell_type": "markdown",
   "metadata": {},
   "source": [
    "That looks OK. This list of 1000 SKUs corresponds to a typical order profile. In a 3-shift operation that would lead to a capacity of 550 to 650 order lines/ h."
   ]
  },
  {
   "cell_type": "markdown",
   "metadata": {},
   "source": [
    "#### 4. Creating the order line pool\n",
    "The goal is to have a pool of order lines. The number of appearances of SKUs in that pool must be in line their velocity (= \"Order Lines\"). For example, if a SKU was generated with 30 order lines it must appear 30 times in the pool. This is essential to maintain the pareto distribution. For every ordeline in the order list the algorithm will then chose randomly one sample from the pool.\n",
    "Let's generate this pool."
   ]
  },
  {
   "cell_type": "code",
   "execution_count": 41,
   "metadata": {},
   "outputs": [],
   "source": [
    "active_sku_pool = df_fashion_skus['SKU ID']"
   ]
  },
  {
   "cell_type": "code",
   "execution_count": 86,
   "metadata": {},
   "outputs": [
    {
     "data": {
      "text/plain": [
       "(10000,)"
      ]
     },
     "execution_count": 86,
     "metadata": {},
     "output_type": "execute_result"
    }
   ],
   "source": [
    "np.shape(active_sku_pool)"
   ]
  },
  {
   "cell_type": "code",
   "execution_count": 42,
   "metadata": {},
   "outputs": [
    {
     "data": {
      "text/plain": [
       "0       8ffa3749-3585-4ab0-a8dd-634f4659ea5b\n",
       "1       e32b66cd-b4de-48a0-8015-f90ff00520a8\n",
       "2       54ff93cb-308c-4d8f-beb4-0d0c02c183ac\n",
       "3       a05e4249-0c5f-49f0-bbfc-8f40d4dc31ce\n",
       "4       34d82aba-125a-434c-b7ee-3ccfb8ad9da8\n",
       "                        ...                 \n",
       "9995    500e85d2-521a-4b6c-a521-9d941c5b6f84\n",
       "9996    9581bfbf-8759-43ea-8082-81a1ab97ddbc\n",
       "9997    c43f890e-93ea-4b32-baf3-7fa4fd1e42fd\n",
       "9998    9f8783f2-bbfc-4595-bd8f-08d7639fd582\n",
       "9999    f24fb304-13fd-4443-9de7-93f35f82771e\n",
       "Name: SKU ID, Length: 10000, dtype: object"
      ]
     },
     "execution_count": 42,
     "metadata": {},
     "output_type": "execute_result"
    }
   ],
   "source": [
    "active_sku_pool"
   ]
  },
  {
   "cell_type": "markdown",
   "metadata": {},
   "source": [
    "#### 5. Putting all together\n",
    "| Date | Order ID | SKU ID | Quantity |\n",
    "| ---- | ---- | ---- | ---- |\n",
    "| numerical | categorical | categorical | numerical |"
   ]
  },
  {
   "cell_type": "code",
   "execution_count": 43,
   "metadata": {},
   "outputs": [
    {
     "data": {
      "text/plain": [
       "[datetime.date(2024, 1, 27),\n",
       " datetime.date(2024, 1, 28),\n",
       " datetime.date(2024, 1, 29),\n",
       " datetime.date(2024, 1, 30),\n",
       " datetime.date(2024, 1, 31),\n",
       " datetime.date(2024, 2, 1),\n",
       " datetime.date(2024, 2, 2),\n",
       " datetime.date(2024, 2, 3),\n",
       " datetime.date(2024, 2, 4),\n",
       " datetime.date(2024, 2, 5),\n",
       " datetime.date(2024, 2, 6),\n",
       " datetime.date(2024, 2, 7),\n",
       " datetime.date(2024, 2, 8),\n",
       " datetime.date(2024, 2, 9),\n",
       " datetime.date(2024, 2, 10),\n",
       " datetime.date(2024, 2, 11),\n",
       " datetime.date(2024, 2, 12),\n",
       " datetime.date(2024, 2, 13),\n",
       " datetime.date(2024, 2, 14),\n",
       " datetime.date(2024, 2, 15),\n",
       " datetime.date(2024, 2, 16),\n",
       " datetime.date(2024, 2, 17),\n",
       " datetime.date(2024, 2, 18),\n",
       " datetime.date(2024, 2, 19),\n",
       " datetime.date(2024, 2, 20),\n",
       " datetime.date(2024, 2, 21),\n",
       " datetime.date(2024, 2, 22),\n",
       " datetime.date(2024, 2, 23),\n",
       " datetime.date(2024, 2, 24),\n",
       " datetime.date(2024, 2, 25)]"
      ]
     },
     "execution_count": 43,
     "metadata": {},
     "output_type": "execute_result"
    }
   ],
   "source": [
    "# Empty dictionary to collect all order lines\n",
    "dict_dataset = {}\n",
    "index_num = 0\n",
    "\n",
    "# Order profile\n",
    "avg_qty = 10\n",
    "avg_orders_per_day = 500\n",
    "avg_lines_per_order = 10\n",
    "min_lines_per_order = 2\n",
    "\n",
    "# Generate days\n",
    "sample_days = 30\n",
    "sample_range = day_definer(sample_days)\n",
    "test_orders = order_generator(1000, 30, 10, 3)\n",
    "\n",
    "\n",
    "\n",
    "# df_fashion_skus['Lines'] = np.random.choice((pareto.pdf(x, b=1, loc=0, scale=1) * lines_range + min_lines).round(), df_fashion_skus.shape[0])\n",
    "\n",
    "# for day in sample_range:\n",
    "#     order_pool = order_generator(avg_orders_per_day, avg_lines_per_order, 5, min_lines_per_order)\n",
    "\n",
    "#     for order, lines in enumerate(order_pool):\n",
    "#         for line in range(int(lines)):\n",
    "            \n",
    "#             dict_dataset[index_num] = [day, 'Order_' + str(order), np.random.choice(active_sku_pool), abs(round(np.random.normal(avg_qty, 6, 1)[0],0))]\n",
    "#             index_num += 1\n",
    "\n",
    "# # Generate dataframe from dictionary\n",
    "# order_data_set = pd.DataFrame.from_dict(\n",
    "#     dict_dataset,\n",
    "#     orient='index',\n",
    "#     columns=['Date', 'Order ID', 'SKU ID', 'Quantity'])\n",
    "    "
   ]
  },
  {
   "cell_type": "code",
   "execution_count": 163,
   "metadata": {},
   "outputs": [
    {
     "data": {
      "text/html": [
       "<div>\n",
       "<style scoped>\n",
       "    .dataframe tbody tr th:only-of-type {\n",
       "        vertical-align: middle;\n",
       "    }\n",
       "\n",
       "    .dataframe tbody tr th {\n",
       "        vertical-align: top;\n",
       "    }\n",
       "\n",
       "    .dataframe thead th {\n",
       "        text-align: right;\n",
       "    }\n",
       "</style>\n",
       "<table border=\"1\" class=\"dataframe\">\n",
       "  <thead>\n",
       "    <tr style=\"text-align: right;\">\n",
       "      <th></th>\n",
       "      <th>Date</th>\n",
       "      <th>Order ID</th>\n",
       "      <th>SKU ID</th>\n",
       "      <th>Quantity</th>\n",
       "    </tr>\n",
       "  </thead>\n",
       "  <tbody>\n",
       "    <tr>\n",
       "      <th>0</th>\n",
       "      <td>2024-01-25</td>\n",
       "      <td>Order_0</td>\n",
       "      <td>SKU_132</td>\n",
       "      <td>2.0</td>\n",
       "    </tr>\n",
       "    <tr>\n",
       "      <th>1</th>\n",
       "      <td>2024-01-25</td>\n",
       "      <td>Order_0</td>\n",
       "      <td>SKU_166</td>\n",
       "      <td>7.0</td>\n",
       "    </tr>\n",
       "    <tr>\n",
       "      <th>2</th>\n",
       "      <td>2024-01-25</td>\n",
       "      <td>Order_0</td>\n",
       "      <td>SKU_951</td>\n",
       "      <td>6.0</td>\n",
       "    </tr>\n",
       "    <tr>\n",
       "      <th>3</th>\n",
       "      <td>2024-01-25</td>\n",
       "      <td>Order_0</td>\n",
       "      <td>SKU_18</td>\n",
       "      <td>6.0</td>\n",
       "    </tr>\n",
       "    <tr>\n",
       "      <th>4</th>\n",
       "      <td>2024-01-25</td>\n",
       "      <td>Order_0</td>\n",
       "      <td>SKU_268</td>\n",
       "      <td>12.0</td>\n",
       "    </tr>\n",
       "    <tr>\n",
       "      <th>...</th>\n",
       "      <td>...</td>\n",
       "      <td>...</td>\n",
       "      <td>...</td>\n",
       "      <td>...</td>\n",
       "    </tr>\n",
       "    <tr>\n",
       "      <th>180913</th>\n",
       "      <td>2024-02-23</td>\n",
       "      <td>Order_518</td>\n",
       "      <td>SKU_915</td>\n",
       "      <td>1.0</td>\n",
       "    </tr>\n",
       "    <tr>\n",
       "      <th>180914</th>\n",
       "      <td>2024-02-23</td>\n",
       "      <td>Order_518</td>\n",
       "      <td>SKU_953</td>\n",
       "      <td>0.0</td>\n",
       "    </tr>\n",
       "    <tr>\n",
       "      <th>180915</th>\n",
       "      <td>2024-02-23</td>\n",
       "      <td>Order_518</td>\n",
       "      <td>SKU_201</td>\n",
       "      <td>2.0</td>\n",
       "    </tr>\n",
       "    <tr>\n",
       "      <th>180916</th>\n",
       "      <td>2024-02-23</td>\n",
       "      <td>Order_518</td>\n",
       "      <td>SKU_473</td>\n",
       "      <td>7.0</td>\n",
       "    </tr>\n",
       "    <tr>\n",
       "      <th>180917</th>\n",
       "      <td>2024-02-23</td>\n",
       "      <td>Order_518</td>\n",
       "      <td>SKU_714</td>\n",
       "      <td>12.0</td>\n",
       "    </tr>\n",
       "  </tbody>\n",
       "</table>\n",
       "<p>180918 rows × 4 columns</p>\n",
       "</div>"
      ],
      "text/plain": [
       "              Date   Order ID   SKU ID  Quantity\n",
       "0       2024-01-25    Order_0  SKU_132       2.0\n",
       "1       2024-01-25    Order_0  SKU_166       7.0\n",
       "2       2024-01-25    Order_0  SKU_951       6.0\n",
       "3       2024-01-25    Order_0   SKU_18       6.0\n",
       "4       2024-01-25    Order_0  SKU_268      12.0\n",
       "...            ...        ...      ...       ...\n",
       "180913  2024-02-23  Order_518  SKU_915       1.0\n",
       "180914  2024-02-23  Order_518  SKU_953       0.0\n",
       "180915  2024-02-23  Order_518  SKU_201       2.0\n",
       "180916  2024-02-23  Order_518  SKU_473       7.0\n",
       "180917  2024-02-23  Order_518  SKU_714      12.0\n",
       "\n",
       "[180918 rows x 4 columns]"
      ]
     },
     "execution_count": 163,
     "metadata": {},
     "output_type": "execute_result"
    }
   ],
   "source": [
    "data_set"
   ]
  },
  {
   "cell_type": "markdown",
   "metadata": {},
   "source": [
    "A few items to optimize:\n",
    "- Order ID must be made unique\n",
    "- The code is slow by working with multiple loops. There must be a more efficient way with apply or mapping."
   ]
  },
  {
   "cell_type": "markdown",
   "metadata": {},
   "source": []
  }
 ],
 "metadata": {
  "interpreter": {
   "hash": "dcacb0086e9a4f4eabd41c33bf4faac5ea0a3337ed3f5eff0680afa930572c04"
  },
  "kernelspec": {
   "display_name": "Python 3.9.4 64-bit",
   "language": "python",
   "name": "python3"
  },
  "language_info": {
   "codemirror_mode": {
    "name": "ipython",
    "version": 3
   },
   "file_extension": ".py",
   "mimetype": "text/x-python",
   "name": "python",
   "nbconvert_exporter": "python",
   "pygments_lexer": "ipython3",
   "version": "3.12.1"
  },
  "orig_nbformat": 4
 },
 "nbformat": 4,
 "nbformat_minor": 2
}
