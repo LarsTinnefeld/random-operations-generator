{
 "cells": [
  {
   "cell_type": "markdown",
   "metadata": {},
   "source": [
    "# Random Order- and SKU generators"
   ]
  },
  {
   "cell_type": "markdown",
   "metadata": {},
   "source": [
    "## Importing libraries"
   ]
  },
  {
   "cell_type": "code",
   "execution_count": 2,
   "metadata": {},
   "outputs": [],
   "source": [
    "import pandas as pd\n",
    "import numpy as np\n",
    "import matplotlib.pyplot as plt\n",
    "import seaborn as sns\n",
    "from scipy.stats import skewnorm\n",
    "from datetime import datetime\n",
    "from scipy.stats import pareto\n",
    "\n",
    "%matplotlib inline"
   ]
  },
  {
   "cell_type": "markdown",
   "metadata": {},
   "source": [
    "---"
   ]
  },
  {
   "cell_type": "markdown",
   "metadata": {},
   "source": [
    "## Random SKU table generation\n",
    "\n",
    "### Objectives\n",
    "Generate a table with unique SKUs that have randomly generated values. The number of records can be chosen by the user.\n",
    "\n",
    "The initial table must contain at minimum the following columns:\n",
    "\n",
    "| SKU ID | Category | Length | Width | Height | Weight |\n",
    "| ---- | ---- | ---- | ---- | ---- | ---- |\n",
    "| categorical | categorical | numerical | numerical | numerical | numerical |\n",
    "\n",
    "Goals in detail:\n",
    "- Develop basic method to generate a table of randomly created SKUs with the above features"
   ]
  },
  {
   "cell_type": "markdown",
   "metadata": {},
   "source": []
  },
  {
   "cell_type": "code",
   "execution_count": 3,
   "metadata": {},
   "outputs": [
    {
     "data": {
      "text/html": [
       "<div>\n",
       "<style scoped>\n",
       "    .dataframe tbody tr th:only-of-type {\n",
       "        vertical-align: middle;\n",
       "    }\n",
       "\n",
       "    .dataframe tbody tr th {\n",
       "        vertical-align: top;\n",
       "    }\n",
       "\n",
       "    .dataframe thead th {\n",
       "        text-align: right;\n",
       "    }\n",
       "</style>\n",
       "<table border=\"1\" class=\"dataframe\">\n",
       "  <thead>\n",
       "    <tr style=\"text-align: right;\">\n",
       "      <th></th>\n",
       "      <th>Category</th>\n",
       "      <th>Length_S</th>\n",
       "      <th>Length_M</th>\n",
       "      <th>Length_L</th>\n",
       "      <th>Width_S</th>\n",
       "      <th>Width_M</th>\n",
       "      <th>Width_L</th>\n",
       "      <th>Height_S</th>\n",
       "      <th>Height_M</th>\n",
       "      <th>Height_L</th>\n",
       "    </tr>\n",
       "  </thead>\n",
       "  <tbody>\n",
       "    <tr>\n",
       "      <th>0</th>\n",
       "      <td>Shirt</td>\n",
       "      <td>350</td>\n",
       "      <td>375</td>\n",
       "      <td>400</td>\n",
       "      <td>200</td>\n",
       "      <td>220</td>\n",
       "      <td>250</td>\n",
       "      <td>10</td>\n",
       "      <td>12</td>\n",
       "      <td>15</td>\n",
       "    </tr>\n",
       "    <tr>\n",
       "      <th>1</th>\n",
       "      <td>Pants</td>\n",
       "      <td>400</td>\n",
       "      <td>450</td>\n",
       "      <td>500</td>\n",
       "      <td>250</td>\n",
       "      <td>275</td>\n",
       "      <td>300</td>\n",
       "      <td>15</td>\n",
       "      <td>18</td>\n",
       "      <td>21</td>\n",
       "    </tr>\n",
       "    <tr>\n",
       "      <th>2</th>\n",
       "      <td>Socks</td>\n",
       "      <td>100</td>\n",
       "      <td>110</td>\n",
       "      <td>120</td>\n",
       "      <td>75</td>\n",
       "      <td>77</td>\n",
       "      <td>80</td>\n",
       "      <td>5</td>\n",
       "      <td>5</td>\n",
       "      <td>5</td>\n",
       "    </tr>\n",
       "    <tr>\n",
       "      <th>3</th>\n",
       "      <td>Box of cereals</td>\n",
       "      <td>250</td>\n",
       "      <td>250</td>\n",
       "      <td>250</td>\n",
       "      <td>150</td>\n",
       "      <td>150</td>\n",
       "      <td>150</td>\n",
       "      <td>10</td>\n",
       "      <td>10</td>\n",
       "      <td>10</td>\n",
       "    </tr>\n",
       "    <tr>\n",
       "      <th>4</th>\n",
       "      <td>Can of tuna</td>\n",
       "      <td>110</td>\n",
       "      <td>110</td>\n",
       "      <td>110</td>\n",
       "      <td>110</td>\n",
       "      <td>110</td>\n",
       "      <td>110</td>\n",
       "      <td>7</td>\n",
       "      <td>7</td>\n",
       "      <td>7</td>\n",
       "    </tr>\n",
       "    <tr>\n",
       "      <th>5</th>\n",
       "      <td>Bag of rice</td>\n",
       "      <td>540</td>\n",
       "      <td>540</td>\n",
       "      <td>540</td>\n",
       "      <td>350</td>\n",
       "      <td>350</td>\n",
       "      <td>350</td>\n",
       "      <td>250</td>\n",
       "      <td>250</td>\n",
       "      <td>250</td>\n",
       "    </tr>\n",
       "    <tr>\n",
       "      <th>6</th>\n",
       "      <td>Toolbox</td>\n",
       "      <td>600</td>\n",
       "      <td>600</td>\n",
       "      <td>600</td>\n",
       "      <td>380</td>\n",
       "      <td>380</td>\n",
       "      <td>380</td>\n",
       "      <td>350</td>\n",
       "      <td>350</td>\n",
       "      <td>350</td>\n",
       "    </tr>\n",
       "    <tr>\n",
       "      <th>7</th>\n",
       "      <td>Box of nails</td>\n",
       "      <td>150</td>\n",
       "      <td>150</td>\n",
       "      <td>150</td>\n",
       "      <td>120</td>\n",
       "      <td>120</td>\n",
       "      <td>120</td>\n",
       "      <td>80</td>\n",
       "      <td>80</td>\n",
       "      <td>80</td>\n",
       "    </tr>\n",
       "    <tr>\n",
       "      <th>8</th>\n",
       "      <td>Glue gun</td>\n",
       "      <td>380</td>\n",
       "      <td>380</td>\n",
       "      <td>380</td>\n",
       "      <td>80</td>\n",
       "      <td>80</td>\n",
       "      <td>80</td>\n",
       "      <td>80</td>\n",
       "      <td>80</td>\n",
       "      <td>80</td>\n",
       "    </tr>\n",
       "  </tbody>\n",
       "</table>\n",
       "</div>"
      ],
      "text/plain": [
       "         Category  Length_S  Length_M  Length_L  Width_S  Width_M  Width_L  \\\n",
       "0           Shirt       350       375       400      200      220      250   \n",
       "1           Pants       400       450       500      250      275      300   \n",
       "2           Socks       100       110       120       75       77       80   \n",
       "3  Box of cereals       250       250       250      150      150      150   \n",
       "4     Can of tuna       110       110       110      110      110      110   \n",
       "5     Bag of rice       540       540       540      350      350      350   \n",
       "6         Toolbox       600       600       600      380      380      380   \n",
       "7    Box of nails       150       150       150      120      120      120   \n",
       "8        Glue gun       380       380       380       80       80       80   \n",
       "\n",
       "   Height_S  Height_M  Height_L  \n",
       "0        10        12        15  \n",
       "1        15        18        21  \n",
       "2         5         5         5  \n",
       "3        10        10        10  \n",
       "4         7         7         7  \n",
       "5       250       250       250  \n",
       "6       350       350       350  \n",
       "7        80        80        80  \n",
       "8        80        80        80  "
      ]
     },
     "execution_count": 3,
     "metadata": {},
     "output_type": "execute_result"
    }
   ],
   "source": [
    "df_products = pd.read_excel('Product_list.xls')\n",
    "df_products"
   ]
  },
  {
   "cell_type": "code",
   "execution_count": 4,
   "metadata": {},
   "outputs": [
    {
     "data": {
      "text/html": [
       "<div>\n",
       "<style scoped>\n",
       "    .dataframe tbody tr th:only-of-type {\n",
       "        vertical-align: middle;\n",
       "    }\n",
       "\n",
       "    .dataframe tbody tr th {\n",
       "        vertical-align: top;\n",
       "    }\n",
       "\n",
       "    .dataframe thead th {\n",
       "        text-align: right;\n",
       "    }\n",
       "</style>\n",
       "<table border=\"1\" class=\"dataframe\">\n",
       "  <thead>\n",
       "    <tr style=\"text-align: right;\">\n",
       "      <th></th>\n",
       "      <th>Length_S</th>\n",
       "      <th>Length_M</th>\n",
       "      <th>Length_L</th>\n",
       "      <th>Width_S</th>\n",
       "      <th>Width_M</th>\n",
       "      <th>Width_L</th>\n",
       "      <th>Height_S</th>\n",
       "      <th>Height_M</th>\n",
       "      <th>Height_L</th>\n",
       "    </tr>\n",
       "    <tr>\n",
       "      <th>Category</th>\n",
       "      <th></th>\n",
       "      <th></th>\n",
       "      <th></th>\n",
       "      <th></th>\n",
       "      <th></th>\n",
       "      <th></th>\n",
       "      <th></th>\n",
       "      <th></th>\n",
       "      <th></th>\n",
       "    </tr>\n",
       "  </thead>\n",
       "  <tbody>\n",
       "    <tr>\n",
       "      <th>Shirt</th>\n",
       "      <td>350</td>\n",
       "      <td>375</td>\n",
       "      <td>400</td>\n",
       "      <td>200</td>\n",
       "      <td>220</td>\n",
       "      <td>250</td>\n",
       "      <td>10</td>\n",
       "      <td>12</td>\n",
       "      <td>15</td>\n",
       "    </tr>\n",
       "    <tr>\n",
       "      <th>Pants</th>\n",
       "      <td>400</td>\n",
       "      <td>450</td>\n",
       "      <td>500</td>\n",
       "      <td>250</td>\n",
       "      <td>275</td>\n",
       "      <td>300</td>\n",
       "      <td>15</td>\n",
       "      <td>18</td>\n",
       "      <td>21</td>\n",
       "    </tr>\n",
       "    <tr>\n",
       "      <th>Socks</th>\n",
       "      <td>100</td>\n",
       "      <td>110</td>\n",
       "      <td>120</td>\n",
       "      <td>75</td>\n",
       "      <td>77</td>\n",
       "      <td>80</td>\n",
       "      <td>5</td>\n",
       "      <td>5</td>\n",
       "      <td>5</td>\n",
       "    </tr>\n",
       "    <tr>\n",
       "      <th>Box of cereals</th>\n",
       "      <td>250</td>\n",
       "      <td>250</td>\n",
       "      <td>250</td>\n",
       "      <td>150</td>\n",
       "      <td>150</td>\n",
       "      <td>150</td>\n",
       "      <td>10</td>\n",
       "      <td>10</td>\n",
       "      <td>10</td>\n",
       "    </tr>\n",
       "    <tr>\n",
       "      <th>Can of tuna</th>\n",
       "      <td>110</td>\n",
       "      <td>110</td>\n",
       "      <td>110</td>\n",
       "      <td>110</td>\n",
       "      <td>110</td>\n",
       "      <td>110</td>\n",
       "      <td>7</td>\n",
       "      <td>7</td>\n",
       "      <td>7</td>\n",
       "    </tr>\n",
       "    <tr>\n",
       "      <th>Bag of rice</th>\n",
       "      <td>540</td>\n",
       "      <td>540</td>\n",
       "      <td>540</td>\n",
       "      <td>350</td>\n",
       "      <td>350</td>\n",
       "      <td>350</td>\n",
       "      <td>250</td>\n",
       "      <td>250</td>\n",
       "      <td>250</td>\n",
       "    </tr>\n",
       "    <tr>\n",
       "      <th>Toolbox</th>\n",
       "      <td>600</td>\n",
       "      <td>600</td>\n",
       "      <td>600</td>\n",
       "      <td>380</td>\n",
       "      <td>380</td>\n",
       "      <td>380</td>\n",
       "      <td>350</td>\n",
       "      <td>350</td>\n",
       "      <td>350</td>\n",
       "    </tr>\n",
       "    <tr>\n",
       "      <th>Box of nails</th>\n",
       "      <td>150</td>\n",
       "      <td>150</td>\n",
       "      <td>150</td>\n",
       "      <td>120</td>\n",
       "      <td>120</td>\n",
       "      <td>120</td>\n",
       "      <td>80</td>\n",
       "      <td>80</td>\n",
       "      <td>80</td>\n",
       "    </tr>\n",
       "    <tr>\n",
       "      <th>Glue gun</th>\n",
       "      <td>380</td>\n",
       "      <td>380</td>\n",
       "      <td>380</td>\n",
       "      <td>80</td>\n",
       "      <td>80</td>\n",
       "      <td>80</td>\n",
       "      <td>80</td>\n",
       "      <td>80</td>\n",
       "      <td>80</td>\n",
       "    </tr>\n",
       "  </tbody>\n",
       "</table>\n",
       "</div>"
      ],
      "text/plain": [
       "                Length_S  Length_M  Length_L  Width_S  Width_M  Width_L  \\\n",
       "Category                                                                  \n",
       "Shirt                350       375       400      200      220      250   \n",
       "Pants                400       450       500      250      275      300   \n",
       "Socks                100       110       120       75       77       80   \n",
       "Box of cereals       250       250       250      150      150      150   \n",
       "Can of tuna          110       110       110      110      110      110   \n",
       "Bag of rice          540       540       540      350      350      350   \n",
       "Toolbox              600       600       600      380      380      380   \n",
       "Box of nails         150       150       150      120      120      120   \n",
       "Glue gun             380       380       380       80       80       80   \n",
       "\n",
       "                Height_S  Height_M  Height_L  \n",
       "Category                                      \n",
       "Shirt                 10        12        15  \n",
       "Pants                 15        18        21  \n",
       "Socks                  5         5         5  \n",
       "Box of cereals        10        10        10  \n",
       "Can of tuna            7         7         7  \n",
       "Bag of rice          250       250       250  \n",
       "Toolbox              350       350       350  \n",
       "Box of nails          80        80        80  \n",
       "Glue gun              80        80        80  "
      ]
     },
     "execution_count": 4,
     "metadata": {},
     "output_type": "execute_result"
    }
   ],
   "source": [
    "df_products.set_index('Category', inplace=True)\n",
    "df_products"
   ]
  },
  {
   "cell_type": "code",
   "execution_count": 5,
   "metadata": {},
   "outputs": [
    {
     "data": {
      "text/plain": [
       "110"
      ]
     },
     "execution_count": 5,
     "metadata": {},
     "output_type": "execute_result"
    }
   ],
   "source": [
    "df_products.loc['Can of tuna']['Length_S']"
   ]
  },
  {
   "cell_type": "code",
   "execution_count": 6,
   "metadata": {},
   "outputs": [],
   "source": [
    "def random_skus(articles, vertical):\n",
    "    '''Function to generate a SKU table\n",
    "    Inputs:\n",
    "    - Number of desired SKUs\n",
    "    - Market sector (vertical)\n",
    "    Outputs:\n",
    "    - SKU table'''\n",
    "    \n",
    "    random_dict = {}\n",
    "    for i in range(1, articles + 1, 1):\n",
    "        if vertical == 'Fashion':\n",
    "            category = np.random.choice(['Shirt', 'Pants', 'Socks'])\n",
    "            size = np.random.choice(['S', 'M', 'L'])\n",
    "            length = abs(round(np.random.normal(df_products.loc[category]['Length_' + size], 10, 1)[0],0))\n",
    "            width = abs(round(np.random.normal(df_products.loc[category]['Width_' + size], 7, 1)[0],0))\n",
    "            height = abs(round(np.random.normal(df_products.loc[category]['Height_' + size], 5, 1)[0],0))\n",
    "        elif vertical == 'Food':\n",
    "            category = np.random.choice(['Box of cereals', 'Can of tuna', 'Bag of rice'])\n",
    "            length = df_products.loc[category]['Length_S']\n",
    "            width = df_products.loc[category]['Width_S']\n",
    "            height = df_products.loc[category]['Height_S']\n",
    "        else:\n",
    "            category = np.random.choice(['Toolbox', 'Box of nails', 'Glue gun'])\n",
    "            length = df_products.loc[category]['Length_S']\n",
    "            width = df_products.loc[category]['Width_S']\n",
    "            height = df_products.loc[category]['Height_S']\n",
    "\n",
    "        size = np.random.choice(['S', 'M', 'L'])\n",
    "        random_dict[i] = ['SKU_'+str(i), category, size, length, width, height]\n",
    "\n",
    "    random_list = pd.DataFrame.from_dict(\n",
    "        random_dict,\n",
    "        orient='index',\n",
    "        columns=['SKU', 'Category', 'Size', 'Length', 'Width', 'Height'])\n",
    "\n",
    "    return random_list"
   ]
  },
  {
   "cell_type": "code",
   "execution_count": 7,
   "metadata": {},
   "outputs": [],
   "source": [
    "df_skus_fashion = random_skus(1000, 'Fashion')"
   ]
  },
  {
   "cell_type": "code",
   "execution_count": 8,
   "metadata": {},
   "outputs": [
    {
     "data": {
      "text/html": [
       "<div>\n",
       "<style scoped>\n",
       "    .dataframe tbody tr th:only-of-type {\n",
       "        vertical-align: middle;\n",
       "    }\n",
       "\n",
       "    .dataframe tbody tr th {\n",
       "        vertical-align: top;\n",
       "    }\n",
       "\n",
       "    .dataframe thead th {\n",
       "        text-align: right;\n",
       "    }\n",
       "</style>\n",
       "<table border=\"1\" class=\"dataframe\">\n",
       "  <thead>\n",
       "    <tr style=\"text-align: right;\">\n",
       "      <th></th>\n",
       "      <th>SKU</th>\n",
       "      <th>Category</th>\n",
       "      <th>Size</th>\n",
       "      <th>Length</th>\n",
       "      <th>Width</th>\n",
       "      <th>Height</th>\n",
       "    </tr>\n",
       "  </thead>\n",
       "  <tbody>\n",
       "    <tr>\n",
       "      <th>1</th>\n",
       "      <td>SKU_1</td>\n",
       "      <td>Shirt</td>\n",
       "      <td>L</td>\n",
       "      <td>356.0</td>\n",
       "      <td>202.0</td>\n",
       "      <td>14.0</td>\n",
       "    </tr>\n",
       "    <tr>\n",
       "      <th>2</th>\n",
       "      <td>SKU_2</td>\n",
       "      <td>Socks</td>\n",
       "      <td>M</td>\n",
       "      <td>119.0</td>\n",
       "      <td>83.0</td>\n",
       "      <td>3.0</td>\n",
       "    </tr>\n",
       "    <tr>\n",
       "      <th>3</th>\n",
       "      <td>SKU_3</td>\n",
       "      <td>Pants</td>\n",
       "      <td>S</td>\n",
       "      <td>517.0</td>\n",
       "      <td>301.0</td>\n",
       "      <td>29.0</td>\n",
       "    </tr>\n",
       "    <tr>\n",
       "      <th>4</th>\n",
       "      <td>SKU_4</td>\n",
       "      <td>Shirt</td>\n",
       "      <td>M</td>\n",
       "      <td>375.0</td>\n",
       "      <td>207.0</td>\n",
       "      <td>16.0</td>\n",
       "    </tr>\n",
       "    <tr>\n",
       "      <th>5</th>\n",
       "      <td>SKU_5</td>\n",
       "      <td>Socks</td>\n",
       "      <td>L</td>\n",
       "      <td>118.0</td>\n",
       "      <td>79.0</td>\n",
       "      <td>11.0</td>\n",
       "    </tr>\n",
       "    <tr>\n",
       "      <th>...</th>\n",
       "      <td>...</td>\n",
       "      <td>...</td>\n",
       "      <td>...</td>\n",
       "      <td>...</td>\n",
       "      <td>...</td>\n",
       "      <td>...</td>\n",
       "    </tr>\n",
       "    <tr>\n",
       "      <th>996</th>\n",
       "      <td>SKU_996</td>\n",
       "      <td>Socks</td>\n",
       "      <td>S</td>\n",
       "      <td>122.0</td>\n",
       "      <td>79.0</td>\n",
       "      <td>8.0</td>\n",
       "    </tr>\n",
       "    <tr>\n",
       "      <th>997</th>\n",
       "      <td>SKU_997</td>\n",
       "      <td>Shirt</td>\n",
       "      <td>M</td>\n",
       "      <td>381.0</td>\n",
       "      <td>219.0</td>\n",
       "      <td>19.0</td>\n",
       "    </tr>\n",
       "    <tr>\n",
       "      <th>998</th>\n",
       "      <td>SKU_998</td>\n",
       "      <td>Pants</td>\n",
       "      <td>S</td>\n",
       "      <td>447.0</td>\n",
       "      <td>275.0</td>\n",
       "      <td>19.0</td>\n",
       "    </tr>\n",
       "    <tr>\n",
       "      <th>999</th>\n",
       "      <td>SKU_999</td>\n",
       "      <td>Socks</td>\n",
       "      <td>M</td>\n",
       "      <td>104.0</td>\n",
       "      <td>84.0</td>\n",
       "      <td>1.0</td>\n",
       "    </tr>\n",
       "    <tr>\n",
       "      <th>1000</th>\n",
       "      <td>SKU_1000</td>\n",
       "      <td>Shirt</td>\n",
       "      <td>S</td>\n",
       "      <td>385.0</td>\n",
       "      <td>212.0</td>\n",
       "      <td>13.0</td>\n",
       "    </tr>\n",
       "  </tbody>\n",
       "</table>\n",
       "<p>1000 rows × 6 columns</p>\n",
       "</div>"
      ],
      "text/plain": [
       "           SKU Category Size  Length  Width  Height\n",
       "1        SKU_1    Shirt    L   356.0  202.0    14.0\n",
       "2        SKU_2    Socks    M   119.0   83.0     3.0\n",
       "3        SKU_3    Pants    S   517.0  301.0    29.0\n",
       "4        SKU_4    Shirt    M   375.0  207.0    16.0\n",
       "5        SKU_5    Socks    L   118.0   79.0    11.0\n",
       "...        ...      ...  ...     ...    ...     ...\n",
       "996    SKU_996    Socks    S   122.0   79.0     8.0\n",
       "997    SKU_997    Shirt    M   381.0  219.0    19.0\n",
       "998    SKU_998    Pants    S   447.0  275.0    19.0\n",
       "999    SKU_999    Socks    M   104.0   84.0     1.0\n",
       "1000  SKU_1000    Shirt    S   385.0  212.0    13.0\n",
       "\n",
       "[1000 rows x 6 columns]"
      ]
     },
     "execution_count": 8,
     "metadata": {},
     "output_type": "execute_result"
    }
   ],
   "source": [
    "df_skus_fashion"
   ]
  },
  {
   "cell_type": "code",
   "execution_count": 9,
   "metadata": {},
   "outputs": [
    {
     "data": {
      "image/png": "[encoded data removed]",
      "text/plain": [
       "<Figure size 1440x360 with 1 Axes>"
      ]
     },
     "metadata": {
      "needs_background": "light"
     },
     "output_type": "display_data"
    }
   ],
   "source": [
    "plt.figure(figsize=(20, 5))\n",
    "sns.histplot(df_skus_fashion[['Length', 'Width', 'Height']], bins=100);"
   ]
  },
  {
   "cell_type": "code",
   "execution_count": 10,
   "metadata": {},
   "outputs": [
    {
     "data": {
      "image/png": "[encoded data removed]",
      "text/plain": [
       "<Figure size 432x288 with 1 Axes>"
      ]
     },
     "metadata": {
      "needs_background": "light"
     },
     "output_type": "display_data"
    }
   ],
   "source": [
    "# Visual check if distribution appears uniform random\n",
    "sns.countplot(x=df_skus_fashion['Category']);"
   ]
  },
  {
   "cell_type": "code",
   "execution_count": 11,
   "metadata": {},
   "outputs": [
    {
     "name": "stdout",
     "output_type": "stream",
     "text": [
      "<class 'pandas.core.frame.DataFrame'>\n",
      "Int64Index: 1000 entries, 1 to 1000\n",
      "Data columns (total 6 columns):\n",
      " #   Column    Non-Null Count  Dtype  \n",
      "---  ------    --------------  -----  \n",
      " 0   SKU       1000 non-null   object \n",
      " 1   Category  1000 non-null   object \n",
      " 2   Size      1000 non-null   object \n",
      " 3   Length    1000 non-null   float64\n",
      " 4   Width     1000 non-null   float64\n",
      " 5   Height    1000 non-null   float64\n",
      "dtypes: float64(3), object(3)\n",
      "memory usage: 87.0+ KB\n"
     ]
    }
   ],
   "source": [
    "df_skus_fashion.info()"
   ]
  },
  {
   "cell_type": "code",
   "execution_count": 12,
   "metadata": {},
   "outputs": [
    {
     "data": {
      "text/html": [
       "<div>\n",
       "<style scoped>\n",
       "    .dataframe tbody tr th:only-of-type {\n",
       "        vertical-align: middle;\n",
       "    }\n",
       "\n",
       "    .dataframe tbody tr th {\n",
       "        vertical-align: top;\n",
       "    }\n",
       "\n",
       "    .dataframe thead th {\n",
       "        text-align: right;\n",
       "    }\n",
       "</style>\n",
       "<table border=\"1\" class=\"dataframe\">\n",
       "  <thead>\n",
       "    <tr style=\"text-align: right;\">\n",
       "      <th></th>\n",
       "      <th>Length</th>\n",
       "      <th>Width</th>\n",
       "      <th>Height</th>\n",
       "    </tr>\n",
       "  </thead>\n",
       "  <tbody>\n",
       "    <tr>\n",
       "      <th>count</th>\n",
       "      <td>1000.000000</td>\n",
       "      <td>1000.000000</td>\n",
       "      <td>1000.000000</td>\n",
       "    </tr>\n",
       "    <tr>\n",
       "      <th>mean</th>\n",
       "      <td>315.512000</td>\n",
       "      <td>193.767000</td>\n",
       "      <td>12.039000</td>\n",
       "    </tr>\n",
       "    <tr>\n",
       "      <th>std</th>\n",
       "      <td>145.906369</td>\n",
       "      <td>84.565632</td>\n",
       "      <td>7.021879</td>\n",
       "    </tr>\n",
       "    <tr>\n",
       "      <th>min</th>\n",
       "      <td>74.000000</td>\n",
       "      <td>59.000000</td>\n",
       "      <td>0.000000</td>\n",
       "    </tr>\n",
       "    <tr>\n",
       "      <th>25%</th>\n",
       "      <td>120.000000</td>\n",
       "      <td>82.000000</td>\n",
       "      <td>7.000000</td>\n",
       "    </tr>\n",
       "    <tr>\n",
       "      <th>50%</th>\n",
       "      <td>376.000000</td>\n",
       "      <td>220.000000</td>\n",
       "      <td>12.000000</td>\n",
       "    </tr>\n",
       "    <tr>\n",
       "      <th>75%</th>\n",
       "      <td>410.250000</td>\n",
       "      <td>258.250000</td>\n",
       "      <td>17.000000</td>\n",
       "    </tr>\n",
       "    <tr>\n",
       "      <th>max</th>\n",
       "      <td>518.000000</td>\n",
       "      <td>317.000000</td>\n",
       "      <td>36.000000</td>\n",
       "    </tr>\n",
       "  </tbody>\n",
       "</table>\n",
       "</div>"
      ],
      "text/plain": [
       "            Length        Width       Height\n",
       "count  1000.000000  1000.000000  1000.000000\n",
       "mean    315.512000   193.767000    12.039000\n",
       "std     145.906369    84.565632     7.021879\n",
       "min      74.000000    59.000000     0.000000\n",
       "25%     120.000000    82.000000     7.000000\n",
       "50%     376.000000   220.000000    12.000000\n",
       "75%     410.250000   258.250000    17.000000\n",
       "max     518.000000   317.000000    36.000000"
      ]
     },
     "execution_count": 12,
     "metadata": {},
     "output_type": "execute_result"
    }
   ],
   "source": [
    "df_skus_fashion.describe()"
   ]
  },
  {
   "cell_type": "code",
   "execution_count": 13,
   "metadata": {},
   "outputs": [
    {
     "data": {
      "text/html": [
       "<div>\n",
       "<style scoped>\n",
       "    .dataframe tbody tr th:only-of-type {\n",
       "        vertical-align: middle;\n",
       "    }\n",
       "\n",
       "    .dataframe tbody tr th {\n",
       "        vertical-align: top;\n",
       "    }\n",
       "\n",
       "    .dataframe thead th {\n",
       "        text-align: right;\n",
       "    }\n",
       "</style>\n",
       "<table border=\"1\" class=\"dataframe\">\n",
       "  <thead>\n",
       "    <tr style=\"text-align: right;\">\n",
       "      <th></th>\n",
       "      <th>SKU</th>\n",
       "      <th>Category</th>\n",
       "      <th>Size</th>\n",
       "      <th>Length</th>\n",
       "      <th>Width</th>\n",
       "      <th>Height</th>\n",
       "    </tr>\n",
       "  </thead>\n",
       "  <tbody>\n",
       "    <tr>\n",
       "      <th>1</th>\n",
       "      <td>SKU_1</td>\n",
       "      <td>Box of cereals</td>\n",
       "      <td>L</td>\n",
       "      <td>250</td>\n",
       "      <td>150</td>\n",
       "      <td>10</td>\n",
       "    </tr>\n",
       "    <tr>\n",
       "      <th>2</th>\n",
       "      <td>SKU_2</td>\n",
       "      <td>Box of cereals</td>\n",
       "      <td>L</td>\n",
       "      <td>250</td>\n",
       "      <td>150</td>\n",
       "      <td>10</td>\n",
       "    </tr>\n",
       "    <tr>\n",
       "      <th>3</th>\n",
       "      <td>SKU_3</td>\n",
       "      <td>Bag of rice</td>\n",
       "      <td>S</td>\n",
       "      <td>540</td>\n",
       "      <td>350</td>\n",
       "      <td>250</td>\n",
       "    </tr>\n",
       "    <tr>\n",
       "      <th>4</th>\n",
       "      <td>SKU_4</td>\n",
       "      <td>Bag of rice</td>\n",
       "      <td>M</td>\n",
       "      <td>540</td>\n",
       "      <td>350</td>\n",
       "      <td>250</td>\n",
       "    </tr>\n",
       "    <tr>\n",
       "      <th>5</th>\n",
       "      <td>SKU_5</td>\n",
       "      <td>Can of tuna</td>\n",
       "      <td>S</td>\n",
       "      <td>110</td>\n",
       "      <td>110</td>\n",
       "      <td>7</td>\n",
       "    </tr>\n",
       "    <tr>\n",
       "      <th>...</th>\n",
       "      <td>...</td>\n",
       "      <td>...</td>\n",
       "      <td>...</td>\n",
       "      <td>...</td>\n",
       "      <td>...</td>\n",
       "      <td>...</td>\n",
       "    </tr>\n",
       "    <tr>\n",
       "      <th>996</th>\n",
       "      <td>SKU_996</td>\n",
       "      <td>Box of cereals</td>\n",
       "      <td>M</td>\n",
       "      <td>250</td>\n",
       "      <td>150</td>\n",
       "      <td>10</td>\n",
       "    </tr>\n",
       "    <tr>\n",
       "      <th>997</th>\n",
       "      <td>SKU_997</td>\n",
       "      <td>Can of tuna</td>\n",
       "      <td>M</td>\n",
       "      <td>110</td>\n",
       "      <td>110</td>\n",
       "      <td>7</td>\n",
       "    </tr>\n",
       "    <tr>\n",
       "      <th>998</th>\n",
       "      <td>SKU_998</td>\n",
       "      <td>Box of cereals</td>\n",
       "      <td>M</td>\n",
       "      <td>250</td>\n",
       "      <td>150</td>\n",
       "      <td>10</td>\n",
       "    </tr>\n",
       "    <tr>\n",
       "      <th>999</th>\n",
       "      <td>SKU_999</td>\n",
       "      <td>Bag of rice</td>\n",
       "      <td>S</td>\n",
       "      <td>540</td>\n",
       "      <td>350</td>\n",
       "      <td>250</td>\n",
       "    </tr>\n",
       "    <tr>\n",
       "      <th>1000</th>\n",
       "      <td>SKU_1000</td>\n",
       "      <td>Box of cereals</td>\n",
       "      <td>L</td>\n",
       "      <td>250</td>\n",
       "      <td>150</td>\n",
       "      <td>10</td>\n",
       "    </tr>\n",
       "  </tbody>\n",
       "</table>\n",
       "<p>1000 rows × 6 columns</p>\n",
       "</div>"
      ],
      "text/plain": [
       "           SKU        Category Size  Length  Width  Height\n",
       "1        SKU_1  Box of cereals    L     250    150      10\n",
       "2        SKU_2  Box of cereals    L     250    150      10\n",
       "3        SKU_3     Bag of rice    S     540    350     250\n",
       "4        SKU_4     Bag of rice    M     540    350     250\n",
       "5        SKU_5     Can of tuna    S     110    110       7\n",
       "...        ...             ...  ...     ...    ...     ...\n",
       "996    SKU_996  Box of cereals    M     250    150      10\n",
       "997    SKU_997     Can of tuna    M     110    110       7\n",
       "998    SKU_998  Box of cereals    M     250    150      10\n",
       "999    SKU_999     Bag of rice    S     540    350     250\n",
       "1000  SKU_1000  Box of cereals    L     250    150      10\n",
       "\n",
       "[1000 rows x 6 columns]"
      ]
     },
     "execution_count": 13,
     "metadata": {},
     "output_type": "execute_result"
    }
   ],
   "source": [
    "df_skus_food = random_skus(1000, 'Food')\n",
    "df_skus_food"
   ]
  },
  {
   "cell_type": "code",
   "execution_count": 14,
   "metadata": {},
   "outputs": [
    {
     "data": {
      "image/png": "[encoded data removed]",
      "text/plain": [
       "<Figure size 1440x360 with 1 Axes>"
      ]
     },
     "metadata": {
      "needs_background": "light"
     },
     "output_type": "display_data"
    }
   ],
   "source": [
    "plt.figure(figsize=(20, 5))\n",
    "sns.histplot(df_skus_food[['Length', 'Width', 'Height']], bins=100);"
   ]
  },
  {
   "cell_type": "code",
   "execution_count": 15,
   "metadata": {},
   "outputs": [
    {
     "data": {
      "image/png": "[encoded data removed]",
      "text/plain": [
       "<Figure size 432x288 with 1 Axes>"
      ]
     },
     "metadata": {
      "needs_background": "light"
     },
     "output_type": "display_data"
    }
   ],
   "source": [
    "sns.countplot(x=df_skus_food['Category']);"
   ]
  },
  {
   "cell_type": "markdown",
   "metadata": {},
   "source": [
    "### Notes\n",
    "At this stage, the produced values are only to showcase the functionality and are not representative of real world data.\n",
    "At a later time, more realistic data needs to be produced.\n",
    "\n",
    "---"
   ]
  },
  {
   "cell_type": "markdown",
   "metadata": {},
   "source": [
    "## Random order table generator\n",
    "\n",
    "### Considerations\n",
    "Like in most other ares in business, the SKU-velocity distribution in a typical order profil corresponds to an 80/20, or in some cases 70/30, ratio (20% of the SKUs representing 80% of the order volume.). Based on this, SKUs will belong to velocity classes (A, B, C), depending how fast they are moving. Therefore, the available SKUs need to be assigned orders in a way that follows this rule.\n",
    "\n",
    "<img src=\"https://interlakemecalux.cdnwm.com/blog/img/80-20-pareto-principle.1.2.jpg\" width=\"650\"/>\n",
    "\n",
    "There is a specific, somewhat business-specific, order profile (units per-order line and order lines per order).\n",
    "\n",
    "Ultimately, there must be a seclection of order profiles that go in line with different market segments and business types.\n",
    "\n",
    "### Objectives\n",
    "The goal is to create a function that generates a table of random orders. The order profile (units per order line, order lines per order) as well as the volume distribution of the SKUs (Pareto principle) must represent a real live scenario and must be selectable by the user.\n",
    "\n",
    "The initial table must contain at minimum the following columns:\n",
    "\n",
    "| Date | Order ID | SKU ID | Quantity | Order category |\n",
    "| ---- | ---- | ---- | ---- | ---- |\n",
    "| numerical | categorical | categorical | numerical | categorical |\n",
    "\n",
    "#### Steps in detail\n",
    "1) Define range of days based on user input\n",
    "2) Assign random number of orders to each day while assigning a number of order lines (SKUs) - for the beginning random, normal, right skewed\n",
    "3) Develop method to randomly distribute SKUs across all orders - for the beginning randomly, based on 80/20 rule\n",
    "4) Add quantities for each order line - for now random, normal\n",
    "5) Putting all together"
   ]
  },
  {
   "cell_type": "markdown",
   "metadata": {},
   "source": [
    "---\n",
    "#### 1. Define range of days"
   ]
  },
  {
   "cell_type": "code",
   "execution_count": 16,
   "metadata": {},
   "outputs": [],
   "source": [
    "def day_definer(num):\n",
    "    '''\n",
    "    Function to create a list of days. First day of range is current day\n",
    "    Input:\n",
    "    - Number of days\n",
    "    Outbout:\n",
    "    - List of days in the range of first day to last day\n",
    "    '''\n",
    "\n",
    "    return pd.date_range(datetime.today(), periods=num).date.tolist()"
   ]
  },
  {
   "cell_type": "code",
   "execution_count": 17,
   "metadata": {},
   "outputs": [
    {
     "data": {
      "text/plain": [
       "[datetime.date(2022, 1, 30),\n",
       " datetime.date(2022, 1, 31),\n",
       " datetime.date(2022, 2, 1),\n",
       " datetime.date(2022, 2, 2),\n",
       " datetime.date(2022, 2, 3),\n",
       " datetime.date(2022, 2, 4),\n",
       " datetime.date(2022, 2, 5),\n",
       " datetime.date(2022, 2, 6),\n",
       " datetime.date(2022, 2, 7),\n",
       " datetime.date(2022, 2, 8),\n",
       " datetime.date(2022, 2, 9),\n",
       " datetime.date(2022, 2, 10),\n",
       " datetime.date(2022, 2, 11),\n",
       " datetime.date(2022, 2, 12),\n",
       " datetime.date(2022, 2, 13),\n",
       " datetime.date(2022, 2, 14),\n",
       " datetime.date(2022, 2, 15),\n",
       " datetime.date(2022, 2, 16),\n",
       " datetime.date(2022, 2, 17),\n",
       " datetime.date(2022, 2, 18),\n",
       " datetime.date(2022, 2, 19),\n",
       " datetime.date(2022, 2, 20),\n",
       " datetime.date(2022, 2, 21),\n",
       " datetime.date(2022, 2, 22),\n",
       " datetime.date(2022, 2, 23),\n",
       " datetime.date(2022, 2, 24),\n",
       " datetime.date(2022, 2, 25),\n",
       " datetime.date(2022, 2, 26),\n",
       " datetime.date(2022, 2, 27),\n",
       " datetime.date(2022, 2, 28),\n",
       " datetime.date(2022, 3, 1),\n",
       " datetime.date(2022, 3, 2),\n",
       " datetime.date(2022, 3, 3),\n",
       " datetime.date(2022, 3, 4),\n",
       " datetime.date(2022, 3, 5),\n",
       " datetime.date(2022, 3, 6),\n",
       " datetime.date(2022, 3, 7),\n",
       " datetime.date(2022, 3, 8),\n",
       " datetime.date(2022, 3, 9),\n",
       " datetime.date(2022, 3, 10),\n",
       " datetime.date(2022, 3, 11),\n",
       " datetime.date(2022, 3, 12),\n",
       " datetime.date(2022, 3, 13),\n",
       " datetime.date(2022, 3, 14),\n",
       " datetime.date(2022, 3, 15),\n",
       " datetime.date(2022, 3, 16),\n",
       " datetime.date(2022, 3, 17),\n",
       " datetime.date(2022, 3, 18),\n",
       " datetime.date(2022, 3, 19),\n",
       " datetime.date(2022, 3, 20),\n",
       " datetime.date(2022, 3, 21),\n",
       " datetime.date(2022, 3, 22),\n",
       " datetime.date(2022, 3, 23),\n",
       " datetime.date(2022, 3, 24),\n",
       " datetime.date(2022, 3, 25),\n",
       " datetime.date(2022, 3, 26),\n",
       " datetime.date(2022, 3, 27),\n",
       " datetime.date(2022, 3, 28),\n",
       " datetime.date(2022, 3, 29),\n",
       " datetime.date(2022, 3, 30),\n",
       " datetime.date(2022, 3, 31),\n",
       " datetime.date(2022, 4, 1),\n",
       " datetime.date(2022, 4, 2),\n",
       " datetime.date(2022, 4, 3),\n",
       " datetime.date(2022, 4, 4),\n",
       " datetime.date(2022, 4, 5),\n",
       " datetime.date(2022, 4, 6),\n",
       " datetime.date(2022, 4, 7),\n",
       " datetime.date(2022, 4, 8),\n",
       " datetime.date(2022, 4, 9),\n",
       " datetime.date(2022, 4, 10),\n",
       " datetime.date(2022, 4, 11),\n",
       " datetime.date(2022, 4, 12),\n",
       " datetime.date(2022, 4, 13),\n",
       " datetime.date(2022, 4, 14),\n",
       " datetime.date(2022, 4, 15),\n",
       " datetime.date(2022, 4, 16),\n",
       " datetime.date(2022, 4, 17),\n",
       " datetime.date(2022, 4, 18),\n",
       " datetime.date(2022, 4, 19),\n",
       " datetime.date(2022, 4, 20),\n",
       " datetime.date(2022, 4, 21),\n",
       " datetime.date(2022, 4, 22),\n",
       " datetime.date(2022, 4, 23),\n",
       " datetime.date(2022, 4, 24),\n",
       " datetime.date(2022, 4, 25),\n",
       " datetime.date(2022, 4, 26),\n",
       " datetime.date(2022, 4, 27),\n",
       " datetime.date(2022, 4, 28),\n",
       " datetime.date(2022, 4, 29)]"
      ]
     },
     "execution_count": 17,
     "metadata": {},
     "output_type": "execute_result"
    }
   ],
   "source": [
    "lst_days = day_definer(90)\n",
    "lst_days"
   ]
  },
  {
   "cell_type": "markdown",
   "metadata": {},
   "source": [
    "#### 2. Assign random number of orders per day\n",
    "Each day needs to get a number of orders assigned."
   ]
  },
  {
   "cell_type": "code",
   "execution_count": 18,
   "metadata": {},
   "outputs": [],
   "source": [
    "# Function to generate random oders for a given day\n",
    "\n",
    "def order_generator(orders_per_day, avg_lines_order, order_std, min_order_size):\n",
    "\n",
    "    return np.round(abs(np.random.normal(loc=avg_lines_order, scale=order_std, size=orders_per_day))) + min_order_size"
   ]
  },
  {
   "cell_type": "code",
   "execution_count": 19,
   "metadata": {},
   "outputs": [],
   "source": [
    "test_orders = order_generator(1000, 30, 10, 3)"
   ]
  },
  {
   "cell_type": "code",
   "execution_count": 20,
   "metadata": {},
   "outputs": [
    {
     "data": {
      "text/plain": [
       "array([44., 28., 39., 25., 38., 37., 29., 37., 29., 23., 34., 50., 41.,\n",
       "       45., 23., 15., 14., 54., 29., 53., 36., 44., 25., 16., 41., 26.,\n",
       "       22., 19., 54., 46., 39., 48., 34., 47., 37., 29., 34., 41., 44.,\n",
       "        5., 31., 18., 28., 22., 38., 31., 24., 60., 36., 29., 35., 29.,\n",
       "       23., 42., 41., 28., 52., 28., 23., 33., 12., 30., 11., 23., 35.,\n",
       "       30., 40., 23., 33., 45., 16., 33., 36., 36., 32., 33., 45., 38.,\n",
       "       29., 25., 50., 24., 40., 41., 40., 53., 42., 38., 31., 23., 39.,\n",
       "       32., 34., 39., 19., 41., 27., 35., 37., 38., 30., 40., 29., 34.,\n",
       "       30., 26., 40., 31., 30., 37., 49., 30., 41., 40., 33., 42., 43.,\n",
       "       30., 45., 34., 14., 18., 30., 20., 43., 26., 41., 36., 44., 42.,\n",
       "       31., 25., 34., 25., 19., 31., 37., 27., 22., 14., 25., 45., 28.,\n",
       "       21., 36., 29., 37., 32., 23., 22., 45., 27., 35., 32., 33., 28.,\n",
       "       20., 19., 23., 17., 24., 27., 25., 24., 35., 32., 26., 23., 35.,\n",
       "       27., 34., 45., 46., 12., 39., 25., 31., 38., 50., 46., 42., 50.,\n",
       "       21., 25., 37., 30., 34., 29., 43., 29., 60., 43., 48., 33., 30.,\n",
       "       38., 33., 38., 39., 45., 40., 27., 13., 20., 38., 36., 30., 18.,\n",
       "       15., 28., 21., 34., 53., 46., 40., 36., 63., 31., 42., 24., 33.,\n",
       "       45., 34., 17., 37., 35., 21., 19., 31., 39., 21., 54., 41., 27.,\n",
       "       33., 29., 21., 30., 39., 41., 22., 34., 44., 31., 47., 45., 30.,\n",
       "       22., 42., 45., 26., 23., 29., 42., 32., 37., 17., 43., 27., 40.,\n",
       "       40., 30., 25., 36., 26., 31., 30., 37., 28., 20., 29., 41., 24.,\n",
       "       32., 35., 23., 33., 37., 29., 18., 31., 33., 22., 43., 29., 23.,\n",
       "       34., 32., 30., 36., 30., 39., 45., 48., 38., 25., 42., 50., 32.,\n",
       "       37., 26., 28., 27., 34., 22., 40., 41., 38., 34., 44., 30., 23.,\n",
       "       32., 30., 47., 28., 37., 15., 33., 44., 34., 33., 54., 34., 29.,\n",
       "       41., 43., 18., 24., 37., 35., 18., 37., 46., 36., 50., 39., 18.,\n",
       "       35., 38., 28., 47., 29., 27., 44., 16., 33., 15., 40., 19., 30.,\n",
       "       31., 39., 20., 34., 39., 51., 32., 34., 38., 29., 36., 39., 47.,\n",
       "       52., 35., 43., 23., 34., 51., 36., 39., 42., 38., 36., 29., 37.,\n",
       "       46., 38., 21., 39., 30., 57., 49., 27., 38., 37., 38., 30., 37.,\n",
       "       24., 12., 31., 30., 40., 43., 23., 40., 12., 29., 24., 35., 31.,\n",
       "       30., 29., 28., 23., 36., 26., 23., 23., 22., 29., 33., 52., 32.,\n",
       "       43., 22., 31., 51., 23., 34., 42., 38., 28., 37., 38., 35., 40.,\n",
       "       29., 15., 31., 32., 30., 34., 35., 52., 43., 44., 30., 30., 48.,\n",
       "       40., 36., 20., 45., 28., 54., 24., 43.,  4., 37., 34., 26., 35.,\n",
       "       45., 27., 37., 35., 24., 39., 24., 54., 23., 18., 19., 38., 34.,\n",
       "       42., 27., 56., 60., 38., 23., 25., 56., 39., 32., 22., 47., 46.,\n",
       "       37., 31., 56., 36., 31., 23., 51., 38., 31., 31., 46., 20., 31.,\n",
       "       33., 43., 21., 31., 54., 36., 52., 31., 22., 27., 17., 31., 29.,\n",
       "       49., 31., 39., 34., 45., 42., 33., 22., 29., 32., 37., 29., 26.,\n",
       "       31., 26., 31., 35., 31., 36., 39., 49., 17., 21., 37., 24.,  7.,\n",
       "       40., 32., 47., 48., 29., 48., 31., 27., 40., 21., 39., 26., 25.,\n",
       "       29., 31., 36., 24., 25., 20., 16., 29., 30., 24., 23., 35., 17.,\n",
       "       46., 41., 49., 38., 29., 17., 27., 29., 22., 57., 30., 23., 37.,\n",
       "       26.,  4., 43., 41., 39., 26., 24., 31., 42., 29., 25., 56., 27.,\n",
       "       27., 32., 20., 47.,  8., 27., 49., 31., 42., 46., 33., 31., 30.,\n",
       "       29., 17., 22., 26., 23., 34., 42., 36., 32., 39., 48., 29., 49.,\n",
       "       23.,  7., 46., 32., 49., 27., 32., 39., 35., 33., 47., 37., 33.,\n",
       "       25., 22., 33., 47., 26., 24., 38., 30., 46., 33., 49., 28., 45.,\n",
       "       29., 42., 31., 31., 37., 53., 36., 40., 22., 37., 22., 27., 46.,\n",
       "       33., 36., 33., 38., 24., 10., 33., 33., 50., 27., 46., 27., 46.,\n",
       "       37., 19., 25., 28., 33., 43., 38., 25., 33., 43., 42., 27., 34.,\n",
       "       25., 37., 48., 36., 30., 49., 34., 54., 37., 26., 21., 38., 45.,\n",
       "       48., 45., 35., 28., 53., 47., 28., 35., 37., 13., 37., 30., 33.,\n",
       "       23., 36., 28., 11., 38., 58., 37., 37., 23., 21., 36., 36., 25.,\n",
       "       26., 21., 43., 34., 43., 38., 31., 24., 24., 30., 31., 51., 36.,\n",
       "       46., 51., 47., 30., 36., 24., 15., 47., 37., 32., 23., 61., 31.,\n",
       "       21., 39., 42., 32., 19., 34., 31., 30., 46., 36., 33., 55., 20.,\n",
       "       35., 36., 43., 32., 45., 39., 10., 45., 38., 20., 30., 36., 32.,\n",
       "       44., 29., 49., 35., 36., 30., 33., 46., 22., 14., 46., 34., 29.,\n",
       "       23., 26., 32., 27., 21., 38., 15., 36., 31., 31., 27., 35., 23.,\n",
       "       38., 24., 24., 43., 25., 35., 38., 27., 38., 29., 35., 33., 39.,\n",
       "       20., 26., 19., 23., 33., 29., 42., 43., 36., 38., 14., 52., 10.,\n",
       "       50., 36., 31., 21., 31., 35., 43., 44., 26., 53., 43., 36., 37.,\n",
       "       38., 27., 29., 39., 35., 29., 24., 34., 26., 24., 22., 27., 49.,\n",
       "       23., 36., 35., 26., 40., 33., 21., 31., 33., 35., 37., 64., 19.,\n",
       "       37., 54., 44., 23., 28., 26., 24., 22., 28., 29., 46., 32., 41.,\n",
       "       17., 33., 24., 19., 25., 31., 36., 36., 49., 27., 26., 33., 42.,\n",
       "       31., 42., 27., 39., 44., 24., 29., 13., 25., 24., 35., 15., 42.,\n",
       "       44., 50., 29., 36., 33., 17., 24., 39.,  7., 34., 26., 36., 27.,\n",
       "       30., 33., 31., 34., 23., 28., 37., 25., 27., 42., 37., 50., 40.,\n",
       "       46., 42., 30., 21., 59., 29., 24., 41., 30., 39., 13., 37., 41.,\n",
       "       52., 31., 50., 28., 23., 16., 27., 37., 35., 28., 39., 31., 42.,\n",
       "       33., 37., 23., 26., 25., 47., 30., 20., 53., 31., 37.,  8., 42.,\n",
       "       38., 50., 33., 31., 29., 38., 30., 13., 50., 41., 24., 21., 36.,\n",
       "       34., 29., 27., 37., 14., 10., 32., 37., 41., 48., 35., 30., 26.,\n",
       "       27., 15., 39., 33., 26., 29., 50., 43., 29., 25., 28., 34.])"
      ]
     },
     "execution_count": 20,
     "metadata": {},
     "output_type": "execute_result"
    }
   ],
   "source": [
    "test_orders"
   ]
  },
  {
   "cell_type": "code",
   "execution_count": 21,
   "metadata": {},
   "outputs": [
    {
     "data": {
      "text/plain": [
       "(array([ 2.,  1.,  0.,  3.,  2.,  0.,  4.,  2.,  4.,  5.,  6.,  9.,  5.,\n",
       "        10.,  8., 12., 13., 19., 21., 38., 32., 26., 29., 36., 25., 50.,\n",
       "        44., 52., 27., 43., 36., 33., 43., 48., 38., 32., 21., 20., 27.,\n",
       "        24., 14., 20., 21., 14., 10., 13., 14.,  6.,  7.,  7.,  9.,  1.,\n",
       "         4.,  2.,  1.,  1.,  3.,  1.,  0.,  2.]),\n",
       " array([ 4.,  5.,  6.,  7.,  8.,  9., 10., 11., 12., 13., 14., 15., 16.,\n",
       "        17., 18., 19., 20., 21., 22., 23., 24., 25., 26., 27., 28., 29.,\n",
       "        30., 31., 32., 33., 34., 35., 36., 37., 38., 39., 40., 41., 42.,\n",
       "        43., 44., 45., 46., 47., 48., 49., 50., 51., 52., 53., 54., 55.,\n",
       "        56., 57., 58., 59., 60., 61., 62., 63., 64.]),\n",
       " <BarContainer object of 60 artists>)"
      ]
     },
     "execution_count": 21,
     "metadata": {},
     "output_type": "execute_result"
    },
    {
     "data": {
      "image/png": "[encoded data removed]",
      "text/plain": [
       "<Figure size 432x288 with 1 Axes>"
      ]
     },
     "metadata": {
      "needs_background": "light"
     },
     "output_type": "display_data"
    }
   ],
   "source": [
    "# Plot:\n",
    "axis = np.arange(start=min(test_orders), stop = max(test_orders) + 1)\n",
    "plt.hist(test_orders, bins = axis)"
   ]
  },
  {
   "cell_type": "markdown",
   "metadata": {},
   "source": [
    "The number of orders per day is in this case 1000. This needs to be randomized as well when assigning orders for a range of days."
   ]
  },
  {
   "cell_type": "code",
   "execution_count": 22,
   "metadata": {},
   "outputs": [],
   "source": [
    "def order_generator(avg_orders_per_day, avg_lines_order, order_std, min_order_size):\n",
    "\n",
    "    orders_per_day = np.round(abs(np.random.normal(loc=avg_orders_per_day, scale=50, size=1))).astype(int) # For simplicity, the standard deviation was set to 10\n",
    "    return np.round(abs(np.random.normal(loc=avg_lines_order, scale=order_std, size=orders_per_day))) + min_order_size"
   ]
  },
  {
   "cell_type": "code",
   "execution_count": 23,
   "metadata": {},
   "outputs": [],
   "source": [
    "test_orders = order_generator(1000, 30, 10, 3)"
   ]
  },
  {
   "cell_type": "code",
   "execution_count": 24,
   "metadata": {},
   "outputs": [
    {
     "data": {
      "text/plain": [
       "(array([ 1.,  0.,  0.,  5.,  2.,  2.,  3.,  3.,  4.,  7.,  8.,  2., 15.,\n",
       "        11., 12., 21., 20., 25., 34., 19., 21., 24., 33., 35., 42., 38.,\n",
       "        45., 45., 47., 45., 48., 30., 30., 37., 24., 28., 19., 27., 17.,\n",
       "        17., 13., 13., 16., 10., 15.,  7.,  9.,  8.,  7.,  3.,  6.,  1.,\n",
       "         1.,  2.,  1.,  1.,  2.,  2.,  1.,  1.]),\n",
       " array([ 5.,  6.,  7.,  8.,  9., 10., 11., 12., 13., 14., 15., 16., 17.,\n",
       "        18., 19., 20., 21., 22., 23., 24., 25., 26., 27., 28., 29., 30.,\n",
       "        31., 32., 33., 34., 35., 36., 37., 38., 39., 40., 41., 42., 43.,\n",
       "        44., 45., 46., 47., 48., 49., 50., 51., 52., 53., 54., 55., 56.,\n",
       "        57., 58., 59., 60., 61., 62., 63., 64., 65.]),\n",
       " <BarContainer object of 60 artists>)"
      ]
     },
     "execution_count": 24,
     "metadata": {},
     "output_type": "execute_result"
    },
    {
     "data": {
      "image/png": "[encoded data removed]",
      "text/plain": [
       "<Figure size 432x288 with 1 Axes>"
      ]
     },
     "metadata": {
      "needs_background": "light"
     },
     "output_type": "display_data"
    }
   ],
   "source": [
    "# Plot:\n",
    "axis = np.arange(start=min(test_orders), stop = max(test_orders) + 1)\n",
    "plt.hist(test_orders, bins = axis)"
   ]
  },
  {
   "cell_type": "code",
   "execution_count": 25,
   "metadata": {},
   "outputs": [
    {
     "data": {
      "text/plain": [
       "965"
      ]
     },
     "execution_count": 25,
     "metadata": {},
     "output_type": "execute_result"
    }
   ],
   "source": [
    "len(test_orders)"
   ]
  },
  {
   "cell_type": "markdown",
   "metadata": {},
   "source": [
    "#### 3. Assigning SKUs\n",
    "The assignment of SKUs may be random, but each SKU will need to have a different velocity, basically how often it is picked during the day. As stated, this distribution will follow the 80/20 rule of the pareto principle.\n",
    "\n",
    "First, a pareto distribution of n SKUs with distinct values need to be produced. N is the number of SKUs, and the dependend values represent the number of order lines each SKU is picked during the day.\n",
    "In the next step each SKU will then be translated to a unique identifier (SKU ID), multiplied by the number of order lines it produces during the day, and then be put into a SKU list. This SKU list represents a pool from which order lines can be randomly pulled when a procedure loops throuh all the orders. Because the appearance of SKUs in the list is varying (based on the pareto principle) probability will naturally reproduce the pareto distribution when the oder list is generated."
   ]
  },
  {
   "cell_type": "code",
   "execution_count": 26,
   "metadata": {},
   "outputs": [
    {
     "data": {
      "image/png": "[encoded data removed]",
      "text/plain": [
       "<Figure size 1080x576 with 1 Axes>"
      ]
     },
     "metadata": {
      "needs_background": "light"
     },
     "output_type": "display_data"
    }
   ],
   "source": [
    "# Let's review the cumulative density function of the pareto distribution. We will use scipy's pareto library.\n",
    "num_skus = 10000\n",
    "\n",
    "x = np.arange(1, num_skus)\n",
    "\n",
    "pareto_cdf = (pareto.cdf(x, b=0.1, loc=1, scale=1) * 50000).round()\n",
    "\n",
    "plt.figure(figsize=(15, 8))\n",
    "plt.plot(x, pareto_cdf)\n",
    "plt.grid()\n",
    "plt.show()"
   ]
  },
  {
   "cell_type": "code",
   "execution_count": 27,
   "metadata": {},
   "outputs": [
    {
     "data": {
      "text/plain": [
       "27881.72297229723"
      ]
     },
     "execution_count": 27,
     "metadata": {},
     "output_type": "execute_result"
    }
   ],
   "source": [
    "pareto_cdf.mean()"
   ]
  },
  {
   "cell_type": "markdown",
   "metadata": {},
   "source": [
    "This distribution could represent a day in a distribution center. It is very steep in this example and shows how 10,000 SKUs adding adding up to 30,000 order lines. The fastest SKUs are on the left side of the X-axis and generate the biggest part of the order volume. We need the derivation of this function (probability density function) in order to directly get the individual impacts of each SKU."
   ]
  },
  {
   "cell_type": "code",
   "execution_count": 28,
   "metadata": {},
   "outputs": [
    {
     "data": {
      "image/png": "[encoded data removed]",
      "text/plain": [
       "<Figure size 1080x576 with 1 Axes>"
      ]
     },
     "metadata": {
      "needs_background": "light"
     },
     "output_type": "display_data"
    }
   ],
   "source": [
    "# Let's try spipy's pdf funtion\n",
    "min_lines = 1\n",
    "lines_range_factor = 100\n",
    "\n",
    "x = np.linspace(1, 10, 1000)\n",
    "\n",
    "pareto_pdf = (pareto.pdf(x, b=1, loc=0, scale=1) * lines_range_factor + min_lines).round()\n",
    "\n",
    "plt.figure(figsize=(15, 8))\n",
    "plt.plot(x, pareto_pdf)\n",
    "plt.grid()\n",
    "plt.show()"
   ]
  },
  {
   "cell_type": "code",
   "execution_count": 29,
   "metadata": {},
   "outputs": [],
   "source": [
    "# Make a function that randomly creates a number of lines from that distribution:\n",
    "\n",
    "def random_line_assigner(min_lines, lines_range_factor):\n",
    "    return np.random.choice((pareto.pdf(x, b=1, loc=0, scale=1) * lines_range_factor + min_lines).round())"
   ]
  },
  {
   "cell_type": "code",
   "execution_count": 30,
   "metadata": {},
   "outputs": [],
   "source": [
    "# generate 1000 samples for testing if distribution will be reflected\n",
    "df_fashion_skus = df_skus_fashion = random_skus(1000, 'Fashion')\n",
    "\n",
    "lst_lines = []\n",
    "\n",
    "for i in range(len(df_fashion_skus)):\n",
    "    lst_lines.append(int(random_line_assigner(1, 100)))\n",
    "\n",
    "df_fashion_skus['Lines'] = lst_lines\n"
   ]
  },
  {
   "cell_type": "code",
   "execution_count": 31,
   "metadata": {},
   "outputs": [
    {
     "data": {
      "text/html": [
       "<div>\n",
       "<style scoped>\n",
       "    .dataframe tbody tr th:only-of-type {\n",
       "        vertical-align: middle;\n",
       "    }\n",
       "\n",
       "    .dataframe tbody tr th {\n",
       "        vertical-align: top;\n",
       "    }\n",
       "\n",
       "    .dataframe thead th {\n",
       "        text-align: right;\n",
       "    }\n",
       "</style>\n",
       "<table border=\"1\" class=\"dataframe\">\n",
       "  <thead>\n",
       "    <tr style=\"text-align: right;\">\n",
       "      <th></th>\n",
       "      <th>SKU</th>\n",
       "      <th>Category</th>\n",
       "      <th>Size</th>\n",
       "      <th>Length</th>\n",
       "      <th>Width</th>\n",
       "      <th>Height</th>\n",
       "      <th>Lines</th>\n",
       "    </tr>\n",
       "  </thead>\n",
       "  <tbody>\n",
       "    <tr>\n",
       "      <th>1</th>\n",
       "      <td>SKU_1</td>\n",
       "      <td>Pants</td>\n",
       "      <td>L</td>\n",
       "      <td>462.0</td>\n",
       "      <td>270.0</td>\n",
       "      <td>17.0</td>\n",
       "      <td>4</td>\n",
       "    </tr>\n",
       "    <tr>\n",
       "      <th>2</th>\n",
       "      <td>SKU_2</td>\n",
       "      <td>Socks</td>\n",
       "      <td>M</td>\n",
       "      <td>121.0</td>\n",
       "      <td>83.0</td>\n",
       "      <td>2.0</td>\n",
       "      <td>2</td>\n",
       "    </tr>\n",
       "    <tr>\n",
       "      <th>3</th>\n",
       "      <td>SKU_3</td>\n",
       "      <td>Socks</td>\n",
       "      <td>M</td>\n",
       "      <td>120.0</td>\n",
       "      <td>80.0</td>\n",
       "      <td>15.0</td>\n",
       "      <td>4</td>\n",
       "    </tr>\n",
       "    <tr>\n",
       "      <th>4</th>\n",
       "      <td>SKU_4</td>\n",
       "      <td>Pants</td>\n",
       "      <td>L</td>\n",
       "      <td>443.0</td>\n",
       "      <td>283.0</td>\n",
       "      <td>16.0</td>\n",
       "      <td>18</td>\n",
       "    </tr>\n",
       "    <tr>\n",
       "      <th>5</th>\n",
       "      <td>SKU_5</td>\n",
       "      <td>Socks</td>\n",
       "      <td>L</td>\n",
       "      <td>123.0</td>\n",
       "      <td>73.0</td>\n",
       "      <td>1.0</td>\n",
       "      <td>2</td>\n",
       "    </tr>\n",
       "    <tr>\n",
       "      <th>...</th>\n",
       "      <td>...</td>\n",
       "      <td>...</td>\n",
       "      <td>...</td>\n",
       "      <td>...</td>\n",
       "      <td>...</td>\n",
       "      <td>...</td>\n",
       "      <td>...</td>\n",
       "    </tr>\n",
       "    <tr>\n",
       "      <th>996</th>\n",
       "      <td>SKU_996</td>\n",
       "      <td>Socks</td>\n",
       "      <td>M</td>\n",
       "      <td>117.0</td>\n",
       "      <td>73.0</td>\n",
       "      <td>7.0</td>\n",
       "      <td>67</td>\n",
       "    </tr>\n",
       "    <tr>\n",
       "      <th>997</th>\n",
       "      <td>SKU_997</td>\n",
       "      <td>Socks</td>\n",
       "      <td>M</td>\n",
       "      <td>115.0</td>\n",
       "      <td>83.0</td>\n",
       "      <td>2.0</td>\n",
       "      <td>6</td>\n",
       "    </tr>\n",
       "    <tr>\n",
       "      <th>998</th>\n",
       "      <td>SKU_998</td>\n",
       "      <td>Socks</td>\n",
       "      <td>S</td>\n",
       "      <td>89.0</td>\n",
       "      <td>82.0</td>\n",
       "      <td>5.0</td>\n",
       "      <td>6</td>\n",
       "    </tr>\n",
       "    <tr>\n",
       "      <th>999</th>\n",
       "      <td>SKU_999</td>\n",
       "      <td>Shirt</td>\n",
       "      <td>L</td>\n",
       "      <td>355.0</td>\n",
       "      <td>196.0</td>\n",
       "      <td>4.0</td>\n",
       "      <td>2</td>\n",
       "    </tr>\n",
       "    <tr>\n",
       "      <th>1000</th>\n",
       "      <td>SKU_1000</td>\n",
       "      <td>Socks</td>\n",
       "      <td>S</td>\n",
       "      <td>101.0</td>\n",
       "      <td>60.0</td>\n",
       "      <td>9.0</td>\n",
       "      <td>4</td>\n",
       "    </tr>\n",
       "  </tbody>\n",
       "</table>\n",
       "<p>1000 rows × 7 columns</p>\n",
       "</div>"
      ],
      "text/plain": [
       "           SKU Category Size  Length  Width  Height  Lines\n",
       "1        SKU_1    Pants    L   462.0  270.0    17.0      4\n",
       "2        SKU_2    Socks    M   121.0   83.0     2.0      2\n",
       "3        SKU_3    Socks    M   120.0   80.0    15.0      4\n",
       "4        SKU_4    Pants    L   443.0  283.0    16.0     18\n",
       "5        SKU_5    Socks    L   123.0   73.0     1.0      2\n",
       "...        ...      ...  ...     ...    ...     ...    ...\n",
       "996    SKU_996    Socks    M   117.0   73.0     7.0     67\n",
       "997    SKU_997    Socks    M   115.0   83.0     2.0      6\n",
       "998    SKU_998    Socks    S    89.0   82.0     5.0      6\n",
       "999    SKU_999    Shirt    L   355.0  196.0     4.0      2\n",
       "1000  SKU_1000    Socks    S   101.0   60.0     9.0      4\n",
       "\n",
       "[1000 rows x 7 columns]"
      ]
     },
     "execution_count": 31,
     "metadata": {},
     "output_type": "execute_result"
    }
   ],
   "source": [
    "df_fashion_skus"
   ]
  },
  {
   "cell_type": "code",
   "execution_count": 32,
   "metadata": {},
   "outputs": [],
   "source": [
    "# For the pareto distrubution to appear the dataframe needs to be sorted by the order lines and then a cumulative lines column needs to be added\n",
    "# Sorting by velocity\n",
    "df_fashion_skus.sort_values('Lines', ascending=False, inplace=True)\n",
    "# Cumulate values\n",
    "df_fashion_skus['Cumulative Lines'] = np.cumsum(df_fashion_skus['Lines'])\n",
    "# Resetting index for the visualization\n",
    "df_fashion_skus.reset_index(drop=True, inplace= True)"
   ]
  },
  {
   "cell_type": "code",
   "execution_count": 33,
   "metadata": {},
   "outputs": [
    {
     "data": {
      "text/html": [
       "<div>\n",
       "<style scoped>\n",
       "    .dataframe tbody tr th:only-of-type {\n",
       "        vertical-align: middle;\n",
       "    }\n",
       "\n",
       "    .dataframe tbody tr th {\n",
       "        vertical-align: top;\n",
       "    }\n",
       "\n",
       "    .dataframe thead th {\n",
       "        text-align: right;\n",
       "    }\n",
       "</style>\n",
       "<table border=\"1\" class=\"dataframe\">\n",
       "  <thead>\n",
       "    <tr style=\"text-align: right;\">\n",
       "      <th></th>\n",
       "      <th>SKU</th>\n",
       "      <th>Category</th>\n",
       "      <th>Size</th>\n",
       "      <th>Length</th>\n",
       "      <th>Width</th>\n",
       "      <th>Height</th>\n",
       "      <th>Lines</th>\n",
       "      <th>Cumulative Lines</th>\n",
       "    </tr>\n",
       "  </thead>\n",
       "  <tbody>\n",
       "    <tr>\n",
       "      <th>0</th>\n",
       "      <td>SKU_662</td>\n",
       "      <td>Pants</td>\n",
       "      <td>M</td>\n",
       "      <td>446.0</td>\n",
       "      <td>268.0</td>\n",
       "      <td>20.0</td>\n",
       "      <td>101</td>\n",
       "      <td>101</td>\n",
       "    </tr>\n",
       "    <tr>\n",
       "      <th>1</th>\n",
       "      <td>SKU_630</td>\n",
       "      <td>Pants</td>\n",
       "      <td>L</td>\n",
       "      <td>409.0</td>\n",
       "      <td>243.0</td>\n",
       "      <td>10.0</td>\n",
       "      <td>99</td>\n",
       "      <td>200</td>\n",
       "    </tr>\n",
       "    <tr>\n",
       "      <th>2</th>\n",
       "      <td>SKU_27</td>\n",
       "      <td>Socks</td>\n",
       "      <td>M</td>\n",
       "      <td>103.0</td>\n",
       "      <td>80.0</td>\n",
       "      <td>6.0</td>\n",
       "      <td>99</td>\n",
       "      <td>299</td>\n",
       "    </tr>\n",
       "    <tr>\n",
       "      <th>3</th>\n",
       "      <td>SKU_146</td>\n",
       "      <td>Socks</td>\n",
       "      <td>M</td>\n",
       "      <td>112.0</td>\n",
       "      <td>81.0</td>\n",
       "      <td>15.0</td>\n",
       "      <td>99</td>\n",
       "      <td>398</td>\n",
       "    </tr>\n",
       "    <tr>\n",
       "      <th>4</th>\n",
       "      <td>SKU_309</td>\n",
       "      <td>Shirt</td>\n",
       "      <td>M</td>\n",
       "      <td>382.0</td>\n",
       "      <td>214.0</td>\n",
       "      <td>13.0</td>\n",
       "      <td>99</td>\n",
       "      <td>497</td>\n",
       "    </tr>\n",
       "    <tr>\n",
       "      <th>...</th>\n",
       "      <td>...</td>\n",
       "      <td>...</td>\n",
       "      <td>...</td>\n",
       "      <td>...</td>\n",
       "      <td>...</td>\n",
       "      <td>...</td>\n",
       "      <td>...</td>\n",
       "      <td>...</td>\n",
       "    </tr>\n",
       "    <tr>\n",
       "      <th>995</th>\n",
       "      <td>SKU_180</td>\n",
       "      <td>Socks</td>\n",
       "      <td>L</td>\n",
       "      <td>117.0</td>\n",
       "      <td>78.0</td>\n",
       "      <td>10.0</td>\n",
       "      <td>2</td>\n",
       "      <td>11486</td>\n",
       "    </tr>\n",
       "    <tr>\n",
       "      <th>996</th>\n",
       "      <td>SKU_456</td>\n",
       "      <td>Shirt</td>\n",
       "      <td>S</td>\n",
       "      <td>399.0</td>\n",
       "      <td>245.0</td>\n",
       "      <td>20.0</td>\n",
       "      <td>2</td>\n",
       "      <td>11488</td>\n",
       "    </tr>\n",
       "    <tr>\n",
       "      <th>997</th>\n",
       "      <td>SKU_871</td>\n",
       "      <td>Socks</td>\n",
       "      <td>M</td>\n",
       "      <td>107.0</td>\n",
       "      <td>64.0</td>\n",
       "      <td>9.0</td>\n",
       "      <td>2</td>\n",
       "      <td>11490</td>\n",
       "    </tr>\n",
       "    <tr>\n",
       "      <th>998</th>\n",
       "      <td>SKU_777</td>\n",
       "      <td>Shirt</td>\n",
       "      <td>L</td>\n",
       "      <td>350.0</td>\n",
       "      <td>196.0</td>\n",
       "      <td>1.0</td>\n",
       "      <td>2</td>\n",
       "      <td>11492</td>\n",
       "    </tr>\n",
       "    <tr>\n",
       "      <th>999</th>\n",
       "      <td>SKU_732</td>\n",
       "      <td>Socks</td>\n",
       "      <td>S</td>\n",
       "      <td>109.0</td>\n",
       "      <td>78.0</td>\n",
       "      <td>14.0</td>\n",
       "      <td>2</td>\n",
       "      <td>11494</td>\n",
       "    </tr>\n",
       "  </tbody>\n",
       "</table>\n",
       "<p>1000 rows × 8 columns</p>\n",
       "</div>"
      ],
      "text/plain": [
       "         SKU Category Size  Length  Width  Height  Lines  Cumulative Lines\n",
       "0    SKU_662    Pants    M   446.0  268.0    20.0    101               101\n",
       "1    SKU_630    Pants    L   409.0  243.0    10.0     99               200\n",
       "2     SKU_27    Socks    M   103.0   80.0     6.0     99               299\n",
       "3    SKU_146    Socks    M   112.0   81.0    15.0     99               398\n",
       "4    SKU_309    Shirt    M   382.0  214.0    13.0     99               497\n",
       "..       ...      ...  ...     ...    ...     ...    ...               ...\n",
       "995  SKU_180    Socks    L   117.0   78.0    10.0      2             11486\n",
       "996  SKU_456    Shirt    S   399.0  245.0    20.0      2             11488\n",
       "997  SKU_871    Socks    M   107.0   64.0     9.0      2             11490\n",
       "998  SKU_777    Shirt    L   350.0  196.0     1.0      2             11492\n",
       "999  SKU_732    Socks    S   109.0   78.0    14.0      2             11494\n",
       "\n",
       "[1000 rows x 8 columns]"
      ]
     },
     "execution_count": 33,
     "metadata": {},
     "output_type": "execute_result"
    }
   ],
   "source": [
    "df_fashion_skus"
   ]
  },
  {
   "cell_type": "code",
   "execution_count": 34,
   "metadata": {},
   "outputs": [
    {
     "data": {
      "image/png": "[encoded data removed]",
      "text/plain": [
       "<Figure size 1080x576 with 1 Axes>"
      ]
     },
     "metadata": {
      "needs_background": "light"
     },
     "output_type": "display_data"
    }
   ],
   "source": [
    "plt.figure(figsize=(15, 8))\n",
    "plt.plot(df_fashion_skus['Cumulative Lines']);"
   ]
  },
  {
   "cell_type": "markdown",
   "metadata": {},
   "source": [
    "That looks OK. This list of 1000 SKUs corresponds to a typical order profile. In a 3-shift operation that would lead to a capacity of 550 to 650 order lines/ h."
   ]
  },
  {
   "cell_type": "markdown",
   "metadata": {},
   "source": [
    "#### 4. Adding random order quantity for each order line"
   ]
  },
  {
   "cell_type": "code",
   "execution_count": null,
   "metadata": {},
   "outputs": [],
   "source": []
  },
  {
   "cell_type": "code",
   "execution_count": null,
   "metadata": {},
   "outputs": [],
   "source": []
  },
  {
   "cell_type": "code",
   "execution_count": null,
   "metadata": {},
   "outputs": [],
   "source": []
  },
  {
   "cell_type": "code",
   "execution_count": null,
   "metadata": {},
   "outputs": [],
   "source": []
  },
  {
   "cell_type": "code",
   "execution_count": null,
   "metadata": {},
   "outputs": [],
   "source": []
  },
  {
   "cell_type": "code",
   "execution_count": 36,
   "metadata": {},
   "outputs": [],
   "source": [
    "def order_generator(num_days, avg_orders_per_day, avg_lines_order, order_std, min_order_size):\n",
    "    \n",
    "    lst_dates = pd.date_range(datetime.today(), periods=num_days).date.tolist()\n",
    "    df_ord = pd.DataFrame(np.array([\n",
    "        [1, 2, 3, 4],\n",
    "        [4, 5, 6, 7],\n",
    "        [7, 8, 9, 10]\n",
    "        ]), columns=['Date', 'Order ID', 'SKU', 'QTY'])\n",
    "\n",
    "    for day in lst_dates:\n",
    "        order_count = np.round(abs(np.random.normal(\n",
    "            loc=avg_orders_per_day,\n",
    "            scale=50,\n",
    "            size=1))).astype(int)\n",
    "\n",
    "        #for ord in order_count:\n",
    "\n",
    "            \n",
    "\n",
    "\n",
    "    # Need to continue here\n",
    "\n",
    "    return pd.DataFrame.from_dict(dict_dates).transpose().rename(columns={0: 'Orders per day'})\n"
   ]
  },
  {
   "cell_type": "code",
   "execution_count": null,
   "metadata": {},
   "outputs": [],
   "source": []
  },
  {
   "cell_type": "code",
   "execution_count": null,
   "metadata": {},
   "outputs": [],
   "source": []
  },
  {
   "cell_type": "code",
   "execution_count": 37,
   "metadata": {},
   "outputs": [],
   "source": [
    "def order_generator(orders_per_day, avg_lines_order, order_std, min_order_size):\n",
    "    \n",
    "    return np.round(abs(np.random.normal(loc=avg_lines_order, scale=order_std, size=orders_per_day))) + min_order_size"
   ]
  },
  {
   "cell_type": "code",
   "execution_count": 38,
   "metadata": {},
   "outputs": [
    {
     "data": {
      "image/png": "[encoded data removed]",
      "text/plain": [
       "<Figure size 1800x576 with 1 Axes>"
      ]
     },
     "metadata": {
      "needs_background": "light"
     },
     "output_type": "display_data"
    }
   ],
   "source": [
    "# Approach to develop a skewed dataset with \"skewnorm\"\n",
    "n_orders = 10000\n",
    "max_order_size = 200\n",
    "skewness = 20   # Negative = left skewed, positive = right skewed\n",
    "\n",
    "random_orders = skewnorm.rvs(a = skewness, loc=max_order_size, size=n_orders)\n",
    "\n",
    "random_orders = random_orders - min(random_orders)     # Shift dataset to zero\n",
    "random_orders = random_orders / max(random_orders)\n",
    "random_orders = random_orders * max_order_size\n",
    "random_orders = np.ceil(random_orders) + 1\n",
    "\n",
    "# Check\n",
    "plt.figure(figsize=(25, 8))\n",
    "plt.hist(random_orders, 100, density=True, color='red', alpha=0.5)\n",
    "plt.grid()\n",
    "\n",
    "plt.show()"
   ]
  },
  {
   "cell_type": "markdown",
   "metadata": {},
   "source": [
    "Each record in orders represents one order with an assigned size."
   ]
  },
  {
   "cell_type": "code",
   "execution_count": 39,
   "metadata": {},
   "outputs": [
    {
     "data": {
      "text/plain": [
       "1.0"
      ]
     },
     "execution_count": 39,
     "metadata": {},
     "output_type": "execute_result"
    }
   ],
   "source": [
    "random_orders.min()"
   ]
  },
  {
   "cell_type": "code",
   "execution_count": null,
   "metadata": {},
   "outputs": [],
   "source": []
  }
 ],
 "metadata": {
  "interpreter": {
   "hash": "dcacb0086e9a4f4eabd41c33bf4faac5ea0a3337ed3f5eff0680afa930572c04"
  },
  "kernelspec": {
   "display_name": "Python 3.9.4 64-bit",
   "language": "python",
   "name": "python3"
  },
  "language_info": {
   "codemirror_mode": {
    "name": "ipython",
    "version": 3
   },
   "file_extension": ".py",
   "mimetype": "text/x-python",
   "name": "python",
   "nbconvert_exporter": "python",
   "pygments_lexer": "ipython3",
   "version": "3.9.4"
  },
  "orig_nbformat": 4
 },
 "nbformat": 4,
 "nbformat_minor": 2
}
