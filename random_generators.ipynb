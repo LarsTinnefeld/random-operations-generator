{
 "cells": [
  {
   "cell_type": "markdown",
   "metadata": {},
   "source": [
    "# Random Order- and SKU generators"
   ]
  },
  {
   "cell_type": "markdown",
   "metadata": {},
   "source": [
    "## Importing libraries"
   ]
  },
  {
   "cell_type": "code",
   "execution_count": 1,
   "metadata": {},
   "outputs": [],
   "source": [
    "import pandas as pd\n",
    "import numpy as np\n",
    "import matplotlib.pyplot as plt\n",
    "import seaborn as sns\n",
    "from scipy.stats import skewnorm\n",
    "from datetime import datetime\n",
    "from scipy.stats import pareto\n",
    "import uuid\n",
    "\n",
    "%matplotlib inline"
   ]
  },
  {
   "cell_type": "markdown",
   "metadata": {},
   "source": [
    "---"
   ]
  },
  {
   "cell_type": "markdown",
   "metadata": {},
   "source": [
    "## Random SKU table generation\n",
    "\n",
    "### Objectives\n",
    "Generate a table with unique SKUs that have randomly generated values. The number of records can be chosen by the user.\n",
    "\n",
    "The initial table must contain at minimum the following columns:\n",
    "\n",
    "| SKU ID | Category | Length | Width | Height | Weight |\n",
    "| ---- | ---- | ---- | ---- | ---- | ---- |\n",
    "| categorical | categorical | numerical | numerical | numerical | numerical |\n",
    "\n",
    "Goals in detail:\n",
    "- Develop basic method to generate a table of randomly created SKUs with the above features"
   ]
  },
  {
   "cell_type": "code",
   "execution_count": 20,
   "metadata": {},
   "outputs": [
    {
     "data": {
      "text/plain": [
       "{'Shirt': {'Length_S': 350,\n",
       "  'Length_M': 375,\n",
       "  'Length_L': 400,\n",
       "  'Width_S': 200,\n",
       "  'Width_M': 220,\n",
       "  'Width_L': 250,\n",
       "  'Height_S': 10,\n",
       "  'Height_M': 12,\n",
       "  'Height_L': 15},\n",
       " 'Pants': {'Length_S': 400,\n",
       "  'Length_M': 450,\n",
       "  'Length_L': 500,\n",
       "  'Width_S': 250,\n",
       "  'Width_M': 275,\n",
       "  'Width_L': 300,\n",
       "  'Height_S': 15,\n",
       "  'Height_M': 18,\n",
       "  'Height_L': 21},\n",
       " 'Socks': {'Length_S': 100,\n",
       "  'Length_M': 110,\n",
       "  'Length_L': 120,\n",
       "  'Width_S': 75,\n",
       "  'Width_M': 77,\n",
       "  'Width_L': 80,\n",
       "  'Height_S': 5,\n",
       "  'Height_M': 5,\n",
       "  'Height_L': 5},\n",
       " 'Box of cereals': {'Length_S': 250,\n",
       "  'Length_M': 250,\n",
       "  'Length_L': 250,\n",
       "  'Width_S': 150,\n",
       "  'Width_M': 150,\n",
       "  'Width_L': 150,\n",
       "  'Height_S': 10,\n",
       "  'Height_M': 10,\n",
       "  'Height_L': 10},\n",
       " 'Can of tuna': {'Length_S': 110,\n",
       "  'Length_M': 110,\n",
       "  'Length_L': 110,\n",
       "  'Width_S': 110,\n",
       "  'Width_M': 110,\n",
       "  'Width_L': 110,\n",
       "  'Height_S': 7,\n",
       "  'Height_M': 7,\n",
       "  'Height_L': 7},\n",
       " 'Bag of rice': {'Length_S': 540,\n",
       "  'Length_M': 540,\n",
       "  'Length_L': 540,\n",
       "  'Width_S': 350,\n",
       "  'Width_M': 350,\n",
       "  'Width_L': 350,\n",
       "  'Height_S': 250,\n",
       "  'Height_M': 250,\n",
       "  'Height_L': 250},\n",
       " 'Toolbox': {'Length_S': 600,\n",
       "  'Length_M': 600,\n",
       "  'Length_L': 600,\n",
       "  'Width_S': 380,\n",
       "  'Width_M': 380,\n",
       "  'Width_L': 380,\n",
       "  'Height_S': 350,\n",
       "  'Height_M': 350,\n",
       "  'Height_L': 350},\n",
       " 'Box of nails': {'Length_S': 150,\n",
       "  'Length_M': 150,\n",
       "  'Length_L': 150,\n",
       "  'Width_S': 120,\n",
       "  'Width_M': 120,\n",
       "  'Width_L': 120,\n",
       "  'Height_S': 80,\n",
       "  'Height_M': 80,\n",
       "  'Height_L': 80},\n",
       " 'Glue gun': {'Length_S': 380,\n",
       "  'Length_M': 380,\n",
       "  'Length_L': 380,\n",
       "  'Width_S': 80,\n",
       "  'Width_M': 80,\n",
       "  'Width_L': 80,\n",
       "  'Height_S': 80,\n",
       "  'Height_M': 80,\n",
       "  'Height_L': 80}}"
      ]
     },
     "execution_count": 20,
     "metadata": {},
     "output_type": "execute_result"
    }
   ],
   "source": [
    "dict_products = pd.read_excel('Product_list.xls').set_index('Category').to_dict(orient='index')\n",
    "dict_products"
   ]
  },
  {
   "cell_type": "code",
   "execution_count": 23,
   "metadata": {},
   "outputs": [],
   "source": [
    "def random_dim_generator(df, dim):\n",
    "    '''\n",
    "    Function to calculating a random value by looking up a start value and applying a normal distribution\n",
    "    Inputs:\n",
    "    - Dataframe\n",
    "    - Dimension type (L, W, H)\n",
    "    Output:\n",
    "    - Value, rounded to 0 digits\n",
    "    '''\n",
    "    SCALE = 0.1\n",
    "    mean = df.apply(lambda row: dict_products[row.Category][dim + '_' + row.Size], axis=1)\n",
    "    return np.round(abs(np.random.normal(loc=mean, scale=mean * SCALE)))"
   ]
  },
  {
   "cell_type": "code",
   "execution_count": 24,
   "metadata": {},
   "outputs": [],
   "source": [
    "def random_skus(articles, vertical):\n",
    "    '''Main function to generate a SKU table\n",
    "    Inputs:\n",
    "    - Number of desired SKUs\n",
    "    - Market sector (vertical)\n",
    "    Outputs:\n",
    "    - SKU table'''\n",
    "\n",
    "    random_dict = {}\n",
    "    \n",
    "    FEATURE_LIST = ['SKU ID', 'Category', 'Size', 'Length', 'Width', 'Height']\n",
    "    SIZE_LIST = ['S', 'M', 'L']\n",
    "    PRODUCT_DESC_LIST = {\n",
    "        'Fashion': ['Shirt', 'Pants', 'Socks'],\n",
    "        'Food': ['Box of cereals', 'Can of tuna', 'Bag of rice'],\n",
    "        'Durable':['Toolbox', 'Box of nails', 'Glue gun']\n",
    "        }\n",
    "\n",
    "    sku_table_df = pd.DataFrame(1, index=np.arange(articles), columns=FEATURE_LIST) \n",
    "\n",
    "    sku_table_df['SKU ID'] = sku_table_df['SKU ID'].map(lambda x: uuid.uuid4())\n",
    "    sku_table_df['Category'] = sku_table_df['Category'].map(lambda x: np.random.choice(PRODUCT_DESC_LIST[vertical]))\n",
    "    sku_table_df['Size'] = sku_table_df['Size'].map(lambda x: np.random.choice(SIZE_LIST))\n",
    "\n",
    "    for dim in ['Length', 'Width', 'Height']:\n",
    "        sku_table_df[dim] = random_dim_generator(sku_table_df, dim)\n",
    "\n",
    "    return sku_table_df"
   ]
  },
  {
   "cell_type": "code",
   "execution_count": 25,
   "metadata": {},
   "outputs": [],
   "source": [
    "df_skus_fashion = random_skus(10000, 'Fashion')"
   ]
  },
  {
   "cell_type": "code",
   "execution_count": 26,
   "metadata": {},
   "outputs": [
    {
     "data": {
      "text/html": [
       "<div>\n",
       "<style scoped>\n",
       "    .dataframe tbody tr th:only-of-type {\n",
       "        vertical-align: middle;\n",
       "    }\n",
       "\n",
       "    .dataframe tbody tr th {\n",
       "        vertical-align: top;\n",
       "    }\n",
       "\n",
       "    .dataframe thead th {\n",
       "        text-align: right;\n",
       "    }\n",
       "</style>\n",
       "<table border=\"1\" class=\"dataframe\">\n",
       "  <thead>\n",
       "    <tr style=\"text-align: right;\">\n",
       "      <th></th>\n",
       "      <th>SKU ID</th>\n",
       "      <th>Category</th>\n",
       "      <th>Size</th>\n",
       "      <th>Length</th>\n",
       "      <th>Width</th>\n",
       "      <th>Height</th>\n",
       "    </tr>\n",
       "  </thead>\n",
       "  <tbody>\n",
       "    <tr>\n",
       "      <th>0</th>\n",
       "      <td>362477f6-c77c-4885-be7e-2de7a75f613e</td>\n",
       "      <td>Socks</td>\n",
       "      <td>L</td>\n",
       "      <td>115.0</td>\n",
       "      <td>78.0</td>\n",
       "      <td>6.0</td>\n",
       "    </tr>\n",
       "    <tr>\n",
       "      <th>1</th>\n",
       "      <td>b6eb585f-73e6-40fa-b424-05f821566941</td>\n",
       "      <td>Pants</td>\n",
       "      <td>L</td>\n",
       "      <td>492.0</td>\n",
       "      <td>316.0</td>\n",
       "      <td>22.0</td>\n",
       "    </tr>\n",
       "    <tr>\n",
       "      <th>2</th>\n",
       "      <td>a66fb21e-6e42-4538-817e-595c35caab65</td>\n",
       "      <td>Socks</td>\n",
       "      <td>M</td>\n",
       "      <td>104.0</td>\n",
       "      <td>82.0</td>\n",
       "      <td>7.0</td>\n",
       "    </tr>\n",
       "    <tr>\n",
       "      <th>3</th>\n",
       "      <td>4d2d2370-6297-43d5-ac0e-61fdae1a826a</td>\n",
       "      <td>Shirt</td>\n",
       "      <td>M</td>\n",
       "      <td>369.0</td>\n",
       "      <td>223.0</td>\n",
       "      <td>12.0</td>\n",
       "    </tr>\n",
       "    <tr>\n",
       "      <th>4</th>\n",
       "      <td>90ed0854-fce7-406a-bc05-494271210ac7</td>\n",
       "      <td>Shirt</td>\n",
       "      <td>S</td>\n",
       "      <td>391.0</td>\n",
       "      <td>197.0</td>\n",
       "      <td>10.0</td>\n",
       "    </tr>\n",
       "    <tr>\n",
       "      <th>...</th>\n",
       "      <td>...</td>\n",
       "      <td>...</td>\n",
       "      <td>...</td>\n",
       "      <td>...</td>\n",
       "      <td>...</td>\n",
       "      <td>...</td>\n",
       "    </tr>\n",
       "    <tr>\n",
       "      <th>9995</th>\n",
       "      <td>07b67dae-0e81-411f-83c9-8e715d69491e</td>\n",
       "      <td>Socks</td>\n",
       "      <td>L</td>\n",
       "      <td>111.0</td>\n",
       "      <td>85.0</td>\n",
       "      <td>6.0</td>\n",
       "    </tr>\n",
       "    <tr>\n",
       "      <th>9996</th>\n",
       "      <td>ba9ebc2f-80c2-4889-b797-9128aa50b20a</td>\n",
       "      <td>Shirt</td>\n",
       "      <td>M</td>\n",
       "      <td>373.0</td>\n",
       "      <td>199.0</td>\n",
       "      <td>12.0</td>\n",
       "    </tr>\n",
       "    <tr>\n",
       "      <th>9997</th>\n",
       "      <td>6f91d7e4-0d59-44b3-af76-66824e960a6e</td>\n",
       "      <td>Pants</td>\n",
       "      <td>S</td>\n",
       "      <td>435.0</td>\n",
       "      <td>264.0</td>\n",
       "      <td>15.0</td>\n",
       "    </tr>\n",
       "    <tr>\n",
       "      <th>9998</th>\n",
       "      <td>2925412a-5139-4244-bb03-598daf47db81</td>\n",
       "      <td>Pants</td>\n",
       "      <td>L</td>\n",
       "      <td>501.0</td>\n",
       "      <td>289.0</td>\n",
       "      <td>22.0</td>\n",
       "    </tr>\n",
       "    <tr>\n",
       "      <th>9999</th>\n",
       "      <td>55a48cc2-6840-4b9a-b22e-84575f56ecc5</td>\n",
       "      <td>Pants</td>\n",
       "      <td>S</td>\n",
       "      <td>457.0</td>\n",
       "      <td>234.0</td>\n",
       "      <td>15.0</td>\n",
       "    </tr>\n",
       "  </tbody>\n",
       "</table>\n",
       "<p>10000 rows × 6 columns</p>\n",
       "</div>"
      ],
      "text/plain": [
       "                                    SKU ID Category Size  Length  Width  \\\n",
       "0     362477f6-c77c-4885-be7e-2de7a75f613e    Socks    L   115.0   78.0   \n",
       "1     b6eb585f-73e6-40fa-b424-05f821566941    Pants    L   492.0  316.0   \n",
       "2     a66fb21e-6e42-4538-817e-595c35caab65    Socks    M   104.0   82.0   \n",
       "3     4d2d2370-6297-43d5-ac0e-61fdae1a826a    Shirt    M   369.0  223.0   \n",
       "4     90ed0854-fce7-406a-bc05-494271210ac7    Shirt    S   391.0  197.0   \n",
       "...                                    ...      ...  ...     ...    ...   \n",
       "9995  07b67dae-0e81-411f-83c9-8e715d69491e    Socks    L   111.0   85.0   \n",
       "9996  ba9ebc2f-80c2-4889-b797-9128aa50b20a    Shirt    M   373.0  199.0   \n",
       "9997  6f91d7e4-0d59-44b3-af76-66824e960a6e    Pants    S   435.0  264.0   \n",
       "9998  2925412a-5139-4244-bb03-598daf47db81    Pants    L   501.0  289.0   \n",
       "9999  55a48cc2-6840-4b9a-b22e-84575f56ecc5    Pants    S   457.0  234.0   \n",
       "\n",
       "      Height  \n",
       "0        6.0  \n",
       "1       22.0  \n",
       "2        7.0  \n",
       "3       12.0  \n",
       "4       10.0  \n",
       "...      ...  \n",
       "9995     6.0  \n",
       "9996    12.0  \n",
       "9997    15.0  \n",
       "9998    22.0  \n",
       "9999    15.0  \n",
       "\n",
       "[10000 rows x 6 columns]"
      ]
     },
     "execution_count": 26,
     "metadata": {},
     "output_type": "execute_result"
    }
   ],
   "source": [
    "df_skus_fashion"
   ]
  },
  {
   "cell_type": "code",
   "execution_count": 27,
   "metadata": {},
   "outputs": [
    {
     "data": {
      "image/png": "[encoded data removed]",
      "text/plain": [
       "<Figure size 2000x500 with 1 Axes>"
      ]
     },
     "metadata": {},
     "output_type": "display_data"
    }
   ],
   "source": [
    "plt.figure(figsize=(20, 5))\n",
    "sns.histplot(df_skus_fashion[['Length', 'Width', 'Height']], bins=100);"
   ]
  },
  {
   "cell_type": "code",
   "execution_count": 170,
   "metadata": {},
   "outputs": [
    {
     "data": {
      "image/png": "[encoded data removed]",
      "text/plain": [
       "<Figure size 640x480 with 1 Axes>"
      ]
     },
     "metadata": {},
     "output_type": "display_data"
    }
   ],
   "source": [
    "# Visual check if distribution appears uniform random\n",
    "sns.countplot(x=df_skus_fashion['Category']);"
   ]
  },
  {
   "cell_type": "code",
   "execution_count": 172,
   "metadata": {},
   "outputs": [
    {
     "name": "stdout",
     "output_type": "stream",
     "text": [
      "<class 'pandas.core.frame.DataFrame'>\n",
      "Index: 10000 entries, 0 to 9999\n",
      "Data columns (total 6 columns):\n",
      " #   Column    Non-Null Count  Dtype  \n",
      "---  ------    --------------  -----  \n",
      " 0   SKU ID    10000 non-null  object \n",
      " 1   Category  10000 non-null  object \n",
      " 2   Size      10000 non-null  object \n",
      " 3   Length    10000 non-null  float64\n",
      " 4   Width     10000 non-null  float64\n",
      " 5   Height    10000 non-null  float64\n",
      "dtypes: float64(3), object(3)\n",
      "memory usage: 507.8+ KB\n"
     ]
    }
   ],
   "source": [
    "df_skus_fashion.info()"
   ]
  },
  {
   "cell_type": "code",
   "execution_count": 173,
   "metadata": {},
   "outputs": [
    {
     "data": {
      "text/html": [
       "<div>\n",
       "<style scoped>\n",
       "    .dataframe tbody tr th:only-of-type {\n",
       "        vertical-align: middle;\n",
       "    }\n",
       "\n",
       "    .dataframe tbody tr th {\n",
       "        vertical-align: top;\n",
       "    }\n",
       "\n",
       "    .dataframe thead th {\n",
       "        text-align: right;\n",
       "    }\n",
       "</style>\n",
       "<table border=\"1\" class=\"dataframe\">\n",
       "  <thead>\n",
       "    <tr style=\"text-align: right;\">\n",
       "      <th></th>\n",
       "      <th>Length</th>\n",
       "      <th>Width</th>\n",
       "      <th>Height</th>\n",
       "    </tr>\n",
       "  </thead>\n",
       "  <tbody>\n",
       "    <tr>\n",
       "      <th>count</th>\n",
       "      <td>10000.000000</td>\n",
       "      <td>10000.000000</td>\n",
       "      <td>10000.000000</td>\n",
       "    </tr>\n",
       "    <tr>\n",
       "      <th>mean</th>\n",
       "      <td>307.561300</td>\n",
       "      <td>183.752400</td>\n",
       "      <td>14.158600</td>\n",
       "    </tr>\n",
       "    <tr>\n",
       "      <th>std</th>\n",
       "      <td>144.973185</td>\n",
       "      <td>81.113593</td>\n",
       "      <td>6.673927</td>\n",
       "    </tr>\n",
       "    <tr>\n",
       "      <th>min</th>\n",
       "      <td>98.000000</td>\n",
       "      <td>71.000000</td>\n",
       "      <td>6.000000</td>\n",
       "    </tr>\n",
       "    <tr>\n",
       "      <th>25%</th>\n",
       "      <td>117.000000</td>\n",
       "      <td>76.000000</td>\n",
       "      <td>6.000000</td>\n",
       "    </tr>\n",
       "    <tr>\n",
       "      <th>50%</th>\n",
       "      <td>367.000000</td>\n",
       "      <td>209.000000</td>\n",
       "      <td>14.000000</td>\n",
       "    </tr>\n",
       "    <tr>\n",
       "      <th>75%</th>\n",
       "      <td>391.000000</td>\n",
       "      <td>237.000000</td>\n",
       "      <td>18.000000</td>\n",
       "    </tr>\n",
       "    <tr>\n",
       "      <th>max</th>\n",
       "      <td>489.000000</td>\n",
       "      <td>285.000000</td>\n",
       "      <td>25.000000</td>\n",
       "    </tr>\n",
       "  </tbody>\n",
       "</table>\n",
       "</div>"
      ],
      "text/plain": [
       "             Length         Width        Height\n",
       "count  10000.000000  10000.000000  10000.000000\n",
       "mean     307.561300    183.752400     14.158600\n",
       "std      144.973185     81.113593      6.673927\n",
       "min       98.000000     71.000000      6.000000\n",
       "25%      117.000000     76.000000      6.000000\n",
       "50%      367.000000    209.000000     14.000000\n",
       "75%      391.000000    237.000000     18.000000\n",
       "max      489.000000    285.000000     25.000000"
      ]
     },
     "execution_count": 173,
     "metadata": {},
     "output_type": "execute_result"
    }
   ],
   "source": [
    "df_skus_fashion.describe()"
   ]
  },
  {
   "cell_type": "code",
   "execution_count": 28,
   "metadata": {},
   "outputs": [
    {
     "data": {
      "text/html": [
       "<div>\n",
       "<style scoped>\n",
       "    .dataframe tbody tr th:only-of-type {\n",
       "        vertical-align: middle;\n",
       "    }\n",
       "\n",
       "    .dataframe tbody tr th {\n",
       "        vertical-align: top;\n",
       "    }\n",
       "\n",
       "    .dataframe thead th {\n",
       "        text-align: right;\n",
       "    }\n",
       "</style>\n",
       "<table border=\"1\" class=\"dataframe\">\n",
       "  <thead>\n",
       "    <tr style=\"text-align: right;\">\n",
       "      <th></th>\n",
       "      <th>SKU ID</th>\n",
       "      <th>Category</th>\n",
       "      <th>Size</th>\n",
       "      <th>Length</th>\n",
       "      <th>Width</th>\n",
       "      <th>Height</th>\n",
       "    </tr>\n",
       "  </thead>\n",
       "  <tbody>\n",
       "    <tr>\n",
       "      <th>0</th>\n",
       "      <td>e930ad48-3958-4bb0-a124-d2e94a3ffd55</td>\n",
       "      <td>Bag of rice</td>\n",
       "      <td>M</td>\n",
       "      <td>469.0</td>\n",
       "      <td>396.0</td>\n",
       "      <td>272.0</td>\n",
       "    </tr>\n",
       "    <tr>\n",
       "      <th>1</th>\n",
       "      <td>9bbeb89e-51ca-49e6-84d7-6cabf7567a4f</td>\n",
       "      <td>Bag of rice</td>\n",
       "      <td>S</td>\n",
       "      <td>531.0</td>\n",
       "      <td>306.0</td>\n",
       "      <td>262.0</td>\n",
       "    </tr>\n",
       "    <tr>\n",
       "      <th>2</th>\n",
       "      <td>f28e9923-3ea7-4f20-b33f-7485e29fb3a3</td>\n",
       "      <td>Bag of rice</td>\n",
       "      <td>S</td>\n",
       "      <td>656.0</td>\n",
       "      <td>432.0</td>\n",
       "      <td>242.0</td>\n",
       "    </tr>\n",
       "    <tr>\n",
       "      <th>3</th>\n",
       "      <td>1b8803f7-e3b8-4be4-8598-c0a0f69319d9</td>\n",
       "      <td>Box of cereals</td>\n",
       "      <td>M</td>\n",
       "      <td>231.0</td>\n",
       "      <td>165.0</td>\n",
       "      <td>9.0</td>\n",
       "    </tr>\n",
       "    <tr>\n",
       "      <th>4</th>\n",
       "      <td>20a2ba64-0ccc-4320-be69-7ff36e5925ae</td>\n",
       "      <td>Bag of rice</td>\n",
       "      <td>L</td>\n",
       "      <td>573.0</td>\n",
       "      <td>318.0</td>\n",
       "      <td>267.0</td>\n",
       "    </tr>\n",
       "    <tr>\n",
       "      <th>...</th>\n",
       "      <td>...</td>\n",
       "      <td>...</td>\n",
       "      <td>...</td>\n",
       "      <td>...</td>\n",
       "      <td>...</td>\n",
       "      <td>...</td>\n",
       "    </tr>\n",
       "    <tr>\n",
       "      <th>995</th>\n",
       "      <td>1f8ac937-b55b-4943-ae70-68a0a421f816</td>\n",
       "      <td>Bag of rice</td>\n",
       "      <td>S</td>\n",
       "      <td>564.0</td>\n",
       "      <td>390.0</td>\n",
       "      <td>278.0</td>\n",
       "    </tr>\n",
       "    <tr>\n",
       "      <th>996</th>\n",
       "      <td>45da2779-e2b7-42f7-aac1-a3b458cb0714</td>\n",
       "      <td>Bag of rice</td>\n",
       "      <td>M</td>\n",
       "      <td>568.0</td>\n",
       "      <td>430.0</td>\n",
       "      <td>274.0</td>\n",
       "    </tr>\n",
       "    <tr>\n",
       "      <th>997</th>\n",
       "      <td>3b663baf-7f57-4e61-a811-6a42922a786e</td>\n",
       "      <td>Box of cereals</td>\n",
       "      <td>L</td>\n",
       "      <td>252.0</td>\n",
       "      <td>160.0</td>\n",
       "      <td>11.0</td>\n",
       "    </tr>\n",
       "    <tr>\n",
       "      <th>998</th>\n",
       "      <td>87e3aa16-c6f0-4f55-925c-bce7a513408e</td>\n",
       "      <td>Box of cereals</td>\n",
       "      <td>L</td>\n",
       "      <td>250.0</td>\n",
       "      <td>155.0</td>\n",
       "      <td>10.0</td>\n",
       "    </tr>\n",
       "    <tr>\n",
       "      <th>999</th>\n",
       "      <td>a9a1a938-f814-4438-8866-1a8d27447902</td>\n",
       "      <td>Box of cereals</td>\n",
       "      <td>M</td>\n",
       "      <td>235.0</td>\n",
       "      <td>152.0</td>\n",
       "      <td>10.0</td>\n",
       "    </tr>\n",
       "  </tbody>\n",
       "</table>\n",
       "<p>1000 rows × 6 columns</p>\n",
       "</div>"
      ],
      "text/plain": [
       "                                   SKU ID        Category Size  Length  Width  \\\n",
       "0    e930ad48-3958-4bb0-a124-d2e94a3ffd55     Bag of rice    M   469.0  396.0   \n",
       "1    9bbeb89e-51ca-49e6-84d7-6cabf7567a4f     Bag of rice    S   531.0  306.0   \n",
       "2    f28e9923-3ea7-4f20-b33f-7485e29fb3a3     Bag of rice    S   656.0  432.0   \n",
       "3    1b8803f7-e3b8-4be4-8598-c0a0f69319d9  Box of cereals    M   231.0  165.0   \n",
       "4    20a2ba64-0ccc-4320-be69-7ff36e5925ae     Bag of rice    L   573.0  318.0   \n",
       "..                                    ...             ...  ...     ...    ...   \n",
       "995  1f8ac937-b55b-4943-ae70-68a0a421f816     Bag of rice    S   564.0  390.0   \n",
       "996  45da2779-e2b7-42f7-aac1-a3b458cb0714     Bag of rice    M   568.0  430.0   \n",
       "997  3b663baf-7f57-4e61-a811-6a42922a786e  Box of cereals    L   252.0  160.0   \n",
       "998  87e3aa16-c6f0-4f55-925c-bce7a513408e  Box of cereals    L   250.0  155.0   \n",
       "999  a9a1a938-f814-4438-8866-1a8d27447902  Box of cereals    M   235.0  152.0   \n",
       "\n",
       "     Height  \n",
       "0     272.0  \n",
       "1     262.0  \n",
       "2     242.0  \n",
       "3       9.0  \n",
       "4     267.0  \n",
       "..      ...  \n",
       "995   278.0  \n",
       "996   274.0  \n",
       "997    11.0  \n",
       "998    10.0  \n",
       "999    10.0  \n",
       "\n",
       "[1000 rows x 6 columns]"
      ]
     },
     "execution_count": 28,
     "metadata": {},
     "output_type": "execute_result"
    }
   ],
   "source": [
    "df_skus_food = random_skus(1000, 'Food')\n",
    "df_skus_food"
   ]
  },
  {
   "cell_type": "code",
   "execution_count": 29,
   "metadata": {},
   "outputs": [
    {
     "data": {
      "image/png": "[encoded data removed]",
      "text/plain": [
       "<Figure size 2000x500 with 1 Axes>"
      ]
     },
     "metadata": {},
     "output_type": "display_data"
    }
   ],
   "source": [
    "plt.figure(figsize=(20, 5))\n",
    "sns.histplot(df_skus_food[['Length', 'Width', 'Height']], bins=100);"
   ]
  },
  {
   "cell_type": "code",
   "execution_count": 139,
   "metadata": {},
   "outputs": [
    {
     "data": {
      "image/png": "[encoded data removed]",
      "text/plain": [
       "<Figure size 640x480 with 1 Axes>"
      ]
     },
     "metadata": {},
     "output_type": "display_data"
    }
   ],
   "source": [
    "sns.countplot(x=df_skus_food['Category']);"
   ]
  },
  {
   "cell_type": "markdown",
   "metadata": {},
   "source": [
    "### Notes\n",
    "At this stage, the produced values are only to showcase the functionality and are not representative of real world data.\n",
    "At a later time, more realistic data needs to be produced.\n",
    "\n",
    "---"
   ]
  },
  {
   "cell_type": "markdown",
   "metadata": {},
   "source": [
    "## Random order table generator\n",
    "\n",
    "### Considerations\n",
    "Like in most other ares in business, the SKU-velocity distribution in a typical order profil corresponds to an 80/20, or in some cases 70/30, ratio (20% of the SKUs representing 80% of the order volume.). Based on this, SKUs will belong to velocity classes (A, B, C), depending how fast they are moving. Therefore, the available SKUs need to be assigned orders in a way that follows this rule.\n",
    "\n",
    "<img src=\"https://interlakemecalux.cdnwm.com/blog/img/80-20-pareto-principle.1.2.jpg\" width=\"650\"/>\n",
    "\n",
    "There is a specific, somewhat business-specific, order profile (units per-order line and order lines per order).\n",
    "\n",
    "Ultimately, there must be a selection of order profiles that go in line with different market segments and business types.\n",
    "\n",
    "### Objectives\n",
    "The goal is to create a function that generates a table of random orders. The order profile (units per order line, order lines per order) as well as the volume distribution of the SKUs (Pareto principle) must represent a real live scenario and must be adjustable by the user.\n",
    "\n",
    "The initial table must contain at minimum the following columns:\n",
    "\n",
    "| Date | Order ID | SKU ID | Quantity |\n",
    "| ---- | ---- | ---- | ---- |\n",
    "| numerical | categorical | categorical | numerical |\n",
    "\n",
    "#### Steps in detail\n",
    "1) Define range of days based on user input\n",
    "2) Assign random number of orders to each day while assigning a number of order lines (SKUs) - for the beginning random, normal, right skewed\n",
    "3) Develop method to randomly distribute SKUs across all orders - for the beginning randomly, based on 80/20 rule\n",
    "4) Creating the order line pool\n",
    "5) Putting all together"
   ]
  },
  {
   "cell_type": "markdown",
   "metadata": {},
   "source": [
    "---\n",
    "#### 1. Define range of days"
   ]
  },
  {
   "cell_type": "code",
   "execution_count": 30,
   "metadata": {},
   "outputs": [],
   "source": [
    "def day_definer(num):\n",
    "    '''\n",
    "    Function to create a list of days. First day of range is current day\n",
    "    Input:\n",
    "    - Number of days\n",
    "    Outbout:\n",
    "    - List of days in the range of first day to last day\n",
    "    '''\n",
    "\n",
    "    return pd.date_range(datetime.today(), periods=num).date.tolist()"
   ]
  },
  {
   "cell_type": "code",
   "execution_count": 31,
   "metadata": {},
   "outputs": [
    {
     "data": {
      "text/plain": [
       "[datetime.date(2024, 1, 27),\n",
       " datetime.date(2024, 1, 28),\n",
       " datetime.date(2024, 1, 29),\n",
       " datetime.date(2024, 1, 30),\n",
       " datetime.date(2024, 1, 31),\n",
       " datetime.date(2024, 2, 1),\n",
       " datetime.date(2024, 2, 2),\n",
       " datetime.date(2024, 2, 3),\n",
       " datetime.date(2024, 2, 4),\n",
       " datetime.date(2024, 2, 5),\n",
       " datetime.date(2024, 2, 6),\n",
       " datetime.date(2024, 2, 7),\n",
       " datetime.date(2024, 2, 8),\n",
       " datetime.date(2024, 2, 9),\n",
       " datetime.date(2024, 2, 10),\n",
       " datetime.date(2024, 2, 11),\n",
       " datetime.date(2024, 2, 12),\n",
       " datetime.date(2024, 2, 13),\n",
       " datetime.date(2024, 2, 14),\n",
       " datetime.date(2024, 2, 15),\n",
       " datetime.date(2024, 2, 16),\n",
       " datetime.date(2024, 2, 17),\n",
       " datetime.date(2024, 2, 18),\n",
       " datetime.date(2024, 2, 19),\n",
       " datetime.date(2024, 2, 20),\n",
       " datetime.date(2024, 2, 21),\n",
       " datetime.date(2024, 2, 22),\n",
       " datetime.date(2024, 2, 23),\n",
       " datetime.date(2024, 2, 24),\n",
       " datetime.date(2024, 2, 25),\n",
       " datetime.date(2024, 2, 26),\n",
       " datetime.date(2024, 2, 27),\n",
       " datetime.date(2024, 2, 28),\n",
       " datetime.date(2024, 2, 29),\n",
       " datetime.date(2024, 3, 1),\n",
       " datetime.date(2024, 3, 2),\n",
       " datetime.date(2024, 3, 3),\n",
       " datetime.date(2024, 3, 4),\n",
       " datetime.date(2024, 3, 5),\n",
       " datetime.date(2024, 3, 6),\n",
       " datetime.date(2024, 3, 7),\n",
       " datetime.date(2024, 3, 8),\n",
       " datetime.date(2024, 3, 9),\n",
       " datetime.date(2024, 3, 10),\n",
       " datetime.date(2024, 3, 11),\n",
       " datetime.date(2024, 3, 12),\n",
       " datetime.date(2024, 3, 13),\n",
       " datetime.date(2024, 3, 14),\n",
       " datetime.date(2024, 3, 15),\n",
       " datetime.date(2024, 3, 16),\n",
       " datetime.date(2024, 3, 17),\n",
       " datetime.date(2024, 3, 18),\n",
       " datetime.date(2024, 3, 19),\n",
       " datetime.date(2024, 3, 20),\n",
       " datetime.date(2024, 3, 21),\n",
       " datetime.date(2024, 3, 22),\n",
       " datetime.date(2024, 3, 23),\n",
       " datetime.date(2024, 3, 24),\n",
       " datetime.date(2024, 3, 25),\n",
       " datetime.date(2024, 3, 26),\n",
       " datetime.date(2024, 3, 27),\n",
       " datetime.date(2024, 3, 28),\n",
       " datetime.date(2024, 3, 29),\n",
       " datetime.date(2024, 3, 30),\n",
       " datetime.date(2024, 3, 31),\n",
       " datetime.date(2024, 4, 1),\n",
       " datetime.date(2024, 4, 2),\n",
       " datetime.date(2024, 4, 3),\n",
       " datetime.date(2024, 4, 4),\n",
       " datetime.date(2024, 4, 5),\n",
       " datetime.date(2024, 4, 6),\n",
       " datetime.date(2024, 4, 7),\n",
       " datetime.date(2024, 4, 8),\n",
       " datetime.date(2024, 4, 9),\n",
       " datetime.date(2024, 4, 10),\n",
       " datetime.date(2024, 4, 11),\n",
       " datetime.date(2024, 4, 12),\n",
       " datetime.date(2024, 4, 13),\n",
       " datetime.date(2024, 4, 14),\n",
       " datetime.date(2024, 4, 15),\n",
       " datetime.date(2024, 4, 16),\n",
       " datetime.date(2024, 4, 17),\n",
       " datetime.date(2024, 4, 18),\n",
       " datetime.date(2024, 4, 19),\n",
       " datetime.date(2024, 4, 20),\n",
       " datetime.date(2024, 4, 21),\n",
       " datetime.date(2024, 4, 22),\n",
       " datetime.date(2024, 4, 23),\n",
       " datetime.date(2024, 4, 24),\n",
       " datetime.date(2024, 4, 25)]"
      ]
     },
     "execution_count": 31,
     "metadata": {},
     "output_type": "execute_result"
    }
   ],
   "source": [
    "lst_days = day_definer(90)\n",
    "lst_days"
   ]
  },
  {
   "cell_type": "markdown",
   "metadata": {},
   "source": [
    "#### 2. Assign random number of orders per day\n",
    "Each day needs to get a number of orders assigned."
   ]
  },
  {
   "cell_type": "code",
   "execution_count": 35,
   "metadata": {},
   "outputs": [],
   "source": [
    "def order_generator(orders_per_day, avg_lines_order, order_std, min_order_size):\n",
    "\n",
    "    return np.round(abs(np.random.normal(loc=avg_lines_order, scale=order_std, size=orders_per_day))) + min_order_size"
   ]
  },
  {
   "cell_type": "code",
   "execution_count": 36,
   "metadata": {},
   "outputs": [],
   "source": [
    "test_orders = order_generator(1000, 30, 10, 3)"
   ]
  },
  {
   "cell_type": "code",
   "execution_count": 37,
   "metadata": {},
   "outputs": [
    {
     "data": {
      "text/plain": [
       "array([32., 46., 27., 36., 31., 22., 16., 38., 27., 52., 40., 21., 36.,\n",
       "       27., 31., 22., 45., 42., 15., 27., 34., 42., 51., 20., 24., 52.,\n",
       "       17., 32., 34., 40., 14., 38., 38., 27., 40., 37., 43., 28., 22.,\n",
       "       44., 44., 41., 38., 42., 46., 28., 23., 29., 46., 28., 35., 37.,\n",
       "       28., 37., 33., 27., 34., 21., 41., 43., 46., 21., 39., 35., 41.,\n",
       "       48., 23., 13., 29., 43., 44., 22., 34., 54., 13., 50., 47., 46.,\n",
       "       40., 42., 31., 26., 24., 29., 37., 34., 48., 14., 59., 31., 23.,\n",
       "       46., 24., 15., 44., 42., 26., 47., 31., 47., 40., 28., 13., 43.,\n",
       "       36., 29., 41., 24., 37., 30., 21., 49., 37., 29., 30., 31., 35.,\n",
       "       26., 22., 37., 61., 36., 25., 18., 41., 41., 29., 10., 34., 12.,\n",
       "       29., 16., 32., 31., 39., 34., 33., 36., 33., 26., 47., 33., 27.,\n",
       "       23., 28., 28., 15., 31., 25., 54., 29., 40., 40., 17., 15., 15.,\n",
       "       40., 27., 28., 23., 27., 36., 22., 28., 27., 38., 21., 29., 43.,\n",
       "       23., 28., 41., 21., 36., 36., 45., 21.,  8., 25., 23., 42., 28.,\n",
       "       34., 40., 24., 40., 12., 28., 16., 37., 23., 31., 33., 39., 44.,\n",
       "       20., 39., 42., 24., 32., 31., 41., 47., 50., 27., 25., 41., 26.,\n",
       "       33., 39., 36., 16., 53., 29., 46., 24., 29., 18., 24., 41., 34.,\n",
       "       23., 36., 19., 30., 37., 42., 38., 36., 35., 41., 52., 23., 39.,\n",
       "       26., 36., 43., 24., 39., 24., 31., 36., 32., 30., 24., 36., 31.,\n",
       "       53., 28., 28., 44., 41., 22., 28., 26., 30., 44., 45., 26., 39.,\n",
       "       23., 35., 25., 43., 25., 31., 22., 28., 27., 51., 43., 31., 22.,\n",
       "       34., 42., 41., 40., 50., 31., 30., 26., 42., 35., 17., 39., 28.,\n",
       "       16., 11., 23., 40., 30., 28., 43., 46., 43., 40., 27., 24., 26.,\n",
       "       34., 37., 38., 31.,  9., 25., 39., 32., 43., 32., 45., 40., 30.,\n",
       "       43., 32., 43., 27., 53., 39., 40., 48., 35., 25., 21.,  9., 28.,\n",
       "       34., 16., 30., 35., 45., 35., 41., 36., 34., 51., 34., 18., 42.,\n",
       "       21., 47., 44., 20., 20., 36., 39., 22., 33., 30., 20., 24., 14.,\n",
       "       55., 35., 23., 34., 38., 49., 37., 35., 38., 25., 33., 38., 28.,\n",
       "       29., 10., 34., 27., 40., 23., 35., 32., 49., 33., 45., 33., 37.,\n",
       "       37., 36., 60., 23., 44., 21., 45., 27., 45., 44., 25., 36., 31.,\n",
       "       25., 42., 33., 36., 43., 25., 35., 21., 16., 53., 27., 39., 35.,\n",
       "       25., 34., 41., 38., 39., 41., 28., 30., 49., 22., 43., 17., 47.,\n",
       "       38., 38., 32., 25., 43., 13., 11., 38., 37., 30., 38., 46., 33.,\n",
       "       37., 20., 25., 18., 34., 46., 43., 37., 45., 39., 25., 45., 45.,\n",
       "       43., 11., 34., 22., 30., 28., 22., 31., 30., 30., 43., 36., 39.,\n",
       "       44., 43., 41., 23., 33., 35., 42., 44., 47., 26., 24., 36., 52.,\n",
       "       35., 32., 53., 27., 37., 11., 20., 24., 14., 35., 28., 30., 35.,\n",
       "       40., 30., 27., 23., 28., 42., 38., 43., 42., 26., 33., 28., 44.,\n",
       "       46., 40., 14., 15., 30., 34., 24., 31., 21., 27., 42., 37., 45.,\n",
       "       40., 28., 34.,  3., 24., 34., 22., 36., 21., 32., 52., 28., 31.,\n",
       "       38., 36., 20., 13., 39., 22., 51., 43., 20., 22., 27., 28., 25.,\n",
       "       32., 33., 36., 47., 30., 22., 38., 26., 27., 37., 32., 30., 37.,\n",
       "       25., 16., 30., 44., 41., 25., 28., 32., 35., 34., 16., 37., 27.,\n",
       "       27., 45., 41., 34., 21., 37., 30., 36., 35., 27., 32., 29., 22.,\n",
       "       39., 32., 30., 42., 42., 36., 34., 21., 10., 23., 56., 38., 30.,\n",
       "       15., 40., 40., 18., 31., 25., 31., 21., 12., 25., 29., 22., 27.,\n",
       "       41., 30., 31., 52., 24., 50., 30., 32., 40., 28., 38., 34., 24.,\n",
       "       39., 30., 33., 38., 35., 43., 27., 21., 43., 46., 51., 32., 18.,\n",
       "       47., 32., 33., 33., 33., 36., 31., 49., 39., 18., 38., 43., 40.,\n",
       "       15., 23., 33., 52., 23., 26., 48., 32., 47., 42., 45., 33., 53.,\n",
       "       23., 24., 25., 43., 32., 29., 43., 43., 31., 27., 30., 52., 39.,\n",
       "       24., 47., 16., 41., 42., 24., 31., 17., 40., 21., 33., 21., 44.,\n",
       "       29., 58., 38., 27., 36., 29., 37., 43., 31., 30., 28., 35., 15.,\n",
       "       29., 34., 40., 29., 19., 20., 26., 28., 33., 32., 40., 27., 32.,\n",
       "       30., 30., 20., 43., 39., 50., 29., 32., 53., 34., 53., 43., 30.,\n",
       "       40., 29., 21., 20., 36., 35., 22., 30., 38., 11., 36., 20., 42.,\n",
       "       50., 45., 43., 22., 29., 33., 44., 47., 30., 32., 31., 32., 44.,\n",
       "       41., 30., 38., 23., 33., 38., 16., 35., 35., 23., 36., 22., 58.,\n",
       "       32., 21., 32., 37., 40., 35., 27., 31., 39., 32., 25., 34., 23.,\n",
       "       43., 47., 31., 42., 29., 41., 45., 57., 28., 22., 46., 35., 18.,\n",
       "       60., 36., 26., 56., 26., 26., 55., 25., 21., 34., 41., 34., 21.,\n",
       "       29., 23., 41., 45., 27., 35., 33., 43., 36., 60., 24., 50., 44.,\n",
       "       27., 22., 38., 38., 46., 26., 32., 18., 35., 34., 40., 30., 23.,\n",
       "       47., 31., 50., 28., 25., 37., 51., 41., 31., 39., 44., 43., 33.,\n",
       "       42., 25., 27., 30., 47., 33., 16., 38., 35., 57., 23., 37., 47.,\n",
       "       33., 45., 23., 49., 36., 25., 37., 20., 49., 44., 36., 40., 48.,\n",
       "       33., 36., 42., 41., 44., 41., 30., 21., 41., 42., 31., 21., 46.,\n",
       "       37., 38., 33., 23., 37., 46., 18., 15., 25., 32., 20., 17., 54.,\n",
       "       38., 38., 42., 28., 34., 37., 32., 27., 40., 15., 37., 25., 28.,\n",
       "       23., 44., 38., 23., 23.,  6., 26., 32., 32., 37., 31., 24., 22.,\n",
       "       32., 27., 44., 31., 30., 21.,  7., 34., 31., 45., 41., 40., 36.,\n",
       "       20., 28., 32., 27., 24., 43., 18., 38., 38., 28., 48., 33., 16.,\n",
       "       26., 30., 21., 43., 40., 30., 43., 35., 35., 32., 42., 37., 40.,\n",
       "       48., 43., 28., 28., 15., 15., 34., 40., 50., 25., 39., 26., 48.,\n",
       "       47., 37., 41., 36., 27., 32., 31., 42., 32., 26., 36., 13., 29.,\n",
       "       36., 23., 27., 22., 27., 38., 13., 30., 52., 35., 49., 16., 45.,\n",
       "       11., 48., 40., 31., 26., 27., 28., 42., 34., 23., 28., 53.])"
      ]
     },
     "execution_count": 37,
     "metadata": {},
     "output_type": "execute_result"
    }
   ],
   "source": [
    "test_orders"
   ]
  },
  {
   "cell_type": "code",
   "execution_count": 38,
   "metadata": {},
   "outputs": [
    {
     "data": {
      "text/plain": [
       "(array([ 1.,  0.,  0.,  1.,  1.,  1.,  2.,  3.,  6.,  3.,  7.,  5., 13.,\n",
       "        14.,  6., 11.,  2., 16., 27., 26., 34., 25., 30., 24., 41., 42.,\n",
       "        25., 42., 38., 40., 32., 36., 33., 40., 34., 36., 25., 36., 31.,\n",
       "        29., 39., 23., 20., 16., 18.,  9.,  8.,  9.,  6.,  9.,  9.,  3.,\n",
       "         2.,  2.,  2.,  2.,  1.,  4.]),\n",
       " array([ 3.,  4.,  5.,  6.,  7.,  8.,  9., 10., 11., 12., 13., 14., 15.,\n",
       "        16., 17., 18., 19., 20., 21., 22., 23., 24., 25., 26., 27., 28.,\n",
       "        29., 30., 31., 32., 33., 34., 35., 36., 37., 38., 39., 40., 41.,\n",
       "        42., 43., 44., 45., 46., 47., 48., 49., 50., 51., 52., 53., 54.,\n",
       "        55., 56., 57., 58., 59., 60., 61.]),\n",
       " <BarContainer object of 58 artists>)"
      ]
     },
     "execution_count": 38,
     "metadata": {},
     "output_type": "execute_result"
    },
    {
     "data": {
      "image/png": "[encoded data removed]",
      "text/plain": [
       "<Figure size 640x480 with 1 Axes>"
      ]
     },
     "metadata": {},
     "output_type": "display_data"
    }
   ],
   "source": [
    "# Plot:\n",
    "axis = np.arange(start=min(test_orders), stop = max(test_orders) + 1)\n",
    "plt.hist(test_orders, bins = axis)"
   ]
  },
  {
   "cell_type": "markdown",
   "metadata": {},
   "source": [
    "The number of orders per day is in this case 1000. This needs to be randomized as well when assigning orders for a range of days."
   ]
  },
  {
   "cell_type": "code",
   "execution_count": 39,
   "metadata": {},
   "outputs": [],
   "source": [
    "def order_generator(avg_orders_per_day, avg_lines_order, order_std, min_order_size):\n",
    "\n",
    "    orders_per_day = np.round(abs(np.random.normal(loc=avg_orders_per_day, scale=50, size=1))).astype(int) # For simplicity, the standard deviation was set to 10\n",
    "    return np.round(abs(np.random.normal(loc=avg_lines_order, scale=order_std, size=orders_per_day))) + min_order_size"
   ]
  },
  {
   "cell_type": "code",
   "execution_count": 42,
   "metadata": {},
   "outputs": [],
   "source": [
    "test_orders = order_generator(1000, 30, 10, 3)"
   ]
  },
  {
   "cell_type": "code",
   "execution_count": 43,
   "metadata": {},
   "outputs": [
    {
     "data": {
      "text/plain": [
       "(array([ 1.,  1.,  1.,  2.,  2.,  5.,  2.,  8.,  6.,  8.,  7., 14.,  6.,\n",
       "        10., 12., 13., 29., 22., 32., 33., 23., 46., 37., 32., 27., 25.,\n",
       "        36., 37., 36., 40., 50., 27., 38., 34., 33., 28., 17., 24., 23.,\n",
       "        20., 16., 12., 10.,  8.,  9.,  7., 10.,  7.,  6.,  3.,  3.,  3.,\n",
       "         1.,  3.,  2.,  1.,  0.,  1.,  0.,  0.,  2.]),\n",
       " array([ 6.,  7.,  8.,  9., 10., 11., 12., 13., 14., 15., 16., 17., 18.,\n",
       "        19., 20., 21., 22., 23., 24., 25., 26., 27., 28., 29., 30., 31.,\n",
       "        32., 33., 34., 35., 36., 37., 38., 39., 40., 41., 42., 43., 44.,\n",
       "        45., 46., 47., 48., 49., 50., 51., 52., 53., 54., 55., 56., 57.,\n",
       "        58., 59., 60., 61., 62., 63., 64., 65., 66., 67.]),\n",
       " <BarContainer object of 61 artists>)"
      ]
     },
     "execution_count": 43,
     "metadata": {},
     "output_type": "execute_result"
    },
    {
     "data": {
      "image/png": "[encoded data removed]",
      "text/plain": [
       "<Figure size 640x480 with 1 Axes>"
      ]
     },
     "metadata": {},
     "output_type": "display_data"
    }
   ],
   "source": [
    "# Plot:\n",
    "axis = np.arange(start=min(test_orders), stop = max(test_orders) + 1)\n",
    "plt.hist(test_orders, bins = axis)"
   ]
  },
  {
   "cell_type": "code",
   "execution_count": 44,
   "metadata": {},
   "outputs": [
    {
     "data": {
      "text/plain": [
       "951"
      ]
     },
     "execution_count": 44,
     "metadata": {},
     "output_type": "execute_result"
    }
   ],
   "source": [
    "len(test_orders)"
   ]
  },
  {
   "cell_type": "markdown",
   "metadata": {},
   "source": [
    "#### 3. Assigning SKUs\n",
    "The assignment of SKUs may be random, but each SKU will need to have a different velocity, basically how often it is picked during the day. As stated, this distribution will follow the 80/20 rule.\n",
    "\n",
    "First, a pareto distribution of n SKUs with distinct values need to be produced. N is the number of SKUs, and the dependend values represent the number of order lines each SKU is picked during the day.\n",
    "In the next step each SKU will then be translated to a unique identifier (SKU ID), multiplied by the number of order lines it produces during the day, and then be put into a SKU list. This SKU list represents a pool from which order lines can be randomly pulled when a procedure loops throuh all the orders. Because the appearance of SKUs in the list is varying (based on the pareto principle) probability will naturally reproduce the pareto distribution when the oder list is generated."
   ]
  },
  {
   "cell_type": "code",
   "execution_count": 45,
   "metadata": {},
   "outputs": [
    {
     "data": {
      "image/png": "[encoded data removed]",
      "text/plain": [
       "<Figure size 1500x800 with 1 Axes>"
      ]
     },
     "metadata": {},
     "output_type": "display_data"
    }
   ],
   "source": [
    "# Let's review the cumulative density function of the pareto distribution. We will use scipy's pareto library.\n",
    "num_skus = 10000\n",
    "\n",
    "x = np.arange(1, num_skus)\n",
    "\n",
    "pareto_cdf = (pareto.cdf(x, b=0.1, loc=1, scale=1) * 50000).round()\n",
    "\n",
    "plt.figure(figsize=(15, 8))\n",
    "plt.plot(x, pareto_cdf)\n",
    "plt.grid()\n",
    "plt.show()"
   ]
  },
  {
   "cell_type": "code",
   "execution_count": 46,
   "metadata": {},
   "outputs": [
    {
     "data": {
      "text/plain": [
       "27881.72297229723"
      ]
     },
     "execution_count": 46,
     "metadata": {},
     "output_type": "execute_result"
    }
   ],
   "source": [
    "pareto_cdf.mean()"
   ]
  },
  {
   "cell_type": "markdown",
   "metadata": {},
   "source": [
    "This distribution could represent a day in a distribution center. It is very steep in this example and shows how 10,000 SKUs adding adding up to 30,000 order lines. The fastest SKUs are on the left side of the X-axis and generate the biggest part of the order volume. We need the derivation of this function (probability density function) in order to directly get the individual impacts of each SKU."
   ]
  },
  {
   "cell_type": "code",
   "execution_count": 47,
   "metadata": {},
   "outputs": [
    {
     "data": {
      "image/png": "[encoded data removed]",
      "text/plain": [
       "<Figure size 1500x800 with 1 Axes>"
      ]
     },
     "metadata": {},
     "output_type": "display_data"
    }
   ],
   "source": [
    "# Let's try spipy's pdf funtion\n",
    "min_lines = 1\n",
    "lines_range_factor = 100\n",
    "\n",
    "x = np.linspace(1, 10, 1000)\n",
    "\n",
    "pareto_pdf = (pareto.pdf(x, b=1, loc=0, scale=1) * lines_range_factor + min_lines).round()\n",
    "\n",
    "plt.figure(figsize=(15, 8))\n",
    "plt.plot(x, pareto_pdf)\n",
    "plt.grid()\n",
    "plt.show()"
   ]
  },
  {
   "cell_type": "code",
   "execution_count": 48,
   "metadata": {},
   "outputs": [],
   "source": [
    "# Make a function that randomly creates a number of lines from that distribution:\n",
    "\n",
    "def random_line_assigner(min_lines, lines_range):\n",
    "    return np.random.choice((pareto.pdf(x, b=1, loc=0, scale=1) * lines_range + min_lines).round())"
   ]
  },
  {
   "cell_type": "code",
   "execution_count": 79,
   "metadata": {},
   "outputs": [],
   "source": [
    "# generate 1000 samples for testing if distribution will be reflected\n",
    "df_fashion_skus = random_skus(10000, 'Fashion')\n",
    "min_lines = 1\n",
    "lines_range = 100\n",
    "\n",
    "df_fashion_skus['Lines'] = np.random.choice((pareto.pdf(x, b=1, loc=0, scale=1) * lines_range + min_lines).round(), df_fashion_skus.shape[0])\n"
   ]
  },
  {
   "cell_type": "code",
   "execution_count": 80,
   "metadata": {},
   "outputs": [
    {
     "data": {
      "text/html": [
       "<div>\n",
       "<style scoped>\n",
       "    .dataframe tbody tr th:only-of-type {\n",
       "        vertical-align: middle;\n",
       "    }\n",
       "\n",
       "    .dataframe tbody tr th {\n",
       "        vertical-align: top;\n",
       "    }\n",
       "\n",
       "    .dataframe thead th {\n",
       "        text-align: right;\n",
       "    }\n",
       "</style>\n",
       "<table border=\"1\" class=\"dataframe\">\n",
       "  <thead>\n",
       "    <tr style=\"text-align: right;\">\n",
       "      <th></th>\n",
       "      <th>SKU ID</th>\n",
       "      <th>Category</th>\n",
       "      <th>Size</th>\n",
       "      <th>Length</th>\n",
       "      <th>Width</th>\n",
       "      <th>Height</th>\n",
       "      <th>Lines</th>\n",
       "    </tr>\n",
       "  </thead>\n",
       "  <tbody>\n",
       "    <tr>\n",
       "      <th>0</th>\n",
       "      <td>e873e54a-248e-4394-b364-12bd8e8529da</td>\n",
       "      <td>Pants</td>\n",
       "      <td>S</td>\n",
       "      <td>388.0</td>\n",
       "      <td>235.0</td>\n",
       "      <td>14.0</td>\n",
       "      <td>4.0</td>\n",
       "    </tr>\n",
       "    <tr>\n",
       "      <th>1</th>\n",
       "      <td>245947ba-e5fe-4bce-9ae0-2b1dcf5d5400</td>\n",
       "      <td>Pants</td>\n",
       "      <td>L</td>\n",
       "      <td>491.0</td>\n",
       "      <td>272.0</td>\n",
       "      <td>27.0</td>\n",
       "      <td>9.0</td>\n",
       "    </tr>\n",
       "    <tr>\n",
       "      <th>2</th>\n",
       "      <td>b5ca940a-ad79-4f6c-a7d6-cf1b9c2b8ef5</td>\n",
       "      <td>Shirt</td>\n",
       "      <td>S</td>\n",
       "      <td>392.0</td>\n",
       "      <td>196.0</td>\n",
       "      <td>11.0</td>\n",
       "      <td>4.0</td>\n",
       "    </tr>\n",
       "    <tr>\n",
       "      <th>3</th>\n",
       "      <td>7b62ff7f-a2e3-4d67-86fb-ec3d2dc974d7</td>\n",
       "      <td>Pants</td>\n",
       "      <td>L</td>\n",
       "      <td>457.0</td>\n",
       "      <td>309.0</td>\n",
       "      <td>18.0</td>\n",
       "      <td>4.0</td>\n",
       "    </tr>\n",
       "    <tr>\n",
       "      <th>4</th>\n",
       "      <td>9dfa76cd-ff64-4742-b71e-a854b996c20f</td>\n",
       "      <td>Socks</td>\n",
       "      <td>M</td>\n",
       "      <td>111.0</td>\n",
       "      <td>73.0</td>\n",
       "      <td>5.0</td>\n",
       "      <td>4.0</td>\n",
       "    </tr>\n",
       "    <tr>\n",
       "      <th>...</th>\n",
       "      <td>...</td>\n",
       "      <td>...</td>\n",
       "      <td>...</td>\n",
       "      <td>...</td>\n",
       "      <td>...</td>\n",
       "      <td>...</td>\n",
       "      <td>...</td>\n",
       "    </tr>\n",
       "    <tr>\n",
       "      <th>9995</th>\n",
       "      <td>a434aa55-1fdc-4bc1-88bc-be2f25994d41</td>\n",
       "      <td>Shirt</td>\n",
       "      <td>S</td>\n",
       "      <td>364.0</td>\n",
       "      <td>189.0</td>\n",
       "      <td>9.0</td>\n",
       "      <td>43.0</td>\n",
       "    </tr>\n",
       "    <tr>\n",
       "      <th>9996</th>\n",
       "      <td>b1571228-dada-46b1-a357-0fb08b66991e</td>\n",
       "      <td>Pants</td>\n",
       "      <td>L</td>\n",
       "      <td>501.0</td>\n",
       "      <td>286.0</td>\n",
       "      <td>24.0</td>\n",
       "      <td>3.0</td>\n",
       "    </tr>\n",
       "    <tr>\n",
       "      <th>9997</th>\n",
       "      <td>21324f7a-8b47-4d16-8ba7-296a9cbb67c8</td>\n",
       "      <td>Shirt</td>\n",
       "      <td>L</td>\n",
       "      <td>400.0</td>\n",
       "      <td>259.0</td>\n",
       "      <td>12.0</td>\n",
       "      <td>7.0</td>\n",
       "    </tr>\n",
       "    <tr>\n",
       "      <th>9998</th>\n",
       "      <td>f720de8b-394f-4074-9131-a47c8e667edc</td>\n",
       "      <td>Pants</td>\n",
       "      <td>M</td>\n",
       "      <td>400.0</td>\n",
       "      <td>278.0</td>\n",
       "      <td>16.0</td>\n",
       "      <td>3.0</td>\n",
       "    </tr>\n",
       "    <tr>\n",
       "      <th>9999</th>\n",
       "      <td>3f6eca2b-975a-4a41-a64c-7501d7247967</td>\n",
       "      <td>Shirt</td>\n",
       "      <td>L</td>\n",
       "      <td>447.0</td>\n",
       "      <td>265.0</td>\n",
       "      <td>14.0</td>\n",
       "      <td>3.0</td>\n",
       "    </tr>\n",
       "  </tbody>\n",
       "</table>\n",
       "<p>10000 rows × 7 columns</p>\n",
       "</div>"
      ],
      "text/plain": [
       "                                    SKU ID Category Size  Length  Width  \\\n",
       "0     e873e54a-248e-4394-b364-12bd8e8529da    Pants    S   388.0  235.0   \n",
       "1     245947ba-e5fe-4bce-9ae0-2b1dcf5d5400    Pants    L   491.0  272.0   \n",
       "2     b5ca940a-ad79-4f6c-a7d6-cf1b9c2b8ef5    Shirt    S   392.0  196.0   \n",
       "3     7b62ff7f-a2e3-4d67-86fb-ec3d2dc974d7    Pants    L   457.0  309.0   \n",
       "4     9dfa76cd-ff64-4742-b71e-a854b996c20f    Socks    M   111.0   73.0   \n",
       "...                                    ...      ...  ...     ...    ...   \n",
       "9995  a434aa55-1fdc-4bc1-88bc-be2f25994d41    Shirt    S   364.0  189.0   \n",
       "9996  b1571228-dada-46b1-a357-0fb08b66991e    Pants    L   501.0  286.0   \n",
       "9997  21324f7a-8b47-4d16-8ba7-296a9cbb67c8    Shirt    L   400.0  259.0   \n",
       "9998  f720de8b-394f-4074-9131-a47c8e667edc    Pants    M   400.0  278.0   \n",
       "9999  3f6eca2b-975a-4a41-a64c-7501d7247967    Shirt    L   447.0  265.0   \n",
       "\n",
       "      Height  Lines  \n",
       "0       14.0    4.0  \n",
       "1       27.0    9.0  \n",
       "2       11.0    4.0  \n",
       "3       18.0    4.0  \n",
       "4        5.0    4.0  \n",
       "...      ...    ...  \n",
       "9995     9.0   43.0  \n",
       "9996    24.0    3.0  \n",
       "9997    12.0    7.0  \n",
       "9998    16.0    3.0  \n",
       "9999    14.0    3.0  \n",
       "\n",
       "[10000 rows x 7 columns]"
      ]
     },
     "execution_count": 80,
     "metadata": {},
     "output_type": "execute_result"
    }
   ],
   "source": [
    "df_fashion_skus"
   ]
  },
  {
   "cell_type": "code",
   "execution_count": 81,
   "metadata": {},
   "outputs": [],
   "source": [
    "# For the pareto distrubution to appear the dataframe needs to be sorted by the order lines and then a cumulative lines column needs to be added\n",
    "# Sorting by velocity\n",
    "df_fashion_skus.sort_values('Lines', ascending=False, inplace=True)\n",
    "# Cumulate values\n",
    "df_fashion_skus['Cumulative Lines'] = np.cumsum(df_fashion_skus['Lines'])\n",
    "# Resetting index for the visualization\n",
    "df_fashion_skus.reset_index(drop=True, inplace= True)"
   ]
  },
  {
   "cell_type": "code",
   "execution_count": 82,
   "metadata": {},
   "outputs": [
    {
     "data": {
      "text/html": [
       "<div>\n",
       "<style scoped>\n",
       "    .dataframe tbody tr th:only-of-type {\n",
       "        vertical-align: middle;\n",
       "    }\n",
       "\n",
       "    .dataframe tbody tr th {\n",
       "        vertical-align: top;\n",
       "    }\n",
       "\n",
       "    .dataframe thead th {\n",
       "        text-align: right;\n",
       "    }\n",
       "</style>\n",
       "<table border=\"1\" class=\"dataframe\">\n",
       "  <thead>\n",
       "    <tr style=\"text-align: right;\">\n",
       "      <th></th>\n",
       "      <th>SKU ID</th>\n",
       "      <th>Category</th>\n",
       "      <th>Size</th>\n",
       "      <th>Length</th>\n",
       "      <th>Width</th>\n",
       "      <th>Height</th>\n",
       "      <th>Lines</th>\n",
       "      <th>Cumulative Lines</th>\n",
       "    </tr>\n",
       "  </thead>\n",
       "  <tbody>\n",
       "    <tr>\n",
       "      <th>0</th>\n",
       "      <td>580b10db-c853-41c0-b88c-43b7d847c706</td>\n",
       "      <td>Shirt</td>\n",
       "      <td>M</td>\n",
       "      <td>357.0</td>\n",
       "      <td>228.0</td>\n",
       "      <td>12.0</td>\n",
       "      <td>101.0</td>\n",
       "      <td>101.0</td>\n",
       "    </tr>\n",
       "    <tr>\n",
       "      <th>1</th>\n",
       "      <td>0b471736-a74d-4721-acd2-e134f0fdb664</td>\n",
       "      <td>Socks</td>\n",
       "      <td>L</td>\n",
       "      <td>116.0</td>\n",
       "      <td>71.0</td>\n",
       "      <td>5.0</td>\n",
       "      <td>101.0</td>\n",
       "      <td>202.0</td>\n",
       "    </tr>\n",
       "    <tr>\n",
       "      <th>2</th>\n",
       "      <td>108a47db-05b2-4a74-930b-cc1f7149c073</td>\n",
       "      <td>Socks</td>\n",
       "      <td>M</td>\n",
       "      <td>98.0</td>\n",
       "      <td>84.0</td>\n",
       "      <td>5.0</td>\n",
       "      <td>101.0</td>\n",
       "      <td>303.0</td>\n",
       "    </tr>\n",
       "    <tr>\n",
       "      <th>3</th>\n",
       "      <td>a1cc15ed-0a3f-48ff-9012-0052e5029307</td>\n",
       "      <td>Socks</td>\n",
       "      <td>S</td>\n",
       "      <td>98.0</td>\n",
       "      <td>75.0</td>\n",
       "      <td>5.0</td>\n",
       "      <td>101.0</td>\n",
       "      <td>404.0</td>\n",
       "    </tr>\n",
       "    <tr>\n",
       "      <th>4</th>\n",
       "      <td>02eacc1e-a995-4652-af25-0774cbdd224e</td>\n",
       "      <td>Socks</td>\n",
       "      <td>M</td>\n",
       "      <td>106.0</td>\n",
       "      <td>80.0</td>\n",
       "      <td>5.0</td>\n",
       "      <td>101.0</td>\n",
       "      <td>505.0</td>\n",
       "    </tr>\n",
       "    <tr>\n",
       "      <th>...</th>\n",
       "      <td>...</td>\n",
       "      <td>...</td>\n",
       "      <td>...</td>\n",
       "      <td>...</td>\n",
       "      <td>...</td>\n",
       "      <td>...</td>\n",
       "      <td>...</td>\n",
       "      <td>...</td>\n",
       "    </tr>\n",
       "    <tr>\n",
       "      <th>9995</th>\n",
       "      <td>8f515970-f439-4789-b21d-a6bbc5f724d3</td>\n",
       "      <td>Shirt</td>\n",
       "      <td>M</td>\n",
       "      <td>353.0</td>\n",
       "      <td>203.0</td>\n",
       "      <td>12.0</td>\n",
       "      <td>2.0</td>\n",
       "      <td>109685.0</td>\n",
       "    </tr>\n",
       "    <tr>\n",
       "      <th>9996</th>\n",
       "      <td>05941ccf-a5e5-46c3-aabf-b820d8670a49</td>\n",
       "      <td>Shirt</td>\n",
       "      <td>M</td>\n",
       "      <td>363.0</td>\n",
       "      <td>222.0</td>\n",
       "      <td>13.0</td>\n",
       "      <td>2.0</td>\n",
       "      <td>109687.0</td>\n",
       "    </tr>\n",
       "    <tr>\n",
       "      <th>9997</th>\n",
       "      <td>c05e681c-a037-4865-b51b-dde0aae77e83</td>\n",
       "      <td>Pants</td>\n",
       "      <td>M</td>\n",
       "      <td>437.0</td>\n",
       "      <td>251.0</td>\n",
       "      <td>18.0</td>\n",
       "      <td>2.0</td>\n",
       "      <td>109689.0</td>\n",
       "    </tr>\n",
       "    <tr>\n",
       "      <th>9998</th>\n",
       "      <td>d628e9da-412d-42e2-8494-7fcae4f537a1</td>\n",
       "      <td>Shirt</td>\n",
       "      <td>S</td>\n",
       "      <td>369.0</td>\n",
       "      <td>166.0</td>\n",
       "      <td>10.0</td>\n",
       "      <td>2.0</td>\n",
       "      <td>109691.0</td>\n",
       "    </tr>\n",
       "    <tr>\n",
       "      <th>9999</th>\n",
       "      <td>cae8b1e5-03fa-4621-a5d5-0a8bcf21d917</td>\n",
       "      <td>Pants</td>\n",
       "      <td>S</td>\n",
       "      <td>375.0</td>\n",
       "      <td>198.0</td>\n",
       "      <td>14.0</td>\n",
       "      <td>2.0</td>\n",
       "      <td>109693.0</td>\n",
       "    </tr>\n",
       "  </tbody>\n",
       "</table>\n",
       "<p>10000 rows × 8 columns</p>\n",
       "</div>"
      ],
      "text/plain": [
       "                                    SKU ID Category Size  Length  Width  \\\n",
       "0     580b10db-c853-41c0-b88c-43b7d847c706    Shirt    M   357.0  228.0   \n",
       "1     0b471736-a74d-4721-acd2-e134f0fdb664    Socks    L   116.0   71.0   \n",
       "2     108a47db-05b2-4a74-930b-cc1f7149c073    Socks    M    98.0   84.0   \n",
       "3     a1cc15ed-0a3f-48ff-9012-0052e5029307    Socks    S    98.0   75.0   \n",
       "4     02eacc1e-a995-4652-af25-0774cbdd224e    Socks    M   106.0   80.0   \n",
       "...                                    ...      ...  ...     ...    ...   \n",
       "9995  8f515970-f439-4789-b21d-a6bbc5f724d3    Shirt    M   353.0  203.0   \n",
       "9996  05941ccf-a5e5-46c3-aabf-b820d8670a49    Shirt    M   363.0  222.0   \n",
       "9997  c05e681c-a037-4865-b51b-dde0aae77e83    Pants    M   437.0  251.0   \n",
       "9998  d628e9da-412d-42e2-8494-7fcae4f537a1    Shirt    S   369.0  166.0   \n",
       "9999  cae8b1e5-03fa-4621-a5d5-0a8bcf21d917    Pants    S   375.0  198.0   \n",
       "\n",
       "      Height  Lines  Cumulative Lines  \n",
       "0       12.0  101.0             101.0  \n",
       "1        5.0  101.0             202.0  \n",
       "2        5.0  101.0             303.0  \n",
       "3        5.0  101.0             404.0  \n",
       "4        5.0  101.0             505.0  \n",
       "...      ...    ...               ...  \n",
       "9995    12.0    2.0          109685.0  \n",
       "9996    13.0    2.0          109687.0  \n",
       "9997    18.0    2.0          109689.0  \n",
       "9998    10.0    2.0          109691.0  \n",
       "9999    14.0    2.0          109693.0  \n",
       "\n",
       "[10000 rows x 8 columns]"
      ]
     },
     "execution_count": 82,
     "metadata": {},
     "output_type": "execute_result"
    }
   ],
   "source": [
    "df_fashion_skus"
   ]
  },
  {
   "cell_type": "code",
   "execution_count": 83,
   "metadata": {},
   "outputs": [
    {
     "data": {
      "image/png": "[encoded data removed]",
      "text/plain": [
       "<Figure size 1500x800 with 1 Axes>"
      ]
     },
     "metadata": {},
     "output_type": "display_data"
    }
   ],
   "source": [
    "plt.figure(figsize=(15, 8))\n",
    "plt.plot(df_fashion_skus['Cumulative Lines']);"
   ]
  },
  {
   "cell_type": "markdown",
   "metadata": {},
   "source": [
    "That looks OK. This list of 1000 SKUs corresponds to a typical order profile. In a 3-shift operation that would lead to a capacity of 550 to 650 order lines/ h."
   ]
  },
  {
   "cell_type": "markdown",
   "metadata": {},
   "source": [
    "#### 4. Creating the order line pool\n",
    "The goal is to have a pool of order lines. The number of appearances of SKUs in that pool must be in line their velocity (= \"Order Lines\"). For example, if a SKU was generated with 30 order lines it must appear 30 times in the pool. This is essential to maintain the pareto distribution. For every ordeline in the order list the algorithm will then chose randomly one sample from the pool.\n",
    "Let's generate this pool."
   ]
  },
  {
   "cell_type": "code",
   "execution_count": 85,
   "metadata": {},
   "outputs": [],
   "source": [
    "active_sku_pool = df_fashion_skus['SKU ID']"
   ]
  },
  {
   "cell_type": "code",
   "execution_count": 84,
   "metadata": {},
   "outputs": [
    {
     "ename": "TypeError",
     "evalue": "'numpy.float64' object cannot be interpreted as an integer",
     "output_type": "error",
     "traceback": [
      "\u001b[1;31m---------------------------------------------------------------------------\u001b[0m",
      "\u001b[1;31mTypeError\u001b[0m                                 Traceback (most recent call last)",
      "Cell \u001b[1;32mIn[84], line 6\u001b[0m\n\u001b[0;32m      3\u001b[0m active_sku_pool \u001b[38;5;241m=\u001b[39m []\n\u001b[0;32m      5\u001b[0m \u001b[38;5;28;01mfor\u001b[39;00m i \u001b[38;5;129;01min\u001b[39;00m \u001b[38;5;28mrange\u001b[39m(\u001b[38;5;28mlen\u001b[39m(df_fashion_skus)):\n\u001b[1;32m----> 6\u001b[0m     \u001b[38;5;28;01mfor\u001b[39;00m num \u001b[38;5;129;01min\u001b[39;00m \u001b[38;5;28;43mrange\u001b[39;49m\u001b[43m(\u001b[49m\u001b[43mdf_fashion_skus\u001b[49m\u001b[38;5;241;43m.\u001b[39;49m\u001b[43miloc\u001b[49m\u001b[43m[\u001b[49m\u001b[43mi\u001b[49m\u001b[43m]\u001b[49m\u001b[43m[\u001b[49m\u001b[38;5;124;43m'\u001b[39;49m\u001b[38;5;124;43mLines\u001b[39;49m\u001b[38;5;124;43m'\u001b[39;49m\u001b[43m]\u001b[49m\u001b[43m)\u001b[49m:\n\u001b[0;32m      7\u001b[0m         active_sku_pool\u001b[38;5;241m.\u001b[39mappend(df_fashion_skus\u001b[38;5;241m.\u001b[39miloc[i][\u001b[38;5;124m'\u001b[39m\u001b[38;5;124mSKU\u001b[39m\u001b[38;5;124m'\u001b[39m])\n",
      "\u001b[1;31mTypeError\u001b[0m: 'numpy.float64' object cannot be interpreted as an integer"
     ]
    }
   ],
   "source": [
    "# Appending SKUs in a list based on their generated order lines\n",
    "\n",
    "active_sku_pool = []\n",
    "\n",
    "for i in range(len(df_fashion_skus)):\n",
    "    for num in range(df_fashion_skus.iloc[i]['Lines']):\n",
    "        active_sku_pool.append(df_fashion_skus.iloc[i]['SKU'])\n",
    "\n",
    "\n"
   ]
  },
  {
   "cell_type": "code",
   "execution_count": 86,
   "metadata": {},
   "outputs": [
    {
     "data": {
      "text/plain": [
       "(10000,)"
      ]
     },
     "execution_count": 86,
     "metadata": {},
     "output_type": "execute_result"
    }
   ],
   "source": [
    "np.shape(active_sku_pool)"
   ]
  },
  {
   "cell_type": "code",
   "execution_count": 87,
   "metadata": {},
   "outputs": [
    {
     "data": {
      "text/plain": [
       "0       580b10db-c853-41c0-b88c-43b7d847c706\n",
       "1       0b471736-a74d-4721-acd2-e134f0fdb664\n",
       "2       108a47db-05b2-4a74-930b-cc1f7149c073\n",
       "3       a1cc15ed-0a3f-48ff-9012-0052e5029307\n",
       "4       02eacc1e-a995-4652-af25-0774cbdd224e\n",
       "                        ...                 \n",
       "9995    8f515970-f439-4789-b21d-a6bbc5f724d3\n",
       "9996    05941ccf-a5e5-46c3-aabf-b820d8670a49\n",
       "9997    c05e681c-a037-4865-b51b-dde0aae77e83\n",
       "9998    d628e9da-412d-42e2-8494-7fcae4f537a1\n",
       "9999    cae8b1e5-03fa-4621-a5d5-0a8bcf21d917\n",
       "Name: SKU ID, Length: 10000, dtype: object"
      ]
     },
     "execution_count": 87,
     "metadata": {},
     "output_type": "execute_result"
    }
   ],
   "source": [
    "active_sku_pool"
   ]
  },
  {
   "cell_type": "markdown",
   "metadata": {},
   "source": [
    "#### 5. Putting all together\n",
    "| Date | Order ID | SKU ID | Quantity |\n",
    "| ---- | ---- | ---- | ---- |\n",
    "| numerical | categorical | categorical | numerical |"
   ]
  },
  {
   "cell_type": "code",
   "execution_count": 162,
   "metadata": {},
   "outputs": [],
   "source": [
    "# Empty dictionary to collect all order lines\n",
    "dict_dataset = {}\n",
    "index_num = 0\n",
    "\n",
    "# Order profile\n",
    "avg_qty = 10\n",
    "avg_orders_per_day = 500\n",
    "avg_lines_per_order = 10\n",
    "min_lines_per_order = 2\n",
    "\n",
    "# Generate days\n",
    "sample_days = 30\n",
    "sample_range = day_definer(sample_days)\n",
    "\n",
    "\n",
    "for day in sample_range:\n",
    "    order_pool = order_generator(avg_orders_per_day, avg_lines_per_order, 5, min_lines_per_order)\n",
    "\n",
    "    for order, lines in enumerate(order_pool):\n",
    "        for line in range(int(lines)):\n",
    "            \n",
    "            dict_dataset[index_num] = [day, 'Order_' + str(order), np.random.choice(active_sku_pool), abs(round(np.random.normal(avg_qty, 6, 1)[0],0))]\n",
    "            index_num += 1\n",
    "\n",
    "# Generate dataframe from dictionary\n",
    "data_set = pd.DataFrame.from_dict(\n",
    "    dict_dataset,\n",
    "    orient='index',\n",
    "    columns=['Date', 'Order ID', 'SKU ID', 'Quantity'])\n",
    "    "
   ]
  },
  {
   "cell_type": "code",
   "execution_count": 163,
   "metadata": {},
   "outputs": [
    {
     "data": {
      "text/html": [
       "<div>\n",
       "<style scoped>\n",
       "    .dataframe tbody tr th:only-of-type {\n",
       "        vertical-align: middle;\n",
       "    }\n",
       "\n",
       "    .dataframe tbody tr th {\n",
       "        vertical-align: top;\n",
       "    }\n",
       "\n",
       "    .dataframe thead th {\n",
       "        text-align: right;\n",
       "    }\n",
       "</style>\n",
       "<table border=\"1\" class=\"dataframe\">\n",
       "  <thead>\n",
       "    <tr style=\"text-align: right;\">\n",
       "      <th></th>\n",
       "      <th>Date</th>\n",
       "      <th>Order ID</th>\n",
       "      <th>SKU ID</th>\n",
       "      <th>Quantity</th>\n",
       "    </tr>\n",
       "  </thead>\n",
       "  <tbody>\n",
       "    <tr>\n",
       "      <th>0</th>\n",
       "      <td>2024-01-25</td>\n",
       "      <td>Order_0</td>\n",
       "      <td>SKU_132</td>\n",
       "      <td>2.0</td>\n",
       "    </tr>\n",
       "    <tr>\n",
       "      <th>1</th>\n",
       "      <td>2024-01-25</td>\n",
       "      <td>Order_0</td>\n",
       "      <td>SKU_166</td>\n",
       "      <td>7.0</td>\n",
       "    </tr>\n",
       "    <tr>\n",
       "      <th>2</th>\n",
       "      <td>2024-01-25</td>\n",
       "      <td>Order_0</td>\n",
       "      <td>SKU_951</td>\n",
       "      <td>6.0</td>\n",
       "    </tr>\n",
       "    <tr>\n",
       "      <th>3</th>\n",
       "      <td>2024-01-25</td>\n",
       "      <td>Order_0</td>\n",
       "      <td>SKU_18</td>\n",
       "      <td>6.0</td>\n",
       "    </tr>\n",
       "    <tr>\n",
       "      <th>4</th>\n",
       "      <td>2024-01-25</td>\n",
       "      <td>Order_0</td>\n",
       "      <td>SKU_268</td>\n",
       "      <td>12.0</td>\n",
       "    </tr>\n",
       "    <tr>\n",
       "      <th>...</th>\n",
       "      <td>...</td>\n",
       "      <td>...</td>\n",
       "      <td>...</td>\n",
       "      <td>...</td>\n",
       "    </tr>\n",
       "    <tr>\n",
       "      <th>180913</th>\n",
       "      <td>2024-02-23</td>\n",
       "      <td>Order_518</td>\n",
       "      <td>SKU_915</td>\n",
       "      <td>1.0</td>\n",
       "    </tr>\n",
       "    <tr>\n",
       "      <th>180914</th>\n",
       "      <td>2024-02-23</td>\n",
       "      <td>Order_518</td>\n",
       "      <td>SKU_953</td>\n",
       "      <td>0.0</td>\n",
       "    </tr>\n",
       "    <tr>\n",
       "      <th>180915</th>\n",
       "      <td>2024-02-23</td>\n",
       "      <td>Order_518</td>\n",
       "      <td>SKU_201</td>\n",
       "      <td>2.0</td>\n",
       "    </tr>\n",
       "    <tr>\n",
       "      <th>180916</th>\n",
       "      <td>2024-02-23</td>\n",
       "      <td>Order_518</td>\n",
       "      <td>SKU_473</td>\n",
       "      <td>7.0</td>\n",
       "    </tr>\n",
       "    <tr>\n",
       "      <th>180917</th>\n",
       "      <td>2024-02-23</td>\n",
       "      <td>Order_518</td>\n",
       "      <td>SKU_714</td>\n",
       "      <td>12.0</td>\n",
       "    </tr>\n",
       "  </tbody>\n",
       "</table>\n",
       "<p>180918 rows × 4 columns</p>\n",
       "</div>"
      ],
      "text/plain": [
       "              Date   Order ID   SKU ID  Quantity\n",
       "0       2024-01-25    Order_0  SKU_132       2.0\n",
       "1       2024-01-25    Order_0  SKU_166       7.0\n",
       "2       2024-01-25    Order_0  SKU_951       6.0\n",
       "3       2024-01-25    Order_0   SKU_18       6.0\n",
       "4       2024-01-25    Order_0  SKU_268      12.0\n",
       "...            ...        ...      ...       ...\n",
       "180913  2024-02-23  Order_518  SKU_915       1.0\n",
       "180914  2024-02-23  Order_518  SKU_953       0.0\n",
       "180915  2024-02-23  Order_518  SKU_201       2.0\n",
       "180916  2024-02-23  Order_518  SKU_473       7.0\n",
       "180917  2024-02-23  Order_518  SKU_714      12.0\n",
       "\n",
       "[180918 rows x 4 columns]"
      ]
     },
     "execution_count": 163,
     "metadata": {},
     "output_type": "execute_result"
    }
   ],
   "source": [
    "data_set"
   ]
  },
  {
   "cell_type": "markdown",
   "metadata": {},
   "source": [
    "A few items to optimize:\n",
    "- Order ID must be made unique\n",
    "- The code is slow by working with multiple loops. There must be a more efficient way with apply or mapping."
   ]
  },
  {
   "cell_type": "markdown",
   "metadata": {},
   "source": []
  }
 ],
 "metadata": {
  "interpreter": {
   "hash": "dcacb0086e9a4f4eabd41c33bf4faac5ea0a3337ed3f5eff0680afa930572c04"
  },
  "kernelspec": {
   "display_name": "Python 3.9.4 64-bit",
   "language": "python",
   "name": "python3"
  },
  "language_info": {
   "codemirror_mode": {
    "name": "ipython",
    "version": 3
   },
   "file_extension": ".py",
   "mimetype": "text/x-python",
   "name": "python",
   "nbconvert_exporter": "python",
   "pygments_lexer": "ipython3",
   "version": "3.12.1"
  },
  "orig_nbformat": 4
 },
 "nbformat": 4,
 "nbformat_minor": 2
}
