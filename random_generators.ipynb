{
 "cells": [
  {
   "cell_type": "markdown",
   "metadata": {},
   "source": [
    "# Random Order- and SKU generators"
   ]
  },
  {
   "cell_type": "markdown",
   "metadata": {},
   "source": [
    "## Importing libraries"
   ]
  },
  {
   "cell_type": "code",
   "execution_count": 2,
   "metadata": {},
   "outputs": [],
   "source": [
    "import pandas as pd\n",
    "import numpy as np\n",
    "import matplotlib.pyplot as plt\n",
    "import seaborn as sns\n",
    "from scipy.stats import skewnorm\n",
    "from datetime import datetime\n",
    "from scipy.stats import pareto\n",
    "import uuid\n",
    "\n",
    "%matplotlib inline"
   ]
  },
  {
   "cell_type": "markdown",
   "metadata": {},
   "source": [
    "---"
   ]
  },
  {
   "cell_type": "markdown",
   "metadata": {},
   "source": [
    "## Random SKU table generation\n",
    "\n",
    "### Objectives\n",
    "Generate a table with unique SKUs that have randomly generated values. The number of records can be chosen by the user.\n",
    "\n",
    "The initial table must contain at minimum the following columns:\n",
    "\n",
    "| SKU ID | Category | Length | Width | Height | Weight |\n",
    "| ---- | ---- | ---- | ---- | ---- | ---- |\n",
    "| categorical | categorical | numerical | numerical | numerical | numerical |\n",
    "\n",
    "Goals in detail:\n",
    "- Develop basic method to generate a table of randomly created SKUs with the above features"
   ]
  },
  {
   "cell_type": "code",
   "execution_count": 3,
   "metadata": {},
   "outputs": [
    {
     "data": {
      "text/plain": [
       "{'Shirt': {'Length_S': 350,\n",
       "  'Length_M': 375,\n",
       "  'Length_L': 400,\n",
       "  'Width_S': 200,\n",
       "  'Width_M': 220,\n",
       "  'Width_L': 250,\n",
       "  'Height_S': 10,\n",
       "  'Height_M': 12,\n",
       "  'Height_L': 15},\n",
       " 'Pants': {'Length_S': 400,\n",
       "  'Length_M': 450,\n",
       "  'Length_L': 500,\n",
       "  'Width_S': 250,\n",
       "  'Width_M': 275,\n",
       "  'Width_L': 300,\n",
       "  'Height_S': 15,\n",
       "  'Height_M': 18,\n",
       "  'Height_L': 21},\n",
       " 'Socks': {'Length_S': 100,\n",
       "  'Length_M': 110,\n",
       "  'Length_L': 120,\n",
       "  'Width_S': 75,\n",
       "  'Width_M': 77,\n",
       "  'Width_L': 80,\n",
       "  'Height_S': 5,\n",
       "  'Height_M': 5,\n",
       "  'Height_L': 5},\n",
       " 'Box of cereals': {'Length_S': 250,\n",
       "  'Length_M': 250,\n",
       "  'Length_L': 250,\n",
       "  'Width_S': 150,\n",
       "  'Width_M': 150,\n",
       "  'Width_L': 150,\n",
       "  'Height_S': 10,\n",
       "  'Height_M': 10,\n",
       "  'Height_L': 10},\n",
       " 'Can of tuna': {'Length_S': 110,\n",
       "  'Length_M': 110,\n",
       "  'Length_L': 110,\n",
       "  'Width_S': 110,\n",
       "  'Width_M': 110,\n",
       "  'Width_L': 110,\n",
       "  'Height_S': 7,\n",
       "  'Height_M': 7,\n",
       "  'Height_L': 7},\n",
       " 'Bag of rice': {'Length_S': 540,\n",
       "  'Length_M': 540,\n",
       "  'Length_L': 540,\n",
       "  'Width_S': 350,\n",
       "  'Width_M': 350,\n",
       "  'Width_L': 350,\n",
       "  'Height_S': 250,\n",
       "  'Height_M': 250,\n",
       "  'Height_L': 250},\n",
       " 'Toolbox': {'Length_S': 600,\n",
       "  'Length_M': 600,\n",
       "  'Length_L': 600,\n",
       "  'Width_S': 380,\n",
       "  'Width_M': 380,\n",
       "  'Width_L': 380,\n",
       "  'Height_S': 350,\n",
       "  'Height_M': 350,\n",
       "  'Height_L': 350},\n",
       " 'Box of nails': {'Length_S': 150,\n",
       "  'Length_M': 150,\n",
       "  'Length_L': 150,\n",
       "  'Width_S': 120,\n",
       "  'Width_M': 120,\n",
       "  'Width_L': 120,\n",
       "  'Height_S': 80,\n",
       "  'Height_M': 80,\n",
       "  'Height_L': 80},\n",
       " 'Glue gun': {'Length_S': 380,\n",
       "  'Length_M': 380,\n",
       "  'Length_L': 380,\n",
       "  'Width_S': 80,\n",
       "  'Width_M': 80,\n",
       "  'Width_L': 80,\n",
       "  'Height_S': 80,\n",
       "  'Height_M': 80,\n",
       "  'Height_L': 80}}"
      ]
     },
     "execution_count": 3,
     "metadata": {},
     "output_type": "execute_result"
    }
   ],
   "source": [
    "dict_products = pd.read_excel('Product_list.xls').set_index('Category').to_dict(orient='index')\n",
    "dict_products"
   ]
  },
  {
   "cell_type": "code",
   "execution_count": 4,
   "metadata": {},
   "outputs": [],
   "source": [
    "def random_dim_generator(df, dim):\n",
    "    '''\n",
    "    Function to calculating a random value by looking up a start value and applying a normal distribution\n",
    "    Inputs:\n",
    "    - Dataframe\n",
    "    - Dimension type (L, W, H)\n",
    "    Output:\n",
    "    - Value, rounded to 0 digits\n",
    "    '''\n",
    "    SCALE = 0.1\n",
    "    mean = df.apply(lambda row: dict_products[row.Category][dim + '_' + row.Size], axis=1)\n",
    "    return np.round(abs(np.random.normal(loc=mean, scale=mean * SCALE)))"
   ]
  },
  {
   "cell_type": "code",
   "execution_count": 5,
   "metadata": {},
   "outputs": [],
   "source": [
    "def random_skus(articles, vertical):\n",
    "    '''Main function to generate a SKU table\n",
    "    Inputs:\n",
    "    - Number of desired SKUs\n",
    "    - Market sector (vertical)\n",
    "    Outputs:\n",
    "    - SKU table'''\n",
    "\n",
    "    random_dict = {}\n",
    "    \n",
    "    FEATURE_LIST = ['SKU ID', 'Category', 'Size', 'Length', 'Width', 'Height']\n",
    "    SIZE_LIST = ['S', 'M', 'L']\n",
    "    PRODUCT_DESC_LIST = {\n",
    "        'Fashion': ['Shirt', 'Pants', 'Socks'],\n",
    "        'Food': ['Box of cereals', 'Can of tuna', 'Bag of rice'],\n",
    "        'Durable':['Toolbox', 'Box of nails', 'Glue gun']\n",
    "        }\n",
    "\n",
    "    sku_table_df = pd.DataFrame(1, index=np.arange(articles), columns=FEATURE_LIST) \n",
    "\n",
    "    sku_table_df['SKU ID'] = sku_table_df['SKU ID'].map(lambda x: uuid.uuid4())\n",
    "    sku_table_df['Category'] = sku_table_df['Category'].map(lambda x: np.random.choice(PRODUCT_DESC_LIST[vertical]))\n",
    "    sku_table_df['Size'] = sku_table_df['Size'].map(lambda x: np.random.choice(SIZE_LIST))\n",
    "\n",
    "    for dim in ['Length', 'Width', 'Height']:\n",
    "        sku_table_df[dim] = random_dim_generator(sku_table_df, dim)\n",
    "\n",
    "    return sku_table_df"
   ]
  },
  {
   "cell_type": "code",
   "execution_count": 6,
   "metadata": {},
   "outputs": [],
   "source": [
    "df_skus_fashion = random_skus(10000, 'Fashion')"
   ]
  },
  {
   "cell_type": "code",
   "execution_count": 7,
   "metadata": {},
   "outputs": [
    {
     "data": {
      "text/html": [
       "<div>\n",
       "<style scoped>\n",
       "    .dataframe tbody tr th:only-of-type {\n",
       "        vertical-align: middle;\n",
       "    }\n",
       "\n",
       "    .dataframe tbody tr th {\n",
       "        vertical-align: top;\n",
       "    }\n",
       "\n",
       "    .dataframe thead th {\n",
       "        text-align: right;\n",
       "    }\n",
       "</style>\n",
       "<table border=\"1\" class=\"dataframe\">\n",
       "  <thead>\n",
       "    <tr style=\"text-align: right;\">\n",
       "      <th></th>\n",
       "      <th>SKU ID</th>\n",
       "      <th>Category</th>\n",
       "      <th>Size</th>\n",
       "      <th>Length</th>\n",
       "      <th>Width</th>\n",
       "      <th>Height</th>\n",
       "    </tr>\n",
       "  </thead>\n",
       "  <tbody>\n",
       "    <tr>\n",
       "      <th>0</th>\n",
       "      <td>3bc4d6af-7192-4cf9-98e0-a9819b20a96d</td>\n",
       "      <td>Pants</td>\n",
       "      <td>M</td>\n",
       "      <td>473.0</td>\n",
       "      <td>281.0</td>\n",
       "      <td>16.0</td>\n",
       "    </tr>\n",
       "    <tr>\n",
       "      <th>1</th>\n",
       "      <td>a65a211b-028d-449f-90e0-a68e45b94cce</td>\n",
       "      <td>Socks</td>\n",
       "      <td>L</td>\n",
       "      <td>128.0</td>\n",
       "      <td>93.0</td>\n",
       "      <td>5.0</td>\n",
       "    </tr>\n",
       "    <tr>\n",
       "      <th>2</th>\n",
       "      <td>f278db34-3799-4b3c-b4a4-39eaf2fedbdb</td>\n",
       "      <td>Shirt</td>\n",
       "      <td>S</td>\n",
       "      <td>342.0</td>\n",
       "      <td>203.0</td>\n",
       "      <td>10.0</td>\n",
       "    </tr>\n",
       "    <tr>\n",
       "      <th>3</th>\n",
       "      <td>190af084-ab8e-49dc-a87d-fc1126c32de9</td>\n",
       "      <td>Shirt</td>\n",
       "      <td>M</td>\n",
       "      <td>342.0</td>\n",
       "      <td>240.0</td>\n",
       "      <td>13.0</td>\n",
       "    </tr>\n",
       "    <tr>\n",
       "      <th>4</th>\n",
       "      <td>8197c3e9-83d9-4df8-8608-9d53bdee4f16</td>\n",
       "      <td>Pants</td>\n",
       "      <td>S</td>\n",
       "      <td>439.0</td>\n",
       "      <td>252.0</td>\n",
       "      <td>14.0</td>\n",
       "    </tr>\n",
       "    <tr>\n",
       "      <th>...</th>\n",
       "      <td>...</td>\n",
       "      <td>...</td>\n",
       "      <td>...</td>\n",
       "      <td>...</td>\n",
       "      <td>...</td>\n",
       "      <td>...</td>\n",
       "    </tr>\n",
       "    <tr>\n",
       "      <th>9995</th>\n",
       "      <td>d79e9c69-49f8-4109-a41a-32524b3dc86c</td>\n",
       "      <td>Shirt</td>\n",
       "      <td>M</td>\n",
       "      <td>364.0</td>\n",
       "      <td>191.0</td>\n",
       "      <td>10.0</td>\n",
       "    </tr>\n",
       "    <tr>\n",
       "      <th>9996</th>\n",
       "      <td>64247258-0b99-4e66-9667-8388a45c9fa5</td>\n",
       "      <td>Socks</td>\n",
       "      <td>M</td>\n",
       "      <td>100.0</td>\n",
       "      <td>72.0</td>\n",
       "      <td>5.0</td>\n",
       "    </tr>\n",
       "    <tr>\n",
       "      <th>9997</th>\n",
       "      <td>9f2d3adc-85b8-402b-b0d8-1ecadc73e444</td>\n",
       "      <td>Pants</td>\n",
       "      <td>L</td>\n",
       "      <td>522.0</td>\n",
       "      <td>244.0</td>\n",
       "      <td>21.0</td>\n",
       "    </tr>\n",
       "    <tr>\n",
       "      <th>9998</th>\n",
       "      <td>13ac8475-962e-4a59-890e-c3092d05c474</td>\n",
       "      <td>Socks</td>\n",
       "      <td>S</td>\n",
       "      <td>97.0</td>\n",
       "      <td>72.0</td>\n",
       "      <td>4.0</td>\n",
       "    </tr>\n",
       "    <tr>\n",
       "      <th>9999</th>\n",
       "      <td>24d4e7a7-e6fb-4d8e-9ca7-f9d1f0626d5b</td>\n",
       "      <td>Socks</td>\n",
       "      <td>S</td>\n",
       "      <td>114.0</td>\n",
       "      <td>74.0</td>\n",
       "      <td>5.0</td>\n",
       "    </tr>\n",
       "  </tbody>\n",
       "</table>\n",
       "<p>10000 rows × 6 columns</p>\n",
       "</div>"
      ],
      "text/plain": [
       "                                    SKU ID Category Size  Length  Width  \\\n",
       "0     3bc4d6af-7192-4cf9-98e0-a9819b20a96d    Pants    M   473.0  281.0   \n",
       "1     a65a211b-028d-449f-90e0-a68e45b94cce    Socks    L   128.0   93.0   \n",
       "2     f278db34-3799-4b3c-b4a4-39eaf2fedbdb    Shirt    S   342.0  203.0   \n",
       "3     190af084-ab8e-49dc-a87d-fc1126c32de9    Shirt    M   342.0  240.0   \n",
       "4     8197c3e9-83d9-4df8-8608-9d53bdee4f16    Pants    S   439.0  252.0   \n",
       "...                                    ...      ...  ...     ...    ...   \n",
       "9995  d79e9c69-49f8-4109-a41a-32524b3dc86c    Shirt    M   364.0  191.0   \n",
       "9996  64247258-0b99-4e66-9667-8388a45c9fa5    Socks    M   100.0   72.0   \n",
       "9997  9f2d3adc-85b8-402b-b0d8-1ecadc73e444    Pants    L   522.0  244.0   \n",
       "9998  13ac8475-962e-4a59-890e-c3092d05c474    Socks    S    97.0   72.0   \n",
       "9999  24d4e7a7-e6fb-4d8e-9ca7-f9d1f0626d5b    Socks    S   114.0   74.0   \n",
       "\n",
       "      Height  \n",
       "0       16.0  \n",
       "1        5.0  \n",
       "2       10.0  \n",
       "3       13.0  \n",
       "4       14.0  \n",
       "...      ...  \n",
       "9995    10.0  \n",
       "9996     5.0  \n",
       "9997    21.0  \n",
       "9998     4.0  \n",
       "9999     5.0  \n",
       "\n",
       "[10000 rows x 6 columns]"
      ]
     },
     "execution_count": 7,
     "metadata": {},
     "output_type": "execute_result"
    }
   ],
   "source": [
    "df_skus_fashion"
   ]
  },
  {
   "cell_type": "code",
   "execution_count": 8,
   "metadata": {},
   "outputs": [
    {
     "data": {
      "image/png": "[encoded data removed]",
      "text/plain": [
       "<Figure size 2000x500 with 1 Axes>"
      ]
     },
     "metadata": {},
     "output_type": "display_data"
    }
   ],
   "source": [
    "plt.figure(figsize=(20, 5))\n",
    "sns.histplot(df_skus_fashion[['Length', 'Width', 'Height']], bins=100);"
   ]
  },
  {
   "cell_type": "code",
   "execution_count": 9,
   "metadata": {},
   "outputs": [
    {
     "data": {
      "image/png": "[encoded data removed]",
      "text/plain": [
       "<Figure size 640x480 with 1 Axes>"
      ]
     },
     "metadata": {},
     "output_type": "display_data"
    }
   ],
   "source": [
    "# Visual check if distribution appears uniform random\n",
    "sns.countplot(x=df_skus_fashion['Category']);"
   ]
  },
  {
   "cell_type": "code",
   "execution_count": 10,
   "metadata": {},
   "outputs": [
    {
     "name": "stdout",
     "output_type": "stream",
     "text": [
      "<class 'pandas.core.frame.DataFrame'>\n",
      "Index: 10000 entries, 0 to 9999\n",
      "Data columns (total 6 columns):\n",
      " #   Column    Non-Null Count  Dtype  \n",
      "---  ------    --------------  -----  \n",
      " 0   SKU ID    10000 non-null  object \n",
      " 1   Category  10000 non-null  object \n",
      " 2   Size      10000 non-null  object \n",
      " 3   Length    10000 non-null  float64\n",
      " 4   Width     10000 non-null  float64\n",
      " 5   Height    10000 non-null  float64\n",
      "dtypes: float64(3), object(3)\n",
      "memory usage: 507.8+ KB\n"
     ]
    }
   ],
   "source": [
    "df_skus_fashion.info()"
   ]
  },
  {
   "cell_type": "code",
   "execution_count": 11,
   "metadata": {},
   "outputs": [
    {
     "data": {
      "text/html": [
       "<div>\n",
       "<style scoped>\n",
       "    .dataframe tbody tr th:only-of-type {\n",
       "        vertical-align: middle;\n",
       "    }\n",
       "\n",
       "    .dataframe tbody tr th {\n",
       "        vertical-align: top;\n",
       "    }\n",
       "\n",
       "    .dataframe thead th {\n",
       "        text-align: right;\n",
       "    }\n",
       "</style>\n",
       "<table border=\"1\" class=\"dataframe\">\n",
       "  <thead>\n",
       "    <tr style=\"text-align: right;\">\n",
       "      <th></th>\n",
       "      <th>Length</th>\n",
       "      <th>Width</th>\n",
       "      <th>Height</th>\n",
       "    </tr>\n",
       "  </thead>\n",
       "  <tbody>\n",
       "    <tr>\n",
       "      <th>count</th>\n",
       "      <td>10000.000000</td>\n",
       "      <td>10000.000000</td>\n",
       "      <td>10000.000000</td>\n",
       "    </tr>\n",
       "    <tr>\n",
       "      <th>mean</th>\n",
       "      <td>310.968400</td>\n",
       "      <td>191.473600</td>\n",
       "      <td>11.754500</td>\n",
       "    </tr>\n",
       "    <tr>\n",
       "      <th>std</th>\n",
       "      <td>152.569979</td>\n",
       "      <td>88.074595</td>\n",
       "      <td>5.788625</td>\n",
       "    </tr>\n",
       "    <tr>\n",
       "      <th>min</th>\n",
       "      <td>70.000000</td>\n",
       "      <td>54.000000</td>\n",
       "      <td>3.000000</td>\n",
       "    </tr>\n",
       "    <tr>\n",
       "      <th>25%</th>\n",
       "      <td>120.000000</td>\n",
       "      <td>83.000000</td>\n",
       "      <td>5.000000</td>\n",
       "    </tr>\n",
       "    <tr>\n",
       "      <th>50%</th>\n",
       "      <td>365.000000</td>\n",
       "      <td>218.000000</td>\n",
       "      <td>12.000000</td>\n",
       "    </tr>\n",
       "    <tr>\n",
       "      <th>75%</th>\n",
       "      <td>427.000000</td>\n",
       "      <td>261.000000</td>\n",
       "      <td>16.000000</td>\n",
       "    </tr>\n",
       "    <tr>\n",
       "      <th>max</th>\n",
       "      <td>647.000000</td>\n",
       "      <td>409.000000</td>\n",
       "      <td>28.000000</td>\n",
       "    </tr>\n",
       "  </tbody>\n",
       "</table>\n",
       "</div>"
      ],
      "text/plain": [
       "             Length         Width        Height\n",
       "count  10000.000000  10000.000000  10000.000000\n",
       "mean     310.968400    191.473600     11.754500\n",
       "std      152.569979     88.074595      5.788625\n",
       "min       70.000000     54.000000      3.000000\n",
       "25%      120.000000     83.000000      5.000000\n",
       "50%      365.000000    218.000000     12.000000\n",
       "75%      427.000000    261.000000     16.000000\n",
       "max      647.000000    409.000000     28.000000"
      ]
     },
     "execution_count": 11,
     "metadata": {},
     "output_type": "execute_result"
    }
   ],
   "source": [
    "df_skus_fashion.describe()"
   ]
  },
  {
   "cell_type": "code",
   "execution_count": 12,
   "metadata": {},
   "outputs": [
    {
     "data": {
      "text/html": [
       "<div>\n",
       "<style scoped>\n",
       "    .dataframe tbody tr th:only-of-type {\n",
       "        vertical-align: middle;\n",
       "    }\n",
       "\n",
       "    .dataframe tbody tr th {\n",
       "        vertical-align: top;\n",
       "    }\n",
       "\n",
       "    .dataframe thead th {\n",
       "        text-align: right;\n",
       "    }\n",
       "</style>\n",
       "<table border=\"1\" class=\"dataframe\">\n",
       "  <thead>\n",
       "    <tr style=\"text-align: right;\">\n",
       "      <th></th>\n",
       "      <th>SKU ID</th>\n",
       "      <th>Category</th>\n",
       "      <th>Size</th>\n",
       "      <th>Length</th>\n",
       "      <th>Width</th>\n",
       "      <th>Height</th>\n",
       "    </tr>\n",
       "  </thead>\n",
       "  <tbody>\n",
       "    <tr>\n",
       "      <th>0</th>\n",
       "      <td>c0ae56b5-ee2e-4fc1-92e3-06142110383c</td>\n",
       "      <td>Box of cereals</td>\n",
       "      <td>M</td>\n",
       "      <td>243.0</td>\n",
       "      <td>174.0</td>\n",
       "      <td>9.0</td>\n",
       "    </tr>\n",
       "    <tr>\n",
       "      <th>1</th>\n",
       "      <td>ddbd3c27-85d9-4db4-bd05-6b1c5c6aa74c</td>\n",
       "      <td>Can of tuna</td>\n",
       "      <td>M</td>\n",
       "      <td>118.0</td>\n",
       "      <td>104.0</td>\n",
       "      <td>6.0</td>\n",
       "    </tr>\n",
       "    <tr>\n",
       "      <th>2</th>\n",
       "      <td>6e042ec3-88f9-460b-8bc8-83749841cb80</td>\n",
       "      <td>Box of cereals</td>\n",
       "      <td>S</td>\n",
       "      <td>280.0</td>\n",
       "      <td>135.0</td>\n",
       "      <td>12.0</td>\n",
       "    </tr>\n",
       "    <tr>\n",
       "      <th>3</th>\n",
       "      <td>759472ee-0fce-4946-ad31-bda41f452c40</td>\n",
       "      <td>Can of tuna</td>\n",
       "      <td>S</td>\n",
       "      <td>114.0</td>\n",
       "      <td>96.0</td>\n",
       "      <td>7.0</td>\n",
       "    </tr>\n",
       "    <tr>\n",
       "      <th>4</th>\n",
       "      <td>8ce45959-b74d-40d9-b1e4-7952590da446</td>\n",
       "      <td>Can of tuna</td>\n",
       "      <td>L</td>\n",
       "      <td>119.0</td>\n",
       "      <td>104.0</td>\n",
       "      <td>7.0</td>\n",
       "    </tr>\n",
       "    <tr>\n",
       "      <th>...</th>\n",
       "      <td>...</td>\n",
       "      <td>...</td>\n",
       "      <td>...</td>\n",
       "      <td>...</td>\n",
       "      <td>...</td>\n",
       "      <td>...</td>\n",
       "    </tr>\n",
       "    <tr>\n",
       "      <th>995</th>\n",
       "      <td>969638ed-95e4-45fa-868c-6b85606c04dd</td>\n",
       "      <td>Bag of rice</td>\n",
       "      <td>S</td>\n",
       "      <td>459.0</td>\n",
       "      <td>365.0</td>\n",
       "      <td>294.0</td>\n",
       "    </tr>\n",
       "    <tr>\n",
       "      <th>996</th>\n",
       "      <td>11e658e2-17b4-4f12-bb95-68eb73332442</td>\n",
       "      <td>Bag of rice</td>\n",
       "      <td>M</td>\n",
       "      <td>587.0</td>\n",
       "      <td>346.0</td>\n",
       "      <td>283.0</td>\n",
       "    </tr>\n",
       "    <tr>\n",
       "      <th>997</th>\n",
       "      <td>a4f32d9f-8e66-43f6-b166-9b433d7ed753</td>\n",
       "      <td>Bag of rice</td>\n",
       "      <td>M</td>\n",
       "      <td>495.0</td>\n",
       "      <td>363.0</td>\n",
       "      <td>222.0</td>\n",
       "    </tr>\n",
       "    <tr>\n",
       "      <th>998</th>\n",
       "      <td>c7713905-1048-4c25-8e04-2d5eb4e1f0cc</td>\n",
       "      <td>Bag of rice</td>\n",
       "      <td>S</td>\n",
       "      <td>579.0</td>\n",
       "      <td>345.0</td>\n",
       "      <td>249.0</td>\n",
       "    </tr>\n",
       "    <tr>\n",
       "      <th>999</th>\n",
       "      <td>3879cca2-db92-44a3-bf04-5c17b569cfc6</td>\n",
       "      <td>Box of cereals</td>\n",
       "      <td>S</td>\n",
       "      <td>241.0</td>\n",
       "      <td>147.0</td>\n",
       "      <td>11.0</td>\n",
       "    </tr>\n",
       "  </tbody>\n",
       "</table>\n",
       "<p>1000 rows × 6 columns</p>\n",
       "</div>"
      ],
      "text/plain": [
       "                                   SKU ID        Category Size  Length  Width  \\\n",
       "0    c0ae56b5-ee2e-4fc1-92e3-06142110383c  Box of cereals    M   243.0  174.0   \n",
       "1    ddbd3c27-85d9-4db4-bd05-6b1c5c6aa74c     Can of tuna    M   118.0  104.0   \n",
       "2    6e042ec3-88f9-460b-8bc8-83749841cb80  Box of cereals    S   280.0  135.0   \n",
       "3    759472ee-0fce-4946-ad31-bda41f452c40     Can of tuna    S   114.0   96.0   \n",
       "4    8ce45959-b74d-40d9-b1e4-7952590da446     Can of tuna    L   119.0  104.0   \n",
       "..                                    ...             ...  ...     ...    ...   \n",
       "995  969638ed-95e4-45fa-868c-6b85606c04dd     Bag of rice    S   459.0  365.0   \n",
       "996  11e658e2-17b4-4f12-bb95-68eb73332442     Bag of rice    M   587.0  346.0   \n",
       "997  a4f32d9f-8e66-43f6-b166-9b433d7ed753     Bag of rice    M   495.0  363.0   \n",
       "998  c7713905-1048-4c25-8e04-2d5eb4e1f0cc     Bag of rice    S   579.0  345.0   \n",
       "999  3879cca2-db92-44a3-bf04-5c17b569cfc6  Box of cereals    S   241.0  147.0   \n",
       "\n",
       "     Height  \n",
       "0       9.0  \n",
       "1       6.0  \n",
       "2      12.0  \n",
       "3       7.0  \n",
       "4       7.0  \n",
       "..      ...  \n",
       "995   294.0  \n",
       "996   283.0  \n",
       "997   222.0  \n",
       "998   249.0  \n",
       "999    11.0  \n",
       "\n",
       "[1000 rows x 6 columns]"
      ]
     },
     "execution_count": 12,
     "metadata": {},
     "output_type": "execute_result"
    }
   ],
   "source": [
    "df_skus_food = random_skus(1000, 'Food')\n",
    "df_skus_food"
   ]
  },
  {
   "cell_type": "code",
   "execution_count": 13,
   "metadata": {},
   "outputs": [
    {
     "data": {
      "image/png": "[encoded data removed]",
      "text/plain": [
       "<Figure size 2000x500 with 1 Axes>"
      ]
     },
     "metadata": {},
     "output_type": "display_data"
    }
   ],
   "source": [
    "plt.figure(figsize=(20, 5))\n",
    "sns.histplot(df_skus_food[['Length', 'Width', 'Height']], bins=100);"
   ]
  },
  {
   "cell_type": "code",
   "execution_count": 14,
   "metadata": {},
   "outputs": [
    {
     "data": {
      "image/png": "[encoded data removed]",
      "text/plain": [
       "<Figure size 640x480 with 1 Axes>"
      ]
     },
     "metadata": {},
     "output_type": "display_data"
    }
   ],
   "source": [
    "sns.countplot(x=df_skus_food['Category']);"
   ]
  },
  {
   "cell_type": "markdown",
   "metadata": {},
   "source": [
    "### Notes\n",
    "At this stage, the produced values are only to showcase the functionality and are not representative of real world data.\n",
    "At a later time, more realistic data needs to be produced.\n",
    "\n",
    "---"
   ]
  },
  {
   "cell_type": "markdown",
   "metadata": {},
   "source": [
    "## Random order table generator\n",
    "\n",
    "### Considerations\n",
    "Like in most other ares in business, the SKU-velocity distribution in a typical order profil corresponds to an 80/20, or in some cases 70/30, ratio (20% of the SKUs representing 80% of the order volume.). Based on this, SKUs will belong to velocity classes (A, B, C), depending how fast they are moving. Therefore, the available SKUs need to be assigned orders in a way that follows this rule.\n",
    "\n",
    "<img src=\"https://interlakemecalux.cdnwm.com/blog/img/80-20-pareto-principle.1.2.jpg\" width=\"650\"/>\n",
    "\n",
    "There is a specific, somewhat business-specific, order profile (units per-order line and order lines per order).\n",
    "\n",
    "Ultimately, there must be a selection of order profiles that go in line with different market segments and business types.\n",
    "\n",
    "### Objectives\n",
    "The goal is to create a function that generates a table of random orders. The order profile (units per order line, order lines per order) as well as the volume distribution of the SKUs (Pareto principle) must represent a real live scenario and must be adjustable by the user.\n",
    "\n",
    "The initial table must contain at minimum the following columns:\n",
    "\n",
    "| Date | Order ID | SKU ID | Quantity |\n",
    "| ---- | ---- | ---- | ---- |\n",
    "| numerical | categorical | categorical | numerical |\n",
    "\n",
    "#### Steps in detail\n",
    "1) Define range of days based on user input\n",
    "2) Assign random number of orders to each day while assigning a number of order lines (SKUs) - for the beginning random, normal, right skewed\n",
    "3) Develop method to randomly distribute SKUs across all orders - for the beginning randomly, based on 80/20 rule\n",
    "4) Creating the order line pool\n",
    "5) Putting all together"
   ]
  },
  {
   "cell_type": "markdown",
   "metadata": {},
   "source": [
    "---\n",
    "#### 1. Define range of days"
   ]
  },
  {
   "cell_type": "code",
   "execution_count": 15,
   "metadata": {},
   "outputs": [],
   "source": [
    "def day_definer(num):\n",
    "    '''\n",
    "    Function to create a list of days. First day of range is current day\n",
    "    Input:\n",
    "    - Number of days\n",
    "    Outbout:\n",
    "    - List of days in the range of first day to last day\n",
    "    '''\n",
    "\n",
    "    return pd.date_range(datetime.today(), periods=num).date.tolist()"
   ]
  },
  {
   "cell_type": "code",
   "execution_count": 16,
   "metadata": {},
   "outputs": [
    {
     "data": {
      "text/plain": [
       "[datetime.date(2024, 1, 28),\n",
       " datetime.date(2024, 1, 29),\n",
       " datetime.date(2024, 1, 30),\n",
       " datetime.date(2024, 1, 31),\n",
       " datetime.date(2024, 2, 1),\n",
       " datetime.date(2024, 2, 2),\n",
       " datetime.date(2024, 2, 3),\n",
       " datetime.date(2024, 2, 4),\n",
       " datetime.date(2024, 2, 5),\n",
       " datetime.date(2024, 2, 6),\n",
       " datetime.date(2024, 2, 7),\n",
       " datetime.date(2024, 2, 8),\n",
       " datetime.date(2024, 2, 9),\n",
       " datetime.date(2024, 2, 10),\n",
       " datetime.date(2024, 2, 11),\n",
       " datetime.date(2024, 2, 12),\n",
       " datetime.date(2024, 2, 13),\n",
       " datetime.date(2024, 2, 14),\n",
       " datetime.date(2024, 2, 15),\n",
       " datetime.date(2024, 2, 16),\n",
       " datetime.date(2024, 2, 17),\n",
       " datetime.date(2024, 2, 18),\n",
       " datetime.date(2024, 2, 19),\n",
       " datetime.date(2024, 2, 20),\n",
       " datetime.date(2024, 2, 21),\n",
       " datetime.date(2024, 2, 22),\n",
       " datetime.date(2024, 2, 23),\n",
       " datetime.date(2024, 2, 24),\n",
       " datetime.date(2024, 2, 25),\n",
       " datetime.date(2024, 2, 26),\n",
       " datetime.date(2024, 2, 27),\n",
       " datetime.date(2024, 2, 28),\n",
       " datetime.date(2024, 2, 29),\n",
       " datetime.date(2024, 3, 1),\n",
       " datetime.date(2024, 3, 2),\n",
       " datetime.date(2024, 3, 3),\n",
       " datetime.date(2024, 3, 4),\n",
       " datetime.date(2024, 3, 5),\n",
       " datetime.date(2024, 3, 6),\n",
       " datetime.date(2024, 3, 7),\n",
       " datetime.date(2024, 3, 8),\n",
       " datetime.date(2024, 3, 9),\n",
       " datetime.date(2024, 3, 10),\n",
       " datetime.date(2024, 3, 11),\n",
       " datetime.date(2024, 3, 12),\n",
       " datetime.date(2024, 3, 13),\n",
       " datetime.date(2024, 3, 14),\n",
       " datetime.date(2024, 3, 15),\n",
       " datetime.date(2024, 3, 16),\n",
       " datetime.date(2024, 3, 17),\n",
       " datetime.date(2024, 3, 18),\n",
       " datetime.date(2024, 3, 19),\n",
       " datetime.date(2024, 3, 20),\n",
       " datetime.date(2024, 3, 21),\n",
       " datetime.date(2024, 3, 22),\n",
       " datetime.date(2024, 3, 23),\n",
       " datetime.date(2024, 3, 24),\n",
       " datetime.date(2024, 3, 25),\n",
       " datetime.date(2024, 3, 26),\n",
       " datetime.date(2024, 3, 27),\n",
       " datetime.date(2024, 3, 28),\n",
       " datetime.date(2024, 3, 29),\n",
       " datetime.date(2024, 3, 30),\n",
       " datetime.date(2024, 3, 31),\n",
       " datetime.date(2024, 4, 1),\n",
       " datetime.date(2024, 4, 2),\n",
       " datetime.date(2024, 4, 3),\n",
       " datetime.date(2024, 4, 4),\n",
       " datetime.date(2024, 4, 5),\n",
       " datetime.date(2024, 4, 6),\n",
       " datetime.date(2024, 4, 7),\n",
       " datetime.date(2024, 4, 8),\n",
       " datetime.date(2024, 4, 9),\n",
       " datetime.date(2024, 4, 10),\n",
       " datetime.date(2024, 4, 11),\n",
       " datetime.date(2024, 4, 12),\n",
       " datetime.date(2024, 4, 13),\n",
       " datetime.date(2024, 4, 14),\n",
       " datetime.date(2024, 4, 15),\n",
       " datetime.date(2024, 4, 16),\n",
       " datetime.date(2024, 4, 17),\n",
       " datetime.date(2024, 4, 18),\n",
       " datetime.date(2024, 4, 19),\n",
       " datetime.date(2024, 4, 20),\n",
       " datetime.date(2024, 4, 21),\n",
       " datetime.date(2024, 4, 22),\n",
       " datetime.date(2024, 4, 23),\n",
       " datetime.date(2024, 4, 24),\n",
       " datetime.date(2024, 4, 25),\n",
       " datetime.date(2024, 4, 26)]"
      ]
     },
     "execution_count": 16,
     "metadata": {},
     "output_type": "execute_result"
    }
   ],
   "source": [
    "lst_days = day_definer(90)\n",
    "lst_days"
   ]
  },
  {
   "cell_type": "markdown",
   "metadata": {},
   "source": [
    "#### 2. Assign random number of orders per day\n",
    "Each day needs to get a number of orders assigned."
   ]
  },
  {
   "cell_type": "markdown",
   "metadata": {},
   "source": [
    "The number of orders per day needs to be randomized as well when assigning orders for a range of days."
   ]
  },
  {
   "cell_type": "code",
   "execution_count": 17,
   "metadata": {},
   "outputs": [],
   "source": [
    "def order_generator(avg_orders_per_day, avg_lines_order, order_std, min_order_size):\n",
    "    '''\n",
    "    Function to generate an array with random length where each number in that array represents one order with order lines.\n",
    "    The random assignment of the number of orders as well as the number of order lines follow a normal distribution.\n",
    "    Inputs:\n",
    "    - average orders per day\n",
    "    - average order lines per order\n",
    "    - standard deviaton (scale) of an order\n",
    "    - minimum order size\n",
    "    Output:\n",
    "    - array with numbers\n",
    "    '''\n",
    "\n",
    "    orders_per_day = np.round(abs(np.random.normal(loc=avg_orders_per_day, scale=50, size=1))).astype(int)\n",
    "    return np.round(abs(np.random.normal(loc=avg_lines_order, scale=order_std, size=orders_per_day))) + min_order_size"
   ]
  },
  {
   "cell_type": "code",
   "execution_count": 22,
   "metadata": {},
   "outputs": [
    {
     "data": {
      "text/plain": [
       "array([36., 37., 40., 28., 22., 25., 42., 42.,  3., 19., 27., 41., 42.,\n",
       "       42., 29., 41., 37., 43., 43., 33., 40., 29., 48., 31., 36., 38.,\n",
       "       39., 44., 22., 35., 36., 18., 39., 48., 55., 38., 30., 24., 49.,\n",
       "       25., 34., 25., 31., 44., 26., 35., 18., 17., 32., 24., 34., 57.,\n",
       "       35., 19., 39., 41., 32., 40., 39., 22., 37., 33., 19., 19., 38.,\n",
       "       27., 24., 22., 35., 32., 34., 47., 36., 24., 32., 53., 31., 42.,\n",
       "       25., 47., 25., 43., 46., 22., 37., 51., 47., 22., 40., 29., 32.,\n",
       "       36., 37., 33., 53., 27., 36., 47., 47., 38., 21., 14., 35., 35.,\n",
       "       30., 36., 31., 17., 27., 19., 36., 37., 27., 25., 23., 57., 25.,\n",
       "       33., 24., 25., 33., 34., 23., 39., 14., 30., 56., 49., 22., 32.,\n",
       "       58., 25., 26., 44., 35., 37.])"
      ]
     },
     "execution_count": 22,
     "metadata": {},
     "output_type": "execute_result"
    }
   ],
   "source": [
    "test_orders = order_generator(100, 30, 10, 3)\n",
    "test_orders"
   ]
  },
  {
   "cell_type": "code",
   "execution_count": 23,
   "metadata": {},
   "outputs": [
    {
     "data": {
      "text/plain": [
       "(array([1., 0., 0., 0., 0., 0., 0., 0., 0., 0., 0., 2., 0., 0., 2., 2., 5.,\n",
       "        0., 1., 7., 2., 5., 9., 2., 5., 1., 3., 3., 4., 6., 5., 4., 7., 8.,\n",
       "        7., 4., 5., 4., 3., 5., 3., 3., 0., 1., 5., 2., 2., 0., 1., 0., 2.,\n",
       "        0., 1., 1., 3.]),\n",
       " array([ 3.,  4.,  5.,  6.,  7.,  8.,  9., 10., 11., 12., 13., 14., 15.,\n",
       "        16., 17., 18., 19., 20., 21., 22., 23., 24., 25., 26., 27., 28.,\n",
       "        29., 30., 31., 32., 33., 34., 35., 36., 37., 38., 39., 40., 41.,\n",
       "        42., 43., 44., 45., 46., 47., 48., 49., 50., 51., 52., 53., 54.,\n",
       "        55., 56., 57., 58.]),\n",
       " <BarContainer object of 55 artists>)"
      ]
     },
     "execution_count": 23,
     "metadata": {},
     "output_type": "execute_result"
    },
    {
     "data": {
      "image/png": "[encoded data removed]",
      "text/plain": [
       "<Figure size 640x480 with 1 Axes>"
      ]
     },
     "metadata": {},
     "output_type": "display_data"
    }
   ],
   "source": [
    "# Plot:\n",
    "axis = np.arange(start=min(test_orders), stop = max(test_orders) + 1)\n",
    "plt.hist(test_orders, bins = axis)"
   ]
  },
  {
   "cell_type": "code",
   "execution_count": 28,
   "metadata": {},
   "outputs": [
    {
     "data": {
      "text/plain": [
       "136"
      ]
     },
     "execution_count": 28,
     "metadata": {},
     "output_type": "execute_result"
    }
   ],
   "source": [
    "len(test_orders)"
   ]
  },
  {
   "cell_type": "markdown",
   "metadata": {},
   "source": [
    "#### 3. Assigning SKUs\n",
    "The assignment of SKUs may be random, but each SKU will need to have a different velocity, basically how often it is picked during the day. As stated, this distribution will follow the 80/20 rule.\n",
    "\n",
    "First, a pareto distribution of n SKUs with distinct values need to be produced. N is the number of SKUs, and the dependend values represent the number of order lines each SKU is picked during the day.\n",
    "In the next step each SKU will then be translated to a unique identifier (SKU ID), multiplied by the number of order lines it produces during the day, and then be put into a SKU list. This SKU list represents a pool from which order lines can be randomly pulled when a procedure loops throuh all the orders. Because the appearance of SKUs in the list is varying (based on the pareto principle) probability will naturally reproduce the pareto distribution when the oder list is generated."
   ]
  },
  {
   "cell_type": "code",
   "execution_count": 29,
   "metadata": {},
   "outputs": [
    {
     "data": {
      "image/png": "[encoded data removed]",
      "text/plain": [
       "<Figure size 1500x800 with 1 Axes>"
      ]
     },
     "metadata": {},
     "output_type": "display_data"
    }
   ],
   "source": [
    "# Let's review the cumulative density function of the pareto distribution. We will use scipy's pareto library.\n",
    "num_skus = 10000\n",
    "\n",
    "x = np.arange(1, num_skus)\n",
    "\n",
    "pareto_cdf = (pareto.cdf(x, b=0.1, loc=1, scale=1) * 50000).round()\n",
    "\n",
    "plt.figure(figsize=(15, 8))\n",
    "plt.plot(x, pareto_cdf)\n",
    "plt.grid()\n",
    "plt.show()"
   ]
  },
  {
   "cell_type": "code",
   "execution_count": 30,
   "metadata": {},
   "outputs": [
    {
     "data": {
      "text/plain": [
       "27881.72297229723"
      ]
     },
     "execution_count": 30,
     "metadata": {},
     "output_type": "execute_result"
    }
   ],
   "source": [
    "pareto_cdf.mean()"
   ]
  },
  {
   "cell_type": "markdown",
   "metadata": {},
   "source": [
    "This distribution could represent a day in a distribution center. It is very steep in this example and shows how 10,000 SKUs adding adding up to 30,000 order lines. The fastest SKUs are on the left side of the X-axis and generate the biggest part of the order volume. We need the derivation of this function (probability density function) in order to directly get the individual impacts of each SKU."
   ]
  },
  {
   "cell_type": "code",
   "execution_count": 31,
   "metadata": {},
   "outputs": [
    {
     "data": {
      "image/png": "[encoded data removed]",
      "text/plain": [
       "<Figure size 1500x800 with 1 Axes>"
      ]
     },
     "metadata": {},
     "output_type": "display_data"
    }
   ],
   "source": [
    "# Let's try spipy's pdf funtion\n",
    "min_lines = 1\n",
    "lines_range_factor = 100\n",
    "\n",
    "x = np.linspace(1, 10, 1000)\n",
    "\n",
    "pareto_pdf = (pareto.pdf(x, b=1, loc=0, scale=1) * lines_range_factor + min_lines).round()\n",
    "\n",
    "plt.figure(figsize=(15, 8))\n",
    "plt.plot(x, pareto_pdf)\n",
    "plt.grid()\n",
    "plt.show()"
   ]
  },
  {
   "cell_type": "code",
   "execution_count": 32,
   "metadata": {},
   "outputs": [],
   "source": [
    "# Make a function that randomly creates a number of lines from that distribution:\n",
    "\n",
    "def random_line_assigner(min_lines, lines_range):\n",
    "    return np.random.choice((pareto.pdf(x, b=1, loc=0, scale=1) * lines_range + min_lines).round())"
   ]
  },
  {
   "cell_type": "code",
   "execution_count": 33,
   "metadata": {},
   "outputs": [],
   "source": [
    "# generate 1000 samples for testing if distribution will be reflected\n",
    "df_fashion_skus = random_skus(10000, 'Fashion')\n",
    "min_lines = 1\n",
    "lines_range = 100\n",
    "\n",
    "df_fashion_skus['Lines'] = np.random.choice((pareto.pdf(x, b=1, loc=0, scale=1) * lines_range + min_lines).round(), df_fashion_skus.shape[0])\n"
   ]
  },
  {
   "cell_type": "code",
   "execution_count": 34,
   "metadata": {},
   "outputs": [
    {
     "data": {
      "text/html": [
       "<div>\n",
       "<style scoped>\n",
       "    .dataframe tbody tr th:only-of-type {\n",
       "        vertical-align: middle;\n",
       "    }\n",
       "\n",
       "    .dataframe tbody tr th {\n",
       "        vertical-align: top;\n",
       "    }\n",
       "\n",
       "    .dataframe thead th {\n",
       "        text-align: right;\n",
       "    }\n",
       "</style>\n",
       "<table border=\"1\" class=\"dataframe\">\n",
       "  <thead>\n",
       "    <tr style=\"text-align: right;\">\n",
       "      <th></th>\n",
       "      <th>SKU ID</th>\n",
       "      <th>Category</th>\n",
       "      <th>Size</th>\n",
       "      <th>Length</th>\n",
       "      <th>Width</th>\n",
       "      <th>Height</th>\n",
       "      <th>Lines</th>\n",
       "    </tr>\n",
       "  </thead>\n",
       "  <tbody>\n",
       "    <tr>\n",
       "      <th>0</th>\n",
       "      <td>530be5b3-4664-400c-88e4-8b9853ce18cc</td>\n",
       "      <td>Pants</td>\n",
       "      <td>L</td>\n",
       "      <td>479.0</td>\n",
       "      <td>292.0</td>\n",
       "      <td>15.0</td>\n",
       "      <td>2.0</td>\n",
       "    </tr>\n",
       "    <tr>\n",
       "      <th>1</th>\n",
       "      <td>020b20e2-86b8-4f40-adda-3b2c13be7620</td>\n",
       "      <td>Pants</td>\n",
       "      <td>M</td>\n",
       "      <td>452.0</td>\n",
       "      <td>286.0</td>\n",
       "      <td>18.0</td>\n",
       "      <td>2.0</td>\n",
       "    </tr>\n",
       "    <tr>\n",
       "      <th>2</th>\n",
       "      <td>c92dfb75-72cb-4716-9dd6-f0a9672a2f2f</td>\n",
       "      <td>Socks</td>\n",
       "      <td>S</td>\n",
       "      <td>106.0</td>\n",
       "      <td>76.0</td>\n",
       "      <td>5.0</td>\n",
       "      <td>12.0</td>\n",
       "    </tr>\n",
       "    <tr>\n",
       "      <th>3</th>\n",
       "      <td>8b76f8b3-f632-4c7c-96bf-f81f96b85b85</td>\n",
       "      <td>Shirt</td>\n",
       "      <td>S</td>\n",
       "      <td>432.0</td>\n",
       "      <td>223.0</td>\n",
       "      <td>10.0</td>\n",
       "      <td>21.0</td>\n",
       "    </tr>\n",
       "    <tr>\n",
       "      <th>4</th>\n",
       "      <td>e42793b1-8911-4f7c-ab01-2e9589fcea72</td>\n",
       "      <td>Shirt</td>\n",
       "      <td>M</td>\n",
       "      <td>407.0</td>\n",
       "      <td>270.0</td>\n",
       "      <td>12.0</td>\n",
       "      <td>2.0</td>\n",
       "    </tr>\n",
       "    <tr>\n",
       "      <th>...</th>\n",
       "      <td>...</td>\n",
       "      <td>...</td>\n",
       "      <td>...</td>\n",
       "      <td>...</td>\n",
       "      <td>...</td>\n",
       "      <td>...</td>\n",
       "      <td>...</td>\n",
       "    </tr>\n",
       "    <tr>\n",
       "      <th>9995</th>\n",
       "      <td>45a97b68-10db-469b-ac0a-7bfcd18ef5a8</td>\n",
       "      <td>Socks</td>\n",
       "      <td>M</td>\n",
       "      <td>126.0</td>\n",
       "      <td>93.0</td>\n",
       "      <td>6.0</td>\n",
       "      <td>40.0</td>\n",
       "    </tr>\n",
       "    <tr>\n",
       "      <th>9996</th>\n",
       "      <td>9ceef68f-9bf5-4583-968d-99d68feac5e3</td>\n",
       "      <td>Socks</td>\n",
       "      <td>S</td>\n",
       "      <td>97.0</td>\n",
       "      <td>84.0</td>\n",
       "      <td>5.0</td>\n",
       "      <td>10.0</td>\n",
       "    </tr>\n",
       "    <tr>\n",
       "      <th>9997</th>\n",
       "      <td>ced71ec1-7b02-4f98-973d-978f05f9a9d9</td>\n",
       "      <td>Socks</td>\n",
       "      <td>L</td>\n",
       "      <td>121.0</td>\n",
       "      <td>80.0</td>\n",
       "      <td>5.0</td>\n",
       "      <td>8.0</td>\n",
       "    </tr>\n",
       "    <tr>\n",
       "      <th>9998</th>\n",
       "      <td>df2c9432-8b2b-4bae-9ea5-d156a376b864</td>\n",
       "      <td>Socks</td>\n",
       "      <td>L</td>\n",
       "      <td>110.0</td>\n",
       "      <td>89.0</td>\n",
       "      <td>5.0</td>\n",
       "      <td>50.0</td>\n",
       "    </tr>\n",
       "    <tr>\n",
       "      <th>9999</th>\n",
       "      <td>a12a18bf-77c9-4e01-8f61-15404942eee7</td>\n",
       "      <td>Pants</td>\n",
       "      <td>M</td>\n",
       "      <td>503.0</td>\n",
       "      <td>225.0</td>\n",
       "      <td>19.0</td>\n",
       "      <td>11.0</td>\n",
       "    </tr>\n",
       "  </tbody>\n",
       "</table>\n",
       "<p>10000 rows × 7 columns</p>\n",
       "</div>"
      ],
      "text/plain": [
       "                                    SKU ID Category Size  Length  Width  \\\n",
       "0     530be5b3-4664-400c-88e4-8b9853ce18cc    Pants    L   479.0  292.0   \n",
       "1     020b20e2-86b8-4f40-adda-3b2c13be7620    Pants    M   452.0  286.0   \n",
       "2     c92dfb75-72cb-4716-9dd6-f0a9672a2f2f    Socks    S   106.0   76.0   \n",
       "3     8b76f8b3-f632-4c7c-96bf-f81f96b85b85    Shirt    S   432.0  223.0   \n",
       "4     e42793b1-8911-4f7c-ab01-2e9589fcea72    Shirt    M   407.0  270.0   \n",
       "...                                    ...      ...  ...     ...    ...   \n",
       "9995  45a97b68-10db-469b-ac0a-7bfcd18ef5a8    Socks    M   126.0   93.0   \n",
       "9996  9ceef68f-9bf5-4583-968d-99d68feac5e3    Socks    S    97.0   84.0   \n",
       "9997  ced71ec1-7b02-4f98-973d-978f05f9a9d9    Socks    L   121.0   80.0   \n",
       "9998  df2c9432-8b2b-4bae-9ea5-d156a376b864    Socks    L   110.0   89.0   \n",
       "9999  a12a18bf-77c9-4e01-8f61-15404942eee7    Pants    M   503.0  225.0   \n",
       "\n",
       "      Height  Lines  \n",
       "0       15.0    2.0  \n",
       "1       18.0    2.0  \n",
       "2        5.0   12.0  \n",
       "3       10.0   21.0  \n",
       "4       12.0    2.0  \n",
       "...      ...    ...  \n",
       "9995     6.0   40.0  \n",
       "9996     5.0   10.0  \n",
       "9997     5.0    8.0  \n",
       "9998     5.0   50.0  \n",
       "9999    19.0   11.0  \n",
       "\n",
       "[10000 rows x 7 columns]"
      ]
     },
     "execution_count": 34,
     "metadata": {},
     "output_type": "execute_result"
    }
   ],
   "source": [
    "df_fashion_skus"
   ]
  },
  {
   "cell_type": "code",
   "execution_count": 35,
   "metadata": {},
   "outputs": [],
   "source": [
    "# For the pareto distrubution to appear the dataframe needs to be sorted by the order lines and then a cumulative lines column needs to be added\n",
    "# Sorting by velocity\n",
    "df_fashion_skus.sort_values('Lines', ascending=False, inplace=True)\n",
    "# Cumulate values\n",
    "df_fashion_skus['Cumulative Lines'] = np.cumsum(df_fashion_skus['Lines'])\n",
    "# Resetting index for the visualization\n",
    "df_fashion_skus.reset_index(drop=True, inplace= True)"
   ]
  },
  {
   "cell_type": "code",
   "execution_count": 36,
   "metadata": {},
   "outputs": [
    {
     "data": {
      "text/html": [
       "<div>\n",
       "<style scoped>\n",
       "    .dataframe tbody tr th:only-of-type {\n",
       "        vertical-align: middle;\n",
       "    }\n",
       "\n",
       "    .dataframe tbody tr th {\n",
       "        vertical-align: top;\n",
       "    }\n",
       "\n",
       "    .dataframe thead th {\n",
       "        text-align: right;\n",
       "    }\n",
       "</style>\n",
       "<table border=\"1\" class=\"dataframe\">\n",
       "  <thead>\n",
       "    <tr style=\"text-align: right;\">\n",
       "      <th></th>\n",
       "      <th>SKU ID</th>\n",
       "      <th>Category</th>\n",
       "      <th>Size</th>\n",
       "      <th>Length</th>\n",
       "      <th>Width</th>\n",
       "      <th>Height</th>\n",
       "      <th>Lines</th>\n",
       "      <th>Cumulative Lines</th>\n",
       "    </tr>\n",
       "  </thead>\n",
       "  <tbody>\n",
       "    <tr>\n",
       "      <th>0</th>\n",
       "      <td>3bc87b8e-2499-43d8-88d7-c7189625b405</td>\n",
       "      <td>Socks</td>\n",
       "      <td>M</td>\n",
       "      <td>102.0</td>\n",
       "      <td>78.0</td>\n",
       "      <td>5.0</td>\n",
       "      <td>101.0</td>\n",
       "      <td>101.0</td>\n",
       "    </tr>\n",
       "    <tr>\n",
       "      <th>1</th>\n",
       "      <td>68ec2ca3-ae47-4196-b2ab-8f9f289cb55a</td>\n",
       "      <td>Shirt</td>\n",
       "      <td>M</td>\n",
       "      <td>386.0</td>\n",
       "      <td>199.0</td>\n",
       "      <td>9.0</td>\n",
       "      <td>101.0</td>\n",
       "      <td>202.0</td>\n",
       "    </tr>\n",
       "    <tr>\n",
       "      <th>2</th>\n",
       "      <td>9f5135e5-166d-443e-99f4-5e3bca8b9f5e</td>\n",
       "      <td>Shirt</td>\n",
       "      <td>S</td>\n",
       "      <td>363.0</td>\n",
       "      <td>196.0</td>\n",
       "      <td>11.0</td>\n",
       "      <td>101.0</td>\n",
       "      <td>303.0</td>\n",
       "    </tr>\n",
       "    <tr>\n",
       "      <th>3</th>\n",
       "      <td>fbdb2608-7864-45c1-81ed-ba8287bec424</td>\n",
       "      <td>Pants</td>\n",
       "      <td>M</td>\n",
       "      <td>379.0</td>\n",
       "      <td>295.0</td>\n",
       "      <td>19.0</td>\n",
       "      <td>101.0</td>\n",
       "      <td>404.0</td>\n",
       "    </tr>\n",
       "    <tr>\n",
       "      <th>4</th>\n",
       "      <td>3fc3db55-2883-4c91-92d3-6703f0003da2</td>\n",
       "      <td>Shirt</td>\n",
       "      <td>L</td>\n",
       "      <td>410.0</td>\n",
       "      <td>230.0</td>\n",
       "      <td>13.0</td>\n",
       "      <td>101.0</td>\n",
       "      <td>505.0</td>\n",
       "    </tr>\n",
       "    <tr>\n",
       "      <th>...</th>\n",
       "      <td>...</td>\n",
       "      <td>...</td>\n",
       "      <td>...</td>\n",
       "      <td>...</td>\n",
       "      <td>...</td>\n",
       "      <td>...</td>\n",
       "      <td>...</td>\n",
       "      <td>...</td>\n",
       "    </tr>\n",
       "    <tr>\n",
       "      <th>9995</th>\n",
       "      <td>2bdbb879-ebb7-4c5d-a247-13174e65b9a2</td>\n",
       "      <td>Socks</td>\n",
       "      <td>L</td>\n",
       "      <td>111.0</td>\n",
       "      <td>72.0</td>\n",
       "      <td>5.0</td>\n",
       "      <td>2.0</td>\n",
       "      <td>110574.0</td>\n",
       "    </tr>\n",
       "    <tr>\n",
       "      <th>9996</th>\n",
       "      <td>714103fe-6ec1-47eb-9428-f0e5beda01f2</td>\n",
       "      <td>Pants</td>\n",
       "      <td>L</td>\n",
       "      <td>488.0</td>\n",
       "      <td>322.0</td>\n",
       "      <td>23.0</td>\n",
       "      <td>2.0</td>\n",
       "      <td>110576.0</td>\n",
       "    </tr>\n",
       "    <tr>\n",
       "      <th>9997</th>\n",
       "      <td>9b4f45fb-75a9-4b06-b8a2-4766aea10d61</td>\n",
       "      <td>Shirt</td>\n",
       "      <td>S</td>\n",
       "      <td>387.0</td>\n",
       "      <td>175.0</td>\n",
       "      <td>8.0</td>\n",
       "      <td>2.0</td>\n",
       "      <td>110578.0</td>\n",
       "    </tr>\n",
       "    <tr>\n",
       "      <th>9998</th>\n",
       "      <td>a5c60c5c-b43c-4958-8c74-e9ee81481134</td>\n",
       "      <td>Shirt</td>\n",
       "      <td>S</td>\n",
       "      <td>334.0</td>\n",
       "      <td>180.0</td>\n",
       "      <td>10.0</td>\n",
       "      <td>2.0</td>\n",
       "      <td>110580.0</td>\n",
       "    </tr>\n",
       "    <tr>\n",
       "      <th>9999</th>\n",
       "      <td>530be5b3-4664-400c-88e4-8b9853ce18cc</td>\n",
       "      <td>Pants</td>\n",
       "      <td>L</td>\n",
       "      <td>479.0</td>\n",
       "      <td>292.0</td>\n",
       "      <td>15.0</td>\n",
       "      <td>2.0</td>\n",
       "      <td>110582.0</td>\n",
       "    </tr>\n",
       "  </tbody>\n",
       "</table>\n",
       "<p>10000 rows × 8 columns</p>\n",
       "</div>"
      ],
      "text/plain": [
       "                                    SKU ID Category Size  Length  Width  \\\n",
       "0     3bc87b8e-2499-43d8-88d7-c7189625b405    Socks    M   102.0   78.0   \n",
       "1     68ec2ca3-ae47-4196-b2ab-8f9f289cb55a    Shirt    M   386.0  199.0   \n",
       "2     9f5135e5-166d-443e-99f4-5e3bca8b9f5e    Shirt    S   363.0  196.0   \n",
       "3     fbdb2608-7864-45c1-81ed-ba8287bec424    Pants    M   379.0  295.0   \n",
       "4     3fc3db55-2883-4c91-92d3-6703f0003da2    Shirt    L   410.0  230.0   \n",
       "...                                    ...      ...  ...     ...    ...   \n",
       "9995  2bdbb879-ebb7-4c5d-a247-13174e65b9a2    Socks    L   111.0   72.0   \n",
       "9996  714103fe-6ec1-47eb-9428-f0e5beda01f2    Pants    L   488.0  322.0   \n",
       "9997  9b4f45fb-75a9-4b06-b8a2-4766aea10d61    Shirt    S   387.0  175.0   \n",
       "9998  a5c60c5c-b43c-4958-8c74-e9ee81481134    Shirt    S   334.0  180.0   \n",
       "9999  530be5b3-4664-400c-88e4-8b9853ce18cc    Pants    L   479.0  292.0   \n",
       "\n",
       "      Height  Lines  Cumulative Lines  \n",
       "0        5.0  101.0             101.0  \n",
       "1        9.0  101.0             202.0  \n",
       "2       11.0  101.0             303.0  \n",
       "3       19.0  101.0             404.0  \n",
       "4       13.0  101.0             505.0  \n",
       "...      ...    ...               ...  \n",
       "9995     5.0    2.0          110574.0  \n",
       "9996    23.0    2.0          110576.0  \n",
       "9997     8.0    2.0          110578.0  \n",
       "9998    10.0    2.0          110580.0  \n",
       "9999    15.0    2.0          110582.0  \n",
       "\n",
       "[10000 rows x 8 columns]"
      ]
     },
     "execution_count": 36,
     "metadata": {},
     "output_type": "execute_result"
    }
   ],
   "source": [
    "df_fashion_skus"
   ]
  },
  {
   "cell_type": "code",
   "execution_count": 37,
   "metadata": {},
   "outputs": [
    {
     "data": {
      "image/png": "[encoded data removed]",
      "text/plain": [
       "<Figure size 1500x800 with 1 Axes>"
      ]
     },
     "metadata": {},
     "output_type": "display_data"
    }
   ],
   "source": [
    "plt.figure(figsize=(15, 8))\n",
    "plt.plot(df_fashion_skus['Cumulative Lines']);"
   ]
  },
  {
   "cell_type": "markdown",
   "metadata": {},
   "source": [
    "That looks OK. This list of 1000 SKUs corresponds to a typical order profile. In a 3-shift operation that would lead to a capacity of 550 to 650 order lines/ h."
   ]
  },
  {
   "cell_type": "markdown",
   "metadata": {},
   "source": [
    "#### 4. Creating the order line pool\n",
    "The goal is to have a pool of order lines. The number of appearances of SKUs in that pool must be in line their velocity (= \"Order Lines\"). For example, if a SKU was generated with 30 order lines it must appear 30 times in the pool. This is essential to maintain the pareto distribution. For every ordeline in the order list the algorithm will then chose randomly one sample from the pool.\n",
    "Let's generate this pool."
   ]
  },
  {
   "cell_type": "code",
   "execution_count": 38,
   "metadata": {},
   "outputs": [],
   "source": [
    "active_sku_pool = df_fashion_skus['SKU ID']"
   ]
  },
  {
   "cell_type": "code",
   "execution_count": 39,
   "metadata": {},
   "outputs": [
    {
     "data": {
      "text/plain": [
       "(10000,)"
      ]
     },
     "execution_count": 39,
     "metadata": {},
     "output_type": "execute_result"
    }
   ],
   "source": [
    "np.shape(active_sku_pool)"
   ]
  },
  {
   "cell_type": "code",
   "execution_count": 40,
   "metadata": {},
   "outputs": [
    {
     "data": {
      "text/plain": [
       "0       3bc87b8e-2499-43d8-88d7-c7189625b405\n",
       "1       68ec2ca3-ae47-4196-b2ab-8f9f289cb55a\n",
       "2       9f5135e5-166d-443e-99f4-5e3bca8b9f5e\n",
       "3       fbdb2608-7864-45c1-81ed-ba8287bec424\n",
       "4       3fc3db55-2883-4c91-92d3-6703f0003da2\n",
       "                        ...                 \n",
       "9995    2bdbb879-ebb7-4c5d-a247-13174e65b9a2\n",
       "9996    714103fe-6ec1-47eb-9428-f0e5beda01f2\n",
       "9997    9b4f45fb-75a9-4b06-b8a2-4766aea10d61\n",
       "9998    a5c60c5c-b43c-4958-8c74-e9ee81481134\n",
       "9999    530be5b3-4664-400c-88e4-8b9853ce18cc\n",
       "Name: SKU ID, Length: 10000, dtype: object"
      ]
     },
     "execution_count": 40,
     "metadata": {},
     "output_type": "execute_result"
    }
   ],
   "source": [
    "active_sku_pool"
   ]
  },
  {
   "cell_type": "markdown",
   "metadata": {},
   "source": [
    "#### 5. Putting all together\n",
    "| Date | Order ID | SKU ID | Quantity |\n",
    "| ---- | ---- | ---- | ---- |\n",
    "| numerical | categorical | categorical | numerical |"
   ]
  },
  {
   "cell_type": "code",
   "execution_count": null,
   "metadata": {},
   "outputs": [],
   "source": []
  },
  {
   "cell_type": "code",
   "execution_count": 43,
   "metadata": {},
   "outputs": [
    {
     "data": {
      "text/plain": [
       "[datetime.date(2024, 1, 27),\n",
       " datetime.date(2024, 1, 28),\n",
       " datetime.date(2024, 1, 29),\n",
       " datetime.date(2024, 1, 30),\n",
       " datetime.date(2024, 1, 31),\n",
       " datetime.date(2024, 2, 1),\n",
       " datetime.date(2024, 2, 2),\n",
       " datetime.date(2024, 2, 3),\n",
       " datetime.date(2024, 2, 4),\n",
       " datetime.date(2024, 2, 5),\n",
       " datetime.date(2024, 2, 6),\n",
       " datetime.date(2024, 2, 7),\n",
       " datetime.date(2024, 2, 8),\n",
       " datetime.date(2024, 2, 9),\n",
       " datetime.date(2024, 2, 10),\n",
       " datetime.date(2024, 2, 11),\n",
       " datetime.date(2024, 2, 12),\n",
       " datetime.date(2024, 2, 13),\n",
       " datetime.date(2024, 2, 14),\n",
       " datetime.date(2024, 2, 15),\n",
       " datetime.date(2024, 2, 16),\n",
       " datetime.date(2024, 2, 17),\n",
       " datetime.date(2024, 2, 18),\n",
       " datetime.date(2024, 2, 19),\n",
       " datetime.date(2024, 2, 20),\n",
       " datetime.date(2024, 2, 21),\n",
       " datetime.date(2024, 2, 22),\n",
       " datetime.date(2024, 2, 23),\n",
       " datetime.date(2024, 2, 24),\n",
       " datetime.date(2024, 2, 25)]"
      ]
     },
     "execution_count": 43,
     "metadata": {},
     "output_type": "execute_result"
    }
   ],
   "source": [
    "# Empty dictionary to collect all order lines\n",
    "dict_dataset = {}\n",
    "index_num = 0\n",
    "\n",
    "# Order profile\n",
    "avg_qty = 10\n",
    "avg_orders_per_day = 500\n",
    "avg_lines_per_order = 10\n",
    "min_lines_per_order = 2\n",
    "avg_units_line = 3\n",
    "\n",
    "# Generate days\n",
    "sample_days = 30\n",
    "sample_range = day_definer(sample_days)\n",
    "test_orders = order_generator(100, 30, 10, 3)\n",
    "\n",
    "# TODO: Continue here: https://www.atatus.com/blog/python-converting-lsts-to-dictionaries/\n",
    "orders_dict = {}\n",
    "\n",
    "feature_list = ['Date', 'Order ID', 'SKU ID', 'Quantity']\n",
    "order_df = pd.DataFrame(data=None, index=np.arange(), columns=feature_list)\n",
    "\n",
    "\n",
    "# df_fashion_skus['Lines'] = np.random.choice((pareto.pdf(x, b=1, loc=0, scale=1) * lines_range + min_lines).round(), df_fashion_skus.shape[0])\n",
    "\n",
    "# for day in sample_range:\n",
    "#     order_pool = order_generator(avg_orders_per_day, avg_lines_per_order, 5, min_lines_per_order)\n",
    "\n",
    "#     for order, lines in enumerate(order_pool):\n",
    "#         for line in range(int(lines)):\n",
    "            \n",
    "#             dict_dataset[index_num] = [day, 'Order_' + str(order), np.random.choice(active_sku_pool), abs(round(np.random.normal(avg_qty, 6, 1)[0],0))]\n",
    "#             index_num += 1\n",
    "\n",
    "# # Generate dataframe from dictionary\n",
    "# order_data_set = pd.DataFrame.from_dict(\n",
    "#     dict_dataset,\n",
    "#     orient='index',\n",
    "#     columns=['Date', 'Order ID', 'SKU ID', 'Quantity'])\n",
    "    "
   ]
  },
  {
   "cell_type": "code",
   "execution_count": 163,
   "metadata": {},
   "outputs": [
    {
     "data": {
      "text/html": [
       "<div>\n",
       "<style scoped>\n",
       "    .dataframe tbody tr th:only-of-type {\n",
       "        vertical-align: middle;\n",
       "    }\n",
       "\n",
       "    .dataframe tbody tr th {\n",
       "        vertical-align: top;\n",
       "    }\n",
       "\n",
       "    .dataframe thead th {\n",
       "        text-align: right;\n",
       "    }\n",
       "</style>\n",
       "<table border=\"1\" class=\"dataframe\">\n",
       "  <thead>\n",
       "    <tr style=\"text-align: right;\">\n",
       "      <th></th>\n",
       "      <th>Date</th>\n",
       "      <th>Order ID</th>\n",
       "      <th>SKU ID</th>\n",
       "      <th>Quantity</th>\n",
       "    </tr>\n",
       "  </thead>\n",
       "  <tbody>\n",
       "    <tr>\n",
       "      <th>0</th>\n",
       "      <td>2024-01-25</td>\n",
       "      <td>Order_0</td>\n",
       "      <td>SKU_132</td>\n",
       "      <td>2.0</td>\n",
       "    </tr>\n",
       "    <tr>\n",
       "      <th>1</th>\n",
       "      <td>2024-01-25</td>\n",
       "      <td>Order_0</td>\n",
       "      <td>SKU_166</td>\n",
       "      <td>7.0</td>\n",
       "    </tr>\n",
       "    <tr>\n",
       "      <th>2</th>\n",
       "      <td>2024-01-25</td>\n",
       "      <td>Order_0</td>\n",
       "      <td>SKU_951</td>\n",
       "      <td>6.0</td>\n",
       "    </tr>\n",
       "    <tr>\n",
       "      <th>3</th>\n",
       "      <td>2024-01-25</td>\n",
       "      <td>Order_0</td>\n",
       "      <td>SKU_18</td>\n",
       "      <td>6.0</td>\n",
       "    </tr>\n",
       "    <tr>\n",
       "      <th>4</th>\n",
       "      <td>2024-01-25</td>\n",
       "      <td>Order_0</td>\n",
       "      <td>SKU_268</td>\n",
       "      <td>12.0</td>\n",
       "    </tr>\n",
       "    <tr>\n",
       "      <th>...</th>\n",
       "      <td>...</td>\n",
       "      <td>...</td>\n",
       "      <td>...</td>\n",
       "      <td>...</td>\n",
       "    </tr>\n",
       "    <tr>\n",
       "      <th>180913</th>\n",
       "      <td>2024-02-23</td>\n",
       "      <td>Order_518</td>\n",
       "      <td>SKU_915</td>\n",
       "      <td>1.0</td>\n",
       "    </tr>\n",
       "    <tr>\n",
       "      <th>180914</th>\n",
       "      <td>2024-02-23</td>\n",
       "      <td>Order_518</td>\n",
       "      <td>SKU_953</td>\n",
       "      <td>0.0</td>\n",
       "    </tr>\n",
       "    <tr>\n",
       "      <th>180915</th>\n",
       "      <td>2024-02-23</td>\n",
       "      <td>Order_518</td>\n",
       "      <td>SKU_201</td>\n",
       "      <td>2.0</td>\n",
       "    </tr>\n",
       "    <tr>\n",
       "      <th>180916</th>\n",
       "      <td>2024-02-23</td>\n",
       "      <td>Order_518</td>\n",
       "      <td>SKU_473</td>\n",
       "      <td>7.0</td>\n",
       "    </tr>\n",
       "    <tr>\n",
       "      <th>180917</th>\n",
       "      <td>2024-02-23</td>\n",
       "      <td>Order_518</td>\n",
       "      <td>SKU_714</td>\n",
       "      <td>12.0</td>\n",
       "    </tr>\n",
       "  </tbody>\n",
       "</table>\n",
       "<p>180918 rows × 4 columns</p>\n",
       "</div>"
      ],
      "text/plain": [
       "              Date   Order ID   SKU ID  Quantity\n",
       "0       2024-01-25    Order_0  SKU_132       2.0\n",
       "1       2024-01-25    Order_0  SKU_166       7.0\n",
       "2       2024-01-25    Order_0  SKU_951       6.0\n",
       "3       2024-01-25    Order_0   SKU_18       6.0\n",
       "4       2024-01-25    Order_0  SKU_268      12.0\n",
       "...            ...        ...      ...       ...\n",
       "180913  2024-02-23  Order_518  SKU_915       1.0\n",
       "180914  2024-02-23  Order_518  SKU_953       0.0\n",
       "180915  2024-02-23  Order_518  SKU_201       2.0\n",
       "180916  2024-02-23  Order_518  SKU_473       7.0\n",
       "180917  2024-02-23  Order_518  SKU_714      12.0\n",
       "\n",
       "[180918 rows x 4 columns]"
      ]
     },
     "execution_count": 163,
     "metadata": {},
     "output_type": "execute_result"
    }
   ],
   "source": [
    "data_set"
   ]
  },
  {
   "cell_type": "markdown",
   "metadata": {},
   "source": [
    "A few items to optimize:\n",
    "- Order ID must be made unique\n",
    "- The code is slow by working with multiple loops. There must be a more efficient way with apply or mapping."
   ]
  },
  {
   "cell_type": "markdown",
   "metadata": {},
   "source": []
  }
 ],
 "metadata": {
  "interpreter": {
   "hash": "dcacb0086e9a4f4eabd41c33bf4faac5ea0a3337ed3f5eff0680afa930572c04"
  },
  "kernelspec": {
   "display_name": "Python 3.9.4 64-bit",
   "language": "python",
   "name": "python3"
  },
  "language_info": {
   "codemirror_mode": {
    "name": "ipython",
    "version": 3
   },
   "file_extension": ".py",
   "mimetype": "text/x-python",
   "name": "python",
   "nbconvert_exporter": "python",
   "pygments_lexer": "ipython3",
   "version": "3.12.1"
  },
  "orig_nbformat": 4
 },
 "nbformat": 4,
 "nbformat_minor": 2
}
