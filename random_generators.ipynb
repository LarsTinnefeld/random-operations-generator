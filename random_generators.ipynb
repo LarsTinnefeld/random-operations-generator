{
 "cells": [
  {
   "cell_type": "markdown",
   "metadata": {},
   "source": [
    "# Random Order- and SKU generators"
   ]
  },
  {
   "cell_type": "markdown",
   "metadata": {},
   "source": [
    "## Importing libraries"
   ]
  },
  {
   "cell_type": "code",
   "execution_count": 1,
   "metadata": {},
   "outputs": [],
   "source": [
    "import pandas as pd\n",
    "import numpy as np\n",
    "import matplotlib.pyplot as plt\n",
    "import seaborn as sns\n",
    "from scipy.stats import skewnorm\n",
    "from datetime import datetime\n",
    "from scipy.stats import pareto\n",
    "\n",
    "%matplotlib inline"
   ]
  },
  {
   "cell_type": "markdown",
   "metadata": {},
   "source": [
    "---"
   ]
  },
  {
   "cell_type": "markdown",
   "metadata": {},
   "source": [
    "## Random SKU table generation\n",
    "\n",
    "### Objectives\n",
    "Generate a table with unique SKUs that have randomly generated values. The number of records can be chosen by the user.\n",
    "\n",
    "The initial table must contain at minimum the following columns:\n",
    "\n",
    "| SKU ID | Category | Length | Width | Height | Weight |\n",
    "| ---- | ---- | ---- | ---- | ---- | ---- |\n",
    "| categorical | categorical | numerical | numerical | numerical | numerical |\n",
    "\n",
    "Goals in detail:\n",
    "- Develop basic method to generate a table of randomly created SKUs with the above features"
   ]
  },
  {
   "cell_type": "markdown",
   "metadata": {},
   "source": []
  },
  {
   "cell_type": "code",
   "execution_count": 2,
   "metadata": {},
   "outputs": [
    {
     "data": {
      "text/html": [
       "<div>\n",
       "<style scoped>\n",
       "    .dataframe tbody tr th:only-of-type {\n",
       "        vertical-align: middle;\n",
       "    }\n",
       "\n",
       "    .dataframe tbody tr th {\n",
       "        vertical-align: top;\n",
       "    }\n",
       "\n",
       "    .dataframe thead th {\n",
       "        text-align: right;\n",
       "    }\n",
       "</style>\n",
       "<table border=\"1\" class=\"dataframe\">\n",
       "  <thead>\n",
       "    <tr style=\"text-align: right;\">\n",
       "      <th></th>\n",
       "      <th>Category</th>\n",
       "      <th>Length_S</th>\n",
       "      <th>Length_M</th>\n",
       "      <th>Length_L</th>\n",
       "      <th>Width_S</th>\n",
       "      <th>Width_M</th>\n",
       "      <th>Width_L</th>\n",
       "      <th>Height_S</th>\n",
       "      <th>Height_M</th>\n",
       "      <th>Height_L</th>\n",
       "    </tr>\n",
       "  </thead>\n",
       "  <tbody>\n",
       "    <tr>\n",
       "      <th>0</th>\n",
       "      <td>Shirt</td>\n",
       "      <td>350</td>\n",
       "      <td>375</td>\n",
       "      <td>400</td>\n",
       "      <td>200</td>\n",
       "      <td>220</td>\n",
       "      <td>250</td>\n",
       "      <td>10</td>\n",
       "      <td>12</td>\n",
       "      <td>15</td>\n",
       "    </tr>\n",
       "    <tr>\n",
       "      <th>1</th>\n",
       "      <td>Pants</td>\n",
       "      <td>400</td>\n",
       "      <td>450</td>\n",
       "      <td>500</td>\n",
       "      <td>250</td>\n",
       "      <td>275</td>\n",
       "      <td>300</td>\n",
       "      <td>15</td>\n",
       "      <td>18</td>\n",
       "      <td>21</td>\n",
       "    </tr>\n",
       "    <tr>\n",
       "      <th>2</th>\n",
       "      <td>Socks</td>\n",
       "      <td>100</td>\n",
       "      <td>110</td>\n",
       "      <td>120</td>\n",
       "      <td>75</td>\n",
       "      <td>77</td>\n",
       "      <td>80</td>\n",
       "      <td>5</td>\n",
       "      <td>5</td>\n",
       "      <td>5</td>\n",
       "    </tr>\n",
       "    <tr>\n",
       "      <th>3</th>\n",
       "      <td>Box of cereals</td>\n",
       "      <td>250</td>\n",
       "      <td>250</td>\n",
       "      <td>250</td>\n",
       "      <td>150</td>\n",
       "      <td>150</td>\n",
       "      <td>150</td>\n",
       "      <td>10</td>\n",
       "      <td>10</td>\n",
       "      <td>10</td>\n",
       "    </tr>\n",
       "    <tr>\n",
       "      <th>4</th>\n",
       "      <td>Can of tuna</td>\n",
       "      <td>110</td>\n",
       "      <td>110</td>\n",
       "      <td>110</td>\n",
       "      <td>110</td>\n",
       "      <td>110</td>\n",
       "      <td>110</td>\n",
       "      <td>7</td>\n",
       "      <td>7</td>\n",
       "      <td>7</td>\n",
       "    </tr>\n",
       "    <tr>\n",
       "      <th>5</th>\n",
       "      <td>Bag of rice</td>\n",
       "      <td>540</td>\n",
       "      <td>540</td>\n",
       "      <td>540</td>\n",
       "      <td>350</td>\n",
       "      <td>350</td>\n",
       "      <td>350</td>\n",
       "      <td>250</td>\n",
       "      <td>250</td>\n",
       "      <td>250</td>\n",
       "    </tr>\n",
       "    <tr>\n",
       "      <th>6</th>\n",
       "      <td>Toolbox</td>\n",
       "      <td>600</td>\n",
       "      <td>600</td>\n",
       "      <td>600</td>\n",
       "      <td>380</td>\n",
       "      <td>380</td>\n",
       "      <td>380</td>\n",
       "      <td>350</td>\n",
       "      <td>350</td>\n",
       "      <td>350</td>\n",
       "    </tr>\n",
       "    <tr>\n",
       "      <th>7</th>\n",
       "      <td>Box of nails</td>\n",
       "      <td>150</td>\n",
       "      <td>150</td>\n",
       "      <td>150</td>\n",
       "      <td>120</td>\n",
       "      <td>120</td>\n",
       "      <td>120</td>\n",
       "      <td>80</td>\n",
       "      <td>80</td>\n",
       "      <td>80</td>\n",
       "    </tr>\n",
       "    <tr>\n",
       "      <th>8</th>\n",
       "      <td>Glue gun</td>\n",
       "      <td>380</td>\n",
       "      <td>380</td>\n",
       "      <td>380</td>\n",
       "      <td>80</td>\n",
       "      <td>80</td>\n",
       "      <td>80</td>\n",
       "      <td>80</td>\n",
       "      <td>80</td>\n",
       "      <td>80</td>\n",
       "    </tr>\n",
       "  </tbody>\n",
       "</table>\n",
       "</div>"
      ],
      "text/plain": [
       "         Category  Length_S  Length_M  Length_L  Width_S  Width_M  Width_L  \\\n",
       "0           Shirt       350       375       400      200      220      250   \n",
       "1           Pants       400       450       500      250      275      300   \n",
       "2           Socks       100       110       120       75       77       80   \n",
       "3  Box of cereals       250       250       250      150      150      150   \n",
       "4     Can of tuna       110       110       110      110      110      110   \n",
       "5     Bag of rice       540       540       540      350      350      350   \n",
       "6         Toolbox       600       600       600      380      380      380   \n",
       "7    Box of nails       150       150       150      120      120      120   \n",
       "8        Glue gun       380       380       380       80       80       80   \n",
       "\n",
       "   Height_S  Height_M  Height_L  \n",
       "0        10        12        15  \n",
       "1        15        18        21  \n",
       "2         5         5         5  \n",
       "3        10        10        10  \n",
       "4         7         7         7  \n",
       "5       250       250       250  \n",
       "6       350       350       350  \n",
       "7        80        80        80  \n",
       "8        80        80        80  "
      ]
     },
     "execution_count": 2,
     "metadata": {},
     "output_type": "execute_result"
    }
   ],
   "source": [
    "df_products = pd.read_excel('Product_list.xls')\n",
    "df_products"
   ]
  },
  {
   "cell_type": "code",
   "execution_count": 3,
   "metadata": {},
   "outputs": [
    {
     "data": {
      "text/html": [
       "<div>\n",
       "<style scoped>\n",
       "    .dataframe tbody tr th:only-of-type {\n",
       "        vertical-align: middle;\n",
       "    }\n",
       "\n",
       "    .dataframe tbody tr th {\n",
       "        vertical-align: top;\n",
       "    }\n",
       "\n",
       "    .dataframe thead th {\n",
       "        text-align: right;\n",
       "    }\n",
       "</style>\n",
       "<table border=\"1\" class=\"dataframe\">\n",
       "  <thead>\n",
       "    <tr style=\"text-align: right;\">\n",
       "      <th></th>\n",
       "      <th>Length_S</th>\n",
       "      <th>Length_M</th>\n",
       "      <th>Length_L</th>\n",
       "      <th>Width_S</th>\n",
       "      <th>Width_M</th>\n",
       "      <th>Width_L</th>\n",
       "      <th>Height_S</th>\n",
       "      <th>Height_M</th>\n",
       "      <th>Height_L</th>\n",
       "    </tr>\n",
       "    <tr>\n",
       "      <th>Category</th>\n",
       "      <th></th>\n",
       "      <th></th>\n",
       "      <th></th>\n",
       "      <th></th>\n",
       "      <th></th>\n",
       "      <th></th>\n",
       "      <th></th>\n",
       "      <th></th>\n",
       "      <th></th>\n",
       "    </tr>\n",
       "  </thead>\n",
       "  <tbody>\n",
       "    <tr>\n",
       "      <th>Shirt</th>\n",
       "      <td>350</td>\n",
       "      <td>375</td>\n",
       "      <td>400</td>\n",
       "      <td>200</td>\n",
       "      <td>220</td>\n",
       "      <td>250</td>\n",
       "      <td>10</td>\n",
       "      <td>12</td>\n",
       "      <td>15</td>\n",
       "    </tr>\n",
       "    <tr>\n",
       "      <th>Pants</th>\n",
       "      <td>400</td>\n",
       "      <td>450</td>\n",
       "      <td>500</td>\n",
       "      <td>250</td>\n",
       "      <td>275</td>\n",
       "      <td>300</td>\n",
       "      <td>15</td>\n",
       "      <td>18</td>\n",
       "      <td>21</td>\n",
       "    </tr>\n",
       "    <tr>\n",
       "      <th>Socks</th>\n",
       "      <td>100</td>\n",
       "      <td>110</td>\n",
       "      <td>120</td>\n",
       "      <td>75</td>\n",
       "      <td>77</td>\n",
       "      <td>80</td>\n",
       "      <td>5</td>\n",
       "      <td>5</td>\n",
       "      <td>5</td>\n",
       "    </tr>\n",
       "    <tr>\n",
       "      <th>Box of cereals</th>\n",
       "      <td>250</td>\n",
       "      <td>250</td>\n",
       "      <td>250</td>\n",
       "      <td>150</td>\n",
       "      <td>150</td>\n",
       "      <td>150</td>\n",
       "      <td>10</td>\n",
       "      <td>10</td>\n",
       "      <td>10</td>\n",
       "    </tr>\n",
       "    <tr>\n",
       "      <th>Can of tuna</th>\n",
       "      <td>110</td>\n",
       "      <td>110</td>\n",
       "      <td>110</td>\n",
       "      <td>110</td>\n",
       "      <td>110</td>\n",
       "      <td>110</td>\n",
       "      <td>7</td>\n",
       "      <td>7</td>\n",
       "      <td>7</td>\n",
       "    </tr>\n",
       "    <tr>\n",
       "      <th>Bag of rice</th>\n",
       "      <td>540</td>\n",
       "      <td>540</td>\n",
       "      <td>540</td>\n",
       "      <td>350</td>\n",
       "      <td>350</td>\n",
       "      <td>350</td>\n",
       "      <td>250</td>\n",
       "      <td>250</td>\n",
       "      <td>250</td>\n",
       "    </tr>\n",
       "    <tr>\n",
       "      <th>Toolbox</th>\n",
       "      <td>600</td>\n",
       "      <td>600</td>\n",
       "      <td>600</td>\n",
       "      <td>380</td>\n",
       "      <td>380</td>\n",
       "      <td>380</td>\n",
       "      <td>350</td>\n",
       "      <td>350</td>\n",
       "      <td>350</td>\n",
       "    </tr>\n",
       "    <tr>\n",
       "      <th>Box of nails</th>\n",
       "      <td>150</td>\n",
       "      <td>150</td>\n",
       "      <td>150</td>\n",
       "      <td>120</td>\n",
       "      <td>120</td>\n",
       "      <td>120</td>\n",
       "      <td>80</td>\n",
       "      <td>80</td>\n",
       "      <td>80</td>\n",
       "    </tr>\n",
       "    <tr>\n",
       "      <th>Glue gun</th>\n",
       "      <td>380</td>\n",
       "      <td>380</td>\n",
       "      <td>380</td>\n",
       "      <td>80</td>\n",
       "      <td>80</td>\n",
       "      <td>80</td>\n",
       "      <td>80</td>\n",
       "      <td>80</td>\n",
       "      <td>80</td>\n",
       "    </tr>\n",
       "  </tbody>\n",
       "</table>\n",
       "</div>"
      ],
      "text/plain": [
       "                Length_S  Length_M  Length_L  Width_S  Width_M  Width_L  \\\n",
       "Category                                                                  \n",
       "Shirt                350       375       400      200      220      250   \n",
       "Pants                400       450       500      250      275      300   \n",
       "Socks                100       110       120       75       77       80   \n",
       "Box of cereals       250       250       250      150      150      150   \n",
       "Can of tuna          110       110       110      110      110      110   \n",
       "Bag of rice          540       540       540      350      350      350   \n",
       "Toolbox              600       600       600      380      380      380   \n",
       "Box of nails         150       150       150      120      120      120   \n",
       "Glue gun             380       380       380       80       80       80   \n",
       "\n",
       "                Height_S  Height_M  Height_L  \n",
       "Category                                      \n",
       "Shirt                 10        12        15  \n",
       "Pants                 15        18        21  \n",
       "Socks                  5         5         5  \n",
       "Box of cereals        10        10        10  \n",
       "Can of tuna            7         7         7  \n",
       "Bag of rice          250       250       250  \n",
       "Toolbox              350       350       350  \n",
       "Box of nails          80        80        80  \n",
       "Glue gun              80        80        80  "
      ]
     },
     "execution_count": 3,
     "metadata": {},
     "output_type": "execute_result"
    }
   ],
   "source": [
    "df_products.set_index('Category', inplace=True)\n",
    "df_products"
   ]
  },
  {
   "cell_type": "code",
   "execution_count": 4,
   "metadata": {},
   "outputs": [
    {
     "data": {
      "text/plain": [
       "110"
      ]
     },
     "execution_count": 4,
     "metadata": {},
     "output_type": "execute_result"
    }
   ],
   "source": [
    "df_products.loc['Can of tuna']['Length_S']"
   ]
  },
  {
   "cell_type": "code",
   "execution_count": 5,
   "metadata": {},
   "outputs": [],
   "source": [
    "def random_skus(articles, vertical):\n",
    "    '''Function to generate a SKU table\n",
    "    Inputs:\n",
    "    - Number of desired SKUs\n",
    "    - Market sector (vertical)\n",
    "    Outputs:\n",
    "    - SKU table'''\n",
    "    \n",
    "    random_dict = {}\n",
    "    for i in range(1, articles + 1, 1):\n",
    "        if vertical == 'Fashion':\n",
    "            category = np.random.choice(['Shirt', 'Pants', 'Socks'])\n",
    "            size = np.random.choice(['S', 'M', 'L'])\n",
    "            length = abs(round(np.random.normal(df_products.loc[category]['Length_' + size], 10, 1)[0],0))\n",
    "            width = abs(round(np.random.normal(df_products.loc[category]['Width_' + size], 7, 1)[0],0))\n",
    "            height = abs(round(np.random.normal(df_products.loc[category]['Height_' + size], 5, 1)[0],0))\n",
    "        elif vertical == 'Food':\n",
    "            category = np.random.choice(['Box of cereals', 'Can of tuna', 'Bag of rice'])\n",
    "            length = df_products.loc[category]['Length_S']\n",
    "            width = df_products.loc[category]['Width_S']\n",
    "            height = df_products.loc[category]['Height_S']\n",
    "        else:\n",
    "            category = np.random.choice(['Toolbox', 'Box of nails', 'Glue gun'])\n",
    "            length = df_products.loc[category]['Length_S']\n",
    "            width = df_products.loc[category]['Width_S']\n",
    "            height = df_products.loc[category]['Height_S']\n",
    "\n",
    "        size = np.random.choice(['S', 'M', 'L'])\n",
    "        random_dict[i] = ['SKU_'+str(i), category, size, length, width, height]\n",
    "\n",
    "    random_list = pd.DataFrame.from_dict(\n",
    "        random_dict,\n",
    "        orient='index',\n",
    "        columns=['SKU', 'Category', 'Size', 'Length', 'Width', 'Height'])\n",
    "\n",
    "    return random_list"
   ]
  },
  {
   "cell_type": "code",
   "execution_count": 6,
   "metadata": {},
   "outputs": [],
   "source": [
    "df_skus_fashion = random_skus(1000, 'Fashion')"
   ]
  },
  {
   "cell_type": "code",
   "execution_count": 7,
   "metadata": {},
   "outputs": [
    {
     "data": {
      "text/html": [
       "<div>\n",
       "<style scoped>\n",
       "    .dataframe tbody tr th:only-of-type {\n",
       "        vertical-align: middle;\n",
       "    }\n",
       "\n",
       "    .dataframe tbody tr th {\n",
       "        vertical-align: top;\n",
       "    }\n",
       "\n",
       "    .dataframe thead th {\n",
       "        text-align: right;\n",
       "    }\n",
       "</style>\n",
       "<table border=\"1\" class=\"dataframe\">\n",
       "  <thead>\n",
       "    <tr style=\"text-align: right;\">\n",
       "      <th></th>\n",
       "      <th>SKU</th>\n",
       "      <th>Category</th>\n",
       "      <th>Size</th>\n",
       "      <th>Length</th>\n",
       "      <th>Width</th>\n",
       "      <th>Height</th>\n",
       "    </tr>\n",
       "  </thead>\n",
       "  <tbody>\n",
       "    <tr>\n",
       "      <th>1</th>\n",
       "      <td>SKU_1</td>\n",
       "      <td>Socks</td>\n",
       "      <td>M</td>\n",
       "      <td>114.0</td>\n",
       "      <td>80.0</td>\n",
       "      <td>8.0</td>\n",
       "    </tr>\n",
       "    <tr>\n",
       "      <th>2</th>\n",
       "      <td>SKU_2</td>\n",
       "      <td>Shirt</td>\n",
       "      <td>L</td>\n",
       "      <td>336.0</td>\n",
       "      <td>202.0</td>\n",
       "      <td>12.0</td>\n",
       "    </tr>\n",
       "    <tr>\n",
       "      <th>3</th>\n",
       "      <td>SKU_3</td>\n",
       "      <td>Socks</td>\n",
       "      <td>S</td>\n",
       "      <td>112.0</td>\n",
       "      <td>77.0</td>\n",
       "      <td>8.0</td>\n",
       "    </tr>\n",
       "    <tr>\n",
       "      <th>4</th>\n",
       "      <td>SKU_4</td>\n",
       "      <td>Shirt</td>\n",
       "      <td>L</td>\n",
       "      <td>357.0</td>\n",
       "      <td>201.0</td>\n",
       "      <td>7.0</td>\n",
       "    </tr>\n",
       "    <tr>\n",
       "      <th>5</th>\n",
       "      <td>SKU_5</td>\n",
       "      <td>Pants</td>\n",
       "      <td>M</td>\n",
       "      <td>399.0</td>\n",
       "      <td>253.0</td>\n",
       "      <td>5.0</td>\n",
       "    </tr>\n",
       "    <tr>\n",
       "      <th>...</th>\n",
       "      <td>...</td>\n",
       "      <td>...</td>\n",
       "      <td>...</td>\n",
       "      <td>...</td>\n",
       "      <td>...</td>\n",
       "      <td>...</td>\n",
       "    </tr>\n",
       "    <tr>\n",
       "      <th>996</th>\n",
       "      <td>SKU_996</td>\n",
       "      <td>Pants</td>\n",
       "      <td>L</td>\n",
       "      <td>455.0</td>\n",
       "      <td>283.0</td>\n",
       "      <td>12.0</td>\n",
       "    </tr>\n",
       "    <tr>\n",
       "      <th>997</th>\n",
       "      <td>SKU_997</td>\n",
       "      <td>Shirt</td>\n",
       "      <td>M</td>\n",
       "      <td>363.0</td>\n",
       "      <td>198.0</td>\n",
       "      <td>7.0</td>\n",
       "    </tr>\n",
       "    <tr>\n",
       "      <th>998</th>\n",
       "      <td>SKU_998</td>\n",
       "      <td>Socks</td>\n",
       "      <td>M</td>\n",
       "      <td>105.0</td>\n",
       "      <td>75.0</td>\n",
       "      <td>6.0</td>\n",
       "    </tr>\n",
       "    <tr>\n",
       "      <th>999</th>\n",
       "      <td>SKU_999</td>\n",
       "      <td>Pants</td>\n",
       "      <td>L</td>\n",
       "      <td>384.0</td>\n",
       "      <td>238.0</td>\n",
       "      <td>13.0</td>\n",
       "    </tr>\n",
       "    <tr>\n",
       "      <th>1000</th>\n",
       "      <td>SKU_1000</td>\n",
       "      <td>Pants</td>\n",
       "      <td>M</td>\n",
       "      <td>507.0</td>\n",
       "      <td>308.0</td>\n",
       "      <td>18.0</td>\n",
       "    </tr>\n",
       "  </tbody>\n",
       "</table>\n",
       "<p>1000 rows × 6 columns</p>\n",
       "</div>"
      ],
      "text/plain": [
       "           SKU Category Size  Length  Width  Height\n",
       "1        SKU_1    Socks    M   114.0   80.0     8.0\n",
       "2        SKU_2    Shirt    L   336.0  202.0    12.0\n",
       "3        SKU_3    Socks    S   112.0   77.0     8.0\n",
       "4        SKU_4    Shirt    L   357.0  201.0     7.0\n",
       "5        SKU_5    Pants    M   399.0  253.0     5.0\n",
       "...        ...      ...  ...     ...    ...     ...\n",
       "996    SKU_996    Pants    L   455.0  283.0    12.0\n",
       "997    SKU_997    Shirt    M   363.0  198.0     7.0\n",
       "998    SKU_998    Socks    M   105.0   75.0     6.0\n",
       "999    SKU_999    Pants    L   384.0  238.0    13.0\n",
       "1000  SKU_1000    Pants    M   507.0  308.0    18.0\n",
       "\n",
       "[1000 rows x 6 columns]"
      ]
     },
     "execution_count": 7,
     "metadata": {},
     "output_type": "execute_result"
    }
   ],
   "source": [
    "df_skus_fashion"
   ]
  },
  {
   "cell_type": "code",
   "execution_count": 8,
   "metadata": {},
   "outputs": [
    {
     "data": {
      "image/png": "[encoded data removed]",
      "text/plain": [
       "<Figure size 1440x360 with 1 Axes>"
      ]
     },
     "metadata": {
      "needs_background": "light"
     },
     "output_type": "display_data"
    }
   ],
   "source": [
    "plt.figure(figsize=(20, 5))\n",
    "sns.histplot(df_skus_fashion[['Length', 'Width', 'Height']], bins=100);"
   ]
  },
  {
   "cell_type": "code",
   "execution_count": 9,
   "metadata": {},
   "outputs": [
    {
     "name": "stderr",
     "output_type": "stream",
     "text": [
      "C:\\Users\\Admin\\AppData\\Local\\Programs\\Python\\Python39\\lib\\site-packages\\seaborn\\_decorators.py:36: FutureWarning: Pass the following variable as a keyword arg: x. From version 0.12, the only valid positional argument will be `data`, and passing other arguments without an explicit keyword will result in an error or misinterpretation.\n",
      "  warnings.warn(\n"
     ]
    },
    {
     "data": {
      "image/png": "[encoded data removed]",
      "text/plain": [
       "<Figure size 432x288 with 1 Axes>"
      ]
     },
     "metadata": {
      "needs_background": "light"
     },
     "output_type": "display_data"
    }
   ],
   "source": [
    "sns.countplot(df_skus_fashion['Category']);"
   ]
  },
  {
   "cell_type": "code",
   "execution_count": 10,
   "metadata": {},
   "outputs": [
    {
     "name": "stdout",
     "output_type": "stream",
     "text": [
      "<class 'pandas.core.frame.DataFrame'>\n",
      "Int64Index: 1000 entries, 1 to 1000\n",
      "Data columns (total 6 columns):\n",
      " #   Column    Non-Null Count  Dtype  \n",
      "---  ------    --------------  -----  \n",
      " 0   SKU       1000 non-null   object \n",
      " 1   Category  1000 non-null   object \n",
      " 2   Size      1000 non-null   object \n",
      " 3   Length    1000 non-null   float64\n",
      " 4   Width     1000 non-null   float64\n",
      " 5   Height    1000 non-null   float64\n",
      "dtypes: float64(3), object(3)\n",
      "memory usage: 87.0+ KB\n"
     ]
    }
   ],
   "source": [
    "df_skus_fashion.info()"
   ]
  },
  {
   "cell_type": "code",
   "execution_count": 11,
   "metadata": {},
   "outputs": [
    {
     "data": {
      "text/html": [
       "<div>\n",
       "<style scoped>\n",
       "    .dataframe tbody tr th:only-of-type {\n",
       "        vertical-align: middle;\n",
       "    }\n",
       "\n",
       "    .dataframe tbody tr th {\n",
       "        vertical-align: top;\n",
       "    }\n",
       "\n",
       "    .dataframe thead th {\n",
       "        text-align: right;\n",
       "    }\n",
       "</style>\n",
       "<table border=\"1\" class=\"dataframe\">\n",
       "  <thead>\n",
       "    <tr style=\"text-align: right;\">\n",
       "      <th></th>\n",
       "      <th>Length</th>\n",
       "      <th>Width</th>\n",
       "      <th>Height</th>\n",
       "    </tr>\n",
       "  </thead>\n",
       "  <tbody>\n",
       "    <tr>\n",
       "      <th>count</th>\n",
       "      <td>1000.000000</td>\n",
       "      <td>1000.00000</td>\n",
       "      <td>1000.000000</td>\n",
       "    </tr>\n",
       "    <tr>\n",
       "      <th>mean</th>\n",
       "      <td>314.442000</td>\n",
       "      <td>193.45500</td>\n",
       "      <td>12.313000</td>\n",
       "    </tr>\n",
       "    <tr>\n",
       "      <th>std</th>\n",
       "      <td>147.747948</td>\n",
       "      <td>85.39751</td>\n",
       "      <td>7.185727</td>\n",
       "    </tr>\n",
       "    <tr>\n",
       "      <th>min</th>\n",
       "      <td>76.000000</td>\n",
       "      <td>54.00000</td>\n",
       "      <td>0.000000</td>\n",
       "    </tr>\n",
       "    <tr>\n",
       "      <th>25%</th>\n",
       "      <td>122.000000</td>\n",
       "      <td>83.00000</td>\n",
       "      <td>7.000000</td>\n",
       "    </tr>\n",
       "    <tr>\n",
       "      <th>50%</th>\n",
       "      <td>378.000000</td>\n",
       "      <td>222.50000</td>\n",
       "      <td>12.000000</td>\n",
       "    </tr>\n",
       "    <tr>\n",
       "      <th>75%</th>\n",
       "      <td>416.250000</td>\n",
       "      <td>261.00000</td>\n",
       "      <td>18.000000</td>\n",
       "    </tr>\n",
       "    <tr>\n",
       "      <th>max</th>\n",
       "      <td>523.000000</td>\n",
       "      <td>317.00000</td>\n",
       "      <td>36.000000</td>\n",
       "    </tr>\n",
       "  </tbody>\n",
       "</table>\n",
       "</div>"
      ],
      "text/plain": [
       "            Length       Width       Height\n",
       "count  1000.000000  1000.00000  1000.000000\n",
       "mean    314.442000   193.45500    12.313000\n",
       "std     147.747948    85.39751     7.185727\n",
       "min      76.000000    54.00000     0.000000\n",
       "25%     122.000000    83.00000     7.000000\n",
       "50%     378.000000   222.50000    12.000000\n",
       "75%     416.250000   261.00000    18.000000\n",
       "max     523.000000   317.00000    36.000000"
      ]
     },
     "execution_count": 11,
     "metadata": {},
     "output_type": "execute_result"
    }
   ],
   "source": [
    "df_skus_fashion.describe()"
   ]
  },
  {
   "cell_type": "code",
   "execution_count": 12,
   "metadata": {},
   "outputs": [
    {
     "data": {
      "text/html": [
       "<div>\n",
       "<style scoped>\n",
       "    .dataframe tbody tr th:only-of-type {\n",
       "        vertical-align: middle;\n",
       "    }\n",
       "\n",
       "    .dataframe tbody tr th {\n",
       "        vertical-align: top;\n",
       "    }\n",
       "\n",
       "    .dataframe thead th {\n",
       "        text-align: right;\n",
       "    }\n",
       "</style>\n",
       "<table border=\"1\" class=\"dataframe\">\n",
       "  <thead>\n",
       "    <tr style=\"text-align: right;\">\n",
       "      <th></th>\n",
       "      <th>SKU</th>\n",
       "      <th>Category</th>\n",
       "      <th>Size</th>\n",
       "      <th>Length</th>\n",
       "      <th>Width</th>\n",
       "      <th>Height</th>\n",
       "    </tr>\n",
       "  </thead>\n",
       "  <tbody>\n",
       "    <tr>\n",
       "      <th>1</th>\n",
       "      <td>SKU_1</td>\n",
       "      <td>Box of cereals</td>\n",
       "      <td>M</td>\n",
       "      <td>250</td>\n",
       "      <td>150</td>\n",
       "      <td>10</td>\n",
       "    </tr>\n",
       "    <tr>\n",
       "      <th>2</th>\n",
       "      <td>SKU_2</td>\n",
       "      <td>Bag of rice</td>\n",
       "      <td>S</td>\n",
       "      <td>540</td>\n",
       "      <td>350</td>\n",
       "      <td>250</td>\n",
       "    </tr>\n",
       "    <tr>\n",
       "      <th>3</th>\n",
       "      <td>SKU_3</td>\n",
       "      <td>Box of cereals</td>\n",
       "      <td>L</td>\n",
       "      <td>250</td>\n",
       "      <td>150</td>\n",
       "      <td>10</td>\n",
       "    </tr>\n",
       "    <tr>\n",
       "      <th>4</th>\n",
       "      <td>SKU_4</td>\n",
       "      <td>Can of tuna</td>\n",
       "      <td>L</td>\n",
       "      <td>110</td>\n",
       "      <td>110</td>\n",
       "      <td>7</td>\n",
       "    </tr>\n",
       "    <tr>\n",
       "      <th>5</th>\n",
       "      <td>SKU_5</td>\n",
       "      <td>Bag of rice</td>\n",
       "      <td>S</td>\n",
       "      <td>540</td>\n",
       "      <td>350</td>\n",
       "      <td>250</td>\n",
       "    </tr>\n",
       "    <tr>\n",
       "      <th>...</th>\n",
       "      <td>...</td>\n",
       "      <td>...</td>\n",
       "      <td>...</td>\n",
       "      <td>...</td>\n",
       "      <td>...</td>\n",
       "      <td>...</td>\n",
       "    </tr>\n",
       "    <tr>\n",
       "      <th>996</th>\n",
       "      <td>SKU_996</td>\n",
       "      <td>Box of cereals</td>\n",
       "      <td>L</td>\n",
       "      <td>250</td>\n",
       "      <td>150</td>\n",
       "      <td>10</td>\n",
       "    </tr>\n",
       "    <tr>\n",
       "      <th>997</th>\n",
       "      <td>SKU_997</td>\n",
       "      <td>Can of tuna</td>\n",
       "      <td>L</td>\n",
       "      <td>110</td>\n",
       "      <td>110</td>\n",
       "      <td>7</td>\n",
       "    </tr>\n",
       "    <tr>\n",
       "      <th>998</th>\n",
       "      <td>SKU_998</td>\n",
       "      <td>Bag of rice</td>\n",
       "      <td>S</td>\n",
       "      <td>540</td>\n",
       "      <td>350</td>\n",
       "      <td>250</td>\n",
       "    </tr>\n",
       "    <tr>\n",
       "      <th>999</th>\n",
       "      <td>SKU_999</td>\n",
       "      <td>Bag of rice</td>\n",
       "      <td>L</td>\n",
       "      <td>540</td>\n",
       "      <td>350</td>\n",
       "      <td>250</td>\n",
       "    </tr>\n",
       "    <tr>\n",
       "      <th>1000</th>\n",
       "      <td>SKU_1000</td>\n",
       "      <td>Box of cereals</td>\n",
       "      <td>S</td>\n",
       "      <td>250</td>\n",
       "      <td>150</td>\n",
       "      <td>10</td>\n",
       "    </tr>\n",
       "  </tbody>\n",
       "</table>\n",
       "<p>1000 rows × 6 columns</p>\n",
       "</div>"
      ],
      "text/plain": [
       "           SKU        Category Size  Length  Width  Height\n",
       "1        SKU_1  Box of cereals    M     250    150      10\n",
       "2        SKU_2     Bag of rice    S     540    350     250\n",
       "3        SKU_3  Box of cereals    L     250    150      10\n",
       "4        SKU_4     Can of tuna    L     110    110       7\n",
       "5        SKU_5     Bag of rice    S     540    350     250\n",
       "...        ...             ...  ...     ...    ...     ...\n",
       "996    SKU_996  Box of cereals    L     250    150      10\n",
       "997    SKU_997     Can of tuna    L     110    110       7\n",
       "998    SKU_998     Bag of rice    S     540    350     250\n",
       "999    SKU_999     Bag of rice    L     540    350     250\n",
       "1000  SKU_1000  Box of cereals    S     250    150      10\n",
       "\n",
       "[1000 rows x 6 columns]"
      ]
     },
     "execution_count": 12,
     "metadata": {},
     "output_type": "execute_result"
    }
   ],
   "source": [
    "df_skus_food = random_skus(1000, 'Food')\n",
    "df_skus_food"
   ]
  },
  {
   "cell_type": "code",
   "execution_count": 13,
   "metadata": {},
   "outputs": [
    {
     "data": {
      "image/png": "[encoded data removed]",
      "text/plain": [
       "<Figure size 1440x360 with 1 Axes>"
      ]
     },
     "metadata": {
      "needs_background": "light"
     },
     "output_type": "display_data"
    }
   ],
   "source": [
    "plt.figure(figsize=(20, 5))\n",
    "sns.histplot(df_skus_food[['Length', 'Width', 'Height']], bins=100);"
   ]
  },
  {
   "cell_type": "code",
   "execution_count": 14,
   "metadata": {},
   "outputs": [
    {
     "name": "stderr",
     "output_type": "stream",
     "text": [
      "C:\\Users\\Admin\\AppData\\Local\\Programs\\Python\\Python39\\lib\\site-packages\\seaborn\\_decorators.py:36: FutureWarning: Pass the following variable as a keyword arg: x. From version 0.12, the only valid positional argument will be `data`, and passing other arguments without an explicit keyword will result in an error or misinterpretation.\n",
      "  warnings.warn(\n"
     ]
    },
    {
     "data": {
      "image/png": "[encoded data removed]",
      "text/plain": [
       "<Figure size 432x288 with 1 Axes>"
      ]
     },
     "metadata": {
      "needs_background": "light"
     },
     "output_type": "display_data"
    }
   ],
   "source": [
    "sns.countplot(df_skus_food['Category']);"
   ]
  },
  {
   "cell_type": "markdown",
   "metadata": {},
   "source": [
    "### Notes\n",
    "At this stage, the produced values are only to showcase the functionality and are not representative of real world data.\n",
    "At a later time, more realistic data needs to be produced.\n",
    "\n",
    "---"
   ]
  },
  {
   "cell_type": "markdown",
   "metadata": {},
   "source": [
    "## Random order table generator\n",
    "\n",
    "### Considerations\n",
    "Like in most other ares in business, the SKU-velocity distribution in a typical order profil corresponds to an 80/20, or in some cases 70/30, ratio (20% of the SKUs representing 80% of the order volume.). Based on this, SKUs will belong to velocity classes (A, B, C), depending how fast they are moving. Therefore, the available SKUs need to be assigned orders in a way that follows this rule.\n",
    "\n",
    "<img src=\"https://interlakemecalux.cdnwm.com/blog/img/80-20-pareto-principle.1.2.jpg\" width=\"650\"/>\n",
    "\n",
    "There is a specific, somewhat business-specific, order profile (units per-order line and order lines per order).\n",
    "\n",
    "Ultimately, there must be a seclection of order profiles that go in line with different market segments and business types.\n",
    "\n",
    "### Objectives\n",
    "The goal is to create a function that generates a table of random orders. The order profile (units per order line, order lines per order) as well as the volume distribution of the SKUs (Pareto principle) must represent a real live scenario and must be selectable by the user.\n",
    "\n",
    "The initial table must contain at minimum the following columns:\n",
    "\n",
    "| Date | Order ID | SKU ID | Quantity | Order category |\n",
    "| ---- | ---- | ---- | ---- | ---- |\n",
    "| numerical | categorical | categorical | numerical | categorical |\n",
    "\n",
    "#### Steps in detail\n",
    "1) Define range of days based on user input\n",
    "2) Assign random number of orders to each day - for the beginning random, normal distribution\n",
    "3) Develop basic functionality to assign for the above created orders a number of order lines (SKUs) - for the beginning random, normal, right skewed\n",
    "4) Develop method to randomly distribute SKUs across all orders - for the beginning randomly, based on 80/20 rule\n",
    "5) Add quantities for each order line - for now random, normal"
   ]
  },
  {
   "cell_type": "markdown",
   "metadata": {},
   "source": [
    "---\n",
    "#### 1. Define range of days"
   ]
  },
  {
   "cell_type": "code",
   "execution_count": 15,
   "metadata": {},
   "outputs": [],
   "source": [
    "def day_definer(num):\n",
    "    '''\n",
    "    Function to create a list of days. First day of range is current day\n",
    "    Input:\n",
    "    - Number of days\n",
    "    Outbout:\n",
    "    - List of days in the range of first day to last day\n",
    "    '''\n",
    "\n",
    "    return pd.date_range(datetime.today(), periods=num).date.tolist()"
   ]
  },
  {
   "cell_type": "code",
   "execution_count": 16,
   "metadata": {},
   "outputs": [
    {
     "data": {
      "text/plain": [
       "[datetime.date(2022, 1, 29),\n",
       " datetime.date(2022, 1, 30),\n",
       " datetime.date(2022, 1, 31),\n",
       " datetime.date(2022, 2, 1),\n",
       " datetime.date(2022, 2, 2),\n",
       " datetime.date(2022, 2, 3),\n",
       " datetime.date(2022, 2, 4),\n",
       " datetime.date(2022, 2, 5),\n",
       " datetime.date(2022, 2, 6),\n",
       " datetime.date(2022, 2, 7),\n",
       " datetime.date(2022, 2, 8),\n",
       " datetime.date(2022, 2, 9),\n",
       " datetime.date(2022, 2, 10),\n",
       " datetime.date(2022, 2, 11),\n",
       " datetime.date(2022, 2, 12),\n",
       " datetime.date(2022, 2, 13),\n",
       " datetime.date(2022, 2, 14),\n",
       " datetime.date(2022, 2, 15),\n",
       " datetime.date(2022, 2, 16),\n",
       " datetime.date(2022, 2, 17),\n",
       " datetime.date(2022, 2, 18),\n",
       " datetime.date(2022, 2, 19),\n",
       " datetime.date(2022, 2, 20),\n",
       " datetime.date(2022, 2, 21),\n",
       " datetime.date(2022, 2, 22),\n",
       " datetime.date(2022, 2, 23),\n",
       " datetime.date(2022, 2, 24),\n",
       " datetime.date(2022, 2, 25),\n",
       " datetime.date(2022, 2, 26),\n",
       " datetime.date(2022, 2, 27),\n",
       " datetime.date(2022, 2, 28),\n",
       " datetime.date(2022, 3, 1),\n",
       " datetime.date(2022, 3, 2),\n",
       " datetime.date(2022, 3, 3),\n",
       " datetime.date(2022, 3, 4),\n",
       " datetime.date(2022, 3, 5),\n",
       " datetime.date(2022, 3, 6),\n",
       " datetime.date(2022, 3, 7),\n",
       " datetime.date(2022, 3, 8),\n",
       " datetime.date(2022, 3, 9),\n",
       " datetime.date(2022, 3, 10),\n",
       " datetime.date(2022, 3, 11),\n",
       " datetime.date(2022, 3, 12),\n",
       " datetime.date(2022, 3, 13),\n",
       " datetime.date(2022, 3, 14),\n",
       " datetime.date(2022, 3, 15),\n",
       " datetime.date(2022, 3, 16),\n",
       " datetime.date(2022, 3, 17),\n",
       " datetime.date(2022, 3, 18),\n",
       " datetime.date(2022, 3, 19),\n",
       " datetime.date(2022, 3, 20),\n",
       " datetime.date(2022, 3, 21),\n",
       " datetime.date(2022, 3, 22),\n",
       " datetime.date(2022, 3, 23),\n",
       " datetime.date(2022, 3, 24),\n",
       " datetime.date(2022, 3, 25),\n",
       " datetime.date(2022, 3, 26),\n",
       " datetime.date(2022, 3, 27),\n",
       " datetime.date(2022, 3, 28),\n",
       " datetime.date(2022, 3, 29),\n",
       " datetime.date(2022, 3, 30),\n",
       " datetime.date(2022, 3, 31),\n",
       " datetime.date(2022, 4, 1),\n",
       " datetime.date(2022, 4, 2),\n",
       " datetime.date(2022, 4, 3),\n",
       " datetime.date(2022, 4, 4),\n",
       " datetime.date(2022, 4, 5),\n",
       " datetime.date(2022, 4, 6),\n",
       " datetime.date(2022, 4, 7),\n",
       " datetime.date(2022, 4, 8),\n",
       " datetime.date(2022, 4, 9),\n",
       " datetime.date(2022, 4, 10),\n",
       " datetime.date(2022, 4, 11),\n",
       " datetime.date(2022, 4, 12),\n",
       " datetime.date(2022, 4, 13),\n",
       " datetime.date(2022, 4, 14),\n",
       " datetime.date(2022, 4, 15),\n",
       " datetime.date(2022, 4, 16),\n",
       " datetime.date(2022, 4, 17),\n",
       " datetime.date(2022, 4, 18),\n",
       " datetime.date(2022, 4, 19),\n",
       " datetime.date(2022, 4, 20),\n",
       " datetime.date(2022, 4, 21),\n",
       " datetime.date(2022, 4, 22),\n",
       " datetime.date(2022, 4, 23),\n",
       " datetime.date(2022, 4, 24),\n",
       " datetime.date(2022, 4, 25),\n",
       " datetime.date(2022, 4, 26),\n",
       " datetime.date(2022, 4, 27),\n",
       " datetime.date(2022, 4, 28)]"
      ]
     },
     "execution_count": 16,
     "metadata": {},
     "output_type": "execute_result"
    }
   ],
   "source": [
    "lst_days = day_definer(90)\n",
    "lst_days"
   ]
  },
  {
   "cell_type": "markdown",
   "metadata": {},
   "source": [
    "#### 2. Assign random number of orders per day\n",
    "Each day needs to get a number of orders assigned."
   ]
  },
  {
   "cell_type": "code",
   "execution_count": 17,
   "metadata": {},
   "outputs": [],
   "source": [
    "# Function to generate random oders for a given day\n",
    "\n",
    "def order_generator(orders_per_day, avg_lines_order, order_std, min_order_size):\n",
    "\n",
    "    return np.round(abs(np.random.normal(loc=avg_lines_order, scale=order_std, size=orders_per_day))) + min_order_size"
   ]
  },
  {
   "cell_type": "code",
   "execution_count": 18,
   "metadata": {},
   "outputs": [],
   "source": [
    "test_orders = order_generator(1000, 30, 10, 3)"
   ]
  },
  {
   "cell_type": "code",
   "execution_count": 19,
   "metadata": {},
   "outputs": [
    {
     "data": {
      "text/plain": [
       "array([51., 12., 28., 21., 46., 24., 21., 34., 45., 37., 26., 41., 24.,\n",
       "        9., 38., 29., 21., 26., 25., 30., 29., 43., 37., 16., 26., 47.,\n",
       "       26., 35., 25., 38., 48., 32., 45., 37., 29., 33., 29., 27., 47.,\n",
       "       30., 30., 37., 45., 29., 48., 24., 28., 30., 36., 41., 23., 28.,\n",
       "       37., 38., 29., 34., 31., 52., 26., 26., 23., 38., 49., 23., 39.,\n",
       "       27., 41., 26., 44., 33., 32., 34., 36., 13., 22., 31., 29., 34.,\n",
       "       28., 33., 24., 58., 40., 56., 26., 35., 26., 32., 27., 26., 32.,\n",
       "       30., 31., 36., 44., 45., 39., 28., 31., 18., 11., 40., 38., 17.,\n",
       "       36., 53., 52., 25., 39., 37., 27., 41., 22., 43., 26., 22., 50.,\n",
       "       45., 34., 39., 29., 44., 22., 37., 37., 32., 27., 44., 39., 36.,\n",
       "       49., 40., 33., 14., 25., 41., 33., 44., 44., 26., 30., 41., 46.,\n",
       "       30., 30., 34., 54., 19., 32., 41., 33.,  7., 31., 34.,  8., 20.,\n",
       "       23., 43., 34., 31., 28., 35., 53., 44., 39., 27., 55., 31., 27.,\n",
       "       28., 39., 53., 39., 27., 44., 51., 22., 30., 41., 25., 30., 35.,\n",
       "       25., 37., 28., 15., 36., 31., 13., 25., 28., 44., 56., 22., 42.,\n",
       "       21., 31., 38., 38., 37., 31., 21., 22., 26., 30., 38., 21., 32.,\n",
       "       30., 23., 36., 34., 26., 33., 29., 38., 31., 31., 36., 32., 11.,\n",
       "       44., 24., 27., 32., 30., 44., 49., 31., 33., 43., 13., 44., 43.,\n",
       "       32., 18., 38., 51., 46., 11., 22., 20., 39., 18., 42., 19., 38.,\n",
       "       48., 43., 32., 27., 25., 35., 33., 36., 33., 34., 24., 39., 44.,\n",
       "       42., 21., 45., 16., 18., 28., 34., 43., 27., 38., 28., 25., 45.,\n",
       "       39., 32., 48., 28., 27., 25., 34., 37., 31., 27., 29., 29., 44.,\n",
       "       50., 31., 35., 22., 36., 19., 20., 35., 46., 21., 33., 35., 35.,\n",
       "       37., 31., 30., 23., 47., 33., 43., 18., 29., 30., 22., 40., 26.,\n",
       "       16., 26., 55., 29., 29., 34., 37., 29., 41., 39., 45., 16., 29.,\n",
       "       52., 36., 33., 38., 22., 42., 37., 36., 29., 24., 40., 33., 48.,\n",
       "       20., 30., 43., 59., 39., 36., 35., 27., 21., 21., 34., 32., 42.,\n",
       "       40., 22., 34., 25., 47., 39., 22., 31., 44., 24., 36., 31., 44.,\n",
       "       35., 31., 43., 47., 47., 50., 38., 30., 12., 21., 44., 27., 29.,\n",
       "       34., 40., 22., 32., 27., 40., 20., 32., 15., 26., 38., 32., 35.,\n",
       "       46., 16., 24., 42., 60., 34., 47., 15., 15., 27., 34., 17., 35.,\n",
       "       27., 40., 41., 19., 26., 44., 24., 64., 26., 23., 49., 24., 42.,\n",
       "       35., 32., 45., 38., 17., 40., 26., 39., 25., 26., 40., 43., 23.,\n",
       "       42., 36., 16., 30., 29., 39., 46., 46., 26., 37., 40., 38., 41.,\n",
       "       28., 48., 46., 26., 28., 17., 42., 44., 35., 47., 27., 40., 21.,\n",
       "       35., 48., 45., 54., 39., 25., 36., 17., 47., 22., 15., 22., 36.,\n",
       "       38., 38., 31., 41., 33., 26., 15., 45., 30., 47., 25., 29., 32.,\n",
       "       48., 41., 31., 19., 16., 42., 38., 38., 12., 44., 38., 40., 38.,\n",
       "       54., 50., 34., 26., 33., 49., 33., 24., 41., 40., 59., 31., 42.,\n",
       "       42., 16., 19., 33., 29., 36., 39., 43., 32., 46.,  4., 36., 35.,\n",
       "       46., 37., 54., 52., 34., 26., 27., 12., 31., 58., 37., 25., 25.,\n",
       "       45., 41., 36., 43., 57., 48., 21., 31., 42., 37., 33., 25., 23.,\n",
       "       22., 23., 20., 18., 50., 33., 46., 29., 24., 25., 38., 41., 44.,\n",
       "       29., 41., 22., 38., 31., 14., 21., 25., 35., 34., 49., 38., 31.,\n",
       "       38., 52., 37., 33., 24., 25., 33., 21., 17., 40., 33., 46., 30.,\n",
       "       26., 39., 22., 41., 28.,  7., 45., 29., 37., 21., 30., 22., 35.,\n",
       "       41., 44., 34., 57., 51., 25., 19., 37., 35., 28., 26., 33., 38.,\n",
       "       36., 40., 46., 41., 34., 30., 33., 37., 46., 37., 35., 39., 20.,\n",
       "       40., 32., 39., 21., 21., 35., 48., 32., 26., 28., 39., 32., 28.,\n",
       "       31., 38., 50., 42., 27., 38., 26., 38., 34., 43., 28., 27., 32.,\n",
       "       20., 37., 40., 37., 33., 42., 30., 23., 42., 26., 19., 21., 39.,\n",
       "       55., 16., 42., 37., 34., 10., 44., 41., 25., 29., 35., 24., 40.,\n",
       "       31., 31., 38., 18., 38., 41., 37., 29., 43., 36., 43., 31., 45.,\n",
       "       21., 35., 39., 35., 35., 39., 14., 26., 41., 19., 33., 44., 28.,\n",
       "       32., 24., 32., 36., 39., 32., 37., 23., 35., 47., 30., 21., 32.,\n",
       "       26., 42., 34., 23., 25., 38., 52., 27., 34., 30., 29., 28., 27.,\n",
       "       27., 30., 16., 20., 28., 27., 53., 18., 51., 39., 39., 37., 33.,\n",
       "       55., 39., 40., 38., 38., 32., 31., 35., 33., 19., 21., 36., 50.,\n",
       "       26., 40., 34., 36., 32., 38., 27., 34., 26., 39., 55., 25., 13.,\n",
       "       33., 30., 33., 39., 29., 25., 34., 52., 49., 47., 19., 32., 27.,\n",
       "       32., 44., 25., 35., 28., 36., 37., 29., 38., 29., 32., 51., 39.,\n",
       "       36., 37., 37., 22., 31., 18., 40., 33., 41., 64., 30., 37., 28.,\n",
       "       40., 22., 31., 30., 39., 35., 26., 32., 40., 46., 47., 24., 26.,\n",
       "       38., 49., 42., 17., 40.,  9., 24., 28., 14., 29., 37., 22., 29.,\n",
       "       24., 46., 44., 40., 28., 24., 43., 17., 33., 43., 36., 35., 37.,\n",
       "       32., 30., 37., 38., 22., 42., 35., 29., 21., 31., 21., 29., 45.,\n",
       "       30., 36., 23., 35., 20., 31., 43., 42., 22., 42., 22., 35., 12.,\n",
       "       22., 18., 29., 32., 48., 34., 23., 22., 31., 36., 29., 43., 29.,\n",
       "       36., 40., 27., 26., 40., 29., 34., 41.,  6., 46., 32., 42., 38.,\n",
       "       23., 36., 30., 20., 20., 21., 22., 26., 32., 42., 34., 43., 47.,\n",
       "       32., 23., 33., 50., 29., 28., 33., 56., 36., 47., 31., 31., 46.,\n",
       "       33., 44., 23., 12., 28., 30., 27., 34., 45., 31., 49., 17., 30.,\n",
       "       47., 44., 33., 33., 29., 34., 25., 38., 40., 29., 32., 34., 22.,\n",
       "       23., 23., 42., 19., 25., 22., 34., 37., 34., 22., 32., 30., 12.,\n",
       "       41., 34., 17., 21., 32., 47., 36., 27., 43., 42., 29., 21., 31.,\n",
       "       41., 24., 41., 40., 46., 34., 38., 30., 38., 30., 47., 46., 52.,\n",
       "       34., 33., 50., 22., 32., 20., 47., 28., 47., 39., 47., 29.])"
      ]
     },
     "execution_count": 19,
     "metadata": {},
     "output_type": "execute_result"
    }
   ],
   "source": [
    "test_orders"
   ]
  },
  {
   "cell_type": "code",
   "execution_count": 20,
   "metadata": {},
   "outputs": [
    {
     "data": {
      "text/plain": [
       "(array([ 1.,  0.,  1.,  2.,  1.,  2.,  1.,  3.,  7.,  4.,  4.,  6., 10.,\n",
       "        10., 10., 12., 13., 27., 33., 20., 21., 28., 39., 31., 29., 43.,\n",
       "        37., 40., 42., 39., 41., 34., 34., 37., 44., 34., 31., 28., 26.,\n",
       "        22., 28., 16., 20., 21., 11.,  9.,  9.,  6.,  8.,  4.,  4.,  5.,\n",
       "         3.,  2.,  2.,  2.,  1.,  0.,  0.,  2.]),\n",
       " array([ 4.,  5.,  6.,  7.,  8.,  9., 10., 11., 12., 13., 14., 15., 16.,\n",
       "        17., 18., 19., 20., 21., 22., 23., 24., 25., 26., 27., 28., 29.,\n",
       "        30., 31., 32., 33., 34., 35., 36., 37., 38., 39., 40., 41., 42.,\n",
       "        43., 44., 45., 46., 47., 48., 49., 50., 51., 52., 53., 54., 55.,\n",
       "        56., 57., 58., 59., 60., 61., 62., 63., 64.]),\n",
       " <BarContainer object of 60 artists>)"
      ]
     },
     "execution_count": 20,
     "metadata": {},
     "output_type": "execute_result"
    },
    {
     "data": {
      "image/png": "[encoded data removed]",
      "text/plain": [
       "<Figure size 432x288 with 1 Axes>"
      ]
     },
     "metadata": {
      "needs_background": "light"
     },
     "output_type": "display_data"
    }
   ],
   "source": [
    "# Plot:\n",
    "axis = np.arange(start=min(test_orders), stop = max(test_orders) + 1)\n",
    "plt.hist(test_orders, bins = axis)"
   ]
  },
  {
   "cell_type": "markdown",
   "metadata": {},
   "source": [
    "The number of orders per day is in this case 1000. This needs to be randomized as well when assigning orders for a range of days."
   ]
  },
  {
   "cell_type": "code",
   "execution_count": 21,
   "metadata": {},
   "outputs": [],
   "source": [
    "def order_generator(avg_orders_per_day, avg_lines_order, order_std, min_order_size):\n",
    "\n",
    "    orders_per_day = np.round(abs(np.random.normal(loc=avg_orders_per_day, scale=50, size=1))).astype(int) # For simplicity, the standard deviation was set to 10\n",
    "    return np.round(abs(np.random.normal(loc=avg_lines_order, scale=order_std, size=orders_per_day))) + min_order_size"
   ]
  },
  {
   "cell_type": "code",
   "execution_count": 22,
   "metadata": {},
   "outputs": [],
   "source": [
    "test_orders = order_generator(1000, 30, 10, 3)"
   ]
  },
  {
   "cell_type": "code",
   "execution_count": 23,
   "metadata": {},
   "outputs": [
    {
     "data": {
      "text/plain": [
       "(array([ 1.,  1.,  2.,  1.,  0.,  3.,  1.,  5.,  3.,  8.,  6., 11.,  9.,\n",
       "        11., 10., 11., 17., 14., 17., 27., 28., 29., 27., 32., 29., 30.,\n",
       "        36., 26., 36., 35., 30., 38., 34., 40., 30., 31., 32., 27., 27.,\n",
       "        29., 17., 22., 23., 16., 12., 12.,  6.,  9.,  7.,  7.,  5.,  2.,\n",
       "         1.,  1.,  1.,  1.,  2.,  1.,  2.]),\n",
       " array([ 4.,  5.,  6.,  7.,  8.,  9., 10., 11., 12., 13., 14., 15., 16.,\n",
       "        17., 18., 19., 20., 21., 22., 23., 24., 25., 26., 27., 28., 29.,\n",
       "        30., 31., 32., 33., 34., 35., 36., 37., 38., 39., 40., 41., 42.,\n",
       "        43., 44., 45., 46., 47., 48., 49., 50., 51., 52., 53., 54., 55.,\n",
       "        56., 57., 58., 59., 60., 61., 62., 63.]),\n",
       " <BarContainer object of 59 artists>)"
      ]
     },
     "execution_count": 23,
     "metadata": {},
     "output_type": "execute_result"
    },
    {
     "data": {
      "image/png": "[encoded data removed]",
      "text/plain": [
       "<Figure size 432x288 with 1 Axes>"
      ]
     },
     "metadata": {
      "needs_background": "light"
     },
     "output_type": "display_data"
    }
   ],
   "source": [
    "# Plot:\n",
    "axis = np.arange(start=min(test_orders), stop = max(test_orders) + 1)\n",
    "plt.hist(test_orders, bins = axis)"
   ]
  },
  {
   "cell_type": "code",
   "execution_count": 24,
   "metadata": {},
   "outputs": [
    {
     "data": {
      "text/plain": [
       "931"
      ]
     },
     "execution_count": 24,
     "metadata": {},
     "output_type": "execute_result"
    }
   ],
   "source": [
    "len(test_orders)"
   ]
  },
  {
   "cell_type": "markdown",
   "metadata": {},
   "source": [
    "#### 3. Assigning SKUs\n",
    "The assignment of SKUs may be random, but each SKU will need to have a different velocity, basically how often it is picked during the day. As stated, this distribution will follow the 80/20 rule of the pareto principle.\n",
    "\n",
    "First, a pareto distribution of n SKUs with distinct values need to be produced. N is the number of SKUs, and the dependend values represent the number of order lines each SKU is picked during the day.\n",
    "In the next step each SKU will then be translated to a unique identifier (SKU ID), multiplied by the number of order lines it produces during the day, and then be put into a SKU list. This SKU list represents a pool from which order lines can be randomly pulled when a procedure loops throuh all the orders. Because the appearance of SKUs in the list is varying (based on the pareto principle) probability will naturally reproduce the pareto distribution when the oder list is generated."
   ]
  },
  {
   "cell_type": "code",
   "execution_count": 50,
   "metadata": {},
   "outputs": [
    {
     "data": {
      "image/png": "[encoded data removed]",
      "text/plain": [
       "<Figure size 1080x576 with 1 Axes>"
      ]
     },
     "metadata": {
      "needs_background": "light"
     },
     "output_type": "display_data"
    }
   ],
   "source": [
    "# Let's review the cumulative density function of the pareto distribution. We will use scipy's pareto library.\n",
    "num_skus = 10000\n",
    "\n",
    "x = np.arange(1, num_skus)\n",
    "\n",
    "pareto_cdf = (pareto.cdf(x, b=0.1, loc=1, scale=1) * 50000).round()\n",
    "\n",
    "plt.figure(figsize=(15, 8))\n",
    "plt.plot(x, pareto_cdf)\n",
    "plt.grid()\n",
    "plt.show()"
   ]
  },
  {
   "cell_type": "code",
   "execution_count": 33,
   "metadata": {},
   "outputs": [
    {
     "data": {
      "text/plain": [
       "55.76937693769377"
      ]
     },
     "execution_count": 33,
     "metadata": {},
     "output_type": "execute_result"
    }
   ],
   "source": [
    "pareto_cdf.mean()"
   ]
  },
  {
   "cell_type": "markdown",
   "metadata": {},
   "source": [
    "This distribution could represent a day in a distribution center. It is very steep in this example and shows how 10,000 SKUs adding adding up to 30,000 order lines. The fastest SKUs are on the left side of the X-axis and generate the biggest part of the order volume. We need the derivation of this function (probability density function) in order to directly get the individual impacts of each SKU."
   ]
  },
  {
   "cell_type": "code",
   "execution_count": 84,
   "metadata": {},
   "outputs": [
    {
     "data": {
      "image/png": "[encoded data removed]",
      "text/plain": [
       "<Figure size 1080x576 with 1 Axes>"
      ]
     },
     "metadata": {
      "needs_background": "light"
     },
     "output_type": "display_data"
    }
   ],
   "source": [
    "# Let's try spipy's pdf funtion\n",
    "x = np.arange(1, 1001)\n",
    "\n",
    "pareto_pdf = (pareto.pdf(x, b=0.1, loc=0, scale=1) * 1000).round()\n",
    "\n",
    "plt.figure(figsize=(15, 8))\n",
    "plt.plot(x, pareto_pdf)\n",
    "plt.grid()\n",
    "plt.show()"
   ]
  },
  {
   "cell_type": "code",
   "execution_count": 54,
   "metadata": {},
   "outputs": [
    {
     "data": {
      "text/plain": [
       "8.0"
      ]
     },
     "execution_count": 54,
     "metadata": {},
     "output_type": "execute_result"
    }
   ],
   "source": [
    "pareto_pdf.min()"
   ]
  },
  {
   "cell_type": "code",
   "execution_count": null,
   "metadata": {},
   "outputs": [],
   "source": []
  },
  {
   "cell_type": "code",
   "execution_count": null,
   "metadata": {},
   "outputs": [],
   "source": []
  },
  {
   "cell_type": "code",
   "execution_count": null,
   "metadata": {},
   "outputs": [],
   "source": []
  },
  {
   "cell_type": "code",
   "execution_count": null,
   "metadata": {},
   "outputs": [],
   "source": []
  },
  {
   "cell_type": "code",
   "execution_count": null,
   "metadata": {},
   "outputs": [],
   "source": []
  },
  {
   "cell_type": "code",
   "execution_count": 27,
   "metadata": {},
   "outputs": [],
   "source": [
    "def order_generator(num_days, avg_orders_per_day, avg_lines_order, order_std, min_order_size):\n",
    "    \n",
    "    lst_dates = pd.date_range(datetime.today(), periods=num_days).date.tolist()\n",
    "    df_ord = pd.DataFrame(np.array([\n",
    "        [1, 2, 3, 4],\n",
    "        [4, 5, 6, 7],\n",
    "        [7, 8, 9, 10]\n",
    "        ]), columns=['Date', 'Order ID', 'SKU', 'QTY'])\n",
    "\n",
    "    for day in lst_dates:\n",
    "        order_count = np.round(abs(np.random.normal(\n",
    "            loc=avg_orders_per_day,\n",
    "            scale=50,\n",
    "            size=1))).astype(int)\n",
    "\n",
    "        #for ord in order_count:\n",
    "\n",
    "            \n",
    "\n",
    "\n",
    "    # Need to continue here\n",
    "\n",
    "    return pd.DataFrame.from_dict(dict_dates).transpose().rename(columns={0: 'Orders per day'})\n"
   ]
  },
  {
   "cell_type": "code",
   "execution_count": null,
   "metadata": {},
   "outputs": [],
   "source": []
  },
  {
   "cell_type": "code",
   "execution_count": null,
   "metadata": {},
   "outputs": [],
   "source": []
  },
  {
   "cell_type": "code",
   "execution_count": 28,
   "metadata": {},
   "outputs": [],
   "source": [
    "def order_generator(orders_per_day, avg_lines_order, order_std, min_order_size):\n",
    "    \n",
    "    return np.round(abs(np.random.normal(loc=avg_lines_order, scale=order_std, size=orders_per_day))) + min_order_size"
   ]
  },
  {
   "cell_type": "code",
   "execution_count": 29,
   "metadata": {},
   "outputs": [
    {
     "data": {
      "image/png": "[encoded data removed]",
      "text/plain": [
       "<Figure size 1800x576 with 1 Axes>"
      ]
     },
     "metadata": {
      "needs_background": "light"
     },
     "output_type": "display_data"
    }
   ],
   "source": [
    "# Approach to develop a skewed dataset with \"skewnorm\"\n",
    "n_orders = 10000\n",
    "max_order_size = 200\n",
    "skewness = 20   # Negative = left skewed, positive = right skewed\n",
    "\n",
    "random_orders = skewnorm.rvs(a = skewness, loc=max_order_size, size=n_orders)\n",
    "\n",
    "random_orders = random_orders - min(random_orders)     # Shift dataset to zero\n",
    "random_orders = random_orders / max(random_orders)\n",
    "random_orders = random_orders * max_order_size\n",
    "random_orders = np.ceil(random_orders) + 1\n",
    "\n",
    "# Check\n",
    "plt.figure(figsize=(25, 8))\n",
    "plt.hist(random_orders, 100, density=True, color='red', alpha=0.5)\n",
    "plt.grid()\n",
    "\n",
    "plt.show()"
   ]
  },
  {
   "cell_type": "markdown",
   "metadata": {},
   "source": [
    "Each record in orders represents one order with an assigned size."
   ]
  },
  {
   "cell_type": "code",
   "execution_count": 30,
   "metadata": {},
   "outputs": [
    {
     "data": {
      "text/plain": [
       "1.0"
      ]
     },
     "execution_count": 30,
     "metadata": {},
     "output_type": "execute_result"
    }
   ],
   "source": [
    "random_orders.min()"
   ]
  },
  {
   "cell_type": "code",
   "execution_count": null,
   "metadata": {},
   "outputs": [],
   "source": []
  }
 ],
 "metadata": {
  "interpreter": {
   "hash": "dcacb0086e9a4f4eabd41c33bf4faac5ea0a3337ed3f5eff0680afa930572c04"
  },
  "kernelspec": {
   "display_name": "Python 3.9.4 64-bit",
   "language": "python",
   "name": "python3"
  },
  "language_info": {
   "codemirror_mode": {
    "name": "ipython",
    "version": 3
   },
   "file_extension": ".py",
   "mimetype": "text/x-python",
   "name": "python",
   "nbconvert_exporter": "python",
   "pygments_lexer": "ipython3",
   "version": "3.9.4"
  },
  "orig_nbformat": 4
 },
 "nbformat": 4,
 "nbformat_minor": 2
}
