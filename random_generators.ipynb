{
 "cells": [
  {
   "cell_type": "markdown",
   "metadata": {},
   "source": [
    "# Random Order- and SKU generators"
   ]
  },
  {
   "cell_type": "markdown",
   "metadata": {},
   "source": [
    "## Importing libraries"
   ]
  },
  {
   "cell_type": "code",
   "execution_count": 1,
   "metadata": {},
   "outputs": [],
   "source": [
    "import pandas as pd\n",
    "import numpy as np\n",
    "import matplotlib.pyplot as plt\n",
    "import seaborn as sns\n",
    "from scipy.stats import skewnorm\n",
    "from datetime import datetime\n",
    "\n",
    "%matplotlib inline"
   ]
  },
  {
   "cell_type": "markdown",
   "metadata": {},
   "source": [
    "---"
   ]
  },
  {
   "cell_type": "markdown",
   "metadata": {},
   "source": [
    "## Random SKU table generation\n",
    "\n",
    "### Objectives\n",
    "Generate a table with unique SKUs that have randomly generated values. The number of records can be chosen by the user.\n",
    "\n",
    "The initial table must contain at minimum the following columns:\n",
    "\n",
    "| SKU ID | Category | Length | Width | Height | Weight |\n",
    "| ---- | ---- | ---- | ---- | ---- | ---- |\n",
    "| categorical | categorical | numerical | numerical | numerical | numerical |\n",
    "\n",
    "Goals in detail:\n",
    "- Develop basic method to generate a table of randomly created SKUs with the above features"
   ]
  },
  {
   "cell_type": "markdown",
   "metadata": {},
   "source": []
  },
  {
   "cell_type": "code",
   "execution_count": 2,
   "metadata": {},
   "outputs": [
    {
     "data": {
      "text/html": [
       "<div>\n",
       "<style scoped>\n",
       "    .dataframe tbody tr th:only-of-type {\n",
       "        vertical-align: middle;\n",
       "    }\n",
       "\n",
       "    .dataframe tbody tr th {\n",
       "        vertical-align: top;\n",
       "    }\n",
       "\n",
       "    .dataframe thead th {\n",
       "        text-align: right;\n",
       "    }\n",
       "</style>\n",
       "<table border=\"1\" class=\"dataframe\">\n",
       "  <thead>\n",
       "    <tr style=\"text-align: right;\">\n",
       "      <th></th>\n",
       "      <th>Category</th>\n",
       "      <th>Length_S</th>\n",
       "      <th>Length_M</th>\n",
       "      <th>Length_L</th>\n",
       "      <th>Width_S</th>\n",
       "      <th>Width_M</th>\n",
       "      <th>Width_L</th>\n",
       "      <th>Height_S</th>\n",
       "      <th>Height_M</th>\n",
       "      <th>Height_L</th>\n",
       "    </tr>\n",
       "  </thead>\n",
       "  <tbody>\n",
       "    <tr>\n",
       "      <th>0</th>\n",
       "      <td>Shirt</td>\n",
       "      <td>350</td>\n",
       "      <td>375</td>\n",
       "      <td>400</td>\n",
       "      <td>200</td>\n",
       "      <td>220</td>\n",
       "      <td>250</td>\n",
       "      <td>10</td>\n",
       "      <td>12</td>\n",
       "      <td>15</td>\n",
       "    </tr>\n",
       "    <tr>\n",
       "      <th>1</th>\n",
       "      <td>Pants</td>\n",
       "      <td>400</td>\n",
       "      <td>450</td>\n",
       "      <td>500</td>\n",
       "      <td>250</td>\n",
       "      <td>275</td>\n",
       "      <td>300</td>\n",
       "      <td>15</td>\n",
       "      <td>18</td>\n",
       "      <td>21</td>\n",
       "    </tr>\n",
       "    <tr>\n",
       "      <th>2</th>\n",
       "      <td>Socks</td>\n",
       "      <td>100</td>\n",
       "      <td>110</td>\n",
       "      <td>120</td>\n",
       "      <td>75</td>\n",
       "      <td>77</td>\n",
       "      <td>80</td>\n",
       "      <td>5</td>\n",
       "      <td>5</td>\n",
       "      <td>5</td>\n",
       "    </tr>\n",
       "    <tr>\n",
       "      <th>3</th>\n",
       "      <td>Box of cereals</td>\n",
       "      <td>250</td>\n",
       "      <td>250</td>\n",
       "      <td>250</td>\n",
       "      <td>150</td>\n",
       "      <td>150</td>\n",
       "      <td>150</td>\n",
       "      <td>10</td>\n",
       "      <td>10</td>\n",
       "      <td>10</td>\n",
       "    </tr>\n",
       "    <tr>\n",
       "      <th>4</th>\n",
       "      <td>Can of tuna</td>\n",
       "      <td>110</td>\n",
       "      <td>110</td>\n",
       "      <td>110</td>\n",
       "      <td>110</td>\n",
       "      <td>110</td>\n",
       "      <td>110</td>\n",
       "      <td>7</td>\n",
       "      <td>7</td>\n",
       "      <td>7</td>\n",
       "    </tr>\n",
       "    <tr>\n",
       "      <th>5</th>\n",
       "      <td>Bag of rice</td>\n",
       "      <td>540</td>\n",
       "      <td>540</td>\n",
       "      <td>540</td>\n",
       "      <td>350</td>\n",
       "      <td>350</td>\n",
       "      <td>350</td>\n",
       "      <td>250</td>\n",
       "      <td>250</td>\n",
       "      <td>250</td>\n",
       "    </tr>\n",
       "    <tr>\n",
       "      <th>6</th>\n",
       "      <td>Toolbox</td>\n",
       "      <td>600</td>\n",
       "      <td>600</td>\n",
       "      <td>600</td>\n",
       "      <td>380</td>\n",
       "      <td>380</td>\n",
       "      <td>380</td>\n",
       "      <td>350</td>\n",
       "      <td>350</td>\n",
       "      <td>350</td>\n",
       "    </tr>\n",
       "    <tr>\n",
       "      <th>7</th>\n",
       "      <td>Box of nails</td>\n",
       "      <td>150</td>\n",
       "      <td>150</td>\n",
       "      <td>150</td>\n",
       "      <td>120</td>\n",
       "      <td>120</td>\n",
       "      <td>120</td>\n",
       "      <td>80</td>\n",
       "      <td>80</td>\n",
       "      <td>80</td>\n",
       "    </tr>\n",
       "    <tr>\n",
       "      <th>8</th>\n",
       "      <td>Glue gun</td>\n",
       "      <td>380</td>\n",
       "      <td>380</td>\n",
       "      <td>380</td>\n",
       "      <td>80</td>\n",
       "      <td>80</td>\n",
       "      <td>80</td>\n",
       "      <td>80</td>\n",
       "      <td>80</td>\n",
       "      <td>80</td>\n",
       "    </tr>\n",
       "  </tbody>\n",
       "</table>\n",
       "</div>"
      ],
      "text/plain": [
       "         Category  Length_S  Length_M  Length_L  Width_S  Width_M  Width_L  \\\n",
       "0           Shirt       350       375       400      200      220      250   \n",
       "1           Pants       400       450       500      250      275      300   \n",
       "2           Socks       100       110       120       75       77       80   \n",
       "3  Box of cereals       250       250       250      150      150      150   \n",
       "4     Can of tuna       110       110       110      110      110      110   \n",
       "5     Bag of rice       540       540       540      350      350      350   \n",
       "6         Toolbox       600       600       600      380      380      380   \n",
       "7    Box of nails       150       150       150      120      120      120   \n",
       "8        Glue gun       380       380       380       80       80       80   \n",
       "\n",
       "   Height_S  Height_M  Height_L  \n",
       "0        10        12        15  \n",
       "1        15        18        21  \n",
       "2         5         5         5  \n",
       "3        10        10        10  \n",
       "4         7         7         7  \n",
       "5       250       250       250  \n",
       "6       350       350       350  \n",
       "7        80        80        80  \n",
       "8        80        80        80  "
      ]
     },
     "execution_count": 2,
     "metadata": {},
     "output_type": "execute_result"
    }
   ],
   "source": [
    "df_products = pd.read_excel('Product_list.xls')\n",
    "df_products"
   ]
  },
  {
   "cell_type": "code",
   "execution_count": 3,
   "metadata": {},
   "outputs": [
    {
     "data": {
      "text/html": [
       "<div>\n",
       "<style scoped>\n",
       "    .dataframe tbody tr th:only-of-type {\n",
       "        vertical-align: middle;\n",
       "    }\n",
       "\n",
       "    .dataframe tbody tr th {\n",
       "        vertical-align: top;\n",
       "    }\n",
       "\n",
       "    .dataframe thead th {\n",
       "        text-align: right;\n",
       "    }\n",
       "</style>\n",
       "<table border=\"1\" class=\"dataframe\">\n",
       "  <thead>\n",
       "    <tr style=\"text-align: right;\">\n",
       "      <th></th>\n",
       "      <th>Length_S</th>\n",
       "      <th>Length_M</th>\n",
       "      <th>Length_L</th>\n",
       "      <th>Width_S</th>\n",
       "      <th>Width_M</th>\n",
       "      <th>Width_L</th>\n",
       "      <th>Height_S</th>\n",
       "      <th>Height_M</th>\n",
       "      <th>Height_L</th>\n",
       "    </tr>\n",
       "    <tr>\n",
       "      <th>Category</th>\n",
       "      <th></th>\n",
       "      <th></th>\n",
       "      <th></th>\n",
       "      <th></th>\n",
       "      <th></th>\n",
       "      <th></th>\n",
       "      <th></th>\n",
       "      <th></th>\n",
       "      <th></th>\n",
       "    </tr>\n",
       "  </thead>\n",
       "  <tbody>\n",
       "    <tr>\n",
       "      <th>Shirt</th>\n",
       "      <td>350</td>\n",
       "      <td>375</td>\n",
       "      <td>400</td>\n",
       "      <td>200</td>\n",
       "      <td>220</td>\n",
       "      <td>250</td>\n",
       "      <td>10</td>\n",
       "      <td>12</td>\n",
       "      <td>15</td>\n",
       "    </tr>\n",
       "    <tr>\n",
       "      <th>Pants</th>\n",
       "      <td>400</td>\n",
       "      <td>450</td>\n",
       "      <td>500</td>\n",
       "      <td>250</td>\n",
       "      <td>275</td>\n",
       "      <td>300</td>\n",
       "      <td>15</td>\n",
       "      <td>18</td>\n",
       "      <td>21</td>\n",
       "    </tr>\n",
       "    <tr>\n",
       "      <th>Socks</th>\n",
       "      <td>100</td>\n",
       "      <td>110</td>\n",
       "      <td>120</td>\n",
       "      <td>75</td>\n",
       "      <td>77</td>\n",
       "      <td>80</td>\n",
       "      <td>5</td>\n",
       "      <td>5</td>\n",
       "      <td>5</td>\n",
       "    </tr>\n",
       "    <tr>\n",
       "      <th>Box of cereals</th>\n",
       "      <td>250</td>\n",
       "      <td>250</td>\n",
       "      <td>250</td>\n",
       "      <td>150</td>\n",
       "      <td>150</td>\n",
       "      <td>150</td>\n",
       "      <td>10</td>\n",
       "      <td>10</td>\n",
       "      <td>10</td>\n",
       "    </tr>\n",
       "    <tr>\n",
       "      <th>Can of tuna</th>\n",
       "      <td>110</td>\n",
       "      <td>110</td>\n",
       "      <td>110</td>\n",
       "      <td>110</td>\n",
       "      <td>110</td>\n",
       "      <td>110</td>\n",
       "      <td>7</td>\n",
       "      <td>7</td>\n",
       "      <td>7</td>\n",
       "    </tr>\n",
       "    <tr>\n",
       "      <th>Bag of rice</th>\n",
       "      <td>540</td>\n",
       "      <td>540</td>\n",
       "      <td>540</td>\n",
       "      <td>350</td>\n",
       "      <td>350</td>\n",
       "      <td>350</td>\n",
       "      <td>250</td>\n",
       "      <td>250</td>\n",
       "      <td>250</td>\n",
       "    </tr>\n",
       "    <tr>\n",
       "      <th>Toolbox</th>\n",
       "      <td>600</td>\n",
       "      <td>600</td>\n",
       "      <td>600</td>\n",
       "      <td>380</td>\n",
       "      <td>380</td>\n",
       "      <td>380</td>\n",
       "      <td>350</td>\n",
       "      <td>350</td>\n",
       "      <td>350</td>\n",
       "    </tr>\n",
       "    <tr>\n",
       "      <th>Box of nails</th>\n",
       "      <td>150</td>\n",
       "      <td>150</td>\n",
       "      <td>150</td>\n",
       "      <td>120</td>\n",
       "      <td>120</td>\n",
       "      <td>120</td>\n",
       "      <td>80</td>\n",
       "      <td>80</td>\n",
       "      <td>80</td>\n",
       "    </tr>\n",
       "    <tr>\n",
       "      <th>Glue gun</th>\n",
       "      <td>380</td>\n",
       "      <td>380</td>\n",
       "      <td>380</td>\n",
       "      <td>80</td>\n",
       "      <td>80</td>\n",
       "      <td>80</td>\n",
       "      <td>80</td>\n",
       "      <td>80</td>\n",
       "      <td>80</td>\n",
       "    </tr>\n",
       "  </tbody>\n",
       "</table>\n",
       "</div>"
      ],
      "text/plain": [
       "                Length_S  Length_M  Length_L  Width_S  Width_M  Width_L  \\\n",
       "Category                                                                  \n",
       "Shirt                350       375       400      200      220      250   \n",
       "Pants                400       450       500      250      275      300   \n",
       "Socks                100       110       120       75       77       80   \n",
       "Box of cereals       250       250       250      150      150      150   \n",
       "Can of tuna          110       110       110      110      110      110   \n",
       "Bag of rice          540       540       540      350      350      350   \n",
       "Toolbox              600       600       600      380      380      380   \n",
       "Box of nails         150       150       150      120      120      120   \n",
       "Glue gun             380       380       380       80       80       80   \n",
       "\n",
       "                Height_S  Height_M  Height_L  \n",
       "Category                                      \n",
       "Shirt                 10        12        15  \n",
       "Pants                 15        18        21  \n",
       "Socks                  5         5         5  \n",
       "Box of cereals        10        10        10  \n",
       "Can of tuna            7         7         7  \n",
       "Bag of rice          250       250       250  \n",
       "Toolbox              350       350       350  \n",
       "Box of nails          80        80        80  \n",
       "Glue gun              80        80        80  "
      ]
     },
     "execution_count": 3,
     "metadata": {},
     "output_type": "execute_result"
    }
   ],
   "source": [
    "df_products.set_index('Category', inplace=True)\n",
    "df_products"
   ]
  },
  {
   "cell_type": "code",
   "execution_count": 4,
   "metadata": {},
   "outputs": [
    {
     "data": {
      "text/plain": [
       "110"
      ]
     },
     "execution_count": 4,
     "metadata": {},
     "output_type": "execute_result"
    }
   ],
   "source": [
    "df_products.loc['Can of tuna']['Length_S']"
   ]
  },
  {
   "cell_type": "code",
   "execution_count": 5,
   "metadata": {},
   "outputs": [],
   "source": [
    "def random_skus(articles, vertical):\n",
    "    '''Function to generate a SKU table\n",
    "    Inputs:\n",
    "    - Number of desired SKUs\n",
    "    - Market sector (vertical)\n",
    "    Outputs:\n",
    "    - SKU table'''\n",
    "    \n",
    "    random_dict = {}\n",
    "    for i in range(1, articles + 1, 1):\n",
    "        if vertical == 'Fashion':\n",
    "            category = np.random.choice(['Shirt', 'Pants', 'Socks'])\n",
    "            size = np.random.choice(['S', 'M', 'L'])\n",
    "            length = abs(round(np.random.normal(df_products.loc[category]['Length_' + size], 10, 1)[0],0))\n",
    "            width = abs(round(np.random.normal(df_products.loc[category]['Width_' + size], 7, 1)[0],0))\n",
    "            height = abs(round(np.random.normal(df_products.loc[category]['Height_' + size], 5, 1)[0],0))\n",
    "        elif vertical == 'Food':\n",
    "            category = np.random.choice(['Box of cereals', 'Can of tuna', 'Bag of rice'])\n",
    "            length = df_products.loc[category]['Length_S']\n",
    "            width = df_products.loc[category]['Width_S']\n",
    "            height = df_products.loc[category]['Height_S']\n",
    "        else:\n",
    "            category = np.random.choice(['Toolbox', 'Box of nails', 'Glue gun'])\n",
    "            length = df_products.loc[category]['Length_S']\n",
    "            width = df_products.loc[category]['Width_S']\n",
    "            height = df_products.loc[category]['Height_S']\n",
    "\n",
    "        size = np.random.choice(['S', 'M', 'L'])\n",
    "        random_dict[i] = ['SKU_'+str(i), category, size, length, width, height]\n",
    "\n",
    "    random_list = pd.DataFrame.from_dict(\n",
    "        random_dict,\n",
    "        orient='index',\n",
    "        columns=['SKU', 'Category', 'Size', 'Length', 'Width', 'Height'])\n",
    "\n",
    "    return random_list"
   ]
  },
  {
   "cell_type": "code",
   "execution_count": 6,
   "metadata": {},
   "outputs": [],
   "source": [
    "df_skus_fashion = random_skus(1000, 'Fashion')"
   ]
  },
  {
   "cell_type": "code",
   "execution_count": 7,
   "metadata": {},
   "outputs": [
    {
     "data": {
      "text/html": [
       "<div>\n",
       "<style scoped>\n",
       "    .dataframe tbody tr th:only-of-type {\n",
       "        vertical-align: middle;\n",
       "    }\n",
       "\n",
       "    .dataframe tbody tr th {\n",
       "        vertical-align: top;\n",
       "    }\n",
       "\n",
       "    .dataframe thead th {\n",
       "        text-align: right;\n",
       "    }\n",
       "</style>\n",
       "<table border=\"1\" class=\"dataframe\">\n",
       "  <thead>\n",
       "    <tr style=\"text-align: right;\">\n",
       "      <th></th>\n",
       "      <th>SKU</th>\n",
       "      <th>Category</th>\n",
       "      <th>Size</th>\n",
       "      <th>Length</th>\n",
       "      <th>Width</th>\n",
       "      <th>Height</th>\n",
       "    </tr>\n",
       "  </thead>\n",
       "  <tbody>\n",
       "    <tr>\n",
       "      <th>1</th>\n",
       "      <td>SKU_1</td>\n",
       "      <td>Pants</td>\n",
       "      <td>M</td>\n",
       "      <td>491.0</td>\n",
       "      <td>293.0</td>\n",
       "      <td>26.0</td>\n",
       "    </tr>\n",
       "    <tr>\n",
       "      <th>2</th>\n",
       "      <td>SKU_2</td>\n",
       "      <td>Socks</td>\n",
       "      <td>S</td>\n",
       "      <td>121.0</td>\n",
       "      <td>89.0</td>\n",
       "      <td>15.0</td>\n",
       "    </tr>\n",
       "    <tr>\n",
       "      <th>3</th>\n",
       "      <td>SKU_3</td>\n",
       "      <td>Socks</td>\n",
       "      <td>L</td>\n",
       "      <td>103.0</td>\n",
       "      <td>72.0</td>\n",
       "      <td>0.0</td>\n",
       "    </tr>\n",
       "    <tr>\n",
       "      <th>4</th>\n",
       "      <td>SKU_4</td>\n",
       "      <td>Socks</td>\n",
       "      <td>M</td>\n",
       "      <td>88.0</td>\n",
       "      <td>74.0</td>\n",
       "      <td>6.0</td>\n",
       "    </tr>\n",
       "    <tr>\n",
       "      <th>5</th>\n",
       "      <td>SKU_5</td>\n",
       "      <td>Socks</td>\n",
       "      <td>S</td>\n",
       "      <td>79.0</td>\n",
       "      <td>68.0</td>\n",
       "      <td>2.0</td>\n",
       "    </tr>\n",
       "    <tr>\n",
       "      <th>...</th>\n",
       "      <td>...</td>\n",
       "      <td>...</td>\n",
       "      <td>...</td>\n",
       "      <td>...</td>\n",
       "      <td>...</td>\n",
       "      <td>...</td>\n",
       "    </tr>\n",
       "    <tr>\n",
       "      <th>996</th>\n",
       "      <td>SKU_996</td>\n",
       "      <td>Pants</td>\n",
       "      <td>S</td>\n",
       "      <td>499.0</td>\n",
       "      <td>305.0</td>\n",
       "      <td>22.0</td>\n",
       "    </tr>\n",
       "    <tr>\n",
       "      <th>997</th>\n",
       "      <td>SKU_997</td>\n",
       "      <td>Shirt</td>\n",
       "      <td>L</td>\n",
       "      <td>353.0</td>\n",
       "      <td>182.0</td>\n",
       "      <td>3.0</td>\n",
       "    </tr>\n",
       "    <tr>\n",
       "      <th>998</th>\n",
       "      <td>SKU_998</td>\n",
       "      <td>Shirt</td>\n",
       "      <td>L</td>\n",
       "      <td>340.0</td>\n",
       "      <td>197.0</td>\n",
       "      <td>9.0</td>\n",
       "    </tr>\n",
       "    <tr>\n",
       "      <th>999</th>\n",
       "      <td>SKU_999</td>\n",
       "      <td>Pants</td>\n",
       "      <td>M</td>\n",
       "      <td>447.0</td>\n",
       "      <td>279.0</td>\n",
       "      <td>13.0</td>\n",
       "    </tr>\n",
       "    <tr>\n",
       "      <th>1000</th>\n",
       "      <td>SKU_1000</td>\n",
       "      <td>Socks</td>\n",
       "      <td>S</td>\n",
       "      <td>120.0</td>\n",
       "      <td>72.0</td>\n",
       "      <td>1.0</td>\n",
       "    </tr>\n",
       "  </tbody>\n",
       "</table>\n",
       "<p>1000 rows × 6 columns</p>\n",
       "</div>"
      ],
      "text/plain": [
       "           SKU Category Size  Length  Width  Height\n",
       "1        SKU_1    Pants    M   491.0  293.0    26.0\n",
       "2        SKU_2    Socks    S   121.0   89.0    15.0\n",
       "3        SKU_3    Socks    L   103.0   72.0     0.0\n",
       "4        SKU_4    Socks    M    88.0   74.0     6.0\n",
       "5        SKU_5    Socks    S    79.0   68.0     2.0\n",
       "...        ...      ...  ...     ...    ...     ...\n",
       "996    SKU_996    Pants    S   499.0  305.0    22.0\n",
       "997    SKU_997    Shirt    L   353.0  182.0     3.0\n",
       "998    SKU_998    Shirt    L   340.0  197.0     9.0\n",
       "999    SKU_999    Pants    M   447.0  279.0    13.0\n",
       "1000  SKU_1000    Socks    S   120.0   72.0     1.0\n",
       "\n",
       "[1000 rows x 6 columns]"
      ]
     },
     "execution_count": 7,
     "metadata": {},
     "output_type": "execute_result"
    }
   ],
   "source": [
    "df_skus_fashion"
   ]
  },
  {
   "cell_type": "code",
   "execution_count": 8,
   "metadata": {},
   "outputs": [
    {
     "data": {
      "image/png": "[encoded data removed]",
      "text/plain": [
       "<Figure size 1440x360 with 1 Axes>"
      ]
     },
     "metadata": {
      "needs_background": "light"
     },
     "output_type": "display_data"
    }
   ],
   "source": [
    "plt.figure(figsize=(20, 5))\n",
    "sns.histplot(df_skus_fashion[['Length', 'Width', 'Height']], bins=100);"
   ]
  },
  {
   "cell_type": "code",
   "execution_count": 9,
   "metadata": {},
   "outputs": [
    {
     "name": "stderr",
     "output_type": "stream",
     "text": [
      "C:\\Users\\Admin\\AppData\\Local\\Programs\\Python\\Python39\\lib\\site-packages\\seaborn\\_decorators.py:36: FutureWarning: Pass the following variable as a keyword arg: x. From version 0.12, the only valid positional argument will be `data`, and passing other arguments without an explicit keyword will result in an error or misinterpretation.\n",
      "  warnings.warn(\n"
     ]
    },
    {
     "data": {
      "image/png": "[encoded data removed]",
      "text/plain": [
       "<Figure size 432x288 with 1 Axes>"
      ]
     },
     "metadata": {
      "needs_background": "light"
     },
     "output_type": "display_data"
    }
   ],
   "source": [
    "sns.countplot(df_skus_fashion['Category']);"
   ]
  },
  {
   "cell_type": "code",
   "execution_count": 10,
   "metadata": {},
   "outputs": [
    {
     "name": "stdout",
     "output_type": "stream",
     "text": [
      "<class 'pandas.core.frame.DataFrame'>\n",
      "Int64Index: 1000 entries, 1 to 1000\n",
      "Data columns (total 6 columns):\n",
      " #   Column    Non-Null Count  Dtype  \n",
      "---  ------    --------------  -----  \n",
      " 0   SKU       1000 non-null   object \n",
      " 1   Category  1000 non-null   object \n",
      " 2   Size      1000 non-null   object \n",
      " 3   Length    1000 non-null   float64\n",
      " 4   Width     1000 non-null   float64\n",
      " 5   Height    1000 non-null   float64\n",
      "dtypes: float64(3), object(3)\n",
      "memory usage: 87.0+ KB\n"
     ]
    }
   ],
   "source": [
    "df_skus_fashion.info()"
   ]
  },
  {
   "cell_type": "code",
   "execution_count": 11,
   "metadata": {},
   "outputs": [
    {
     "data": {
      "text/html": [
       "<div>\n",
       "<style scoped>\n",
       "    .dataframe tbody tr th:only-of-type {\n",
       "        vertical-align: middle;\n",
       "    }\n",
       "\n",
       "    .dataframe tbody tr th {\n",
       "        vertical-align: top;\n",
       "    }\n",
       "\n",
       "    .dataframe thead th {\n",
       "        text-align: right;\n",
       "    }\n",
       "</style>\n",
       "<table border=\"1\" class=\"dataframe\">\n",
       "  <thead>\n",
       "    <tr style=\"text-align: right;\">\n",
       "      <th></th>\n",
       "      <th>Length</th>\n",
       "      <th>Width</th>\n",
       "      <th>Height</th>\n",
       "    </tr>\n",
       "  </thead>\n",
       "  <tbody>\n",
       "    <tr>\n",
       "      <th>count</th>\n",
       "      <td>1000.000000</td>\n",
       "      <td>1000.000000</td>\n",
       "      <td>1000.000000</td>\n",
       "    </tr>\n",
       "    <tr>\n",
       "      <th>mean</th>\n",
       "      <td>305.027000</td>\n",
       "      <td>188.014000</td>\n",
       "      <td>11.598000</td>\n",
       "    </tr>\n",
       "    <tr>\n",
       "      <th>std</th>\n",
       "      <td>148.188367</td>\n",
       "      <td>85.127789</td>\n",
       "      <td>6.900436</td>\n",
       "    </tr>\n",
       "    <tr>\n",
       "      <th>min</th>\n",
       "      <td>70.000000</td>\n",
       "      <td>57.000000</td>\n",
       "      <td>0.000000</td>\n",
       "    </tr>\n",
       "    <tr>\n",
       "      <th>25%</th>\n",
       "      <td>118.000000</td>\n",
       "      <td>81.000000</td>\n",
       "      <td>6.000000</td>\n",
       "    </tr>\n",
       "    <tr>\n",
       "      <th>50%</th>\n",
       "      <td>369.500000</td>\n",
       "      <td>216.000000</td>\n",
       "      <td>11.000000</td>\n",
       "    </tr>\n",
       "    <tr>\n",
       "      <th>75%</th>\n",
       "      <td>410.000000</td>\n",
       "      <td>257.000000</td>\n",
       "      <td>17.000000</td>\n",
       "    </tr>\n",
       "    <tr>\n",
       "      <th>max</th>\n",
       "      <td>524.000000</td>\n",
       "      <td>319.000000</td>\n",
       "      <td>30.000000</td>\n",
       "    </tr>\n",
       "  </tbody>\n",
       "</table>\n",
       "</div>"
      ],
      "text/plain": [
       "            Length        Width       Height\n",
       "count  1000.000000  1000.000000  1000.000000\n",
       "mean    305.027000   188.014000    11.598000\n",
       "std     148.188367    85.127789     6.900436\n",
       "min      70.000000    57.000000     0.000000\n",
       "25%     118.000000    81.000000     6.000000\n",
       "50%     369.500000   216.000000    11.000000\n",
       "75%     410.000000   257.000000    17.000000\n",
       "max     524.000000   319.000000    30.000000"
      ]
     },
     "execution_count": 11,
     "metadata": {},
     "output_type": "execute_result"
    }
   ],
   "source": [
    "df_skus_fashion.describe()"
   ]
  },
  {
   "cell_type": "code",
   "execution_count": 12,
   "metadata": {},
   "outputs": [
    {
     "data": {
      "text/html": [
       "<div>\n",
       "<style scoped>\n",
       "    .dataframe tbody tr th:only-of-type {\n",
       "        vertical-align: middle;\n",
       "    }\n",
       "\n",
       "    .dataframe tbody tr th {\n",
       "        vertical-align: top;\n",
       "    }\n",
       "\n",
       "    .dataframe thead th {\n",
       "        text-align: right;\n",
       "    }\n",
       "</style>\n",
       "<table border=\"1\" class=\"dataframe\">\n",
       "  <thead>\n",
       "    <tr style=\"text-align: right;\">\n",
       "      <th></th>\n",
       "      <th>SKU</th>\n",
       "      <th>Category</th>\n",
       "      <th>Size</th>\n",
       "      <th>Length</th>\n",
       "      <th>Width</th>\n",
       "      <th>Height</th>\n",
       "    </tr>\n",
       "  </thead>\n",
       "  <tbody>\n",
       "    <tr>\n",
       "      <th>1</th>\n",
       "      <td>SKU_1</td>\n",
       "      <td>Bag of rice</td>\n",
       "      <td>M</td>\n",
       "      <td>540</td>\n",
       "      <td>350</td>\n",
       "      <td>250</td>\n",
       "    </tr>\n",
       "    <tr>\n",
       "      <th>2</th>\n",
       "      <td>SKU_2</td>\n",
       "      <td>Can of tuna</td>\n",
       "      <td>L</td>\n",
       "      <td>110</td>\n",
       "      <td>110</td>\n",
       "      <td>7</td>\n",
       "    </tr>\n",
       "    <tr>\n",
       "      <th>3</th>\n",
       "      <td>SKU_3</td>\n",
       "      <td>Can of tuna</td>\n",
       "      <td>S</td>\n",
       "      <td>110</td>\n",
       "      <td>110</td>\n",
       "      <td>7</td>\n",
       "    </tr>\n",
       "    <tr>\n",
       "      <th>4</th>\n",
       "      <td>SKU_4</td>\n",
       "      <td>Can of tuna</td>\n",
       "      <td>M</td>\n",
       "      <td>110</td>\n",
       "      <td>110</td>\n",
       "      <td>7</td>\n",
       "    </tr>\n",
       "    <tr>\n",
       "      <th>5</th>\n",
       "      <td>SKU_5</td>\n",
       "      <td>Bag of rice</td>\n",
       "      <td>L</td>\n",
       "      <td>540</td>\n",
       "      <td>350</td>\n",
       "      <td>250</td>\n",
       "    </tr>\n",
       "    <tr>\n",
       "      <th>...</th>\n",
       "      <td>...</td>\n",
       "      <td>...</td>\n",
       "      <td>...</td>\n",
       "      <td>...</td>\n",
       "      <td>...</td>\n",
       "      <td>...</td>\n",
       "    </tr>\n",
       "    <tr>\n",
       "      <th>996</th>\n",
       "      <td>SKU_996</td>\n",
       "      <td>Bag of rice</td>\n",
       "      <td>S</td>\n",
       "      <td>540</td>\n",
       "      <td>350</td>\n",
       "      <td>250</td>\n",
       "    </tr>\n",
       "    <tr>\n",
       "      <th>997</th>\n",
       "      <td>SKU_997</td>\n",
       "      <td>Can of tuna</td>\n",
       "      <td>L</td>\n",
       "      <td>110</td>\n",
       "      <td>110</td>\n",
       "      <td>7</td>\n",
       "    </tr>\n",
       "    <tr>\n",
       "      <th>998</th>\n",
       "      <td>SKU_998</td>\n",
       "      <td>Box of cereals</td>\n",
       "      <td>S</td>\n",
       "      <td>250</td>\n",
       "      <td>150</td>\n",
       "      <td>10</td>\n",
       "    </tr>\n",
       "    <tr>\n",
       "      <th>999</th>\n",
       "      <td>SKU_999</td>\n",
       "      <td>Can of tuna</td>\n",
       "      <td>L</td>\n",
       "      <td>110</td>\n",
       "      <td>110</td>\n",
       "      <td>7</td>\n",
       "    </tr>\n",
       "    <tr>\n",
       "      <th>1000</th>\n",
       "      <td>SKU_1000</td>\n",
       "      <td>Bag of rice</td>\n",
       "      <td>L</td>\n",
       "      <td>540</td>\n",
       "      <td>350</td>\n",
       "      <td>250</td>\n",
       "    </tr>\n",
       "  </tbody>\n",
       "</table>\n",
       "<p>1000 rows × 6 columns</p>\n",
       "</div>"
      ],
      "text/plain": [
       "           SKU        Category Size  Length  Width  Height\n",
       "1        SKU_1     Bag of rice    M     540    350     250\n",
       "2        SKU_2     Can of tuna    L     110    110       7\n",
       "3        SKU_3     Can of tuna    S     110    110       7\n",
       "4        SKU_4     Can of tuna    M     110    110       7\n",
       "5        SKU_5     Bag of rice    L     540    350     250\n",
       "...        ...             ...  ...     ...    ...     ...\n",
       "996    SKU_996     Bag of rice    S     540    350     250\n",
       "997    SKU_997     Can of tuna    L     110    110       7\n",
       "998    SKU_998  Box of cereals    S     250    150      10\n",
       "999    SKU_999     Can of tuna    L     110    110       7\n",
       "1000  SKU_1000     Bag of rice    L     540    350     250\n",
       "\n",
       "[1000 rows x 6 columns]"
      ]
     },
     "execution_count": 12,
     "metadata": {},
     "output_type": "execute_result"
    }
   ],
   "source": [
    "df_skus_food = random_skus(1000, 'Food')\n",
    "df_skus_food"
   ]
  },
  {
   "cell_type": "code",
   "execution_count": 13,
   "metadata": {},
   "outputs": [
    {
     "data": {
      "image/png": "[encoded data removed]",
      "text/plain": [
       "<Figure size 1440x360 with 1 Axes>"
      ]
     },
     "metadata": {
      "needs_background": "light"
     },
     "output_type": "display_data"
    }
   ],
   "source": [
    "plt.figure(figsize=(20, 5))\n",
    "sns.histplot(df_skus_food[['Length', 'Width', 'Height']], bins=100);"
   ]
  },
  {
   "cell_type": "code",
   "execution_count": 14,
   "metadata": {},
   "outputs": [
    {
     "name": "stderr",
     "output_type": "stream",
     "text": [
      "C:\\Users\\Admin\\AppData\\Local\\Programs\\Python\\Python39\\lib\\site-packages\\seaborn\\_decorators.py:36: FutureWarning: Pass the following variable as a keyword arg: x. From version 0.12, the only valid positional argument will be `data`, and passing other arguments without an explicit keyword will result in an error or misinterpretation.\n",
      "  warnings.warn(\n"
     ]
    },
    {
     "data": {
      "image/png": "[encoded data removed]",
      "text/plain": [
       "<Figure size 432x288 with 1 Axes>"
      ]
     },
     "metadata": {
      "needs_background": "light"
     },
     "output_type": "display_data"
    }
   ],
   "source": [
    "sns.countplot(df_skus_food['Category']);"
   ]
  },
  {
   "cell_type": "markdown",
   "metadata": {},
   "source": [
    "### Notes\n",
    "At this stage, the produced values are only to showcase the functionality and are not representative of real world data.\n",
    "At a later time, more realistic data needs to be produced.\n",
    "\n",
    "---"
   ]
  },
  {
   "cell_type": "markdown",
   "metadata": {},
   "source": [
    "## Random order table generator\n",
    "\n",
    "### Considerations\n",
    "Like in most other ares in business, the SKU-velocity distribution in a typical order profil corresponds to an 80/20, or in some cases 70/30, ratio (20% of the SKUs representing 80% of the order volume.). Based on this, SKUs will belong to velocity classes (A, B, C), depending how fast they are moving. Therefore, the available SKUs need to be assigned orders in a way that follows this rule.\n",
    "\n",
    "<img src=\"https://interlakemecalux.cdnwm.com/blog/img/80-20-pareto-principle.1.2.jpg\" width=\"650\"/>\n",
    "\n",
    "There is a specific, somewhat business-specific, order profile (units per-order line and order lines per order).\n",
    "\n",
    "Ultimately, there must be a seclection of order profiles that go in line with different market segments and business types.\n",
    "\n",
    "### Objectives\n",
    "The goal is to create a function that generates a table of random orders. The order profile (units per order line, order lines per order) as well as the volume distribution of the SKUs (Pareto principle) must represent a real live scenario and must be selectable by the user.\n",
    "\n",
    "The initial table must contain at minimum the following columns:\n",
    "\n",
    "| Date | Order ID | SKU ID | Quantity | Order category |\n",
    "| ---- | ---- | ---- | ---- | ---- |\n",
    "| numerical | categorical | categorical | numerical | categorical |\n",
    "\n",
    "#### Steps in detail\n",
    "1) Define range of days based on user input\n",
    "2) Assign random number of orders to each day - for the beginning random, normal distribution\n",
    "3) Develop basic functionality to assign for the above created orders a number of order lines (SKUs) - for the beginning random, normal, right skewed\n",
    "4) Develop method to randomly distribute SKUs across all orders - for the beginning randomly, based on 80/20 rule\n",
    "5) Add quantities for each order line - for now random, normal"
   ]
  },
  {
   "cell_type": "markdown",
   "metadata": {},
   "source": [
    "---\n",
    "#### 1. Define range of days"
   ]
  },
  {
   "cell_type": "code",
   "execution_count": 15,
   "metadata": {},
   "outputs": [],
   "source": [
    "def day_definer(num):\n",
    "    '''\n",
    "    Function to create a list of days. First day of range is current day\n",
    "    Input:\n",
    "    - Number of days\n",
    "    Outbout:\n",
    "    - List of days in the range of first day to last day\n",
    "    '''\n",
    "\n",
    "    return pd.date_range(datetime.today(), periods=num).date.tolist()"
   ]
  },
  {
   "cell_type": "code",
   "execution_count": 16,
   "metadata": {},
   "outputs": [
    {
     "data": {
      "text/plain": [
       "[datetime.date(2022, 1, 23),\n",
       " datetime.date(2022, 1, 24),\n",
       " datetime.date(2022, 1, 25),\n",
       " datetime.date(2022, 1, 26),\n",
       " datetime.date(2022, 1, 27),\n",
       " datetime.date(2022, 1, 28),\n",
       " datetime.date(2022, 1, 29),\n",
       " datetime.date(2022, 1, 30),\n",
       " datetime.date(2022, 1, 31),\n",
       " datetime.date(2022, 2, 1),\n",
       " datetime.date(2022, 2, 2),\n",
       " datetime.date(2022, 2, 3),\n",
       " datetime.date(2022, 2, 4),\n",
       " datetime.date(2022, 2, 5),\n",
       " datetime.date(2022, 2, 6),\n",
       " datetime.date(2022, 2, 7),\n",
       " datetime.date(2022, 2, 8),\n",
       " datetime.date(2022, 2, 9),\n",
       " datetime.date(2022, 2, 10),\n",
       " datetime.date(2022, 2, 11),\n",
       " datetime.date(2022, 2, 12),\n",
       " datetime.date(2022, 2, 13),\n",
       " datetime.date(2022, 2, 14),\n",
       " datetime.date(2022, 2, 15),\n",
       " datetime.date(2022, 2, 16),\n",
       " datetime.date(2022, 2, 17),\n",
       " datetime.date(2022, 2, 18),\n",
       " datetime.date(2022, 2, 19),\n",
       " datetime.date(2022, 2, 20),\n",
       " datetime.date(2022, 2, 21),\n",
       " datetime.date(2022, 2, 22),\n",
       " datetime.date(2022, 2, 23),\n",
       " datetime.date(2022, 2, 24),\n",
       " datetime.date(2022, 2, 25),\n",
       " datetime.date(2022, 2, 26),\n",
       " datetime.date(2022, 2, 27),\n",
       " datetime.date(2022, 2, 28),\n",
       " datetime.date(2022, 3, 1),\n",
       " datetime.date(2022, 3, 2),\n",
       " datetime.date(2022, 3, 3),\n",
       " datetime.date(2022, 3, 4),\n",
       " datetime.date(2022, 3, 5),\n",
       " datetime.date(2022, 3, 6),\n",
       " datetime.date(2022, 3, 7),\n",
       " datetime.date(2022, 3, 8),\n",
       " datetime.date(2022, 3, 9),\n",
       " datetime.date(2022, 3, 10),\n",
       " datetime.date(2022, 3, 11),\n",
       " datetime.date(2022, 3, 12),\n",
       " datetime.date(2022, 3, 13),\n",
       " datetime.date(2022, 3, 14),\n",
       " datetime.date(2022, 3, 15),\n",
       " datetime.date(2022, 3, 16),\n",
       " datetime.date(2022, 3, 17),\n",
       " datetime.date(2022, 3, 18),\n",
       " datetime.date(2022, 3, 19),\n",
       " datetime.date(2022, 3, 20),\n",
       " datetime.date(2022, 3, 21),\n",
       " datetime.date(2022, 3, 22),\n",
       " datetime.date(2022, 3, 23),\n",
       " datetime.date(2022, 3, 24),\n",
       " datetime.date(2022, 3, 25),\n",
       " datetime.date(2022, 3, 26),\n",
       " datetime.date(2022, 3, 27),\n",
       " datetime.date(2022, 3, 28),\n",
       " datetime.date(2022, 3, 29),\n",
       " datetime.date(2022, 3, 30),\n",
       " datetime.date(2022, 3, 31),\n",
       " datetime.date(2022, 4, 1),\n",
       " datetime.date(2022, 4, 2),\n",
       " datetime.date(2022, 4, 3),\n",
       " datetime.date(2022, 4, 4),\n",
       " datetime.date(2022, 4, 5),\n",
       " datetime.date(2022, 4, 6),\n",
       " datetime.date(2022, 4, 7),\n",
       " datetime.date(2022, 4, 8),\n",
       " datetime.date(2022, 4, 9),\n",
       " datetime.date(2022, 4, 10),\n",
       " datetime.date(2022, 4, 11),\n",
       " datetime.date(2022, 4, 12),\n",
       " datetime.date(2022, 4, 13),\n",
       " datetime.date(2022, 4, 14),\n",
       " datetime.date(2022, 4, 15),\n",
       " datetime.date(2022, 4, 16),\n",
       " datetime.date(2022, 4, 17),\n",
       " datetime.date(2022, 4, 18),\n",
       " datetime.date(2022, 4, 19),\n",
       " datetime.date(2022, 4, 20),\n",
       " datetime.date(2022, 4, 21),\n",
       " datetime.date(2022, 4, 22)]"
      ]
     },
     "execution_count": 16,
     "metadata": {},
     "output_type": "execute_result"
    }
   ],
   "source": [
    "lst_days = day_definer(90)\n",
    "lst_days"
   ]
  },
  {
   "cell_type": "markdown",
   "metadata": {},
   "source": [
    "#### 2. Assign random number of orders per day\n",
    "Each day needs to get a number of orders assigned."
   ]
  },
  {
   "cell_type": "code",
   "execution_count": 17,
   "metadata": {},
   "outputs": [],
   "source": [
    "# Function to generate random oders for a given day\n",
    "\n",
    "def order_generator(orders_per_day, avg_lines_order, order_std, min_order_size):\n",
    "\n",
    "    return np.round(abs(np.random.normal(loc=avg_lines_order, scale=order_std, size=orders_per_day))) + min_order_size"
   ]
  },
  {
   "cell_type": "code",
   "execution_count": 18,
   "metadata": {},
   "outputs": [],
   "source": [
    "test_orders = order_generator(1000, 30, 10, 3)"
   ]
  },
  {
   "cell_type": "code",
   "execution_count": 19,
   "metadata": {},
   "outputs": [
    {
     "data": {
      "text/plain": [
       "(array([ 1.,  0.,  2.,  3.,  1.,  2.,  4.,  3.,  4., 10.,  8., 10.,  9.,\n",
       "        15.,  8., 12., 14., 25., 17., 33., 25., 32., 29., 43., 30., 33.,\n",
       "        50., 42., 51., 44., 45., 41., 25., 35., 34., 24., 27., 27., 25.,\n",
       "        22., 28., 16., 13., 13., 18.,  6.,  9.,  5.,  6.,  4.,  2.,  5.,\n",
       "         2.,  1.,  2.,  1.,  0.,  2.,  1.,  0.,  0.,  0.,  0.,  0.,  0.,\n",
       "         1.]),\n",
       " array([ 5.,  6.,  7.,  8.,  9., 10., 11., 12., 13., 14., 15., 16., 17.,\n",
       "        18., 19., 20., 21., 22., 23., 24., 25., 26., 27., 28., 29., 30.,\n",
       "        31., 32., 33., 34., 35., 36., 37., 38., 39., 40., 41., 42., 43.,\n",
       "        44., 45., 46., 47., 48., 49., 50., 51., 52., 53., 54., 55., 56.,\n",
       "        57., 58., 59., 60., 61., 62., 63., 64., 65., 66., 67., 68., 69.,\n",
       "        70., 71.]),\n",
       " <BarContainer object of 66 artists>)"
      ]
     },
     "execution_count": 19,
     "metadata": {},
     "output_type": "execute_result"
    },
    {
     "data": {
      "image/png": "[encoded data removed]",
      "text/plain": [
       "<Figure size 432x288 with 1 Axes>"
      ]
     },
     "metadata": {
      "needs_background": "light"
     },
     "output_type": "display_data"
    }
   ],
   "source": [
    "# Plot:\n",
    "axis = np.arange(start=min(test_orders), stop = max(test_orders) + 1)\n",
    "plt.hist(test_orders, bins = axis)"
   ]
  },
  {
   "cell_type": "markdown",
   "metadata": {},
   "source": [
    "The number of orders per day is in this case 1000. This needs to be randomized as well when assigning orders for a range of days."
   ]
  },
  {
   "cell_type": "code",
   "execution_count": 20,
   "metadata": {},
   "outputs": [],
   "source": [
    "def order_generator(avg_orders_per_day, avg_lines_order, order_std, min_order_size):\n",
    "\n",
    "    orders_per_day = np.round(abs(np.random.normal(loc=avg_orders_per_day, scale=50, size=1))).astype(int) # For simplicity, the standard deviation was set to 10\n",
    "    return np.round(abs(np.random.normal(loc=avg_lines_order, scale=order_std, size=orders_per_day))) + min_order_size"
   ]
  },
  {
   "cell_type": "code",
   "execution_count": 21,
   "metadata": {},
   "outputs": [],
   "source": [
    "test_orders = order_generator(1000, 30, 10, 3)"
   ]
  },
  {
   "cell_type": "code",
   "execution_count": 22,
   "metadata": {},
   "outputs": [
    {
     "data": {
      "text/plain": [
       "(array([ 1.,  0.,  0.,  1.,  1.,  2.,  2.,  4.,  3., 10., 18., 11.,  8.,\n",
       "        15., 14.,  9., 22., 26., 30., 29., 40., 34., 32., 31., 33., 36.,\n",
       "        51., 39., 46., 42., 50., 40., 44., 30., 36., 44., 34., 33., 23.,\n",
       "        28., 20., 26., 16., 21., 11.,  9., 10.,  9.,  5.,  1.,  2.,  5.,\n",
       "         2.,  2.,  2.,  0.,  0.,  1.,  1.,  0.,  1.,  1.]),\n",
       " array([ 5.,  6.,  7.,  8.,  9., 10., 11., 12., 13., 14., 15., 16., 17.,\n",
       "        18., 19., 20., 21., 22., 23., 24., 25., 26., 27., 28., 29., 30.,\n",
       "        31., 32., 33., 34., 35., 36., 37., 38., 39., 40., 41., 42., 43.,\n",
       "        44., 45., 46., 47., 48., 49., 50., 51., 52., 53., 54., 55., 56.,\n",
       "        57., 58., 59., 60., 61., 62., 63., 64., 65., 66., 67.]),\n",
       " <BarContainer object of 62 artists>)"
      ]
     },
     "execution_count": 22,
     "metadata": {},
     "output_type": "execute_result"
    },
    {
     "data": {
      "image/png": "[encoded data removed]",
      "text/plain": [
       "<Figure size 432x288 with 1 Axes>"
      ]
     },
     "metadata": {
      "needs_background": "light"
     },
     "output_type": "display_data"
    }
   ],
   "source": [
    "# Plot:\n",
    "axis = np.arange(start=min(test_orders), stop = max(test_orders) + 1)\n",
    "plt.hist(test_orders, bins = axis)"
   ]
  },
  {
   "cell_type": "code",
   "execution_count": 23,
   "metadata": {},
   "outputs": [
    {
     "data": {
      "text/plain": [
       "1097"
      ]
     },
     "execution_count": 23,
     "metadata": {},
     "output_type": "execute_result"
    }
   ],
   "source": [
    "len(test_orders)"
   ]
  },
  {
   "cell_type": "markdown",
   "metadata": {},
   "source": [
    "This works. Let's put all together in a dataframe."
   ]
  },
  {
   "cell_type": "code",
   "execution_count": 43,
   "metadata": {},
   "outputs": [],
   "source": [
    "def order_generator(num_days, avg_orders_per_day, avg_lines_order, order_std, min_order_size):\n",
    "    \n",
    "    lst_dates = pd.date_range(datetime.today(), periods=num_days).date.tolist()\n",
    "    dict_dates = {}\n",
    "\n",
    "    for i in lst_dates:\n",
    "        dict_dates[i] = np.round(abs(np.random.normal(\n",
    "            loc=avg_orders_per_day,\n",
    "            scale=50,\n",
    "            size=1))).astype(int)\n",
    "\n",
    "    # Need to continue here\n",
    "\n",
    "    return pd.DataFrame.from_dict(dict_dates).transpose().rename(columns={0: 'Orders per day'})\n"
   ]
  },
  {
   "cell_type": "code",
   "execution_count": 45,
   "metadata": {},
   "outputs": [
    {
     "data": {
      "text/html": [
       "<div>\n",
       "<style scoped>\n",
       "    .dataframe tbody tr th:only-of-type {\n",
       "        vertical-align: middle;\n",
       "    }\n",
       "\n",
       "    .dataframe tbody tr th {\n",
       "        vertical-align: top;\n",
       "    }\n",
       "\n",
       "    .dataframe thead th {\n",
       "        text-align: right;\n",
       "    }\n",
       "</style>\n",
       "<table border=\"1\" class=\"dataframe\">\n",
       "  <thead>\n",
       "    <tr style=\"text-align: right;\">\n",
       "      <th></th>\n",
       "      <th>Orders per day</th>\n",
       "    </tr>\n",
       "  </thead>\n",
       "  <tbody>\n",
       "    <tr>\n",
       "      <th>2022-01-23</th>\n",
       "      <td>106</td>\n",
       "    </tr>\n",
       "    <tr>\n",
       "      <th>2022-01-24</th>\n",
       "      <td>114</td>\n",
       "    </tr>\n",
       "    <tr>\n",
       "      <th>2022-01-25</th>\n",
       "      <td>85</td>\n",
       "    </tr>\n",
       "    <tr>\n",
       "      <th>2022-01-26</th>\n",
       "      <td>143</td>\n",
       "    </tr>\n",
       "    <tr>\n",
       "      <th>2022-01-27</th>\n",
       "      <td>99</td>\n",
       "    </tr>\n",
       "    <tr>\n",
       "      <th>2022-01-28</th>\n",
       "      <td>136</td>\n",
       "    </tr>\n",
       "    <tr>\n",
       "      <th>2022-01-29</th>\n",
       "      <td>134</td>\n",
       "    </tr>\n",
       "    <tr>\n",
       "      <th>2022-01-30</th>\n",
       "      <td>170</td>\n",
       "    </tr>\n",
       "    <tr>\n",
       "      <th>2022-01-31</th>\n",
       "      <td>178</td>\n",
       "    </tr>\n",
       "    <tr>\n",
       "      <th>2022-02-01</th>\n",
       "      <td>35</td>\n",
       "    </tr>\n",
       "    <tr>\n",
       "      <th>2022-02-02</th>\n",
       "      <td>77</td>\n",
       "    </tr>\n",
       "    <tr>\n",
       "      <th>2022-02-03</th>\n",
       "      <td>84</td>\n",
       "    </tr>\n",
       "    <tr>\n",
       "      <th>2022-02-04</th>\n",
       "      <td>55</td>\n",
       "    </tr>\n",
       "    <tr>\n",
       "      <th>2022-02-05</th>\n",
       "      <td>26</td>\n",
       "    </tr>\n",
       "  </tbody>\n",
       "</table>\n",
       "</div>"
      ],
      "text/plain": [
       "            Orders per day\n",
       "2022-01-23             106\n",
       "2022-01-24             114\n",
       "2022-01-25              85\n",
       "2022-01-26             143\n",
       "2022-01-27              99\n",
       "2022-01-28             136\n",
       "2022-01-29             134\n",
       "2022-01-30             170\n",
       "2022-01-31             178\n",
       "2022-02-01              35\n",
       "2022-02-02              77\n",
       "2022-02-03              84\n",
       "2022-02-04              55\n",
       "2022-02-05              26"
      ]
     },
     "execution_count": 45,
     "metadata": {},
     "output_type": "execute_result"
    }
   ],
   "source": [
    "df_test_orders = order_generator(14, 100, 25, 5, 3)\n",
    "df_test_orders"
   ]
  },
  {
   "cell_type": "code",
   "execution_count": null,
   "metadata": {},
   "outputs": [],
   "source": []
  },
  {
   "cell_type": "code",
   "execution_count": null,
   "metadata": {},
   "outputs": [],
   "source": []
  },
  {
   "cell_type": "code",
   "execution_count": null,
   "metadata": {},
   "outputs": [],
   "source": []
  },
  {
   "cell_type": "code",
   "execution_count": null,
   "metadata": {},
   "outputs": [],
   "source": []
  },
  {
   "cell_type": "code",
   "execution_count": 24,
   "metadata": {},
   "outputs": [],
   "source": [
    "def order_generator(orders_per_day, avg_lines_order, order_std, min_order_size):\n",
    "    \n",
    "    return np.round(abs(np.random.normal(loc=avg_lines_order, scale=order_std, size=orders_per_day))) + min_order_size"
   ]
  },
  {
   "cell_type": "code",
   "execution_count": 25,
   "metadata": {},
   "outputs": [
    {
     "data": {
      "image/png": "[encoded data removed]",
      "text/plain": [
       "<Figure size 1800x576 with 1 Axes>"
      ]
     },
     "metadata": {
      "needs_background": "light"
     },
     "output_type": "display_data"
    }
   ],
   "source": [
    "# Approach to develop a skewed dataset with \"skewnorm\"\n",
    "n_orders = 10000\n",
    "max_order_size = 200\n",
    "skewness = 20   # Negative = left skewed, positive = right skewed\n",
    "\n",
    "random_orders = skewnorm.rvs(a = skewness, loc=max_order_size, size=n_orders)\n",
    "\n",
    "random_orders = random_orders - min(random_orders)     # Shift dataset to zero\n",
    "random_orders = random_orders / max(random_orders)\n",
    "random_orders = random_orders * max_order_size\n",
    "random_orders = np.ceil(random_orders) + 1\n",
    "\n",
    "# Check\n",
    "plt.figure(figsize=(25, 8))\n",
    "plt.hist(random_orders, 100, density=True, color='red', alpha=0.5)\n",
    "plt.grid()\n",
    "\n",
    "plt.show()"
   ]
  },
  {
   "cell_type": "markdown",
   "metadata": {},
   "source": [
    "Each record in orders represents one order with an assigned size."
   ]
  },
  {
   "cell_type": "code",
   "execution_count": 26,
   "metadata": {},
   "outputs": [
    {
     "data": {
      "text/plain": [
       "1.0"
      ]
     },
     "execution_count": 26,
     "metadata": {},
     "output_type": "execute_result"
    }
   ],
   "source": [
    "random_orders.min()"
   ]
  },
  {
   "cell_type": "code",
   "execution_count": null,
   "metadata": {},
   "outputs": [],
   "source": []
  }
 ],
 "metadata": {
  "interpreter": {
   "hash": "dcacb0086e9a4f4eabd41c33bf4faac5ea0a3337ed3f5eff0680afa930572c04"
  },
  "kernelspec": {
   "display_name": "Python 3.9.4 64-bit",
   "language": "python",
   "name": "python3"
  },
  "language_info": {
   "codemirror_mode": {
    "name": "ipython",
    "version": 3
   },
   "file_extension": ".py",
   "mimetype": "text/x-python",
   "name": "python",
   "nbconvert_exporter": "python",
   "pygments_lexer": "ipython3",
   "version": "3.9.4"
  },
  "orig_nbformat": 4
 },
 "nbformat": 4,
 "nbformat_minor": 2
}
